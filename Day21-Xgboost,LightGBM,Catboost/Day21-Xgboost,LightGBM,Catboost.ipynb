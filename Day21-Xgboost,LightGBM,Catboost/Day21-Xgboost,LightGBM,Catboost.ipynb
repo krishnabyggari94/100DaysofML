{
 "cells": [
  {
   "cell_type": "markdown",
   "metadata": {},
   "source": [
    "#### Sklearn GradientBoostingRegressor, HistGradientBoostingRegressor, XGBRegressor, LGBMRegressor, CatBoostRegressor "
   ]
  },
  {
   "cell_type": "code",
   "execution_count": 1,
   "metadata": {},
   "outputs": [],
   "source": [
    "import pandas as pd\n",
    "import numpy as np\n",
    "import sklearn.datasets as datasets"
   ]
  },
  {
   "cell_type": "code",
   "execution_count": 2,
   "metadata": {},
   "outputs": [
    {
     "name": "stdout",
     "output_type": "stream",
     "text": [
      "<class 'sklearn.utils.Bunch'>\n"
     ]
    }
   ],
   "source": [
    "df=datasets.load_diabetes()\n",
    "print(type(df))"
   ]
  },
  {
   "cell_type": "code",
   "execution_count": 3,
   "metadata": {},
   "outputs": [
    {
     "data": {
      "text/html": [
       "<div>\n",
       "<style scoped>\n",
       "    .dataframe tbody tr th:only-of-type {\n",
       "        vertical-align: middle;\n",
       "    }\n",
       "\n",
       "    .dataframe tbody tr th {\n",
       "        vertical-align: top;\n",
       "    }\n",
       "\n",
       "    .dataframe thead th {\n",
       "        text-align: right;\n",
       "    }\n",
       "</style>\n",
       "<table border=\"1\" class=\"dataframe\">\n",
       "  <thead>\n",
       "    <tr style=\"text-align: right;\">\n",
       "      <th></th>\n",
       "      <th>age</th>\n",
       "      <th>sex</th>\n",
       "      <th>bmi</th>\n",
       "      <th>bp</th>\n",
       "      <th>s1</th>\n",
       "      <th>s2</th>\n",
       "      <th>s3</th>\n",
       "      <th>s4</th>\n",
       "      <th>s5</th>\n",
       "      <th>s6</th>\n",
       "    </tr>\n",
       "  </thead>\n",
       "  <tbody>\n",
       "    <tr>\n",
       "      <th>0</th>\n",
       "      <td>0.038076</td>\n",
       "      <td>0.050680</td>\n",
       "      <td>0.061696</td>\n",
       "      <td>0.021872</td>\n",
       "      <td>-0.044223</td>\n",
       "      <td>-0.034821</td>\n",
       "      <td>-0.043401</td>\n",
       "      <td>-0.002592</td>\n",
       "      <td>0.019908</td>\n",
       "      <td>-0.017646</td>\n",
       "    </tr>\n",
       "    <tr>\n",
       "      <th>1</th>\n",
       "      <td>-0.001882</td>\n",
       "      <td>-0.044642</td>\n",
       "      <td>-0.051474</td>\n",
       "      <td>-0.026328</td>\n",
       "      <td>-0.008449</td>\n",
       "      <td>-0.019163</td>\n",
       "      <td>0.074412</td>\n",
       "      <td>-0.039493</td>\n",
       "      <td>-0.068330</td>\n",
       "      <td>-0.092204</td>\n",
       "    </tr>\n",
       "    <tr>\n",
       "      <th>2</th>\n",
       "      <td>0.085299</td>\n",
       "      <td>0.050680</td>\n",
       "      <td>0.044451</td>\n",
       "      <td>-0.005671</td>\n",
       "      <td>-0.045599</td>\n",
       "      <td>-0.034194</td>\n",
       "      <td>-0.032356</td>\n",
       "      <td>-0.002592</td>\n",
       "      <td>0.002864</td>\n",
       "      <td>-0.025930</td>\n",
       "    </tr>\n",
       "    <tr>\n",
       "      <th>3</th>\n",
       "      <td>-0.089063</td>\n",
       "      <td>-0.044642</td>\n",
       "      <td>-0.011595</td>\n",
       "      <td>-0.036656</td>\n",
       "      <td>0.012191</td>\n",
       "      <td>0.024991</td>\n",
       "      <td>-0.036038</td>\n",
       "      <td>0.034309</td>\n",
       "      <td>0.022692</td>\n",
       "      <td>-0.009362</td>\n",
       "    </tr>\n",
       "    <tr>\n",
       "      <th>4</th>\n",
       "      <td>0.005383</td>\n",
       "      <td>-0.044642</td>\n",
       "      <td>-0.036385</td>\n",
       "      <td>0.021872</td>\n",
       "      <td>0.003935</td>\n",
       "      <td>0.015596</td>\n",
       "      <td>0.008142</td>\n",
       "      <td>-0.002592</td>\n",
       "      <td>-0.031991</td>\n",
       "      <td>-0.046641</td>\n",
       "    </tr>\n",
       "  </tbody>\n",
       "</table>\n",
       "</div>"
      ],
      "text/plain": [
       "        age       sex       bmi        bp        s1        s2        s3  \\\n",
       "0  0.038076  0.050680  0.061696  0.021872 -0.044223 -0.034821 -0.043401   \n",
       "1 -0.001882 -0.044642 -0.051474 -0.026328 -0.008449 -0.019163  0.074412   \n",
       "2  0.085299  0.050680  0.044451 -0.005671 -0.045599 -0.034194 -0.032356   \n",
       "3 -0.089063 -0.044642 -0.011595 -0.036656  0.012191  0.024991 -0.036038   \n",
       "4  0.005383 -0.044642 -0.036385  0.021872  0.003935  0.015596  0.008142   \n",
       "\n",
       "         s4        s5        s6  \n",
       "0 -0.002592  0.019908 -0.017646  \n",
       "1 -0.039493 -0.068330 -0.092204  \n",
       "2 -0.002592  0.002864 -0.025930  \n",
       "3  0.034309  0.022692 -0.009362  \n",
       "4 -0.002592 -0.031991 -0.046641  "
      ]
     },
     "execution_count": 3,
     "metadata": {},
     "output_type": "execute_result"
    }
   ],
   "source": [
    "x=df.data\n",
    "cols=df.feature_names\n",
    "y=df.target\n",
    "x=pd.DataFrame(data=x,columns=cols)\n",
    "x.head()"
   ]
  },
  {
   "cell_type": "code",
   "execution_count": 4,
   "metadata": {},
   "outputs": [
    {
     "data": {
      "text/plain": [
       "(442, 10)"
      ]
     },
     "execution_count": 4,
     "metadata": {},
     "output_type": "execute_result"
    }
   ],
   "source": [
    "x.shape"
   ]
  },
  {
   "cell_type": "code",
   "execution_count": 5,
   "metadata": {},
   "outputs": [
    {
     "name": "stdout",
     "output_type": "stream",
     "text": [
      ".. _diabetes_dataset:\n",
      "\n",
      "Diabetes dataset\n",
      "----------------\n",
      "\n",
      "Ten baseline variables, age, sex, body mass index, average blood\n",
      "pressure, and six blood serum measurements were obtained for each of n =\n",
      "442 diabetes patients, as well as the response of interest, a\n",
      "quantitative measure of disease progression one year after baseline.\n",
      "\n",
      "**Data Set Characteristics:**\n",
      "\n",
      "  :Number of Instances: 442\n",
      "\n",
      "  :Number of Attributes: First 10 columns are numeric predictive values\n",
      "\n",
      "  :Target: Column 11 is a quantitative measure of disease progression one year after baseline\n",
      "\n",
      "  :Attribute Information:\n",
      "      - age     age in years\n",
      "      - sex\n",
      "      - bmi     body mass index\n",
      "      - bp      average blood pressure\n",
      "      - s1      tc, T-Cells (a type of white blood cells)\n",
      "      - s2      ldl, low-density lipoproteins\n",
      "      - s3      hdl, high-density lipoproteins\n",
      "      - s4      tch, thyroid stimulating hormone\n",
      "      - s5      ltg, lamotrigine\n",
      "      - s6      glu, blood sugar level\n",
      "\n",
      "Note: Each of these 10 feature variables have been mean centered and scaled by the standard deviation times `n_samples` (i.e. the sum of squares of each column totals 1).\n",
      "\n",
      "Source URL:\n",
      "https://www4.stat.ncsu.edu/~boos/var.select/diabetes.html\n",
      "\n",
      "For more information see:\n",
      "Bradley Efron, Trevor Hastie, Iain Johnstone and Robert Tibshirani (2004) \"Least Angle Regression,\" Annals of Statistics (with discussion), 407-499.\n",
      "(https://web.stanford.edu/~hastie/Papers/LARS/LeastAngle_2002.pdf)\n"
     ]
    }
   ],
   "source": [
    "print(df.DESCR)"
   ]
  },
  {
   "cell_type": "code",
   "execution_count": 6,
   "metadata": {},
   "outputs": [],
   "source": [
    "from sklearn.model_selection import train_test_split\n",
    "x_train,x_test,y_train,y_test=train_test_split(x,y,test_size=0.2,random_state=42)"
   ]
  },
  {
   "cell_type": "code",
   "execution_count": 7,
   "metadata": {},
   "outputs": [
    {
     "name": "stdout",
     "output_type": "stream",
     "text": [
      "(353, 10)\n",
      "(353,)\n"
     ]
    }
   ],
   "source": [
    "print(x_train.shape)\n",
    "print(y_train.shape)"
   ]
  },
  {
   "cell_type": "code",
   "execution_count": 8,
   "metadata": {},
   "outputs": [],
   "source": [
    "from sklearn.ensemble import GradientBoostingRegressor\n",
    "from sklearn.metrics import mean_squared_error\n",
    "from sklearn.model_selection import GridSearchCV\n",
    "params={'learning_rate':[0.05,0.1,0.2],'n_estimators':[50,100],'max_depth':[3,5],'max_features':['auto','log2']}\n",
    "model=GradientBoostingRegressor()\n",
    "grid=GridSearchCV(model,param_grid=params,n_jobs=-1)\n",
    "grid.fit(x_train,y_train)\n",
    "y_pred=grid.predict(x_test)"
   ]
  },
  {
   "cell_type": "code",
   "execution_count": 9,
   "metadata": {},
   "outputs": [
    {
     "data": {
      "text/plain": [
       "GradientBoostingRegressor(learning_rate=0.05, max_features='log2')"
      ]
     },
     "execution_count": 9,
     "metadata": {},
     "output_type": "execute_result"
    }
   ],
   "source": [
    "grid.best_estimator_"
   ]
  },
  {
   "cell_type": "code",
   "execution_count": 10,
   "metadata": {},
   "outputs": [
    {
     "name": "stdout",
     "output_type": "stream",
     "text": [
      "score of sklearn GradientBoostingRegressor is: 2713.6999359076353\n"
     ]
    }
   ],
   "source": [
    "sklearnBoosting_score=mean_squared_error(y_test,y_pred)\n",
    "print('score of sklearn GradientBoostingRegressor is:',sklearnBoosting_score)"
   ]
  },
  {
   "cell_type": "code",
   "execution_count": 11,
   "metadata": {},
   "outputs": [],
   "source": [
    "from sklearn.experimental import enable_hist_gradient_boosting\n",
    "from sklearn.ensemble import HistGradientBoostingRegressor\n",
    "params={'learning_rate':[0.05,0.1,0.15],'max_iter':[75,100],'max_depth':[3,4,5],'l2_regularization':[0.1,0.25,0.33,0.5]}\n",
    "model=HistGradientBoostingRegressor()\n",
    "grid=GridSearchCV(model,param_grid=params,n_jobs=-1)\n",
    "grid.fit(x_train,y_train)\n",
    "y_pred=grid.predict(x_test)"
   ]
  },
  {
   "cell_type": "code",
   "execution_count": 12,
   "metadata": {},
   "outputs": [
    {
     "data": {
      "text/plain": [
       "HistGradientBoostingRegressor(l2_regularization=0.33, learning_rate=0.05,\n",
       "                              max_depth=5, max_iter=75)"
      ]
     },
     "execution_count": 12,
     "metadata": {},
     "output_type": "execute_result"
    }
   ],
   "source": [
    "grid.best_estimator_"
   ]
  },
  {
   "cell_type": "code",
   "execution_count": 13,
   "metadata": {},
   "outputs": [
    {
     "name": "stdout",
     "output_type": "stream",
     "text": [
      "score of sklearn HistGradientBoostingRegressor is: 2866.131173732361\n"
     ]
    }
   ],
   "source": [
    "sklearnHistBoosting_score=mean_squared_error(y_test,y_pred)\n",
    "print('score of sklearn HistGradientBoostingRegressor is:',sklearnHistBoosting_score)"
   ]
  },
  {
   "cell_type": "code",
   "execution_count": 14,
   "metadata": {},
   "outputs": [
    {
     "name": "stdout",
     "output_type": "stream",
     "text": [
      "1.2.0\n"
     ]
    }
   ],
   "source": [
    "import xgboost\n",
    "print(xgboost.__version__)"
   ]
  },
  {
   "cell_type": "code",
   "execution_count": 15,
   "metadata": {},
   "outputs": [],
   "source": [
    "from xgboost import XGBRegressor\n",
    "params={'eta':[0.2,0.3,0.4],'gamma':[0,1],'max_depth':[5,6,7],'subsample':[0.8,0.6]}\n",
    "model=XGBRegressor()\n",
    "grid=GridSearchCV(model,param_grid=params,n_jobs=-1)\n",
    "grid.fit(x_train,y_train)\n",
    "y_pred=grid.predict(x_test)"
   ]
  },
  {
   "cell_type": "code",
   "execution_count": 16,
   "metadata": {},
   "outputs": [
    {
     "data": {
      "text/plain": [
       "XGBRegressor(base_score=0.5, booster='gbtree', colsample_bylevel=1,\n",
       "             colsample_bynode=1, colsample_bytree=1, eta=0.2, gamma=1,\n",
       "             gpu_id=-1, importance_type='gain', interaction_constraints='',\n",
       "             learning_rate=0.200000003, max_delta_step=0, max_depth=7,\n",
       "             min_child_weight=1, missing=nan, monotone_constraints='()',\n",
       "             n_estimators=100, n_jobs=0, num_parallel_tree=1, random_state=0,\n",
       "             reg_alpha=0, reg_lambda=1, scale_pos_weight=1, subsample=0.8,\n",
       "             tree_method='exact', validate_parameters=1, verbosity=None)"
      ]
     },
     "execution_count": 16,
     "metadata": {},
     "output_type": "execute_result"
    }
   ],
   "source": [
    "grid.best_estimator_"
   ]
  },
  {
   "cell_type": "code",
   "execution_count": 17,
   "metadata": {},
   "outputs": [
    {
     "name": "stdout",
     "output_type": "stream",
     "text": [
      "score of XGBRegressor is: 3723.5870951351576\n"
     ]
    }
   ],
   "source": [
    "xgBoosting_score=mean_squared_error(y_test,y_pred)\n",
    "print('score of XGBRegressor is:',xgBoosting_score)"
   ]
  },
  {
   "cell_type": "code",
   "execution_count": 18,
   "metadata": {},
   "outputs": [
    {
     "name": "stdout",
     "output_type": "stream",
     "text": [
      "2.3.1\n"
     ]
    }
   ],
   "source": [
    "import lightgbm\n",
    "print(lightgbm.__version__)"
   ]
  },
  {
   "cell_type": "code",
   "execution_count": 19,
   "metadata": {},
   "outputs": [],
   "source": [
    "from lightgbm import LGBMRegressor\n",
    "params={'objective':['regression','regression_l1'],'boosting':['gbdt','rf'],'learning_rate':[0.05,0.1],'max_depth':[5,6,7],'bagging_fraction':[0.6,0.75],'feature_fraction':[0.6,0.75]}\n",
    "model=LGBMRegressor()\n",
    "grid=GridSearchCV(model,param_grid=params,n_jobs=-1)\n",
    "grid.fit(x_train,y_train)\n",
    "y_pred=grid.predict(x_test)"
   ]
  },
  {
   "cell_type": "code",
   "execution_count": 20,
   "metadata": {},
   "outputs": [
    {
     "data": {
      "text/plain": [
       "LGBMRegressor(bagging_fraction=0.6, boosting='gbdt', feature_fraction=0.75,\n",
       "              learning_rate=0.05, max_depth=6, objective='regression')"
      ]
     },
     "execution_count": 20,
     "metadata": {},
     "output_type": "execute_result"
    }
   ],
   "source": [
    "grid.best_estimator_"
   ]
  },
  {
   "cell_type": "code",
   "execution_count": 21,
   "metadata": {},
   "outputs": [
    {
     "name": "stdout",
     "output_type": "stream",
     "text": [
      "score of LGBMRegressor is: 2886.6497420496835\n"
     ]
    }
   ],
   "source": [
    "lightgbm_score=mean_squared_error(y_test,y_pred)\n",
    "print('score of LGBMRegressor is:',lightgbm_score)"
   ]
  },
  {
   "cell_type": "code",
   "execution_count": 22,
   "metadata": {},
   "outputs": [
    {
     "name": "stdout",
     "output_type": "stream",
     "text": [
      "0.24\n"
     ]
    }
   ],
   "source": [
    "import catboost\n",
    "print(catboost.__version__)"
   ]
  },
  {
   "cell_type": "code",
   "execution_count": 23,
   "metadata": {},
   "outputs": [
    {
     "name": "stdout",
     "output_type": "stream",
     "text": [
      "0:\tlearn: 72.0273721\ttotal: 56.1ms\tremaining: 5.56s\n",
      "1:\tlearn: 67.2599881\ttotal: 58.2ms\tremaining: 2.85s\n",
      "2:\tlearn: 63.6582603\ttotal: 60.4ms\tremaining: 1.95s\n",
      "3:\tlearn: 61.0222830\ttotal: 62.5ms\tremaining: 1.5s\n",
      "4:\tlearn: 58.6743348\ttotal: 64.5ms\tremaining: 1.23s\n",
      "5:\tlearn: 56.7235803\ttotal: 66.4ms\tremaining: 1.04s\n",
      "6:\tlearn: 55.1576013\ttotal: 70.1ms\tremaining: 932ms\n",
      "7:\tlearn: 53.4611986\ttotal: 74.5ms\tremaining: 856ms\n",
      "8:\tlearn: 52.2063425\ttotal: 76.8ms\tremaining: 777ms\n",
      "9:\tlearn: 51.1872766\ttotal: 80.9ms\tremaining: 728ms\n",
      "10:\tlearn: 50.5237242\ttotal: 88ms\tremaining: 712ms\n",
      "11:\tlearn: 49.8353813\ttotal: 90.1ms\tremaining: 660ms\n",
      "12:\tlearn: 49.2790548\ttotal: 92.4ms\tremaining: 618ms\n",
      "13:\tlearn: 48.6445132\ttotal: 94.4ms\tremaining: 580ms\n",
      "14:\tlearn: 48.2012719\ttotal: 98.5ms\tremaining: 558ms\n",
      "15:\tlearn: 47.4020952\ttotal: 101ms\tremaining: 528ms\n",
      "16:\tlearn: 47.1021054\ttotal: 102ms\tremaining: 500ms\n",
      "17:\tlearn: 46.6001824\ttotal: 105ms\tremaining: 478ms\n",
      "18:\tlearn: 46.3204369\ttotal: 107ms\tremaining: 456ms\n",
      "19:\tlearn: 45.6974576\ttotal: 110ms\tremaining: 439ms\n",
      "20:\tlearn: 45.3085639\ttotal: 112ms\tremaining: 420ms\n",
      "21:\tlearn: 44.8128430\ttotal: 114ms\tremaining: 406ms\n",
      "22:\tlearn: 44.5715565\ttotal: 117ms\tremaining: 393ms\n",
      "23:\tlearn: 44.3094192\ttotal: 121ms\tremaining: 383ms\n",
      "24:\tlearn: 43.7980049\ttotal: 124ms\tremaining: 371ms\n",
      "25:\tlearn: 43.4865964\ttotal: 126ms\tremaining: 357ms\n",
      "26:\tlearn: 43.1569639\ttotal: 127ms\tremaining: 344ms\n",
      "27:\tlearn: 42.9355785\ttotal: 131ms\tremaining: 336ms\n",
      "28:\tlearn: 42.8448985\ttotal: 133ms\tremaining: 326ms\n",
      "29:\tlearn: 42.3714400\ttotal: 135ms\tremaining: 316ms\n",
      "30:\tlearn: 42.0651880\ttotal: 137ms\tremaining: 306ms\n",
      "31:\tlearn: 41.8406964\ttotal: 139ms\tremaining: 296ms\n",
      "32:\tlearn: 41.6173714\ttotal: 141ms\tremaining: 286ms\n",
      "33:\tlearn: 41.3243573\ttotal: 144ms\tremaining: 280ms\n",
      "34:\tlearn: 40.9973953\ttotal: 147ms\tremaining: 274ms\n",
      "35:\tlearn: 40.7124541\ttotal: 149ms\tremaining: 265ms\n",
      "36:\tlearn: 40.6480016\ttotal: 151ms\tremaining: 257ms\n",
      "37:\tlearn: 40.1314391\ttotal: 153ms\tremaining: 249ms\n",
      "38:\tlearn: 39.8222066\ttotal: 155ms\tremaining: 242ms\n",
      "39:\tlearn: 39.2841452\ttotal: 157ms\tremaining: 235ms\n",
      "40:\tlearn: 39.2154031\ttotal: 159ms\tremaining: 229ms\n",
      "41:\tlearn: 38.6925929\ttotal: 161ms\tremaining: 222ms\n",
      "42:\tlearn: 38.3121809\ttotal: 162ms\tremaining: 215ms\n",
      "43:\tlearn: 37.6342669\ttotal: 164ms\tremaining: 208ms\n",
      "44:\tlearn: 37.5755412\ttotal: 166ms\tremaining: 203ms\n",
      "45:\tlearn: 37.2985214\ttotal: 168ms\tremaining: 198ms\n",
      "46:\tlearn: 36.9732182\ttotal: 173ms\tremaining: 195ms\n",
      "47:\tlearn: 36.1905457\ttotal: 175ms\tremaining: 189ms\n",
      "48:\tlearn: 36.1463165\ttotal: 176ms\tremaining: 184ms\n",
      "49:\tlearn: 35.9238234\ttotal: 179ms\tremaining: 179ms\n",
      "50:\tlearn: 35.3861919\ttotal: 183ms\tremaining: 175ms\n",
      "51:\tlearn: 35.1901512\ttotal: 188ms\tremaining: 173ms\n",
      "52:\tlearn: 35.1517862\ttotal: 190ms\tremaining: 168ms\n",
      "53:\tlearn: 34.7633915\ttotal: 191ms\tremaining: 163ms\n",
      "54:\tlearn: 34.4926718\ttotal: 193ms\tremaining: 158ms\n",
      "55:\tlearn: 34.2670725\ttotal: 198ms\tremaining: 156ms\n",
      "56:\tlearn: 33.7797865\ttotal: 200ms\tremaining: 151ms\n",
      "57:\tlearn: 33.6625743\ttotal: 202ms\tremaining: 146ms\n",
      "58:\tlearn: 33.2991396\ttotal: 204ms\tremaining: 142ms\n",
      "59:\tlearn: 33.2010445\ttotal: 207ms\tremaining: 138ms\n",
      "60:\tlearn: 32.7504597\ttotal: 209ms\tremaining: 133ms\n",
      "61:\tlearn: 32.5549996\ttotal: 211ms\tremaining: 129ms\n",
      "62:\tlearn: 32.2583257\ttotal: 212ms\tremaining: 125ms\n",
      "63:\tlearn: 31.9057315\ttotal: 214ms\tremaining: 120ms\n",
      "64:\tlearn: 31.6438979\ttotal: 217ms\tremaining: 117ms\n",
      "65:\tlearn: 31.3344346\ttotal: 220ms\tremaining: 113ms\n",
      "66:\tlearn: 30.9185968\ttotal: 222ms\tremaining: 109ms\n",
      "67:\tlearn: 30.5996993\ttotal: 224ms\tremaining: 105ms\n",
      "68:\tlearn: 30.4129858\ttotal: 225ms\tremaining: 101ms\n",
      "69:\tlearn: 30.2472114\ttotal: 228ms\tremaining: 97.6ms\n",
      "70:\tlearn: 30.0403885\ttotal: 230ms\tremaining: 93.8ms\n",
      "71:\tlearn: 30.0027679\ttotal: 233ms\tremaining: 90.5ms\n",
      "72:\tlearn: 29.6561909\ttotal: 235ms\tremaining: 86.9ms\n",
      "73:\tlearn: 29.6212337\ttotal: 237ms\tremaining: 83.2ms\n",
      "74:\tlearn: 29.3671959\ttotal: 238ms\tremaining: 79.4ms\n",
      "75:\tlearn: 29.3377806\ttotal: 240ms\tremaining: 75.8ms\n",
      "76:\tlearn: 29.0082979\ttotal: 242ms\tremaining: 72.3ms\n",
      "77:\tlearn: 28.9264629\ttotal: 245ms\tremaining: 69ms\n",
      "78:\tlearn: 28.8434540\ttotal: 246ms\tremaining: 65.5ms\n",
      "79:\tlearn: 28.8138433\ttotal: 248ms\tremaining: 62ms\n",
      "80:\tlearn: 28.4804297\ttotal: 250ms\tremaining: 58.6ms\n",
      "81:\tlearn: 28.3087371\ttotal: 251ms\tremaining: 55.1ms\n",
      "82:\tlearn: 27.9106141\ttotal: 253ms\tremaining: 51.9ms\n",
      "83:\tlearn: 27.6191262\ttotal: 255ms\tremaining: 48.6ms\n",
      "84:\tlearn: 27.3236843\ttotal: 260ms\tremaining: 45.8ms\n",
      "85:\tlearn: 26.8642134\ttotal: 261ms\tremaining: 42.6ms\n",
      "86:\tlearn: 26.5151947\ttotal: 263ms\tremaining: 39.3ms\n",
      "87:\tlearn: 26.3384307\ttotal: 265ms\tremaining: 36.1ms\n",
      "88:\tlearn: 26.0390986\ttotal: 266ms\tremaining: 32.9ms\n",
      "89:\tlearn: 25.6832119\ttotal: 268ms\tremaining: 29.8ms\n",
      "90:\tlearn: 25.4495513\ttotal: 271ms\tremaining: 26.8ms\n",
      "91:\tlearn: 25.3714834\ttotal: 273ms\tremaining: 23.7ms\n",
      "92:\tlearn: 25.3136721\ttotal: 275ms\tremaining: 20.7ms\n",
      "93:\tlearn: 25.1417324\ttotal: 276ms\tremaining: 17.6ms\n",
      "94:\tlearn: 24.8810806\ttotal: 278ms\tremaining: 14.6ms\n",
      "95:\tlearn: 24.8099801\ttotal: 281ms\tremaining: 11.7ms\n",
      "96:\tlearn: 24.7361302\ttotal: 284ms\tremaining: 8.79ms\n",
      "97:\tlearn: 24.6962613\ttotal: 286ms\tremaining: 5.84ms\n",
      "98:\tlearn: 24.3300139\ttotal: 288ms\tremaining: 2.9ms\n",
      "99:\tlearn: 24.2827108\ttotal: 289ms\tremaining: 0us\n"
     ]
    }
   ],
   "source": [
    "from catboost import CatBoostRegressor\n",
    "params={'eta':[0.2,0.3,0.4],'max_depth':[5,6,7],'n_estimators':[100,200]}\n",
    "model=CatBoostRegressor()\n",
    "grid=GridSearchCV(model,param_grid=params,n_jobs=-1)\n",
    "grid.fit(x_train,y_train)\n",
    "y_pred=grid.predict(x_test)"
   ]
  },
  {
   "cell_type": "code",
   "execution_count": 24,
   "metadata": {},
   "outputs": [
    {
     "data": {
      "text/plain": [
       "<catboost.core.CatBoostRegressor at 0x1c66e6ee688>"
      ]
     },
     "execution_count": 24,
     "metadata": {},
     "output_type": "execute_result"
    }
   ],
   "source": [
    "grid.best_estimator_"
   ]
  },
  {
   "cell_type": "code",
   "execution_count": 25,
   "metadata": {},
   "outputs": [
    {
     "name": "stdout",
     "output_type": "stream",
     "text": [
      "score of CatBoostRegressor  is: 3095.323148523199\n"
     ]
    }
   ],
   "source": [
    "catboost_score=mean_squared_error(y_test,y_pred)\n",
    "print('score of CatBoostRegressor  is:',catboost_score)"
   ]
  },
  {
   "cell_type": "code",
   "execution_count": null,
   "metadata": {},
   "outputs": [],
   "source": []
  }
 ],
 "metadata": {
  "kernelspec": {
   "display_name": "Python [conda env:root] *",
   "language": "python",
   "name": "conda-root-py"
  },
  "language_info": {
   "codemirror_mode": {
    "name": "ipython",
    "version": 3
   },
   "file_extension": ".py",
   "mimetype": "text/x-python",
   "name": "python",
   "nbconvert_exporter": "python",
   "pygments_lexer": "ipython3",
   "version": "3.7.6"
  }
 },
 "nbformat": 4,
 "nbformat_minor": 4
}
