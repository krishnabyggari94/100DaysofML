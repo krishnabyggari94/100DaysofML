{
  "nbformat": 4,
  "nbformat_minor": 0,
  "metadata": {
    "colab": {
      "name": "Pycaret.ipynb",
      "provenance": [],
      "collapsed_sections": []
    },
    "kernelspec": {
      "name": "python3",
      "display_name": "Python 3"
    },
    "widgets": {
      "application/vnd.jupyter.widget-state+json": {
        "998fe783797d4d658ca986b7c0731112": {
          "model_module": "@jupyter-widgets/controls",
          "model_name": "IntProgressModel",
          "state": {
            "_view_name": "ProgressView",
            "style": "IPY_MODEL_61ac3b2ef1664917b52b87795f84ab2c",
            "_dom_classes": [],
            "description": "Processing: ",
            "_model_name": "IntProgressModel",
            "bar_style": "",
            "max": 13,
            "_view_module": "@jupyter-widgets/controls",
            "_model_module_version": "1.5.0",
            "value": 3,
            "_view_count": null,
            "_view_module_version": "1.5.0",
            "orientation": "horizontal",
            "min": 0,
            "description_tooltip": null,
            "_model_module": "@jupyter-widgets/controls",
            "layout": "IPY_MODEL_7a7ed4c508224008aaaae4dc3c7ad84c"
          }
        },
        "61ac3b2ef1664917b52b87795f84ab2c": {
          "model_module": "@jupyter-widgets/controls",
          "model_name": "ProgressStyleModel",
          "state": {
            "_view_name": "StyleView",
            "_model_name": "ProgressStyleModel",
            "description_width": "",
            "_view_module": "@jupyter-widgets/base",
            "_model_module_version": "1.5.0",
            "_view_count": null,
            "_view_module_version": "1.2.0",
            "bar_color": null,
            "_model_module": "@jupyter-widgets/controls"
          }
        },
        "7a7ed4c508224008aaaae4dc3c7ad84c": {
          "model_module": "@jupyter-widgets/base",
          "model_name": "LayoutModel",
          "state": {
            "_view_name": "LayoutView",
            "grid_template_rows": null,
            "right": null,
            "justify_content": null,
            "_view_module": "@jupyter-widgets/base",
            "overflow": null,
            "_model_module_version": "1.2.0",
            "_view_count": null,
            "flex_flow": null,
            "width": null,
            "min_width": null,
            "border": null,
            "align_items": null,
            "bottom": null,
            "_model_module": "@jupyter-widgets/base",
            "top": null,
            "grid_column": null,
            "overflow_y": null,
            "overflow_x": null,
            "grid_auto_flow": null,
            "grid_area": null,
            "grid_template_columns": null,
            "flex": null,
            "_model_name": "LayoutModel",
            "justify_items": null,
            "grid_row": null,
            "max_height": null,
            "align_content": null,
            "visibility": null,
            "align_self": null,
            "height": null,
            "min_height": null,
            "padding": null,
            "grid_auto_rows": null,
            "grid_gap": null,
            "max_width": null,
            "order": null,
            "_view_module_version": "1.2.0",
            "grid_template_areas": null,
            "object_position": null,
            "object_fit": null,
            "grid_auto_columns": null,
            "margin": null,
            "display": null,
            "left": null
          }
        },
        "278d64866e8f41e787cf59dd49cf5761": {
          "model_module": "@jupyter-widgets/controls",
          "model_name": "TextModel",
          "state": {
            "_view_name": "TextView",
            "style": "IPY_MODEL_5ad5f21b28fc4ef3ad01ea244d3755a4",
            "_dom_classes": [],
            "description": "",
            "_model_name": "TextModel",
            "placeholder": "​",
            "_view_module": "@jupyter-widgets/controls",
            "_model_module_version": "1.5.0",
            "value": "Following data types have been inferred automatically, if they are correct press enter to continue or type 'quit' otherwise.",
            "_view_count": null,
            "disabled": false,
            "_view_module_version": "1.5.0",
            "continuous_update": true,
            "description_tooltip": null,
            "_model_module": "@jupyter-widgets/controls",
            "layout": "IPY_MODEL_ec34a32693a7467f8df9ceaecce5050b"
          }
        },
        "5ad5f21b28fc4ef3ad01ea244d3755a4": {
          "model_module": "@jupyter-widgets/controls",
          "model_name": "DescriptionStyleModel",
          "state": {
            "_view_name": "StyleView",
            "_model_name": "DescriptionStyleModel",
            "description_width": "",
            "_view_module": "@jupyter-widgets/base",
            "_model_module_version": "1.5.0",
            "_view_count": null,
            "_view_module_version": "1.2.0",
            "_model_module": "@jupyter-widgets/controls"
          }
        },
        "ec34a32693a7467f8df9ceaecce5050b": {
          "model_module": "@jupyter-widgets/base",
          "model_name": "LayoutModel",
          "state": {
            "_view_name": "LayoutView",
            "grid_template_rows": null,
            "right": null,
            "justify_content": null,
            "_view_module": "@jupyter-widgets/base",
            "overflow": null,
            "_model_module_version": "1.2.0",
            "_view_count": null,
            "flex_flow": null,
            "width": "100%",
            "min_width": null,
            "border": null,
            "align_items": null,
            "bottom": null,
            "_model_module": "@jupyter-widgets/base",
            "top": null,
            "grid_column": null,
            "overflow_y": null,
            "overflow_x": null,
            "grid_auto_flow": null,
            "grid_area": null,
            "grid_template_columns": null,
            "flex": null,
            "_model_name": "LayoutModel",
            "justify_items": null,
            "grid_row": null,
            "max_height": null,
            "align_content": null,
            "visibility": null,
            "align_self": null,
            "height": null,
            "min_height": null,
            "padding": null,
            "grid_auto_rows": null,
            "grid_gap": null,
            "max_width": null,
            "order": null,
            "_view_module_version": "1.2.0",
            "grid_template_areas": null,
            "object_position": null,
            "object_fit": null,
            "grid_auto_columns": null,
            "margin": null,
            "display": null,
            "left": null
          }
        },
        "7fc77573ed914f70bd8a15a070ed4999": {
          "model_module": "@jupyter-widgets/controls",
          "model_name": "IntProgressModel",
          "state": {
            "_view_name": "ProgressView",
            "style": "IPY_MODEL_9bdb1a449df44187b0745b06fb06b0f3",
            "_dom_classes": [],
            "description": "Processing: ",
            "_model_name": "IntProgressModel",
            "bar_style": "",
            "max": 176,
            "_view_module": "@jupyter-widgets/controls",
            "_model_module_version": "1.5.0",
            "value": 172,
            "_view_count": null,
            "_view_module_version": "1.5.0",
            "orientation": "horizontal",
            "min": 0,
            "description_tooltip": null,
            "_model_module": "@jupyter-widgets/controls",
            "layout": "IPY_MODEL_438b182b90f44127b146f68f391e9531"
          }
        },
        "9bdb1a449df44187b0745b06fb06b0f3": {
          "model_module": "@jupyter-widgets/controls",
          "model_name": "ProgressStyleModel",
          "state": {
            "_view_name": "StyleView",
            "_model_name": "ProgressStyleModel",
            "description_width": "",
            "_view_module": "@jupyter-widgets/base",
            "_model_module_version": "1.5.0",
            "_view_count": null,
            "_view_module_version": "1.2.0",
            "bar_color": null,
            "_model_module": "@jupyter-widgets/controls"
          }
        },
        "438b182b90f44127b146f68f391e9531": {
          "model_module": "@jupyter-widgets/base",
          "model_name": "LayoutModel",
          "state": {
            "_view_name": "LayoutView",
            "grid_template_rows": null,
            "right": null,
            "justify_content": null,
            "_view_module": "@jupyter-widgets/base",
            "overflow": null,
            "_model_module_version": "1.2.0",
            "_view_count": null,
            "flex_flow": null,
            "width": null,
            "min_width": null,
            "border": null,
            "align_items": null,
            "bottom": null,
            "_model_module": "@jupyter-widgets/base",
            "top": null,
            "grid_column": null,
            "overflow_y": null,
            "overflow_x": null,
            "grid_auto_flow": null,
            "grid_area": null,
            "grid_template_columns": null,
            "flex": null,
            "_model_name": "LayoutModel",
            "justify_items": null,
            "grid_row": null,
            "max_height": null,
            "align_content": null,
            "visibility": null,
            "align_self": null,
            "height": null,
            "min_height": null,
            "padding": null,
            "grid_auto_rows": null,
            "grid_gap": null,
            "max_width": null,
            "order": null,
            "_view_module_version": "1.2.0",
            "grid_template_areas": null,
            "object_position": null,
            "object_fit": null,
            "grid_auto_columns": null,
            "margin": null,
            "display": null,
            "left": null
          }
        },
        "c62bf00211ed4439b3f60bc3b566e91d": {
          "model_module": "@jupyter-widgets/controls",
          "model_name": "IntProgressModel",
          "state": {
            "_view_name": "ProgressView",
            "style": "IPY_MODEL_291b3450c4a34939b683efe809416a0e",
            "_dom_classes": [],
            "description": "Processing: ",
            "_model_name": "IntProgressModel",
            "bar_style": "",
            "max": 13,
            "_view_module": "@jupyter-widgets/controls",
            "_model_module_version": "1.5.0",
            "value": 3,
            "_view_count": null,
            "_view_module_version": "1.5.0",
            "orientation": "horizontal",
            "min": 0,
            "description_tooltip": null,
            "_model_module": "@jupyter-widgets/controls",
            "layout": "IPY_MODEL_9bc8122eb037480a81a701c2114bfb27"
          }
        },
        "291b3450c4a34939b683efe809416a0e": {
          "model_module": "@jupyter-widgets/controls",
          "model_name": "ProgressStyleModel",
          "state": {
            "_view_name": "StyleView",
            "_model_name": "ProgressStyleModel",
            "description_width": "",
            "_view_module": "@jupyter-widgets/base",
            "_model_module_version": "1.5.0",
            "_view_count": null,
            "_view_module_version": "1.2.0",
            "bar_color": null,
            "_model_module": "@jupyter-widgets/controls"
          }
        },
        "9bc8122eb037480a81a701c2114bfb27": {
          "model_module": "@jupyter-widgets/base",
          "model_name": "LayoutModel",
          "state": {
            "_view_name": "LayoutView",
            "grid_template_rows": null,
            "right": null,
            "justify_content": null,
            "_view_module": "@jupyter-widgets/base",
            "overflow": null,
            "_model_module_version": "1.2.0",
            "_view_count": null,
            "flex_flow": null,
            "width": null,
            "min_width": null,
            "border": null,
            "align_items": null,
            "bottom": null,
            "_model_module": "@jupyter-widgets/base",
            "top": null,
            "grid_column": null,
            "overflow_y": null,
            "overflow_x": null,
            "grid_auto_flow": null,
            "grid_area": null,
            "grid_template_columns": null,
            "flex": null,
            "_model_name": "LayoutModel",
            "justify_items": null,
            "grid_row": null,
            "max_height": null,
            "align_content": null,
            "visibility": null,
            "align_self": null,
            "height": null,
            "min_height": null,
            "padding": null,
            "grid_auto_rows": null,
            "grid_gap": null,
            "max_width": null,
            "order": null,
            "_view_module_version": "1.2.0",
            "grid_template_areas": null,
            "object_position": null,
            "object_fit": null,
            "grid_auto_columns": null,
            "margin": null,
            "display": null,
            "left": null
          }
        },
        "7b9fdb273d484fea9db4a1a41b92db88": {
          "model_module": "@jupyter-widgets/controls",
          "model_name": "TextModel",
          "state": {
            "_view_name": "TextView",
            "style": "IPY_MODEL_7e8e7dd7db8e48b3913fabef0cf3c3c2",
            "_dom_classes": [],
            "description": "",
            "_model_name": "TextModel",
            "placeholder": "​",
            "_view_module": "@jupyter-widgets/controls",
            "_model_module_version": "1.5.0",
            "value": "Following data types have been inferred automatically, if they are correct press enter to continue or type 'quit' otherwise.",
            "_view_count": null,
            "disabled": false,
            "_view_module_version": "1.5.0",
            "continuous_update": true,
            "description_tooltip": null,
            "_model_module": "@jupyter-widgets/controls",
            "layout": "IPY_MODEL_1ee6cd602ecc489d8dfbf84984f026cb"
          }
        },
        "7e8e7dd7db8e48b3913fabef0cf3c3c2": {
          "model_module": "@jupyter-widgets/controls",
          "model_name": "DescriptionStyleModel",
          "state": {
            "_view_name": "StyleView",
            "_model_name": "DescriptionStyleModel",
            "description_width": "",
            "_view_module": "@jupyter-widgets/base",
            "_model_module_version": "1.5.0",
            "_view_count": null,
            "_view_module_version": "1.2.0",
            "_model_module": "@jupyter-widgets/controls"
          }
        },
        "1ee6cd602ecc489d8dfbf84984f026cb": {
          "model_module": "@jupyter-widgets/base",
          "model_name": "LayoutModel",
          "state": {
            "_view_name": "LayoutView",
            "grid_template_rows": null,
            "right": null,
            "justify_content": null,
            "_view_module": "@jupyter-widgets/base",
            "overflow": null,
            "_model_module_version": "1.2.0",
            "_view_count": null,
            "flex_flow": null,
            "width": "100%",
            "min_width": null,
            "border": null,
            "align_items": null,
            "bottom": null,
            "_model_module": "@jupyter-widgets/base",
            "top": null,
            "grid_column": null,
            "overflow_y": null,
            "overflow_x": null,
            "grid_auto_flow": null,
            "grid_area": null,
            "grid_template_columns": null,
            "flex": null,
            "_model_name": "LayoutModel",
            "justify_items": null,
            "grid_row": null,
            "max_height": null,
            "align_content": null,
            "visibility": null,
            "align_self": null,
            "height": null,
            "min_height": null,
            "padding": null,
            "grid_auto_rows": null,
            "grid_gap": null,
            "max_width": null,
            "order": null,
            "_view_module_version": "1.2.0",
            "grid_template_areas": null,
            "object_position": null,
            "object_fit": null,
            "grid_auto_columns": null,
            "margin": null,
            "display": null,
            "left": null
          }
        },
        "7ce2070d04894842b5c1e87feb477bb2": {
          "model_module": "@jupyter-widgets/controls",
          "model_name": "IntProgressModel",
          "state": {
            "_view_name": "ProgressView",
            "style": "IPY_MODEL_b873dfdae2544f31b7fbccbd24cc5bc8",
            "_dom_classes": [],
            "description": "Processing: ",
            "_model_name": "IntProgressModel",
            "bar_style": "",
            "max": 251,
            "_view_module": "@jupyter-widgets/controls",
            "_model_module_version": "1.5.0",
            "value": 249,
            "_view_count": null,
            "_view_module_version": "1.5.0",
            "orientation": "horizontal",
            "min": 0,
            "description_tooltip": null,
            "_model_module": "@jupyter-widgets/controls",
            "layout": "IPY_MODEL_73f40f3cb2714d4893d9deb33e5d1315"
          }
        },
        "b873dfdae2544f31b7fbccbd24cc5bc8": {
          "model_module": "@jupyter-widgets/controls",
          "model_name": "ProgressStyleModel",
          "state": {
            "_view_name": "StyleView",
            "_model_name": "ProgressStyleModel",
            "description_width": "",
            "_view_module": "@jupyter-widgets/base",
            "_model_module_version": "1.5.0",
            "_view_count": null,
            "_view_module_version": "1.2.0",
            "bar_color": null,
            "_model_module": "@jupyter-widgets/controls"
          }
        },
        "73f40f3cb2714d4893d9deb33e5d1315": {
          "model_module": "@jupyter-widgets/base",
          "model_name": "LayoutModel",
          "state": {
            "_view_name": "LayoutView",
            "grid_template_rows": null,
            "right": null,
            "justify_content": null,
            "_view_module": "@jupyter-widgets/base",
            "overflow": null,
            "_model_module_version": "1.2.0",
            "_view_count": null,
            "flex_flow": null,
            "width": null,
            "min_width": null,
            "border": null,
            "align_items": null,
            "bottom": null,
            "_model_module": "@jupyter-widgets/base",
            "top": null,
            "grid_column": null,
            "overflow_y": null,
            "overflow_x": null,
            "grid_auto_flow": null,
            "grid_area": null,
            "grid_template_columns": null,
            "flex": null,
            "_model_name": "LayoutModel",
            "justify_items": null,
            "grid_row": null,
            "max_height": null,
            "align_content": null,
            "visibility": null,
            "align_self": null,
            "height": null,
            "min_height": null,
            "padding": null,
            "grid_auto_rows": null,
            "grid_gap": null,
            "max_width": null,
            "order": null,
            "_view_module_version": "1.2.0",
            "grid_template_areas": null,
            "object_position": null,
            "object_fit": null,
            "grid_auto_columns": null,
            "margin": null,
            "display": null,
            "left": null
          }
        },
        "5cc46352fc9e4680957c7b4275cd76f4": {
          "model_module": "@jupyter-widgets/controls",
          "model_name": "IntProgressModel",
          "state": {
            "_view_name": "ProgressView",
            "style": "IPY_MODEL_4c4fbbef41ec4bda9cecb97130a2197d",
            "_dom_classes": [],
            "description": "Processing: ",
            "_model_name": "IntProgressModel",
            "bar_style": "",
            "max": 14,
            "_view_module": "@jupyter-widgets/controls",
            "_model_module_version": "1.5.0",
            "value": 14,
            "_view_count": null,
            "_view_module_version": "1.5.0",
            "orientation": "horizontal",
            "min": 0,
            "description_tooltip": null,
            "_model_module": "@jupyter-widgets/controls",
            "layout": "IPY_MODEL_30165e7e094d480f89a4b6e217278384"
          }
        },
        "4c4fbbef41ec4bda9cecb97130a2197d": {
          "model_module": "@jupyter-widgets/controls",
          "model_name": "ProgressStyleModel",
          "state": {
            "_view_name": "StyleView",
            "_model_name": "ProgressStyleModel",
            "description_width": "",
            "_view_module": "@jupyter-widgets/base",
            "_model_module_version": "1.5.0",
            "_view_count": null,
            "_view_module_version": "1.2.0",
            "bar_color": null,
            "_model_module": "@jupyter-widgets/controls"
          }
        },
        "30165e7e094d480f89a4b6e217278384": {
          "model_module": "@jupyter-widgets/base",
          "model_name": "LayoutModel",
          "state": {
            "_view_name": "LayoutView",
            "grid_template_rows": null,
            "right": null,
            "justify_content": null,
            "_view_module": "@jupyter-widgets/base",
            "overflow": null,
            "_model_module_version": "1.2.0",
            "_view_count": null,
            "flex_flow": null,
            "width": null,
            "min_width": null,
            "border": null,
            "align_items": null,
            "bottom": null,
            "_model_module": "@jupyter-widgets/base",
            "top": null,
            "grid_column": null,
            "overflow_y": null,
            "overflow_x": null,
            "grid_auto_flow": null,
            "grid_area": null,
            "grid_template_columns": null,
            "flex": null,
            "_model_name": "LayoutModel",
            "justify_items": null,
            "grid_row": null,
            "max_height": null,
            "align_content": null,
            "visibility": null,
            "align_self": null,
            "height": null,
            "min_height": null,
            "padding": null,
            "grid_auto_rows": null,
            "grid_gap": null,
            "max_width": null,
            "order": null,
            "_view_module_version": "1.2.0",
            "grid_template_areas": null,
            "object_position": null,
            "object_fit": null,
            "grid_auto_columns": null,
            "margin": null,
            "display": null,
            "left": null
          }
        },
        "bd4f9c793633486d9a4d9e91996c076c": {
          "model_module": "@jupyter-widgets/controls",
          "model_name": "IntProgressModel",
          "state": {
            "_view_name": "ProgressView",
            "style": "IPY_MODEL_b44efb9f27c44920814b7059f204611d",
            "_dom_classes": [],
            "description": "Processing: ",
            "_model_name": "IntProgressModel",
            "bar_style": "",
            "max": 16,
            "_view_module": "@jupyter-widgets/controls",
            "_model_module_version": "1.5.0",
            "value": 16,
            "_view_count": null,
            "_view_module_version": "1.5.0",
            "orientation": "horizontal",
            "min": 0,
            "description_tooltip": null,
            "_model_module": "@jupyter-widgets/controls",
            "layout": "IPY_MODEL_15106e839c394f1ca69c4ec6ea9e8d09"
          }
        },
        "b44efb9f27c44920814b7059f204611d": {
          "model_module": "@jupyter-widgets/controls",
          "model_name": "ProgressStyleModel",
          "state": {
            "_view_name": "StyleView",
            "_model_name": "ProgressStyleModel",
            "description_width": "",
            "_view_module": "@jupyter-widgets/base",
            "_model_module_version": "1.5.0",
            "_view_count": null,
            "_view_module_version": "1.2.0",
            "bar_color": null,
            "_model_module": "@jupyter-widgets/controls"
          }
        },
        "15106e839c394f1ca69c4ec6ea9e8d09": {
          "model_module": "@jupyter-widgets/base",
          "model_name": "LayoutModel",
          "state": {
            "_view_name": "LayoutView",
            "grid_template_rows": null,
            "right": null,
            "justify_content": null,
            "_view_module": "@jupyter-widgets/base",
            "overflow": null,
            "_model_module_version": "1.2.0",
            "_view_count": null,
            "flex_flow": null,
            "width": null,
            "min_width": null,
            "border": null,
            "align_items": null,
            "bottom": null,
            "_model_module": "@jupyter-widgets/base",
            "top": null,
            "grid_column": null,
            "overflow_y": null,
            "overflow_x": null,
            "grid_auto_flow": null,
            "grid_area": null,
            "grid_template_columns": null,
            "flex": null,
            "_model_name": "LayoutModel",
            "justify_items": null,
            "grid_row": null,
            "max_height": null,
            "align_content": null,
            "visibility": null,
            "align_self": null,
            "height": null,
            "min_height": null,
            "padding": null,
            "grid_auto_rows": null,
            "grid_gap": null,
            "max_width": null,
            "order": null,
            "_view_module_version": "1.2.0",
            "grid_template_areas": null,
            "object_position": null,
            "object_fit": null,
            "grid_auto_columns": null,
            "margin": null,
            "display": null,
            "left": null
          }
        },
        "edce5914b6084537bbfc5f70f6b1a109": {
          "model_module": "@jupyter-widgets/controls",
          "model_name": "IntProgressModel",
          "state": {
            "_view_name": "ProgressView",
            "style": "IPY_MODEL_777988a568f241f381aabb8c7b77ceb7",
            "_dom_classes": [],
            "description": "Processing: ",
            "_model_name": "IntProgressModel",
            "bar_style": "",
            "max": 4,
            "_view_module": "@jupyter-widgets/controls",
            "_model_module_version": "1.5.0",
            "value": 3,
            "_view_count": null,
            "_view_module_version": "1.5.0",
            "orientation": "horizontal",
            "min": 0,
            "description_tooltip": null,
            "_model_module": "@jupyter-widgets/controls",
            "layout": "IPY_MODEL_f09baaca97094ffbb24bee7141f4f3d3"
          }
        },
        "777988a568f241f381aabb8c7b77ceb7": {
          "model_module": "@jupyter-widgets/controls",
          "model_name": "ProgressStyleModel",
          "state": {
            "_view_name": "StyleView",
            "_model_name": "ProgressStyleModel",
            "description_width": "",
            "_view_module": "@jupyter-widgets/base",
            "_model_module_version": "1.5.0",
            "_view_count": null,
            "_view_module_version": "1.2.0",
            "bar_color": null,
            "_model_module": "@jupyter-widgets/controls"
          }
        },
        "f09baaca97094ffbb24bee7141f4f3d3": {
          "model_module": "@jupyter-widgets/base",
          "model_name": "LayoutModel",
          "state": {
            "_view_name": "LayoutView",
            "grid_template_rows": null,
            "right": null,
            "justify_content": null,
            "_view_module": "@jupyter-widgets/base",
            "overflow": null,
            "_model_module_version": "1.2.0",
            "_view_count": null,
            "flex_flow": null,
            "width": null,
            "min_width": null,
            "border": null,
            "align_items": null,
            "bottom": null,
            "_model_module": "@jupyter-widgets/base",
            "top": null,
            "grid_column": null,
            "overflow_y": null,
            "overflow_x": null,
            "grid_auto_flow": null,
            "grid_area": null,
            "grid_template_columns": null,
            "flex": null,
            "_model_name": "LayoutModel",
            "justify_items": null,
            "grid_row": null,
            "max_height": null,
            "align_content": null,
            "visibility": null,
            "align_self": null,
            "height": null,
            "min_height": null,
            "padding": null,
            "grid_auto_rows": null,
            "grid_gap": null,
            "max_width": null,
            "order": null,
            "_view_module_version": "1.2.0",
            "grid_template_areas": null,
            "object_position": null,
            "object_fit": null,
            "grid_auto_columns": null,
            "margin": null,
            "display": null,
            "left": null
          }
        },
        "35abf64b2ab44ceb963fe037ba2cbbf2": {
          "model_module": "@jupyter-widgets/controls",
          "model_name": "TextModel",
          "state": {
            "_view_name": "TextView",
            "style": "IPY_MODEL_0d5644d208374c35924a969095ad176c",
            "_dom_classes": [],
            "description": "",
            "_model_name": "TextModel",
            "placeholder": "​",
            "_view_module": "@jupyter-widgets/controls",
            "_model_module_version": "1.5.0",
            "value": "Following data types have been inferred automatically, if they are correct press enter to continue or type 'quit' otherwise.",
            "_view_count": null,
            "disabled": false,
            "_view_module_version": "1.5.0",
            "continuous_update": true,
            "description_tooltip": null,
            "_model_module": "@jupyter-widgets/controls",
            "layout": "IPY_MODEL_c21b87ed989746248ec3dff701616afa"
          }
        },
        "0d5644d208374c35924a969095ad176c": {
          "model_module": "@jupyter-widgets/controls",
          "model_name": "DescriptionStyleModel",
          "state": {
            "_view_name": "StyleView",
            "_model_name": "DescriptionStyleModel",
            "description_width": "",
            "_view_module": "@jupyter-widgets/base",
            "_model_module_version": "1.5.0",
            "_view_count": null,
            "_view_module_version": "1.2.0",
            "_model_module": "@jupyter-widgets/controls"
          }
        },
        "c21b87ed989746248ec3dff701616afa": {
          "model_module": "@jupyter-widgets/base",
          "model_name": "LayoutModel",
          "state": {
            "_view_name": "LayoutView",
            "grid_template_rows": null,
            "right": null,
            "justify_content": null,
            "_view_module": "@jupyter-widgets/base",
            "overflow": null,
            "_model_module_version": "1.2.0",
            "_view_count": null,
            "flex_flow": null,
            "width": "100%",
            "min_width": null,
            "border": null,
            "align_items": null,
            "bottom": null,
            "_model_module": "@jupyter-widgets/base",
            "top": null,
            "grid_column": null,
            "overflow_y": null,
            "overflow_x": null,
            "grid_auto_flow": null,
            "grid_area": null,
            "grid_template_columns": null,
            "flex": null,
            "_model_name": "LayoutModel",
            "justify_items": null,
            "grid_row": null,
            "max_height": null,
            "align_content": null,
            "visibility": null,
            "align_self": null,
            "height": null,
            "min_height": null,
            "padding": null,
            "grid_auto_rows": null,
            "grid_gap": null,
            "max_width": null,
            "order": null,
            "_view_module_version": "1.2.0",
            "grid_template_areas": null,
            "object_position": null,
            "object_fit": null,
            "grid_auto_columns": null,
            "margin": null,
            "display": null,
            "left": null
          }
        },
        "4e1573cf33b34f568e9e7bead93ec218": {
          "model_module": "@jupyter-widgets/controls",
          "model_name": "IntProgressModel",
          "state": {
            "_view_name": "ProgressView",
            "style": "IPY_MODEL_125d4bba2639418bbcebafbc1ae48b42",
            "_dom_classes": [],
            "description": "Processing: ",
            "_model_name": "IntProgressModel",
            "bar_style": "",
            "max": 3,
            "_view_module": "@jupyter-widgets/controls",
            "_model_module_version": "1.5.0",
            "value": 3,
            "_view_count": null,
            "_view_module_version": "1.5.0",
            "orientation": "horizontal",
            "min": 0,
            "description_tooltip": null,
            "_model_module": "@jupyter-widgets/controls",
            "layout": "IPY_MODEL_27d6df295c8d446aa249273b4c78738b"
          }
        },
        "af3dbb6721fd450b808a717b8164ca37": {
          "model_module": "@jupyter-widgets/controls",
          "model_name": "IntProgressModel",
          "state": {
            "_view_name": "ProgressView",
            "style": "IPY_MODEL_a4c529a9e7b24aecb50b7503a0cb317b",
            "_dom_classes": [],
            "description": "Processing: ",
            "_model_name": "IntProgressModel",
            "bar_style": "",
            "max": 3,
            "_view_module": "@jupyter-widgets/controls",
            "_model_module_version": "1.5.0",
            "value": 3,
            "_view_count": null,
            "_view_module_version": "1.5.0",
            "orientation": "horizontal",
            "min": 0,
            "description_tooltip": null,
            "_model_module": "@jupyter-widgets/controls",
            "layout": "IPY_MODEL_6f2ec87690b44a338efda6827471f193"
          }
        },
        "fdeadf7f18594e3b9c7ec35ed97d840f": {
          "model_module": "@jupyter-widgets/controls",
          "model_name": "IntProgressModel",
          "state": {
            "_view_name": "ProgressView",
            "style": "IPY_MODEL_9a983313f780472483595e49b9a11e1c",
            "_dom_classes": [],
            "description": "Processing: ",
            "_model_name": "IntProgressModel",
            "bar_style": "",
            "max": 3,
            "_view_module": "@jupyter-widgets/controls",
            "_model_module_version": "1.5.0",
            "value": 3,
            "_view_count": null,
            "_view_module_version": "1.5.0",
            "orientation": "horizontal",
            "min": 0,
            "description_tooltip": null,
            "_model_module": "@jupyter-widgets/controls",
            "layout": "IPY_MODEL_f632604f62f645a3b320b70ab307fd29"
          }
        },
        "aea50799966d4875830c7d6e47ffb7e9": {
          "model_module": "@jupyter-widgets/controls",
          "model_name": "IntProgressModel",
          "state": {
            "_view_name": "ProgressView",
            "style": "IPY_MODEL_8728fb4f02d94c09a1d20cceb29df4e4",
            "_dom_classes": [],
            "description": "Processing: ",
            "_model_name": "IntProgressModel",
            "bar_style": "",
            "max": 13,
            "_view_module": "@jupyter-widgets/controls",
            "_model_module_version": "1.5.0",
            "value": 3,
            "_view_count": null,
            "_view_module_version": "1.5.0",
            "orientation": "horizontal",
            "min": 0,
            "description_tooltip": null,
            "_model_module": "@jupyter-widgets/controls",
            "layout": "IPY_MODEL_03b558f6dfe1489585718fa48bfd9c94"
          }
        },
        "8728fb4f02d94c09a1d20cceb29df4e4": {
          "model_module": "@jupyter-widgets/controls",
          "model_name": "ProgressStyleModel",
          "state": {
            "_view_name": "StyleView",
            "_model_name": "ProgressStyleModel",
            "description_width": "",
            "_view_module": "@jupyter-widgets/base",
            "_model_module_version": "1.5.0",
            "_view_count": null,
            "_view_module_version": "1.2.0",
            "bar_color": null,
            "_model_module": "@jupyter-widgets/controls"
          }
        },
        "03b558f6dfe1489585718fa48bfd9c94": {
          "model_module": "@jupyter-widgets/base",
          "model_name": "LayoutModel",
          "state": {
            "_view_name": "LayoutView",
            "grid_template_rows": null,
            "right": null,
            "justify_content": null,
            "_view_module": "@jupyter-widgets/base",
            "overflow": null,
            "_model_module_version": "1.2.0",
            "_view_count": null,
            "flex_flow": null,
            "width": null,
            "min_width": null,
            "border": null,
            "align_items": null,
            "bottom": null,
            "_model_module": "@jupyter-widgets/base",
            "top": null,
            "grid_column": null,
            "overflow_y": null,
            "overflow_x": null,
            "grid_auto_flow": null,
            "grid_area": null,
            "grid_template_columns": null,
            "flex": null,
            "_model_name": "LayoutModel",
            "justify_items": null,
            "grid_row": null,
            "max_height": null,
            "align_content": null,
            "visibility": null,
            "align_self": null,
            "height": null,
            "min_height": null,
            "padding": null,
            "grid_auto_rows": null,
            "grid_gap": null,
            "max_width": null,
            "order": null,
            "_view_module_version": "1.2.0",
            "grid_template_areas": null,
            "object_position": null,
            "object_fit": null,
            "grid_auto_columns": null,
            "margin": null,
            "display": null,
            "left": null
          }
        },
        "28921fdc24b54b5394156955420f8923": {
          "model_module": "@jupyter-widgets/controls",
          "model_name": "TextModel",
          "state": {
            "_view_name": "TextView",
            "style": "IPY_MODEL_9d1baa7ff7d54ea186ff078342cef6ae",
            "_dom_classes": [],
            "description": "",
            "_model_name": "TextModel",
            "placeholder": "​",
            "_view_module": "@jupyter-widgets/controls",
            "_model_module_version": "1.5.0",
            "value": "Following data types have been inferred automatically, if they are correct press enter to continue or type 'quit' otherwise.",
            "_view_count": null,
            "disabled": false,
            "_view_module_version": "1.5.0",
            "continuous_update": true,
            "description_tooltip": null,
            "_model_module": "@jupyter-widgets/controls",
            "layout": "IPY_MODEL_03964129975646c8a260b42755d00cc1"
          }
        },
        "9d1baa7ff7d54ea186ff078342cef6ae": {
          "model_module": "@jupyter-widgets/controls",
          "model_name": "DescriptionStyleModel",
          "state": {
            "_view_name": "StyleView",
            "_model_name": "DescriptionStyleModel",
            "description_width": "",
            "_view_module": "@jupyter-widgets/base",
            "_model_module_version": "1.5.0",
            "_view_count": null,
            "_view_module_version": "1.2.0",
            "_model_module": "@jupyter-widgets/controls"
          }
        },
        "03964129975646c8a260b42755d00cc1": {
          "model_module": "@jupyter-widgets/base",
          "model_name": "LayoutModel",
          "state": {
            "_view_name": "LayoutView",
            "grid_template_rows": null,
            "right": null,
            "justify_content": null,
            "_view_module": "@jupyter-widgets/base",
            "overflow": null,
            "_model_module_version": "1.2.0",
            "_view_count": null,
            "flex_flow": null,
            "width": "100%",
            "min_width": null,
            "border": null,
            "align_items": null,
            "bottom": null,
            "_model_module": "@jupyter-widgets/base",
            "top": null,
            "grid_column": null,
            "overflow_y": null,
            "overflow_x": null,
            "grid_auto_flow": null,
            "grid_area": null,
            "grid_template_columns": null,
            "flex": null,
            "_model_name": "LayoutModel",
            "justify_items": null,
            "grid_row": null,
            "max_height": null,
            "align_content": null,
            "visibility": null,
            "align_self": null,
            "height": null,
            "min_height": null,
            "padding": null,
            "grid_auto_rows": null,
            "grid_gap": null,
            "max_width": null,
            "order": null,
            "_view_module_version": "1.2.0",
            "grid_template_areas": null,
            "object_position": null,
            "object_fit": null,
            "grid_auto_columns": null,
            "margin": null,
            "display": null,
            "left": null
          }
        },
        "93a267a50c6d41eeb90205e97609d06e": {
          "model_module": "@jupyter-widgets/controls",
          "model_name": "IntProgressModel",
          "state": {
            "_view_name": "ProgressView",
            "style": "IPY_MODEL_63c8fa7401fa44708bb67ed95f6b81f7",
            "_dom_classes": [],
            "description": "Processing: ",
            "_model_name": "IntProgressModel",
            "bar_style": "",
            "max": 176,
            "_view_module": "@jupyter-widgets/controls",
            "_model_module_version": "1.5.0",
            "value": 172,
            "_view_count": null,
            "_view_module_version": "1.5.0",
            "orientation": "horizontal",
            "min": 0,
            "description_tooltip": null,
            "_model_module": "@jupyter-widgets/controls",
            "layout": "IPY_MODEL_35ef2fded7014aa981a01b6d6870e3f4"
          }
        },
        "63c8fa7401fa44708bb67ed95f6b81f7": {
          "model_module": "@jupyter-widgets/controls",
          "model_name": "ProgressStyleModel",
          "state": {
            "_view_name": "StyleView",
            "_model_name": "ProgressStyleModel",
            "description_width": "",
            "_view_module": "@jupyter-widgets/base",
            "_model_module_version": "1.5.0",
            "_view_count": null,
            "_view_module_version": "1.2.0",
            "bar_color": null,
            "_model_module": "@jupyter-widgets/controls"
          }
        },
        "35ef2fded7014aa981a01b6d6870e3f4": {
          "model_module": "@jupyter-widgets/base",
          "model_name": "LayoutModel",
          "state": {
            "_view_name": "LayoutView",
            "grid_template_rows": null,
            "right": null,
            "justify_content": null,
            "_view_module": "@jupyter-widgets/base",
            "overflow": null,
            "_model_module_version": "1.2.0",
            "_view_count": null,
            "flex_flow": null,
            "width": null,
            "min_width": null,
            "border": null,
            "align_items": null,
            "bottom": null,
            "_model_module": "@jupyter-widgets/base",
            "top": null,
            "grid_column": null,
            "overflow_y": null,
            "overflow_x": null,
            "grid_auto_flow": null,
            "grid_area": null,
            "grid_template_columns": null,
            "flex": null,
            "_model_name": "LayoutModel",
            "justify_items": null,
            "grid_row": null,
            "max_height": null,
            "align_content": null,
            "visibility": null,
            "align_self": null,
            "height": null,
            "min_height": null,
            "padding": null,
            "grid_auto_rows": null,
            "grid_gap": null,
            "max_width": null,
            "order": null,
            "_view_module_version": "1.2.0",
            "grid_template_areas": null,
            "object_position": null,
            "object_fit": null,
            "grid_auto_columns": null,
            "margin": null,
            "display": null,
            "left": null
          }
        },
        "7cb544b5f01545639378e5d0c3d7a7db": {
          "model_module": "@jupyter-widgets/controls",
          "model_name": "IntProgressModel",
          "state": {
            "_view_name": "ProgressView",
            "style": "IPY_MODEL_e10e8285a4c84a7ab033d6aa6f70c438",
            "_dom_classes": [],
            "description": "Processing: ",
            "_model_name": "IntProgressModel",
            "bar_style": "",
            "max": 14,
            "_view_module": "@jupyter-widgets/controls",
            "_model_module_version": "1.5.0",
            "value": 14,
            "_view_count": null,
            "_view_module_version": "1.5.0",
            "orientation": "horizontal",
            "min": 0,
            "description_tooltip": null,
            "_model_module": "@jupyter-widgets/controls",
            "layout": "IPY_MODEL_3a361c8d7894493ea88ea8fa5f598d18"
          }
        },
        "e10e8285a4c84a7ab033d6aa6f70c438": {
          "model_module": "@jupyter-widgets/controls",
          "model_name": "ProgressStyleModel",
          "state": {
            "_view_name": "StyleView",
            "_model_name": "ProgressStyleModel",
            "description_width": "",
            "_view_module": "@jupyter-widgets/base",
            "_model_module_version": "1.5.0",
            "_view_count": null,
            "_view_module_version": "1.2.0",
            "bar_color": null,
            "_model_module": "@jupyter-widgets/controls"
          }
        },
        "3a361c8d7894493ea88ea8fa5f598d18": {
          "model_module": "@jupyter-widgets/base",
          "model_name": "LayoutModel",
          "state": {
            "_view_name": "LayoutView",
            "grid_template_rows": null,
            "right": null,
            "justify_content": null,
            "_view_module": "@jupyter-widgets/base",
            "overflow": null,
            "_model_module_version": "1.2.0",
            "_view_count": null,
            "flex_flow": null,
            "width": null,
            "min_width": null,
            "border": null,
            "align_items": null,
            "bottom": null,
            "_model_module": "@jupyter-widgets/base",
            "top": null,
            "grid_column": null,
            "overflow_y": null,
            "overflow_x": null,
            "grid_auto_flow": null,
            "grid_area": null,
            "grid_template_columns": null,
            "flex": null,
            "_model_name": "LayoutModel",
            "justify_items": null,
            "grid_row": null,
            "max_height": null,
            "align_content": null,
            "visibility": null,
            "align_self": null,
            "height": null,
            "min_height": null,
            "padding": null,
            "grid_auto_rows": null,
            "grid_gap": null,
            "max_width": null,
            "order": null,
            "_view_module_version": "1.2.0",
            "grid_template_areas": null,
            "object_position": null,
            "object_fit": null,
            "grid_auto_columns": null,
            "margin": null,
            "display": null,
            "left": null
          }
        },
        "14a8e1a2e317498cb664a3212531a88b": {
          "model_module": "@jupyter-widgets/controls",
          "model_name": "IntProgressModel",
          "state": {
            "_view_name": "ProgressView",
            "style": "IPY_MODEL_578563eefe014b8d8605447642d54a51",
            "_dom_classes": [],
            "description": "Processing: ",
            "_model_name": "IntProgressModel",
            "bar_style": "",
            "max": 16,
            "_view_module": "@jupyter-widgets/controls",
            "_model_module_version": "1.5.0",
            "value": 16,
            "_view_count": null,
            "_view_module_version": "1.5.0",
            "orientation": "horizontal",
            "min": 0,
            "description_tooltip": null,
            "_model_module": "@jupyter-widgets/controls",
            "layout": "IPY_MODEL_87a7e02c134848d99ed62331a6a16b67"
          }
        },
        "578563eefe014b8d8605447642d54a51": {
          "model_module": "@jupyter-widgets/controls",
          "model_name": "ProgressStyleModel",
          "state": {
            "_view_name": "StyleView",
            "_model_name": "ProgressStyleModel",
            "description_width": "",
            "_view_module": "@jupyter-widgets/base",
            "_model_module_version": "1.5.0",
            "_view_count": null,
            "_view_module_version": "1.2.0",
            "bar_color": null,
            "_model_module": "@jupyter-widgets/controls"
          }
        },
        "87a7e02c134848d99ed62331a6a16b67": {
          "model_module": "@jupyter-widgets/base",
          "model_name": "LayoutModel",
          "state": {
            "_view_name": "LayoutView",
            "grid_template_rows": null,
            "right": null,
            "justify_content": null,
            "_view_module": "@jupyter-widgets/base",
            "overflow": null,
            "_model_module_version": "1.2.0",
            "_view_count": null,
            "flex_flow": null,
            "width": null,
            "min_width": null,
            "border": null,
            "align_items": null,
            "bottom": null,
            "_model_module": "@jupyter-widgets/base",
            "top": null,
            "grid_column": null,
            "overflow_y": null,
            "overflow_x": null,
            "grid_auto_flow": null,
            "grid_area": null,
            "grid_template_columns": null,
            "flex": null,
            "_model_name": "LayoutModel",
            "justify_items": null,
            "grid_row": null,
            "max_height": null,
            "align_content": null,
            "visibility": null,
            "align_self": null,
            "height": null,
            "min_height": null,
            "padding": null,
            "grid_auto_rows": null,
            "grid_gap": null,
            "max_width": null,
            "order": null,
            "_view_module_version": "1.2.0",
            "grid_template_areas": null,
            "object_position": null,
            "object_fit": null,
            "grid_auto_columns": null,
            "margin": null,
            "display": null,
            "left": null
          }
        },
        "9addd890f0784fbfbc0921205952e64a": {
          "model_module": "@jupyter-widgets/controls",
          "model_name": "IntProgressModel",
          "state": {
            "_view_name": "ProgressView",
            "style": "IPY_MODEL_74b6cc6c404f48638db7f295302966bf",
            "_dom_classes": [],
            "description": "Processing: ",
            "_model_name": "IntProgressModel",
            "bar_style": "",
            "max": 13,
            "_view_module": "@jupyter-widgets/controls",
            "_model_module_version": "1.5.0",
            "value": 3,
            "_view_count": null,
            "_view_module_version": "1.5.0",
            "orientation": "horizontal",
            "min": 0,
            "description_tooltip": null,
            "_model_module": "@jupyter-widgets/controls",
            "layout": "IPY_MODEL_31f490d8ecdb4e0cae7ce8dfb12fcb87"
          }
        },
        "74b6cc6c404f48638db7f295302966bf": {
          "model_module": "@jupyter-widgets/controls",
          "model_name": "ProgressStyleModel",
          "state": {
            "_view_name": "StyleView",
            "_model_name": "ProgressStyleModel",
            "description_width": "",
            "_view_module": "@jupyter-widgets/base",
            "_model_module_version": "1.5.0",
            "_view_count": null,
            "_view_module_version": "1.2.0",
            "bar_color": null,
            "_model_module": "@jupyter-widgets/controls"
          }
        },
        "31f490d8ecdb4e0cae7ce8dfb12fcb87": {
          "model_module": "@jupyter-widgets/base",
          "model_name": "LayoutModel",
          "state": {
            "_view_name": "LayoutView",
            "grid_template_rows": null,
            "right": null,
            "justify_content": null,
            "_view_module": "@jupyter-widgets/base",
            "overflow": null,
            "_model_module_version": "1.2.0",
            "_view_count": null,
            "flex_flow": null,
            "width": null,
            "min_width": null,
            "border": null,
            "align_items": null,
            "bottom": null,
            "_model_module": "@jupyter-widgets/base",
            "top": null,
            "grid_column": null,
            "overflow_y": null,
            "overflow_x": null,
            "grid_auto_flow": null,
            "grid_area": null,
            "grid_template_columns": null,
            "flex": null,
            "_model_name": "LayoutModel",
            "justify_items": null,
            "grid_row": null,
            "max_height": null,
            "align_content": null,
            "visibility": null,
            "align_self": null,
            "height": null,
            "min_height": null,
            "padding": null,
            "grid_auto_rows": null,
            "grid_gap": null,
            "max_width": null,
            "order": null,
            "_view_module_version": "1.2.0",
            "grid_template_areas": null,
            "object_position": null,
            "object_fit": null,
            "grid_auto_columns": null,
            "margin": null,
            "display": null,
            "left": null
          }
        },
        "6e802b64276b4c2fb7b6e9d65a96d25b": {
          "model_module": "@jupyter-widgets/controls",
          "model_name": "TextModel",
          "state": {
            "_view_name": "TextView",
            "style": "IPY_MODEL_6df2a6d9c4a446e5b0a02c20dc1e0a87",
            "_dom_classes": [],
            "description": "",
            "_model_name": "TextModel",
            "placeholder": "​",
            "_view_module": "@jupyter-widgets/controls",
            "_model_module_version": "1.5.0",
            "value": "Following data types have been inferred automatically, if they are correct press enter to continue or type 'quit' otherwise.",
            "_view_count": null,
            "disabled": false,
            "_view_module_version": "1.5.0",
            "continuous_update": true,
            "description_tooltip": null,
            "_model_module": "@jupyter-widgets/controls",
            "layout": "IPY_MODEL_31df6720458c4802b06765e11ef9c819"
          }
        },
        "6df2a6d9c4a446e5b0a02c20dc1e0a87": {
          "model_module": "@jupyter-widgets/controls",
          "model_name": "DescriptionStyleModel",
          "state": {
            "_view_name": "StyleView",
            "_model_name": "DescriptionStyleModel",
            "description_width": "",
            "_view_module": "@jupyter-widgets/base",
            "_model_module_version": "1.5.0",
            "_view_count": null,
            "_view_module_version": "1.2.0",
            "_model_module": "@jupyter-widgets/controls"
          }
        },
        "31df6720458c4802b06765e11ef9c819": {
          "model_module": "@jupyter-widgets/base",
          "model_name": "LayoutModel",
          "state": {
            "_view_name": "LayoutView",
            "grid_template_rows": null,
            "right": null,
            "justify_content": null,
            "_view_module": "@jupyter-widgets/base",
            "overflow": null,
            "_model_module_version": "1.2.0",
            "_view_count": null,
            "flex_flow": null,
            "width": "100%",
            "min_width": null,
            "border": null,
            "align_items": null,
            "bottom": null,
            "_model_module": "@jupyter-widgets/base",
            "top": null,
            "grid_column": null,
            "overflow_y": null,
            "overflow_x": null,
            "grid_auto_flow": null,
            "grid_area": null,
            "grid_template_columns": null,
            "flex": null,
            "_model_name": "LayoutModel",
            "justify_items": null,
            "grid_row": null,
            "max_height": null,
            "align_content": null,
            "visibility": null,
            "align_self": null,
            "height": null,
            "min_height": null,
            "padding": null,
            "grid_auto_rows": null,
            "grid_gap": null,
            "max_width": null,
            "order": null,
            "_view_module_version": "1.2.0",
            "grid_template_areas": null,
            "object_position": null,
            "object_fit": null,
            "grid_auto_columns": null,
            "margin": null,
            "display": null,
            "left": null
          }
        },
        "538bb0a8e41b4607b1e7b3c6a7039b3b": {
          "model_module": "@jupyter-widgets/controls",
          "model_name": "IntProgressModel",
          "state": {
            "_view_name": "ProgressView",
            "style": "IPY_MODEL_af16e0402be544e6b0da7d8489bef9ec",
            "_dom_classes": [],
            "description": "Processing: ",
            "_model_name": "IntProgressModel",
            "bar_style": "",
            "max": 176,
            "_view_module": "@jupyter-widgets/controls",
            "_model_module_version": "1.5.0",
            "value": 172,
            "_view_count": null,
            "_view_module_version": "1.5.0",
            "orientation": "horizontal",
            "min": 0,
            "description_tooltip": null,
            "_model_module": "@jupyter-widgets/controls",
            "layout": "IPY_MODEL_820c3d53ca904c9fb3c722b72b8650d5"
          }
        },
        "af16e0402be544e6b0da7d8489bef9ec": {
          "model_module": "@jupyter-widgets/controls",
          "model_name": "ProgressStyleModel",
          "state": {
            "_view_name": "StyleView",
            "_model_name": "ProgressStyleModel",
            "description_width": "",
            "_view_module": "@jupyter-widgets/base",
            "_model_module_version": "1.5.0",
            "_view_count": null,
            "_view_module_version": "1.2.0",
            "bar_color": null,
            "_model_module": "@jupyter-widgets/controls"
          }
        },
        "820c3d53ca904c9fb3c722b72b8650d5": {
          "model_module": "@jupyter-widgets/base",
          "model_name": "LayoutModel",
          "state": {
            "_view_name": "LayoutView",
            "grid_template_rows": null,
            "right": null,
            "justify_content": null,
            "_view_module": "@jupyter-widgets/base",
            "overflow": null,
            "_model_module_version": "1.2.0",
            "_view_count": null,
            "flex_flow": null,
            "width": null,
            "min_width": null,
            "border": null,
            "align_items": null,
            "bottom": null,
            "_model_module": "@jupyter-widgets/base",
            "top": null,
            "grid_column": null,
            "overflow_y": null,
            "overflow_x": null,
            "grid_auto_flow": null,
            "grid_area": null,
            "grid_template_columns": null,
            "flex": null,
            "_model_name": "LayoutModel",
            "justify_items": null,
            "grid_row": null,
            "max_height": null,
            "align_content": null,
            "visibility": null,
            "align_self": null,
            "height": null,
            "min_height": null,
            "padding": null,
            "grid_auto_rows": null,
            "grid_gap": null,
            "max_width": null,
            "order": null,
            "_view_module_version": "1.2.0",
            "grid_template_areas": null,
            "object_position": null,
            "object_fit": null,
            "grid_auto_columns": null,
            "margin": null,
            "display": null,
            "left": null
          }
        },
        "71e8a1c08617449b91250bc164e68ce2": {
          "model_module": "@jupyter-widgets/controls",
          "model_name": "IntProgressModel",
          "state": {
            "_view_name": "ProgressView",
            "style": "IPY_MODEL_65a30d4c557d4f7286d69f6183b57adf",
            "_dom_classes": [],
            "description": "Processing: ",
            "_model_name": "IntProgressModel",
            "bar_style": "",
            "max": 13,
            "_view_module": "@jupyter-widgets/controls",
            "_model_module_version": "1.5.0",
            "value": 3,
            "_view_count": null,
            "_view_module_version": "1.5.0",
            "orientation": "horizontal",
            "min": 0,
            "description_tooltip": null,
            "_model_module": "@jupyter-widgets/controls",
            "layout": "IPY_MODEL_e95807e87411457eac9fa73e8a293134"
          }
        },
        "65a30d4c557d4f7286d69f6183b57adf": {
          "model_module": "@jupyter-widgets/controls",
          "model_name": "ProgressStyleModel",
          "state": {
            "_view_name": "StyleView",
            "_model_name": "ProgressStyleModel",
            "description_width": "",
            "_view_module": "@jupyter-widgets/base",
            "_model_module_version": "1.5.0",
            "_view_count": null,
            "_view_module_version": "1.2.0",
            "bar_color": null,
            "_model_module": "@jupyter-widgets/controls"
          }
        },
        "e95807e87411457eac9fa73e8a293134": {
          "model_module": "@jupyter-widgets/base",
          "model_name": "LayoutModel",
          "state": {
            "_view_name": "LayoutView",
            "grid_template_rows": null,
            "right": null,
            "justify_content": null,
            "_view_module": "@jupyter-widgets/base",
            "overflow": null,
            "_model_module_version": "1.2.0",
            "_view_count": null,
            "flex_flow": null,
            "width": null,
            "min_width": null,
            "border": null,
            "align_items": null,
            "bottom": null,
            "_model_module": "@jupyter-widgets/base",
            "top": null,
            "grid_column": null,
            "overflow_y": null,
            "overflow_x": null,
            "grid_auto_flow": null,
            "grid_area": null,
            "grid_template_columns": null,
            "flex": null,
            "_model_name": "LayoutModel",
            "justify_items": null,
            "grid_row": null,
            "max_height": null,
            "align_content": null,
            "visibility": null,
            "align_self": null,
            "height": null,
            "min_height": null,
            "padding": null,
            "grid_auto_rows": null,
            "grid_gap": null,
            "max_width": null,
            "order": null,
            "_view_module_version": "1.2.0",
            "grid_template_areas": null,
            "object_position": null,
            "object_fit": null,
            "grid_auto_columns": null,
            "margin": null,
            "display": null,
            "left": null
          }
        },
        "fc602285eb5842b8931ff899685e6793": {
          "model_module": "@jupyter-widgets/controls",
          "model_name": "TextModel",
          "state": {
            "_view_name": "TextView",
            "style": "IPY_MODEL_490b23e3af2d4959abf84c36b2aa8342",
            "_dom_classes": [],
            "description": "",
            "_model_name": "TextModel",
            "placeholder": "​",
            "_view_module": "@jupyter-widgets/controls",
            "_model_module_version": "1.5.0",
            "value": "Following data types have been inferred automatically, if they are correct press enter to continue or type 'quit' otherwise.",
            "_view_count": null,
            "disabled": false,
            "_view_module_version": "1.5.0",
            "continuous_update": true,
            "description_tooltip": null,
            "_model_module": "@jupyter-widgets/controls",
            "layout": "IPY_MODEL_ef7cb30e487e4a058ca9a3b2f35cc9fb"
          }
        },
        "490b23e3af2d4959abf84c36b2aa8342": {
          "model_module": "@jupyter-widgets/controls",
          "model_name": "DescriptionStyleModel",
          "state": {
            "_view_name": "StyleView",
            "_model_name": "DescriptionStyleModel",
            "description_width": "",
            "_view_module": "@jupyter-widgets/base",
            "_model_module_version": "1.5.0",
            "_view_count": null,
            "_view_module_version": "1.2.0",
            "_model_module": "@jupyter-widgets/controls"
          }
        },
        "ef7cb30e487e4a058ca9a3b2f35cc9fb": {
          "model_module": "@jupyter-widgets/base",
          "model_name": "LayoutModel",
          "state": {
            "_view_name": "LayoutView",
            "grid_template_rows": null,
            "right": null,
            "justify_content": null,
            "_view_module": "@jupyter-widgets/base",
            "overflow": null,
            "_model_module_version": "1.2.0",
            "_view_count": null,
            "flex_flow": null,
            "width": "100%",
            "min_width": null,
            "border": null,
            "align_items": null,
            "bottom": null,
            "_model_module": "@jupyter-widgets/base",
            "top": null,
            "grid_column": null,
            "overflow_y": null,
            "overflow_x": null,
            "grid_auto_flow": null,
            "grid_area": null,
            "grid_template_columns": null,
            "flex": null,
            "_model_name": "LayoutModel",
            "justify_items": null,
            "grid_row": null,
            "max_height": null,
            "align_content": null,
            "visibility": null,
            "align_self": null,
            "height": null,
            "min_height": null,
            "padding": null,
            "grid_auto_rows": null,
            "grid_gap": null,
            "max_width": null,
            "order": null,
            "_view_module_version": "1.2.0",
            "grid_template_areas": null,
            "object_position": null,
            "object_fit": null,
            "grid_auto_columns": null,
            "margin": null,
            "display": null,
            "left": null
          }
        },
        "faca6d12e482463b8b782fa55fe620c1": {
          "model_module": "@jupyter-widgets/controls",
          "model_name": "IntProgressModel",
          "state": {
            "_view_name": "ProgressView",
            "style": "IPY_MODEL_5700b7b9704c4989af474e4680c506a3",
            "_dom_classes": [],
            "description": "Processing: ",
            "_model_name": "IntProgressModel",
            "bar_style": "",
            "max": 13,
            "_view_module": "@jupyter-widgets/controls",
            "_model_module_version": "1.5.0",
            "value": 12,
            "_view_count": null,
            "_view_module_version": "1.5.0",
            "orientation": "horizontal",
            "min": 0,
            "description_tooltip": null,
            "_model_module": "@jupyter-widgets/controls",
            "layout": "IPY_MODEL_efd0922cb46e477cbecb0ad32e672d5d"
          }
        },
        "5700b7b9704c4989af474e4680c506a3": {
          "model_module": "@jupyter-widgets/controls",
          "model_name": "ProgressStyleModel",
          "state": {
            "_view_name": "StyleView",
            "_model_name": "ProgressStyleModel",
            "description_width": "",
            "_view_module": "@jupyter-widgets/base",
            "_model_module_version": "1.5.0",
            "_view_count": null,
            "_view_module_version": "1.2.0",
            "bar_color": null,
            "_model_module": "@jupyter-widgets/controls"
          }
        },
        "efd0922cb46e477cbecb0ad32e672d5d": {
          "model_module": "@jupyter-widgets/base",
          "model_name": "LayoutModel",
          "state": {
            "_view_name": "LayoutView",
            "grid_template_rows": null,
            "right": null,
            "justify_content": null,
            "_view_module": "@jupyter-widgets/base",
            "overflow": null,
            "_model_module_version": "1.2.0",
            "_view_count": null,
            "flex_flow": null,
            "width": null,
            "min_width": null,
            "border": null,
            "align_items": null,
            "bottom": null,
            "_model_module": "@jupyter-widgets/base",
            "top": null,
            "grid_column": null,
            "overflow_y": null,
            "overflow_x": null,
            "grid_auto_flow": null,
            "grid_area": null,
            "grid_template_columns": null,
            "flex": null,
            "_model_name": "LayoutModel",
            "justify_items": null,
            "grid_row": null,
            "max_height": null,
            "align_content": null,
            "visibility": null,
            "align_self": null,
            "height": null,
            "min_height": null,
            "padding": null,
            "grid_auto_rows": null,
            "grid_gap": null,
            "max_width": null,
            "order": null,
            "_view_module_version": "1.2.0",
            "grid_template_areas": null,
            "object_position": null,
            "object_fit": null,
            "grid_auto_columns": null,
            "margin": null,
            "display": null,
            "left": null
          }
        },
        "3c9dc967d879412aa3c28ad375d9cead": {
          "model_module": "@jupyter-widgets/controls",
          "model_name": "TextModel",
          "state": {
            "_view_name": "TextView",
            "style": "IPY_MODEL_bc8e815f537d4617962540264523e9b8",
            "_dom_classes": [],
            "description": "",
            "_model_name": "TextModel",
            "placeholder": "​",
            "_view_module": "@jupyter-widgets/controls",
            "_model_module_version": "1.5.0",
            "value": "Following data types have been inferred automatically, if they are correct press enter to continue or type 'quit' otherwise.",
            "_view_count": null,
            "disabled": false,
            "_view_module_version": "1.5.0",
            "continuous_update": true,
            "description_tooltip": null,
            "_model_module": "@jupyter-widgets/controls",
            "layout": "IPY_MODEL_07b0430824fe465c9e1f23c13a5d548b"
          }
        },
        "bc8e815f537d4617962540264523e9b8": {
          "model_module": "@jupyter-widgets/controls",
          "model_name": "DescriptionStyleModel",
          "state": {
            "_view_name": "StyleView",
            "_model_name": "DescriptionStyleModel",
            "description_width": "",
            "_view_module": "@jupyter-widgets/base",
            "_model_module_version": "1.5.0",
            "_view_count": null,
            "_view_module_version": "1.2.0",
            "_model_module": "@jupyter-widgets/controls"
          }
        },
        "07b0430824fe465c9e1f23c13a5d548b": {
          "model_module": "@jupyter-widgets/base",
          "model_name": "LayoutModel",
          "state": {
            "_view_name": "LayoutView",
            "grid_template_rows": null,
            "right": null,
            "justify_content": null,
            "_view_module": "@jupyter-widgets/base",
            "overflow": null,
            "_model_module_version": "1.2.0",
            "_view_count": null,
            "flex_flow": null,
            "width": "100%",
            "min_width": null,
            "border": null,
            "align_items": null,
            "bottom": null,
            "_model_module": "@jupyter-widgets/base",
            "top": null,
            "grid_column": null,
            "overflow_y": null,
            "overflow_x": null,
            "grid_auto_flow": null,
            "grid_area": null,
            "grid_template_columns": null,
            "flex": null,
            "_model_name": "LayoutModel",
            "justify_items": null,
            "grid_row": null,
            "max_height": null,
            "align_content": null,
            "visibility": null,
            "align_self": null,
            "height": null,
            "min_height": null,
            "padding": null,
            "grid_auto_rows": null,
            "grid_gap": null,
            "max_width": null,
            "order": null,
            "_view_module_version": "1.2.0",
            "grid_template_areas": null,
            "object_position": null,
            "object_fit": null,
            "grid_auto_columns": null,
            "margin": null,
            "display": null,
            "left": null
          }
        }
      }
    }
  },
  "cells": [
    {
      "cell_type": "code",
      "metadata": {
        "id": "kTgz9_iXA0jf",
        "outputId": "57b0d04b-45e8-456a-d9f5-876a21b1c472",
        "colab": {
          "base_uri": "https://localhost:8080/",
          "height": 1000
        }
      },
      "source": [
        "!pip install pycaret"
      ],
      "execution_count": 2,
      "outputs": [
        {
          "output_type": "stream",
          "text": [
            "Collecting pycaret\n",
            "\u001b[?25l  Downloading https://files.pythonhosted.org/packages/0c/76/d8cfa05d2a6f751f57dbb2d2dfe1e0b154aadebbc421432b9375339ad7db/pycaret-2.1.2-py3-none-any.whl (252kB)\n",
            "\u001b[K     |████████████████████████████████| 256kB 3.4MB/s \n",
            "\u001b[?25hCollecting yellowbrick>=1.0.1\n",
            "\u001b[?25l  Downloading https://files.pythonhosted.org/packages/1f/ad/ae6744ddb9c7053916bed95430152b9a41b7d410e16a1cc7cd744a611d90/yellowbrick-1.2-py3-none-any.whl (269kB)\n",
            "\u001b[K     |████████████████████████████████| 276kB 10.8MB/s \n",
            "\u001b[?25hRequirement already satisfied: nltk in /usr/local/lib/python3.6/dist-packages (from pycaret) (3.2.5)\n",
            "Requirement already satisfied: textblob in /usr/local/lib/python3.6/dist-packages (from pycaret) (0.15.3)\n",
            "Requirement already satisfied: matplotlib in /usr/local/lib/python3.6/dist-packages (from pycaret) (3.2.2)\n",
            "Requirement already satisfied: spacy in /usr/local/lib/python3.6/dist-packages (from pycaret) (2.2.4)\n",
            "Requirement already satisfied: gensim in /usr/local/lib/python3.6/dist-packages (from pycaret) (3.6.0)\n",
            "Collecting pyod\n",
            "\u001b[?25l  Downloading https://files.pythonhosted.org/packages/a3/4b/d2edd1e85b132d480feced17f044267b3e330391240779d78b1c3d378b24/pyod-0.8.3.tar.gz (96kB)\n",
            "\u001b[K     |████████████████████████████████| 102kB 8.1MB/s \n",
            "\u001b[?25hRequirement already satisfied: seaborn in /usr/local/lib/python3.6/dist-packages (from pycaret) (0.11.0)\n",
            "Requirement already satisfied: xgboost>=0.90 in /usr/local/lib/python3.6/dist-packages (from pycaret) (0.90)\n",
            "Collecting imbalanced-learn>=0.6.2\n",
            "\u001b[?25l  Downloading https://files.pythonhosted.org/packages/c8/81/8db4d87b03b998fda7c6f835d807c9ae4e3b141f978597b8d7f31600be15/imbalanced_learn-0.7.0-py3-none-any.whl (167kB)\n",
            "\u001b[K     |████████████████████████████████| 174kB 13.2MB/s \n",
            "\u001b[?25hCollecting kmodes>=0.10.1\n",
            "  Downloading https://files.pythonhosted.org/packages/b2/55/d8ec1ae1f7e1e202a8a4184c6852a3ee993b202b0459672c699d0ac18fc8/kmodes-0.10.2-py2.py3-none-any.whl\n",
            "Requirement already satisfied: pandas in /usr/local/lib/python3.6/dist-packages (from pycaret) (1.1.2)\n",
            "Requirement already satisfied: wordcloud in /usr/local/lib/python3.6/dist-packages (from pycaret) (1.5.0)\n",
            "Collecting catboost>=0.23.2\n",
            "\u001b[?25l  Downloading https://files.pythonhosted.org/packages/52/39/128fff65072c8327371e3c594f3c826d29c85b21cb6485980353b168e0e4/catboost-0.24.2-cp36-none-manylinux1_x86_64.whl (66.1MB)\n",
            "\u001b[K     |████████████████████████████████| 66.2MB 87kB/s \n",
            "\u001b[?25hCollecting lightgbm>=2.3.1\n",
            "\u001b[?25l  Downloading https://files.pythonhosted.org/packages/25/47/f8ef524e15ff86f5246cb4e1cee200b747ddb2536429fa021cc5f17ea40a/lightgbm-3.0.0-py2.py3-none-manylinux1_x86_64.whl (1.7MB)\n",
            "\u001b[K     |████████████████████████████████| 1.8MB 46.4MB/s \n",
            "\u001b[?25hCollecting pandas-profiling>=2.8.0\n",
            "\u001b[?25l  Downloading https://files.pythonhosted.org/packages/32/79/5d03ed1172e3e67a997a6a795bcdd2ab58f84851969d01a91455383795b6/pandas_profiling-2.9.0-py2.py3-none-any.whl (258kB)\n",
            "\u001b[K     |████████████████████████████████| 266kB 44.8MB/s \n",
            "\u001b[?25hCollecting mlflow\n",
            "\u001b[?25l  Downloading https://files.pythonhosted.org/packages/aa/2d/7fa1f6e310ded489d943ea20cd7977a9867cb8d81b526d9c9460ce4a5b39/mlflow-1.11.0-py3-none-any.whl (13.9MB)\n",
            "\u001b[K     |████████████████████████████████| 13.9MB 42.8MB/s \n",
            "\u001b[?25hRequirement already satisfied: ipywidgets in /usr/local/lib/python3.6/dist-packages (from pycaret) (7.5.1)\n",
            "Requirement already satisfied: joblib in /usr/local/lib/python3.6/dist-packages (from pycaret) (0.16.0)\n",
            "Requirement already satisfied: cufflinks>=0.17.0 in /usr/local/lib/python3.6/dist-packages (from pycaret) (0.17.3)\n",
            "Collecting pyLDAvis\n",
            "\u001b[?25l  Downloading https://files.pythonhosted.org/packages/a5/3a/af82e070a8a96e13217c8f362f9a73e82d61ac8fff3a2561946a97f96266/pyLDAvis-2.1.2.tar.gz (1.6MB)\n",
            "\u001b[K     |████████████████████████████████| 1.6MB 44.6MB/s \n",
            "\u001b[?25hCollecting datefinder>=0.7.0\n",
            "  Downloading https://files.pythonhosted.org/packages/0c/4f/29524c9ca35d2ba1a8a3c6c895b90fc92525cf0fe357f747133890953ebe/datefinder-0.7.1-py2.py3-none-any.whl\n",
            "Requirement already satisfied: IPython in /usr/local/lib/python3.6/dist-packages (from pycaret) (5.5.0)\n",
            "Requirement already satisfied: umap-learn in /usr/local/lib/python3.6/dist-packages (from pycaret) (0.4.6)\n",
            "Requirement already satisfied: numpy>=1.17 in /usr/local/lib/python3.6/dist-packages (from pycaret) (1.18.5)\n",
            "Requirement already satisfied: plotly>=4.4.1 in /usr/local/lib/python3.6/dist-packages (from pycaret) (4.4.1)\n",
            "Collecting scikit-learn>=0.23\n",
            "\u001b[?25l  Downloading https://files.pythonhosted.org/packages/5c/a1/273def87037a7fb010512bbc5901c31cfddfca8080bc63b42b26e3cc55b3/scikit_learn-0.23.2-cp36-cp36m-manylinux1_x86_64.whl (6.8MB)\n",
            "\u001b[K     |████████████████████████████████| 6.8MB 46.2MB/s \n",
            "\u001b[?25hRequirement already satisfied: mlxtend in /usr/local/lib/python3.6/dist-packages (from pycaret) (0.14.0)\n",
            "Requirement already satisfied: scipy>=1.0.0 in /usr/local/lib/python3.6/dist-packages (from yellowbrick>=1.0.1->pycaret) (1.4.1)\n",
            "Requirement already satisfied: cycler>=0.10.0 in /usr/local/lib/python3.6/dist-packages (from yellowbrick>=1.0.1->pycaret) (0.10.0)\n",
            "Requirement already satisfied: six in /usr/local/lib/python3.6/dist-packages (from nltk->pycaret) (1.15.0)\n",
            "Requirement already satisfied: kiwisolver>=1.0.1 in /usr/local/lib/python3.6/dist-packages (from matplotlib->pycaret) (1.2.0)\n",
            "Requirement already satisfied: pyparsing!=2.0.4,!=2.1.2,!=2.1.6,>=2.0.1 in /usr/local/lib/python3.6/dist-packages (from matplotlib->pycaret) (2.4.7)\n",
            "Requirement already satisfied: python-dateutil>=2.1 in /usr/local/lib/python3.6/dist-packages (from matplotlib->pycaret) (2.8.1)\n",
            "Requirement already satisfied: cymem<2.1.0,>=2.0.2 in /usr/local/lib/python3.6/dist-packages (from spacy->pycaret) (2.0.3)\n",
            "Requirement already satisfied: tqdm<5.0.0,>=4.38.0 in /usr/local/lib/python3.6/dist-packages (from spacy->pycaret) (4.41.1)\n",
            "Requirement already satisfied: wasabi<1.1.0,>=0.4.0 in /usr/local/lib/python3.6/dist-packages (from spacy->pycaret) (0.8.0)\n",
            "Requirement already satisfied: preshed<3.1.0,>=3.0.2 in /usr/local/lib/python3.6/dist-packages (from spacy->pycaret) (3.0.2)\n",
            "Requirement already satisfied: requests<3.0.0,>=2.13.0 in /usr/local/lib/python3.6/dist-packages (from spacy->pycaret) (2.23.0)\n",
            "Requirement already satisfied: plac<1.2.0,>=0.9.6 in /usr/local/lib/python3.6/dist-packages (from spacy->pycaret) (1.1.3)\n",
            "Requirement already satisfied: blis<0.5.0,>=0.4.0 in /usr/local/lib/python3.6/dist-packages (from spacy->pycaret) (0.4.1)\n",
            "Requirement already satisfied: catalogue<1.1.0,>=0.0.7 in /usr/local/lib/python3.6/dist-packages (from spacy->pycaret) (1.0.0)\n",
            "Requirement already satisfied: srsly<1.1.0,>=1.0.2 in /usr/local/lib/python3.6/dist-packages (from spacy->pycaret) (1.0.2)\n",
            "Requirement already satisfied: murmurhash<1.1.0,>=0.28.0 in /usr/local/lib/python3.6/dist-packages (from spacy->pycaret) (1.0.2)\n",
            "Requirement already satisfied: setuptools in /usr/local/lib/python3.6/dist-packages (from spacy->pycaret) (50.3.0)\n",
            "Requirement already satisfied: thinc==7.4.0 in /usr/local/lib/python3.6/dist-packages (from spacy->pycaret) (7.4.0)\n",
            "Requirement already satisfied: smart-open>=1.2.1 in /usr/local/lib/python3.6/dist-packages (from gensim->pycaret) (2.2.0)\n",
            "Collecting combo\n",
            "  Downloading https://files.pythonhosted.org/packages/0a/2a/61b6ac584e75d8df16dc27962aa5fe99d76b09da5b6710e83d4862c84001/combo-0.1.1.tar.gz\n",
            "Requirement already satisfied: numba>=0.35 in /usr/local/lib/python3.6/dist-packages (from pyod->pycaret) (0.48.0)\n",
            "Requirement already satisfied: statsmodels in /usr/local/lib/python3.6/dist-packages (from pyod->pycaret) (0.10.2)\n",
            "Collecting suod\n",
            "\u001b[?25l  Downloading https://files.pythonhosted.org/packages/a1/87/9170cabe1b5e10a7d095c0e28f2e30e7c1886a13f063de85d3cfacc06f4b/suod-0.0.4.tar.gz (2.1MB)\n",
            "\u001b[K     |████████████████████████████████| 2.1MB 34.2MB/s \n",
            "\u001b[?25hRequirement already satisfied: pytz>=2017.2 in /usr/local/lib/python3.6/dist-packages (from pandas->pycaret) (2018.9)\n",
            "Requirement already satisfied: pillow in /usr/local/lib/python3.6/dist-packages (from wordcloud->pycaret) (7.0.0)\n",
            "Requirement already satisfied: graphviz in /usr/local/lib/python3.6/dist-packages (from catboost>=0.23.2->pycaret) (0.10.1)\n",
            "Collecting confuse>=1.0.0\n",
            "\u001b[?25l  Downloading https://files.pythonhosted.org/packages/b5/6d/bedc0d1068bd244cee05843313cbec6cebb9f01f925538269bababc6d887/confuse-1.3.0-py2.py3-none-any.whl (64kB)\n",
            "\u001b[K     |████████████████████████████████| 71kB 7.9MB/s \n",
            "\u001b[?25hRequirement already satisfied: jinja2>=2.11.1 in /usr/local/lib/python3.6/dist-packages (from pandas-profiling>=2.8.0->pycaret) (2.11.2)\n",
            "Collecting tangled-up-in-unicode>=0.0.6\n",
            "\u001b[?25l  Downloading https://files.pythonhosted.org/packages/4a/e2/e588ab9298d4989ce7fdb2b97d18aac878d99dbdc379a4476a09d9271b68/tangled_up_in_unicode-0.0.6-py3-none-any.whl (3.1MB)\n",
            "\u001b[K     |████████████████████████████████| 3.1MB 39.8MB/s \n",
            "\u001b[?25hCollecting visions[type_image_path]==0.5.0\n",
            "\u001b[?25l  Downloading https://files.pythonhosted.org/packages/26/e3/9416e94e767d59a86edcbcb8e1c8f42874d272c3b343676074879e9db0e0/visions-0.5.0-py3-none-any.whl (64kB)\n",
            "\u001b[K     |████████████████████████████████| 71kB 5.7MB/s \n",
            "\u001b[?25hRequirement already satisfied: attrs>=19.3.0 in /usr/local/lib/python3.6/dist-packages (from pandas-profiling>=2.8.0->pycaret) (20.2.0)\n",
            "Collecting phik>=0.9.10\n",
            "\u001b[?25l  Downloading https://files.pythonhosted.org/packages/01/5a/7ef1c04ce62cd72f900c06298dc2385840550d5c653a0dbc19109a5477e6/phik-0.10.0-py3-none-any.whl (599kB)\n",
            "\u001b[K     |████████████████████████████████| 604kB 40.8MB/s \n",
            "\u001b[?25hRequirement already satisfied: missingno>=0.4.2 in /usr/local/lib/python3.6/dist-packages (from pandas-profiling>=2.8.0->pycaret) (0.4.2)\n",
            "Collecting htmlmin>=0.1.12\n",
            "  Downloading https://files.pythonhosted.org/packages/b3/e7/fcd59e12169de19f0131ff2812077f964c6b960e7c09804d30a7bf2ab461/htmlmin-0.1.12.tar.gz\n",
            "Collecting databricks-cli>=0.8.7\n",
            "\u001b[?25l  Downloading https://files.pythonhosted.org/packages/bb/55/93927d225236d6936f6a818667a2bafb649b6cba784f579360ae2a12e77b/databricks-cli-0.12.2.tar.gz (55kB)\n",
            "\u001b[K     |████████████████████████████████| 61kB 7.4MB/s \n",
            "\u001b[?25hRequirement already satisfied: click>=7.0 in /usr/local/lib/python3.6/dist-packages (from mlflow->pycaret) (7.1.2)\n",
            "Collecting sqlalchemy<=1.3.13\n",
            "\u001b[?25l  Downloading https://files.pythonhosted.org/packages/af/47/35edeb0f86c0b44934c05d961c893e223ef27e79e1f53b5e6f14820ff553/SQLAlchemy-1.3.13.tar.gz (6.0MB)\n",
            "\u001b[K     |████████████████████████████████| 6.0MB 44.2MB/s \n",
            "\u001b[?25hCollecting gunicorn; platform_system != \"Windows\"\n",
            "\u001b[?25l  Downloading https://files.pythonhosted.org/packages/69/ca/926f7cd3a2014b16870086b2d0fdc84a9e49473c68a8dff8b57f7c156f43/gunicorn-20.0.4-py2.py3-none-any.whl (77kB)\n",
            "\u001b[K     |████████████████████████████████| 81kB 9.0MB/s \n",
            "\u001b[?25hRequirement already satisfied: sqlparse in /usr/local/lib/python3.6/dist-packages (from mlflow->pycaret) (0.3.1)\n",
            "Requirement already satisfied: protobuf>=3.6.0 in /usr/local/lib/python3.6/dist-packages (from mlflow->pycaret) (3.12.4)\n",
            "Requirement already satisfied: entrypoints in /usr/local/lib/python3.6/dist-packages (from mlflow->pycaret) (0.3)\n",
            "Requirement already satisfied: cloudpickle in /usr/local/lib/python3.6/dist-packages (from mlflow->pycaret) (1.3.0)\n",
            "Collecting gitpython>=2.1.0\n",
            "\u001b[?25l  Downloading https://files.pythonhosted.org/packages/c0/d7/b2b0672e0331567157adf9281f41ee731c412ee518ca5e6552c27fa73c91/GitPython-3.1.9-py3-none-any.whl (159kB)\n",
            "\u001b[K     |████████████████████████████████| 163kB 51.0MB/s \n",
            "\u001b[?25hCollecting prometheus-flask-exporter\n",
            "  Downloading https://files.pythonhosted.org/packages/4c/d5/8a046d683c2cc084b6a502812827ede69b1064f95d93f94b83f809b21723/prometheus_flask_exporter-0.18.1.tar.gz\n",
            "Collecting azure-storage-blob>=12.0\n",
            "\u001b[?25l  Downloading https://files.pythonhosted.org/packages/b8/84/7e51b3e1156bcb89a20b9ec641d4fced4800aa79daac3a403898c32046be/azure_storage_blob-12.5.0-py2.py3-none-any.whl (326kB)\n",
            "\u001b[K     |████████████████████████████████| 327kB 45.8MB/s \n",
            "\u001b[?25hCollecting querystring-parser\n",
            "  Downloading https://files.pythonhosted.org/packages/4a/fa/f54f5662e0eababf0c49e92fd94bf178888562c0e7b677c8941bbbcd1bd6/querystring_parser-1.2.4.tar.gz\n",
            "Collecting alembic<=1.4.1\n",
            "\u001b[?25l  Downloading https://files.pythonhosted.org/packages/e0/e9/359dbb77c35c419df0aedeb1d53e71e7e3f438ff64a8fdb048c907404de3/alembic-1.4.1.tar.gz (1.1MB)\n",
            "\u001b[K     |████████████████████████████████| 1.1MB 31.2MB/s \n",
            "\u001b[?25hCollecting gorilla\n",
            "  Downloading https://files.pythonhosted.org/packages/e3/56/5a683944cbfc77e429c6f03c636ca50504a785f60ffae91ddd7f5f7bb520/gorilla-0.3.0-py2.py3-none-any.whl\n",
            "Requirement already satisfied: pyyaml in /usr/local/lib/python3.6/dist-packages (from mlflow->pycaret) (3.13)\n",
            "Requirement already satisfied: Flask in /usr/local/lib/python3.6/dist-packages (from mlflow->pycaret) (1.1.2)\n",
            "Collecting docker>=4.0.0\n",
            "\u001b[?25l  Downloading https://files.pythonhosted.org/packages/9e/8c/8d42dbd83679483db207535f4fb02dc84325fa78b290f057694b057fcd21/docker-4.3.1-py2.py3-none-any.whl (145kB)\n",
            "\u001b[K     |████████████████████████████████| 153kB 47.1MB/s \n",
            "\u001b[?25hRequirement already satisfied: nbformat>=4.2.0 in /usr/local/lib/python3.6/dist-packages (from ipywidgets->pycaret) (5.0.7)\n",
            "Requirement already satisfied: ipykernel>=4.5.1 in /usr/local/lib/python3.6/dist-packages (from ipywidgets->pycaret) (4.10.1)\n",
            "Requirement already satisfied: traitlets>=4.3.1 in /usr/local/lib/python3.6/dist-packages (from ipywidgets->pycaret) (4.3.3)\n",
            "Requirement already satisfied: widgetsnbextension~=3.5.0 in /usr/local/lib/python3.6/dist-packages (from ipywidgets->pycaret) (3.5.1)\n",
            "Requirement already satisfied: colorlover>=0.2.1 in /usr/local/lib/python3.6/dist-packages (from cufflinks>=0.17.0->pycaret) (0.3.0)\n",
            "Requirement already satisfied: wheel>=0.23.0 in /usr/local/lib/python3.6/dist-packages (from pyLDAvis->pycaret) (0.35.1)\n",
            "Requirement already satisfied: numexpr in /usr/local/lib/python3.6/dist-packages (from pyLDAvis->pycaret) (2.7.1)\n",
            "Requirement already satisfied: pytest in /usr/local/lib/python3.6/dist-packages (from pyLDAvis->pycaret) (3.6.4)\n",
            "Requirement already satisfied: future in /usr/local/lib/python3.6/dist-packages (from pyLDAvis->pycaret) (0.16.0)\n",
            "Collecting funcy\n",
            "  Downloading https://files.pythonhosted.org/packages/66/89/479de0afbbfb98d1c4b887936808764627300208bb771fcd823403645a36/funcy-1.15-py2.py3-none-any.whl\n",
            "Requirement already satisfied: regex>=2017.02.08 in /usr/local/lib/python3.6/dist-packages (from datefinder>=0.7.0->pycaret) (2019.12.20)\n",
            "Requirement already satisfied: pexpect; sys_platform != \"win32\" in /usr/local/lib/python3.6/dist-packages (from IPython->pycaret) (4.8.0)\n",
            "Requirement already satisfied: decorator in /usr/local/lib/python3.6/dist-packages (from IPython->pycaret) (4.4.2)\n",
            "Requirement already satisfied: simplegeneric>0.8 in /usr/local/lib/python3.6/dist-packages (from IPython->pycaret) (0.8.1)\n",
            "Requirement already satisfied: pygments in /usr/local/lib/python3.6/dist-packages (from IPython->pycaret) (2.6.1)\n",
            "Requirement already satisfied: prompt-toolkit<2.0.0,>=1.0.4 in /usr/local/lib/python3.6/dist-packages (from IPython->pycaret) (1.0.18)\n",
            "Requirement already satisfied: pickleshare in /usr/local/lib/python3.6/dist-packages (from IPython->pycaret) (0.7.5)\n",
            "Requirement already satisfied: retrying>=1.3.3 in /usr/local/lib/python3.6/dist-packages (from plotly>=4.4.1->pycaret) (1.3.3)\n",
            "Collecting threadpoolctl>=2.0.0\n",
            "  Downloading https://files.pythonhosted.org/packages/f7/12/ec3f2e203afa394a149911729357aa48affc59c20e2c1c8297a60f33f133/threadpoolctl-2.1.0-py3-none-any.whl\n",
            "Requirement already satisfied: idna<3,>=2.5 in /usr/local/lib/python3.6/dist-packages (from requests<3.0.0,>=2.13.0->spacy->pycaret) (2.10)\n",
            "Requirement already satisfied: certifi>=2017.4.17 in /usr/local/lib/python3.6/dist-packages (from requests<3.0.0,>=2.13.0->spacy->pycaret) (2020.6.20)\n",
            "Requirement already satisfied: chardet<4,>=3.0.2 in /usr/local/lib/python3.6/dist-packages (from requests<3.0.0,>=2.13.0->spacy->pycaret) (3.0.4)\n",
            "Requirement already satisfied: urllib3!=1.25.0,!=1.25.1,<1.26,>=1.21.1 in /usr/local/lib/python3.6/dist-packages (from requests<3.0.0,>=2.13.0->spacy->pycaret) (1.24.3)\n",
            "Requirement already satisfied: importlib-metadata>=0.20; python_version < \"3.8\" in /usr/local/lib/python3.6/dist-packages (from catalogue<1.1.0,>=0.0.7->spacy->pycaret) (2.0.0)\n",
            "Requirement already satisfied: llvmlite<0.32.0,>=0.31.0dev0 in /usr/local/lib/python3.6/dist-packages (from numba>=0.35->pyod->pycaret) (0.31.0)\n",
            "Requirement already satisfied: patsy>=0.4.0 in /usr/local/lib/python3.6/dist-packages (from statsmodels->pyod->pycaret) (0.5.1)\n",
            "Requirement already satisfied: MarkupSafe>=0.23 in /usr/local/lib/python3.6/dist-packages (from jinja2>=2.11.1->pandas-profiling>=2.8.0->pycaret) (1.1.1)\n",
            "Requirement already satisfied: networkx>=2.4 in /usr/local/lib/python3.6/dist-packages (from visions[type_image_path]==0.5.0->pandas-profiling>=2.8.0->pycaret) (2.5)\n",
            "Collecting imagehash; extra == \"type_image_path\"\n",
            "\u001b[?25l  Downloading https://files.pythonhosted.org/packages/1a/5d/cc81830be3c4705a46cdbca74439b67f1017881383ba0127c41c4cecb7b3/ImageHash-4.1.0.tar.gz (291kB)\n",
            "\u001b[K     |████████████████████████████████| 296kB 45.1MB/s \n",
            "\u001b[?25hRequirement already satisfied: tabulate>=0.7.7 in /usr/local/lib/python3.6/dist-packages (from databricks-cli>=0.8.7->mlflow->pycaret) (0.8.7)\n",
            "Collecting tenacity>=6.2.0\n",
            "  Downloading https://files.pythonhosted.org/packages/b5/05/ff089032442058bd3386f9cd991cd88ccac81dca1494d78751621ee35e62/tenacity-6.2.0-py2.py3-none-any.whl\n",
            "Collecting gitdb<5,>=4.0.1\n",
            "\u001b[?25l  Downloading https://files.pythonhosted.org/packages/48/11/d1800bca0a3bae820b84b7d813ad1eff15a48a64caea9c823fc8c1b119e8/gitdb-4.0.5-py3-none-any.whl (63kB)\n",
            "\u001b[K     |████████████████████████████████| 71kB 8.3MB/s \n",
            "\u001b[?25hRequirement already satisfied: prometheus_client in /usr/local/lib/python3.6/dist-packages (from prometheus-flask-exporter->mlflow->pycaret) (0.8.0)\n",
            "Collecting cryptography>=2.1.4\n",
            "\u001b[?25l  Downloading https://files.pythonhosted.org/packages/33/62/30f6936941d87a5ed72efb24249437824f6b2c953901245b58c91fde2f27/cryptography-3.1.1-cp35-abi3-manylinux2010_x86_64.whl (2.6MB)\n",
            "\u001b[K     |████████████████████████████████| 2.6MB 42.6MB/s \n",
            "\u001b[?25hCollecting azure-core<2.0.0,>=1.6.0\n",
            "\u001b[?25l  Downloading https://files.pythonhosted.org/packages/4c/fa/46974f4a7ad78b27e3eda8a573cc0c2508849f0d7d360b61c07cc5b46014/azure_core-1.8.2-py2.py3-none-any.whl (122kB)\n",
            "\u001b[K     |████████████████████████████████| 122kB 41.8MB/s \n",
            "\u001b[?25hCollecting msrest>=0.6.10\n",
            "\u001b[?25l  Downloading https://files.pythonhosted.org/packages/fa/f5/9e315fe8cb985b0ce052b34bcb767883dc739f46fadb62f05a7e6d6eedbe/msrest-0.6.19-py2.py3-none-any.whl (84kB)\n",
            "\u001b[K     |████████████████████████████████| 92kB 9.1MB/s \n",
            "\u001b[?25hCollecting Mako\n",
            "\u001b[?25l  Downloading https://files.pythonhosted.org/packages/a6/37/0e706200d22172eb8fa17d68a7ae22dec7631a0a92266634fb518a88a5b2/Mako-1.1.3-py2.py3-none-any.whl (75kB)\n",
            "\u001b[K     |████████████████████████████████| 81kB 8.3MB/s \n",
            "\u001b[?25hCollecting python-editor>=0.3\n",
            "  Downloading https://files.pythonhosted.org/packages/c6/d3/201fc3abe391bbae6606e6f1d598c15d367033332bd54352b12f35513717/python_editor-1.0.4-py3-none-any.whl\n",
            "Requirement already satisfied: Werkzeug>=0.15 in /usr/local/lib/python3.6/dist-packages (from Flask->mlflow->pycaret) (1.0.1)\n",
            "Requirement already satisfied: itsdangerous>=0.24 in /usr/local/lib/python3.6/dist-packages (from Flask->mlflow->pycaret) (1.1.0)\n",
            "Collecting websocket-client>=0.32.0\n",
            "\u001b[?25l  Downloading https://files.pythonhosted.org/packages/4c/5f/f61b420143ed1c8dc69f9eaec5ff1ac36109d52c80de49d66e0c36c3dfdf/websocket_client-0.57.0-py2.py3-none-any.whl (200kB)\n",
            "\u001b[K     |████████████████████████████████| 204kB 50.3MB/s \n",
            "\u001b[?25hRequirement already satisfied: jupyter-core in /usr/local/lib/python3.6/dist-packages (from nbformat>=4.2.0->ipywidgets->pycaret) (4.6.3)\n",
            "Requirement already satisfied: ipython-genutils in /usr/local/lib/python3.6/dist-packages (from nbformat>=4.2.0->ipywidgets->pycaret) (0.2.0)\n",
            "Requirement already satisfied: jsonschema!=2.5.0,>=2.4 in /usr/local/lib/python3.6/dist-packages (from nbformat>=4.2.0->ipywidgets->pycaret) (2.6.0)\n",
            "Requirement already satisfied: tornado>=4.0 in /usr/local/lib/python3.6/dist-packages (from ipykernel>=4.5.1->ipywidgets->pycaret) (5.1.1)\n",
            "Requirement already satisfied: jupyter-client in /usr/local/lib/python3.6/dist-packages (from ipykernel>=4.5.1->ipywidgets->pycaret) (5.3.5)\n",
            "Requirement already satisfied: notebook>=4.4.1 in /usr/local/lib/python3.6/dist-packages (from widgetsnbextension~=3.5.0->ipywidgets->pycaret) (5.3.1)\n",
            "Requirement already satisfied: py>=1.5.0 in /usr/local/lib/python3.6/dist-packages (from pytest->pyLDAvis->pycaret) (1.9.0)\n",
            "Requirement already satisfied: more-itertools>=4.0.0 in /usr/local/lib/python3.6/dist-packages (from pytest->pyLDAvis->pycaret) (8.5.0)\n",
            "Requirement already satisfied: atomicwrites>=1.0 in /usr/local/lib/python3.6/dist-packages (from pytest->pyLDAvis->pycaret) (1.4.0)\n",
            "Requirement already satisfied: pluggy<0.8,>=0.5 in /usr/local/lib/python3.6/dist-packages (from pytest->pyLDAvis->pycaret) (0.7.1)\n",
            "Requirement already satisfied: ptyprocess>=0.5 in /usr/local/lib/python3.6/dist-packages (from pexpect; sys_platform != \"win32\"->IPython->pycaret) (0.6.0)\n",
            "Requirement already satisfied: wcwidth in /usr/local/lib/python3.6/dist-packages (from prompt-toolkit<2.0.0,>=1.0.4->IPython->pycaret) (0.2.5)\n",
            "Requirement already satisfied: zipp>=0.5 in /usr/local/lib/python3.6/dist-packages (from importlib-metadata>=0.20; python_version < \"3.8\"->catalogue<1.1.0,>=0.0.7->spacy->pycaret) (3.2.0)\n",
            "Requirement already satisfied: PyWavelets in /usr/local/lib/python3.6/dist-packages (from imagehash; extra == \"type_image_path\"->visions[type_image_path]==0.5.0->pandas-profiling>=2.8.0->pycaret) (1.1.1)\n",
            "Collecting smmap<4,>=3.0.1\n",
            "  Downloading https://files.pythonhosted.org/packages/b0/9a/4d409a6234eb940e6a78dfdfc66156e7522262f5f2fecca07dc55915952d/smmap-3.0.4-py2.py3-none-any.whl\n",
            "Requirement already satisfied: cffi!=1.11.3,>=1.8 in /usr/local/lib/python3.6/dist-packages (from cryptography>=2.1.4->azure-storage-blob>=12.0->mlflow->pycaret) (1.14.3)\n",
            "Requirement already satisfied: requests-oauthlib>=0.5.0 in /usr/local/lib/python3.6/dist-packages (from msrest>=0.6.10->azure-storage-blob>=12.0->mlflow->pycaret) (1.3.0)\n",
            "Collecting isodate>=0.6.0\n",
            "\u001b[?25l  Downloading https://files.pythonhosted.org/packages/9b/9f/b36f7774ff5ea8e428fdcfc4bb332c39ee5b9362ddd3d40d9516a55221b2/isodate-0.6.0-py2.py3-none-any.whl (45kB)\n",
            "\u001b[K     |████████████████████████████████| 51kB 5.7MB/s \n",
            "\u001b[?25hRequirement already satisfied: pyzmq>=13 in /usr/local/lib/python3.6/dist-packages (from jupyter-client->ipykernel>=4.5.1->ipywidgets->pycaret) (19.0.2)\n",
            "Requirement already satisfied: terminado>=0.8.1 in /usr/local/lib/python3.6/dist-packages (from notebook>=4.4.1->widgetsnbextension~=3.5.0->ipywidgets->pycaret) (0.9.1)\n",
            "Requirement already satisfied: nbconvert in /usr/local/lib/python3.6/dist-packages (from notebook>=4.4.1->widgetsnbextension~=3.5.0->ipywidgets->pycaret) (5.6.1)\n",
            "Requirement already satisfied: Send2Trash in /usr/local/lib/python3.6/dist-packages (from notebook>=4.4.1->widgetsnbextension~=3.5.0->ipywidgets->pycaret) (1.5.0)\n",
            "Requirement already satisfied: pycparser in /usr/local/lib/python3.6/dist-packages (from cffi!=1.11.3,>=1.8->cryptography>=2.1.4->azure-storage-blob>=12.0->mlflow->pycaret) (2.20)\n",
            "Requirement already satisfied: oauthlib>=3.0.0 in /usr/local/lib/python3.6/dist-packages (from requests-oauthlib>=0.5.0->msrest>=0.6.10->azure-storage-blob>=12.0->mlflow->pycaret) (3.1.0)\n",
            "Requirement already satisfied: testpath in /usr/local/lib/python3.6/dist-packages (from nbconvert->notebook>=4.4.1->widgetsnbextension~=3.5.0->ipywidgets->pycaret) (0.4.4)\n",
            "Requirement already satisfied: defusedxml in /usr/local/lib/python3.6/dist-packages (from nbconvert->notebook>=4.4.1->widgetsnbextension~=3.5.0->ipywidgets->pycaret) (0.6.0)\n",
            "Requirement already satisfied: mistune<2,>=0.8.1 in /usr/local/lib/python3.6/dist-packages (from nbconvert->notebook>=4.4.1->widgetsnbextension~=3.5.0->ipywidgets->pycaret) (0.8.4)\n",
            "Requirement already satisfied: bleach in /usr/local/lib/python3.6/dist-packages (from nbconvert->notebook>=4.4.1->widgetsnbextension~=3.5.0->ipywidgets->pycaret) (3.2.1)\n",
            "Requirement already satisfied: pandocfilters>=1.4.1 in /usr/local/lib/python3.6/dist-packages (from nbconvert->notebook>=4.4.1->widgetsnbextension~=3.5.0->ipywidgets->pycaret) (1.4.2)\n",
            "Requirement already satisfied: packaging in /usr/local/lib/python3.6/dist-packages (from bleach->nbconvert->notebook>=4.4.1->widgetsnbextension~=3.5.0->ipywidgets->pycaret) (20.4)\n",
            "Requirement already satisfied: webencodings in /usr/local/lib/python3.6/dist-packages (from bleach->nbconvert->notebook>=4.4.1->widgetsnbextension~=3.5.0->ipywidgets->pycaret) (0.5.1)\n",
            "Building wheels for collected packages: pyod, pyLDAvis, combo, suod, htmlmin, databricks-cli, sqlalchemy, prometheus-flask-exporter, querystring-parser, alembic, imagehash\n",
            "  Building wheel for pyod (setup.py) ... \u001b[?25l\u001b[?25hdone\n",
            "  Created wheel for pyod: filename=pyod-0.8.3-cp36-none-any.whl size=110349 sha256=7e4be1ad9cf96bca7ca99ae235d5bdb68b2b9d5afa259bdc14cd0d11332ff58b\n",
            "  Stored in directory: /root/.cache/pip/wheels/29/46/95/86facd235cce1d58ae6747ab1aea2b3742564325a66a60863a\n",
            "  Building wheel for pyLDAvis (setup.py) ... \u001b[?25l\u001b[?25hdone\n",
            "  Created wheel for pyLDAvis: filename=pyLDAvis-2.1.2-py2.py3-none-any.whl size=97712 sha256=defa4b047892040b16494566107f43b94fda0c36a6cba8c9323f216bfcbed452\n",
            "  Stored in directory: /root/.cache/pip/wheels/98/71/24/513a99e58bb6b8465bae4d2d5e9dba8f0bef8179e3051ac414\n",
            "  Building wheel for combo (setup.py) ... \u001b[?25l\u001b[?25hdone\n",
            "  Created wheel for combo: filename=combo-0.1.1-cp36-none-any.whl size=42113 sha256=5b54ca7c40d74ccfd1c861a56dca38c5d8a7b74315de2091302a67323a5b31ce\n",
            "  Stored in directory: /root/.cache/pip/wheels/55/ec/e5/a2331372c676c467e70c6646e646edf6997d5c4905b8c0f5e6\n",
            "  Building wheel for suod (setup.py) ... \u001b[?25l\u001b[?25hdone\n",
            "  Created wheel for suod: filename=suod-0.0.4-cp36-none-any.whl size=2167158 sha256=6ea244bfb089c12c94a980041ea3e704b00da1ab32315334cab142e8f4f37b05\n",
            "  Stored in directory: /root/.cache/pip/wheels/57/55/e5/a4fca65bba231f6d0115059b589148774b41faea25b3f2aa27\n",
            "  Building wheel for htmlmin (setup.py) ... \u001b[?25l\u001b[?25hdone\n",
            "  Created wheel for htmlmin: filename=htmlmin-0.1.12-cp36-none-any.whl size=27085 sha256=74fce1a849d53798493c481473b7e95bebde75e2b7ba147fb8ca6a998c1294c0\n",
            "  Stored in directory: /root/.cache/pip/wheels/43/07/ac/7c5a9d708d65247ac1f94066cf1db075540b85716c30255459\n",
            "  Building wheel for databricks-cli (setup.py) ... \u001b[?25l\u001b[?25hdone\n",
            "  Created wheel for databricks-cli: filename=databricks_cli-0.12.2-cp36-none-any.whl size=101167 sha256=62479f50c69526b97cf46f704bfa5a5946d7b5b98d82c66a9afcd2ae31bcedfd\n",
            "  Stored in directory: /root/.cache/pip/wheels/21/b1/90/ffec5dfcc04dcdeb91a2132c3c74404f33792f15d79a63bcfd\n",
            "  Building wheel for sqlalchemy (setup.py) ... \u001b[?25l\u001b[?25hdone\n",
            "  Created wheel for sqlalchemy: filename=SQLAlchemy-1.3.13-cp36-cp36m-linux_x86_64.whl size=1217148 sha256=804a32a3a78810cc6fee6e0d404daede6b109f0646dd09405166db1a28b4005c\n",
            "  Stored in directory: /root/.cache/pip/wheels/b3/35/98/4c9cb3fd63d21d5606b972dd70643769745adf60e622467b71\n",
            "  Building wheel for prometheus-flask-exporter (setup.py) ... \u001b[?25l\u001b[?25hdone\n",
            "  Created wheel for prometheus-flask-exporter: filename=prometheus_flask_exporter-0.18.1-cp36-none-any.whl size=17157 sha256=de568425affb3de8c4164725cca6717b13593d45296e16d0e5782a28057ce59c\n",
            "  Stored in directory: /root/.cache/pip/wheels/b4/1f/b8/66bd9bc3a9d6c6987ff6c4dfeb6f1fe97b5a0e5ed5849c0437\n",
            "  Building wheel for querystring-parser (setup.py) ... \u001b[?25l\u001b[?25hdone\n",
            "  Created wheel for querystring-parser: filename=querystring_parser-1.2.4-cp36-none-any.whl size=7078 sha256=fbc096f4e768b092fa209be72a79f6368238f447e6c81461d88563fb006fa05d\n",
            "  Stored in directory: /root/.cache/pip/wheels/1e/41/34/23ebf5d1089a9aed847951e0ee375426eb4ad0a7079d88d41e\n",
            "  Building wheel for alembic (setup.py) ... \u001b[?25l\u001b[?25hdone\n",
            "  Created wheel for alembic: filename=alembic-1.4.1-py2.py3-none-any.whl size=158155 sha256=8f0510d9e7bfb31ac9fdb6540d80e770a75a1151e20200f74b3dc3350fe8db54\n",
            "  Stored in directory: /root/.cache/pip/wheels/84/07/f7/12f7370ca47a66030c2edeedcc23dec26ea0ac22dcb4c4a0f3\n",
            "  Building wheel for imagehash (setup.py) ... \u001b[?25l\u001b[?25hdone\n",
            "  Created wheel for imagehash: filename=ImageHash-4.1.0-py2.py3-none-any.whl size=291991 sha256=5bf7d74d1dd35d612d08283c5cda10ef8f83d7a43e80826f653fa07855382d7d\n",
            "  Stored in directory: /root/.cache/pip/wheels/07/1c/dc/6831446f09feb8cc199ec73a0f2f0703253f6ae013a22f4be9\n",
            "Successfully built pyod pyLDAvis combo suod htmlmin databricks-cli sqlalchemy prometheus-flask-exporter querystring-parser alembic imagehash\n",
            "\u001b[31mERROR: pandas-profiling 2.9.0 has requirement tqdm>=4.43.0, but you'll have tqdm 4.41.1 which is incompatible.\u001b[0m\n",
            "Installing collected packages: threadpoolctl, scikit-learn, yellowbrick, combo, suod, pyod, imbalanced-learn, kmodes, catboost, lightgbm, confuse, tangled-up-in-unicode, imagehash, visions, phik, htmlmin, pandas-profiling, tenacity, databricks-cli, sqlalchemy, gunicorn, smmap, gitdb, gitpython, prometheus-flask-exporter, cryptography, azure-core, isodate, msrest, azure-storage-blob, querystring-parser, Mako, python-editor, alembic, gorilla, websocket-client, docker, mlflow, funcy, pyLDAvis, datefinder, pycaret\n",
            "  Found existing installation: scikit-learn 0.22.2.post1\n",
            "    Uninstalling scikit-learn-0.22.2.post1:\n",
            "      Successfully uninstalled scikit-learn-0.22.2.post1\n",
            "  Found existing installation: yellowbrick 0.9.1\n",
            "    Uninstalling yellowbrick-0.9.1:\n",
            "      Successfully uninstalled yellowbrick-0.9.1\n",
            "  Found existing installation: imbalanced-learn 0.4.3\n",
            "    Uninstalling imbalanced-learn-0.4.3:\n",
            "      Successfully uninstalled imbalanced-learn-0.4.3\n",
            "  Found existing installation: lightgbm 2.2.3\n",
            "    Uninstalling lightgbm-2.2.3:\n",
            "      Successfully uninstalled lightgbm-2.2.3\n",
            "  Found existing installation: pandas-profiling 1.4.1\n",
            "    Uninstalling pandas-profiling-1.4.1:\n",
            "      Successfully uninstalled pandas-profiling-1.4.1\n",
            "  Found existing installation: SQLAlchemy 1.3.19\n",
            "    Uninstalling SQLAlchemy-1.3.19:\n",
            "      Successfully uninstalled SQLAlchemy-1.3.19\n",
            "Successfully installed Mako-1.1.3 alembic-1.4.1 azure-core-1.8.2 azure-storage-blob-12.5.0 catboost-0.24.2 combo-0.1.1 confuse-1.3.0 cryptography-3.1.1 databricks-cli-0.12.2 datefinder-0.7.1 docker-4.3.1 funcy-1.15 gitdb-4.0.5 gitpython-3.1.9 gorilla-0.3.0 gunicorn-20.0.4 htmlmin-0.1.12 imagehash-4.1.0 imbalanced-learn-0.7.0 isodate-0.6.0 kmodes-0.10.2 lightgbm-3.0.0 mlflow-1.11.0 msrest-0.6.19 pandas-profiling-2.9.0 phik-0.10.0 prometheus-flask-exporter-0.18.1 pyLDAvis-2.1.2 pycaret-2.1.2 pyod-0.8.3 python-editor-1.0.4 querystring-parser-1.2.4 scikit-learn-0.23.2 smmap-3.0.4 sqlalchemy-1.3.13 suod-0.0.4 tangled-up-in-unicode-0.0.6 tenacity-6.2.0 threadpoolctl-2.1.0 visions-0.5.0 websocket-client-0.57.0 yellowbrick-1.2\n"
          ],
          "name": "stdout"
        }
      ]
    },
    {
      "cell_type": "code",
      "metadata": {
        "id": "GSlc_FyCBBn1"
      },
      "source": [
        "from pycaret.classification import *"
      ],
      "execution_count": 3,
      "outputs": []
    },
    {
      "cell_type": "code",
      "metadata": {
        "id": "5aN2oRxtA4t2"
      },
      "source": [
        "import pandas as pd\n",
        "import numpy as np\n",
        "from pycaret.datasets import get_data"
      ],
      "execution_count": 4,
      "outputs": []
    },
    {
      "cell_type": "markdown",
      "metadata": {
        "id": "ZnLSOBZwJRr_"
      },
      "source": [
        "Simple Classification"
      ]
    },
    {
      "cell_type": "code",
      "metadata": {
        "id": "ge-qfVbkGBNd",
        "outputId": "8ec0039b-cf4d-46ac-907c-7fe2b0d2af2d",
        "colab": {
          "base_uri": "https://localhost:8080/",
          "height": 238
        }
      },
      "source": [
        "df=get_data('diabetes')"
      ],
      "execution_count": 5,
      "outputs": [
        {
          "output_type": "display_data",
          "data": {
            "text/html": [
              "<div>\n",
              "<style scoped>\n",
              "    .dataframe tbody tr th:only-of-type {\n",
              "        vertical-align: middle;\n",
              "    }\n",
              "\n",
              "    .dataframe tbody tr th {\n",
              "        vertical-align: top;\n",
              "    }\n",
              "\n",
              "    .dataframe thead th {\n",
              "        text-align: right;\n",
              "    }\n",
              "</style>\n",
              "<table border=\"1\" class=\"dataframe\">\n",
              "  <thead>\n",
              "    <tr style=\"text-align: right;\">\n",
              "      <th></th>\n",
              "      <th>Number of times pregnant</th>\n",
              "      <th>Plasma glucose concentration a 2 hours in an oral glucose tolerance test</th>\n",
              "      <th>Diastolic blood pressure (mm Hg)</th>\n",
              "      <th>Triceps skin fold thickness (mm)</th>\n",
              "      <th>2-Hour serum insulin (mu U/ml)</th>\n",
              "      <th>Body mass index (weight in kg/(height in m)^2)</th>\n",
              "      <th>Diabetes pedigree function</th>\n",
              "      <th>Age (years)</th>\n",
              "      <th>Class variable</th>\n",
              "    </tr>\n",
              "  </thead>\n",
              "  <tbody>\n",
              "    <tr>\n",
              "      <th>0</th>\n",
              "      <td>6</td>\n",
              "      <td>148</td>\n",
              "      <td>72</td>\n",
              "      <td>35</td>\n",
              "      <td>0</td>\n",
              "      <td>33.6</td>\n",
              "      <td>0.627</td>\n",
              "      <td>50</td>\n",
              "      <td>1</td>\n",
              "    </tr>\n",
              "    <tr>\n",
              "      <th>1</th>\n",
              "      <td>1</td>\n",
              "      <td>85</td>\n",
              "      <td>66</td>\n",
              "      <td>29</td>\n",
              "      <td>0</td>\n",
              "      <td>26.6</td>\n",
              "      <td>0.351</td>\n",
              "      <td>31</td>\n",
              "      <td>0</td>\n",
              "    </tr>\n",
              "    <tr>\n",
              "      <th>2</th>\n",
              "      <td>8</td>\n",
              "      <td>183</td>\n",
              "      <td>64</td>\n",
              "      <td>0</td>\n",
              "      <td>0</td>\n",
              "      <td>23.3</td>\n",
              "      <td>0.672</td>\n",
              "      <td>32</td>\n",
              "      <td>1</td>\n",
              "    </tr>\n",
              "    <tr>\n",
              "      <th>3</th>\n",
              "      <td>1</td>\n",
              "      <td>89</td>\n",
              "      <td>66</td>\n",
              "      <td>23</td>\n",
              "      <td>94</td>\n",
              "      <td>28.1</td>\n",
              "      <td>0.167</td>\n",
              "      <td>21</td>\n",
              "      <td>0</td>\n",
              "    </tr>\n",
              "    <tr>\n",
              "      <th>4</th>\n",
              "      <td>0</td>\n",
              "      <td>137</td>\n",
              "      <td>40</td>\n",
              "      <td>35</td>\n",
              "      <td>168</td>\n",
              "      <td>43.1</td>\n",
              "      <td>2.288</td>\n",
              "      <td>33</td>\n",
              "      <td>1</td>\n",
              "    </tr>\n",
              "  </tbody>\n",
              "</table>\n",
              "</div>"
            ],
            "text/plain": [
              "   Number of times pregnant  ...  Class variable\n",
              "0                         6  ...               1\n",
              "1                         1  ...               0\n",
              "2                         8  ...               1\n",
              "3                         1  ...               0\n",
              "4                         0  ...               1\n",
              "\n",
              "[5 rows x 9 columns]"
            ]
          },
          "metadata": {
            "tags": []
          }
        }
      ]
    },
    {
      "cell_type": "code",
      "metadata": {
        "id": "GvOC414eG1jB",
        "outputId": "55efd39f-eb15-4b1a-c809-ab64977ec29b",
        "colab": {
          "base_uri": "https://localhost:8080/",
          "height": 34
        }
      },
      "source": [
        "df.shape"
      ],
      "execution_count": 6,
      "outputs": [
        {
          "output_type": "execute_result",
          "data": {
            "text/plain": [
              "(768, 9)"
            ]
          },
          "metadata": {
            "tags": []
          },
          "execution_count": 6
        }
      ]
    },
    {
      "cell_type": "code",
      "metadata": {
        "id": "jvKi1SMLHTOM",
        "outputId": "04e9ecf3-fc62-480d-ea2c-d5044b5e783e",
        "colab": {
          "base_uri": "https://localhost:8080/",
          "height": 981,
          "referenced_widgets": [
            "998fe783797d4d658ca986b7c0731112",
            "61ac3b2ef1664917b52b87795f84ab2c",
            "7a7ed4c508224008aaaae4dc3c7ad84c",
            "278d64866e8f41e787cf59dd49cf5761",
            "5ad5f21b28fc4ef3ad01ea244d3755a4",
            "ec34a32693a7467f8df9ceaecce5050b"
          ]
        }
      },
      "source": [
        "clf=setup(data=df,target='Class variable',train_size=0.75)"
      ],
      "execution_count": 7,
      "outputs": [
        {
          "output_type": "stream",
          "text": [
            "Setup Succesfully Completed!\n"
          ],
          "name": "stdout"
        },
        {
          "output_type": "display_data",
          "data": {
            "text/html": [
              "<style  type=\"text/css\" >\n",
              "</style><table id=\"T_3a9a5792_0e37_11eb_880e_0242ac1c0002\" ><thead>    <tr>        <th class=\"blank level0\" ></th>        <th class=\"col_heading level0 col0\" >Description</th>        <th class=\"col_heading level0 col1\" >Value</th>    </tr></thead><tbody>\n",
              "                <tr>\n",
              "                        <th id=\"T_3a9a5792_0e37_11eb_880e_0242ac1c0002level0_row0\" class=\"row_heading level0 row0\" >0</th>\n",
              "                        <td id=\"T_3a9a5792_0e37_11eb_880e_0242ac1c0002row0_col0\" class=\"data row0 col0\" >session_id</td>\n",
              "                        <td id=\"T_3a9a5792_0e37_11eb_880e_0242ac1c0002row0_col1\" class=\"data row0 col1\" >3472</td>\n",
              "            </tr>\n",
              "            <tr>\n",
              "                        <th id=\"T_3a9a5792_0e37_11eb_880e_0242ac1c0002level0_row1\" class=\"row_heading level0 row1\" >1</th>\n",
              "                        <td id=\"T_3a9a5792_0e37_11eb_880e_0242ac1c0002row1_col0\" class=\"data row1 col0\" >Target Type</td>\n",
              "                        <td id=\"T_3a9a5792_0e37_11eb_880e_0242ac1c0002row1_col1\" class=\"data row1 col1\" >Binary</td>\n",
              "            </tr>\n",
              "            <tr>\n",
              "                        <th id=\"T_3a9a5792_0e37_11eb_880e_0242ac1c0002level0_row2\" class=\"row_heading level0 row2\" >2</th>\n",
              "                        <td id=\"T_3a9a5792_0e37_11eb_880e_0242ac1c0002row2_col0\" class=\"data row2 col0\" >Label Encoded</td>\n",
              "                        <td id=\"T_3a9a5792_0e37_11eb_880e_0242ac1c0002row2_col1\" class=\"data row2 col1\" >0: 0, 1: 1</td>\n",
              "            </tr>\n",
              "            <tr>\n",
              "                        <th id=\"T_3a9a5792_0e37_11eb_880e_0242ac1c0002level0_row3\" class=\"row_heading level0 row3\" >3</th>\n",
              "                        <td id=\"T_3a9a5792_0e37_11eb_880e_0242ac1c0002row3_col0\" class=\"data row3 col0\" >Original Data</td>\n",
              "                        <td id=\"T_3a9a5792_0e37_11eb_880e_0242ac1c0002row3_col1\" class=\"data row3 col1\" >(768, 9)</td>\n",
              "            </tr>\n",
              "            <tr>\n",
              "                        <th id=\"T_3a9a5792_0e37_11eb_880e_0242ac1c0002level0_row4\" class=\"row_heading level0 row4\" >4</th>\n",
              "                        <td id=\"T_3a9a5792_0e37_11eb_880e_0242ac1c0002row4_col0\" class=\"data row4 col0\" >Missing Values </td>\n",
              "                        <td id=\"T_3a9a5792_0e37_11eb_880e_0242ac1c0002row4_col1\" class=\"data row4 col1\" >False</td>\n",
              "            </tr>\n",
              "            <tr>\n",
              "                        <th id=\"T_3a9a5792_0e37_11eb_880e_0242ac1c0002level0_row5\" class=\"row_heading level0 row5\" >5</th>\n",
              "                        <td id=\"T_3a9a5792_0e37_11eb_880e_0242ac1c0002row5_col0\" class=\"data row5 col0\" >Numeric Features </td>\n",
              "                        <td id=\"T_3a9a5792_0e37_11eb_880e_0242ac1c0002row5_col1\" class=\"data row5 col1\" >7</td>\n",
              "            </tr>\n",
              "            <tr>\n",
              "                        <th id=\"T_3a9a5792_0e37_11eb_880e_0242ac1c0002level0_row6\" class=\"row_heading level0 row6\" >6</th>\n",
              "                        <td id=\"T_3a9a5792_0e37_11eb_880e_0242ac1c0002row6_col0\" class=\"data row6 col0\" >Categorical Features </td>\n",
              "                        <td id=\"T_3a9a5792_0e37_11eb_880e_0242ac1c0002row6_col1\" class=\"data row6 col1\" >1</td>\n",
              "            </tr>\n",
              "            <tr>\n",
              "                        <th id=\"T_3a9a5792_0e37_11eb_880e_0242ac1c0002level0_row7\" class=\"row_heading level0 row7\" >7</th>\n",
              "                        <td id=\"T_3a9a5792_0e37_11eb_880e_0242ac1c0002row7_col0\" class=\"data row7 col0\" >Ordinal Features </td>\n",
              "                        <td id=\"T_3a9a5792_0e37_11eb_880e_0242ac1c0002row7_col1\" class=\"data row7 col1\" >False</td>\n",
              "            </tr>\n",
              "            <tr>\n",
              "                        <th id=\"T_3a9a5792_0e37_11eb_880e_0242ac1c0002level0_row8\" class=\"row_heading level0 row8\" >8</th>\n",
              "                        <td id=\"T_3a9a5792_0e37_11eb_880e_0242ac1c0002row8_col0\" class=\"data row8 col0\" >High Cardinality Features </td>\n",
              "                        <td id=\"T_3a9a5792_0e37_11eb_880e_0242ac1c0002row8_col1\" class=\"data row8 col1\" >False</td>\n",
              "            </tr>\n",
              "            <tr>\n",
              "                        <th id=\"T_3a9a5792_0e37_11eb_880e_0242ac1c0002level0_row9\" class=\"row_heading level0 row9\" >9</th>\n",
              "                        <td id=\"T_3a9a5792_0e37_11eb_880e_0242ac1c0002row9_col0\" class=\"data row9 col0\" >High Cardinality Method </td>\n",
              "                        <td id=\"T_3a9a5792_0e37_11eb_880e_0242ac1c0002row9_col1\" class=\"data row9 col1\" >None</td>\n",
              "            </tr>\n",
              "            <tr>\n",
              "                        <th id=\"T_3a9a5792_0e37_11eb_880e_0242ac1c0002level0_row10\" class=\"row_heading level0 row10\" >10</th>\n",
              "                        <td id=\"T_3a9a5792_0e37_11eb_880e_0242ac1c0002row10_col0\" class=\"data row10 col0\" >Sampled Data</td>\n",
              "                        <td id=\"T_3a9a5792_0e37_11eb_880e_0242ac1c0002row10_col1\" class=\"data row10 col1\" >(768, 9)</td>\n",
              "            </tr>\n",
              "            <tr>\n",
              "                        <th id=\"T_3a9a5792_0e37_11eb_880e_0242ac1c0002level0_row11\" class=\"row_heading level0 row11\" >11</th>\n",
              "                        <td id=\"T_3a9a5792_0e37_11eb_880e_0242ac1c0002row11_col0\" class=\"data row11 col0\" >Transformed Train Set</td>\n",
              "                        <td id=\"T_3a9a5792_0e37_11eb_880e_0242ac1c0002row11_col1\" class=\"data row11 col1\" >(576, 24)</td>\n",
              "            </tr>\n",
              "            <tr>\n",
              "                        <th id=\"T_3a9a5792_0e37_11eb_880e_0242ac1c0002level0_row12\" class=\"row_heading level0 row12\" >12</th>\n",
              "                        <td id=\"T_3a9a5792_0e37_11eb_880e_0242ac1c0002row12_col0\" class=\"data row12 col0\" >Transformed Test Set</td>\n",
              "                        <td id=\"T_3a9a5792_0e37_11eb_880e_0242ac1c0002row12_col1\" class=\"data row12 col1\" >(192, 24)</td>\n",
              "            </tr>\n",
              "            <tr>\n",
              "                        <th id=\"T_3a9a5792_0e37_11eb_880e_0242ac1c0002level0_row13\" class=\"row_heading level0 row13\" >13</th>\n",
              "                        <td id=\"T_3a9a5792_0e37_11eb_880e_0242ac1c0002row13_col0\" class=\"data row13 col0\" >Numeric Imputer </td>\n",
              "                        <td id=\"T_3a9a5792_0e37_11eb_880e_0242ac1c0002row13_col1\" class=\"data row13 col1\" >mean</td>\n",
              "            </tr>\n",
              "            <tr>\n",
              "                        <th id=\"T_3a9a5792_0e37_11eb_880e_0242ac1c0002level0_row14\" class=\"row_heading level0 row14\" >14</th>\n",
              "                        <td id=\"T_3a9a5792_0e37_11eb_880e_0242ac1c0002row14_col0\" class=\"data row14 col0\" >Categorical Imputer </td>\n",
              "                        <td id=\"T_3a9a5792_0e37_11eb_880e_0242ac1c0002row14_col1\" class=\"data row14 col1\" >constant</td>\n",
              "            </tr>\n",
              "            <tr>\n",
              "                        <th id=\"T_3a9a5792_0e37_11eb_880e_0242ac1c0002level0_row15\" class=\"row_heading level0 row15\" >15</th>\n",
              "                        <td id=\"T_3a9a5792_0e37_11eb_880e_0242ac1c0002row15_col0\" class=\"data row15 col0\" >Normalize </td>\n",
              "                        <td id=\"T_3a9a5792_0e37_11eb_880e_0242ac1c0002row15_col1\" class=\"data row15 col1\" >False</td>\n",
              "            </tr>\n",
              "            <tr>\n",
              "                        <th id=\"T_3a9a5792_0e37_11eb_880e_0242ac1c0002level0_row16\" class=\"row_heading level0 row16\" >16</th>\n",
              "                        <td id=\"T_3a9a5792_0e37_11eb_880e_0242ac1c0002row16_col0\" class=\"data row16 col0\" >Normalize Method </td>\n",
              "                        <td id=\"T_3a9a5792_0e37_11eb_880e_0242ac1c0002row16_col1\" class=\"data row16 col1\" >None</td>\n",
              "            </tr>\n",
              "            <tr>\n",
              "                        <th id=\"T_3a9a5792_0e37_11eb_880e_0242ac1c0002level0_row17\" class=\"row_heading level0 row17\" >17</th>\n",
              "                        <td id=\"T_3a9a5792_0e37_11eb_880e_0242ac1c0002row17_col0\" class=\"data row17 col0\" >Transformation </td>\n",
              "                        <td id=\"T_3a9a5792_0e37_11eb_880e_0242ac1c0002row17_col1\" class=\"data row17 col1\" >False</td>\n",
              "            </tr>\n",
              "            <tr>\n",
              "                        <th id=\"T_3a9a5792_0e37_11eb_880e_0242ac1c0002level0_row18\" class=\"row_heading level0 row18\" >18</th>\n",
              "                        <td id=\"T_3a9a5792_0e37_11eb_880e_0242ac1c0002row18_col0\" class=\"data row18 col0\" >Transformation Method </td>\n",
              "                        <td id=\"T_3a9a5792_0e37_11eb_880e_0242ac1c0002row18_col1\" class=\"data row18 col1\" >None</td>\n",
              "            </tr>\n",
              "            <tr>\n",
              "                        <th id=\"T_3a9a5792_0e37_11eb_880e_0242ac1c0002level0_row19\" class=\"row_heading level0 row19\" >19</th>\n",
              "                        <td id=\"T_3a9a5792_0e37_11eb_880e_0242ac1c0002row19_col0\" class=\"data row19 col0\" >PCA </td>\n",
              "                        <td id=\"T_3a9a5792_0e37_11eb_880e_0242ac1c0002row19_col1\" class=\"data row19 col1\" >False</td>\n",
              "            </tr>\n",
              "            <tr>\n",
              "                        <th id=\"T_3a9a5792_0e37_11eb_880e_0242ac1c0002level0_row20\" class=\"row_heading level0 row20\" >20</th>\n",
              "                        <td id=\"T_3a9a5792_0e37_11eb_880e_0242ac1c0002row20_col0\" class=\"data row20 col0\" >PCA Method </td>\n",
              "                        <td id=\"T_3a9a5792_0e37_11eb_880e_0242ac1c0002row20_col1\" class=\"data row20 col1\" >None</td>\n",
              "            </tr>\n",
              "            <tr>\n",
              "                        <th id=\"T_3a9a5792_0e37_11eb_880e_0242ac1c0002level0_row21\" class=\"row_heading level0 row21\" >21</th>\n",
              "                        <td id=\"T_3a9a5792_0e37_11eb_880e_0242ac1c0002row21_col0\" class=\"data row21 col0\" >PCA Components </td>\n",
              "                        <td id=\"T_3a9a5792_0e37_11eb_880e_0242ac1c0002row21_col1\" class=\"data row21 col1\" >None</td>\n",
              "            </tr>\n",
              "            <tr>\n",
              "                        <th id=\"T_3a9a5792_0e37_11eb_880e_0242ac1c0002level0_row22\" class=\"row_heading level0 row22\" >22</th>\n",
              "                        <td id=\"T_3a9a5792_0e37_11eb_880e_0242ac1c0002row22_col0\" class=\"data row22 col0\" >Ignore Low Variance </td>\n",
              "                        <td id=\"T_3a9a5792_0e37_11eb_880e_0242ac1c0002row22_col1\" class=\"data row22 col1\" >False</td>\n",
              "            </tr>\n",
              "            <tr>\n",
              "                        <th id=\"T_3a9a5792_0e37_11eb_880e_0242ac1c0002level0_row23\" class=\"row_heading level0 row23\" >23</th>\n",
              "                        <td id=\"T_3a9a5792_0e37_11eb_880e_0242ac1c0002row23_col0\" class=\"data row23 col0\" >Combine Rare Levels </td>\n",
              "                        <td id=\"T_3a9a5792_0e37_11eb_880e_0242ac1c0002row23_col1\" class=\"data row23 col1\" >False</td>\n",
              "            </tr>\n",
              "            <tr>\n",
              "                        <th id=\"T_3a9a5792_0e37_11eb_880e_0242ac1c0002level0_row24\" class=\"row_heading level0 row24\" >24</th>\n",
              "                        <td id=\"T_3a9a5792_0e37_11eb_880e_0242ac1c0002row24_col0\" class=\"data row24 col0\" >Rare Level Threshold </td>\n",
              "                        <td id=\"T_3a9a5792_0e37_11eb_880e_0242ac1c0002row24_col1\" class=\"data row24 col1\" >None</td>\n",
              "            </tr>\n",
              "            <tr>\n",
              "                        <th id=\"T_3a9a5792_0e37_11eb_880e_0242ac1c0002level0_row25\" class=\"row_heading level0 row25\" >25</th>\n",
              "                        <td id=\"T_3a9a5792_0e37_11eb_880e_0242ac1c0002row25_col0\" class=\"data row25 col0\" >Numeric Binning </td>\n",
              "                        <td id=\"T_3a9a5792_0e37_11eb_880e_0242ac1c0002row25_col1\" class=\"data row25 col1\" >False</td>\n",
              "            </tr>\n",
              "            <tr>\n",
              "                        <th id=\"T_3a9a5792_0e37_11eb_880e_0242ac1c0002level0_row26\" class=\"row_heading level0 row26\" >26</th>\n",
              "                        <td id=\"T_3a9a5792_0e37_11eb_880e_0242ac1c0002row26_col0\" class=\"data row26 col0\" >Remove Outliers </td>\n",
              "                        <td id=\"T_3a9a5792_0e37_11eb_880e_0242ac1c0002row26_col1\" class=\"data row26 col1\" >False</td>\n",
              "            </tr>\n",
              "            <tr>\n",
              "                        <th id=\"T_3a9a5792_0e37_11eb_880e_0242ac1c0002level0_row27\" class=\"row_heading level0 row27\" >27</th>\n",
              "                        <td id=\"T_3a9a5792_0e37_11eb_880e_0242ac1c0002row27_col0\" class=\"data row27 col0\" >Outliers Threshold </td>\n",
              "                        <td id=\"T_3a9a5792_0e37_11eb_880e_0242ac1c0002row27_col1\" class=\"data row27 col1\" >None</td>\n",
              "            </tr>\n",
              "            <tr>\n",
              "                        <th id=\"T_3a9a5792_0e37_11eb_880e_0242ac1c0002level0_row28\" class=\"row_heading level0 row28\" >28</th>\n",
              "                        <td id=\"T_3a9a5792_0e37_11eb_880e_0242ac1c0002row28_col0\" class=\"data row28 col0\" >Remove Multicollinearity </td>\n",
              "                        <td id=\"T_3a9a5792_0e37_11eb_880e_0242ac1c0002row28_col1\" class=\"data row28 col1\" >False</td>\n",
              "            </tr>\n",
              "            <tr>\n",
              "                        <th id=\"T_3a9a5792_0e37_11eb_880e_0242ac1c0002level0_row29\" class=\"row_heading level0 row29\" >29</th>\n",
              "                        <td id=\"T_3a9a5792_0e37_11eb_880e_0242ac1c0002row29_col0\" class=\"data row29 col0\" >Multicollinearity Threshold </td>\n",
              "                        <td id=\"T_3a9a5792_0e37_11eb_880e_0242ac1c0002row29_col1\" class=\"data row29 col1\" >None</td>\n",
              "            </tr>\n",
              "            <tr>\n",
              "                        <th id=\"T_3a9a5792_0e37_11eb_880e_0242ac1c0002level0_row30\" class=\"row_heading level0 row30\" >30</th>\n",
              "                        <td id=\"T_3a9a5792_0e37_11eb_880e_0242ac1c0002row30_col0\" class=\"data row30 col0\" >Clustering </td>\n",
              "                        <td id=\"T_3a9a5792_0e37_11eb_880e_0242ac1c0002row30_col1\" class=\"data row30 col1\" >False</td>\n",
              "            </tr>\n",
              "            <tr>\n",
              "                        <th id=\"T_3a9a5792_0e37_11eb_880e_0242ac1c0002level0_row31\" class=\"row_heading level0 row31\" >31</th>\n",
              "                        <td id=\"T_3a9a5792_0e37_11eb_880e_0242ac1c0002row31_col0\" class=\"data row31 col0\" >Clustering Iteration </td>\n",
              "                        <td id=\"T_3a9a5792_0e37_11eb_880e_0242ac1c0002row31_col1\" class=\"data row31 col1\" >None</td>\n",
              "            </tr>\n",
              "            <tr>\n",
              "                        <th id=\"T_3a9a5792_0e37_11eb_880e_0242ac1c0002level0_row32\" class=\"row_heading level0 row32\" >32</th>\n",
              "                        <td id=\"T_3a9a5792_0e37_11eb_880e_0242ac1c0002row32_col0\" class=\"data row32 col0\" >Polynomial Features </td>\n",
              "                        <td id=\"T_3a9a5792_0e37_11eb_880e_0242ac1c0002row32_col1\" class=\"data row32 col1\" >False</td>\n",
              "            </tr>\n",
              "            <tr>\n",
              "                        <th id=\"T_3a9a5792_0e37_11eb_880e_0242ac1c0002level0_row33\" class=\"row_heading level0 row33\" >33</th>\n",
              "                        <td id=\"T_3a9a5792_0e37_11eb_880e_0242ac1c0002row33_col0\" class=\"data row33 col0\" >Polynomial Degree </td>\n",
              "                        <td id=\"T_3a9a5792_0e37_11eb_880e_0242ac1c0002row33_col1\" class=\"data row33 col1\" >None</td>\n",
              "            </tr>\n",
              "            <tr>\n",
              "                        <th id=\"T_3a9a5792_0e37_11eb_880e_0242ac1c0002level0_row34\" class=\"row_heading level0 row34\" >34</th>\n",
              "                        <td id=\"T_3a9a5792_0e37_11eb_880e_0242ac1c0002row34_col0\" class=\"data row34 col0\" >Trignometry Features </td>\n",
              "                        <td id=\"T_3a9a5792_0e37_11eb_880e_0242ac1c0002row34_col1\" class=\"data row34 col1\" >False</td>\n",
              "            </tr>\n",
              "            <tr>\n",
              "                        <th id=\"T_3a9a5792_0e37_11eb_880e_0242ac1c0002level0_row35\" class=\"row_heading level0 row35\" >35</th>\n",
              "                        <td id=\"T_3a9a5792_0e37_11eb_880e_0242ac1c0002row35_col0\" class=\"data row35 col0\" >Polynomial Threshold </td>\n",
              "                        <td id=\"T_3a9a5792_0e37_11eb_880e_0242ac1c0002row35_col1\" class=\"data row35 col1\" >None</td>\n",
              "            </tr>\n",
              "            <tr>\n",
              "                        <th id=\"T_3a9a5792_0e37_11eb_880e_0242ac1c0002level0_row36\" class=\"row_heading level0 row36\" >36</th>\n",
              "                        <td id=\"T_3a9a5792_0e37_11eb_880e_0242ac1c0002row36_col0\" class=\"data row36 col0\" >Group Features </td>\n",
              "                        <td id=\"T_3a9a5792_0e37_11eb_880e_0242ac1c0002row36_col1\" class=\"data row36 col1\" >False</td>\n",
              "            </tr>\n",
              "            <tr>\n",
              "                        <th id=\"T_3a9a5792_0e37_11eb_880e_0242ac1c0002level0_row37\" class=\"row_heading level0 row37\" >37</th>\n",
              "                        <td id=\"T_3a9a5792_0e37_11eb_880e_0242ac1c0002row37_col0\" class=\"data row37 col0\" >Feature Selection </td>\n",
              "                        <td id=\"T_3a9a5792_0e37_11eb_880e_0242ac1c0002row37_col1\" class=\"data row37 col1\" >False</td>\n",
              "            </tr>\n",
              "            <tr>\n",
              "                        <th id=\"T_3a9a5792_0e37_11eb_880e_0242ac1c0002level0_row38\" class=\"row_heading level0 row38\" >38</th>\n",
              "                        <td id=\"T_3a9a5792_0e37_11eb_880e_0242ac1c0002row38_col0\" class=\"data row38 col0\" >Features Selection Threshold </td>\n",
              "                        <td id=\"T_3a9a5792_0e37_11eb_880e_0242ac1c0002row38_col1\" class=\"data row38 col1\" >None</td>\n",
              "            </tr>\n",
              "            <tr>\n",
              "                        <th id=\"T_3a9a5792_0e37_11eb_880e_0242ac1c0002level0_row39\" class=\"row_heading level0 row39\" >39</th>\n",
              "                        <td id=\"T_3a9a5792_0e37_11eb_880e_0242ac1c0002row39_col0\" class=\"data row39 col0\" >Feature Interaction </td>\n",
              "                        <td id=\"T_3a9a5792_0e37_11eb_880e_0242ac1c0002row39_col1\" class=\"data row39 col1\" >False</td>\n",
              "            </tr>\n",
              "            <tr>\n",
              "                        <th id=\"T_3a9a5792_0e37_11eb_880e_0242ac1c0002level0_row40\" class=\"row_heading level0 row40\" >40</th>\n",
              "                        <td id=\"T_3a9a5792_0e37_11eb_880e_0242ac1c0002row40_col0\" class=\"data row40 col0\" >Feature Ratio </td>\n",
              "                        <td id=\"T_3a9a5792_0e37_11eb_880e_0242ac1c0002row40_col1\" class=\"data row40 col1\" >False</td>\n",
              "            </tr>\n",
              "            <tr>\n",
              "                        <th id=\"T_3a9a5792_0e37_11eb_880e_0242ac1c0002level0_row41\" class=\"row_heading level0 row41\" >41</th>\n",
              "                        <td id=\"T_3a9a5792_0e37_11eb_880e_0242ac1c0002row41_col0\" class=\"data row41 col0\" >Interaction Threshold </td>\n",
              "                        <td id=\"T_3a9a5792_0e37_11eb_880e_0242ac1c0002row41_col1\" class=\"data row41 col1\" >None</td>\n",
              "            </tr>\n",
              "            <tr>\n",
              "                        <th id=\"T_3a9a5792_0e37_11eb_880e_0242ac1c0002level0_row42\" class=\"row_heading level0 row42\" >42</th>\n",
              "                        <td id=\"T_3a9a5792_0e37_11eb_880e_0242ac1c0002row42_col0\" class=\"data row42 col0\" >Fix Imbalance</td>\n",
              "                        <td id=\"T_3a9a5792_0e37_11eb_880e_0242ac1c0002row42_col1\" class=\"data row42 col1\" >False</td>\n",
              "            </tr>\n",
              "            <tr>\n",
              "                        <th id=\"T_3a9a5792_0e37_11eb_880e_0242ac1c0002level0_row43\" class=\"row_heading level0 row43\" >43</th>\n",
              "                        <td id=\"T_3a9a5792_0e37_11eb_880e_0242ac1c0002row43_col0\" class=\"data row43 col0\" >Fix Imbalance Method</td>\n",
              "                        <td id=\"T_3a9a5792_0e37_11eb_880e_0242ac1c0002row43_col1\" class=\"data row43 col1\" >SMOTE</td>\n",
              "            </tr>\n",
              "    </tbody></table>"
            ],
            "text/plain": [
              "<pandas.io.formats.style.Styler at 0x7fb2078d1470>"
            ]
          },
          "metadata": {
            "tags": []
          }
        }
      ]
    },
    {
      "cell_type": "code",
      "metadata": {
        "id": "cKqLlwwKHew2",
        "outputId": "e3964d0e-c275-4f07-d7fa-38de27c1eb8b",
        "colab": {
          "base_uri": "https://localhost:8080/",
          "height": 372,
          "referenced_widgets": [
            "7fc77573ed914f70bd8a15a070ed4999",
            "9bdb1a449df44187b0745b06fb06b0f3",
            "438b182b90f44127b146f68f391e9531"
          ]
        }
      },
      "source": [
        "compare_models()"
      ],
      "execution_count": 8,
      "outputs": [
        {
          "output_type": "display_data",
          "data": {
            "text/html": [
              "<style  type=\"text/css\" >\n",
              "    #T_67286aec_0e37_11eb_880e_0242ac1c0002 th {\n",
              "          text-align: left;\n",
              "    }#T_67286aec_0e37_11eb_880e_0242ac1c0002row0_col0,#T_67286aec_0e37_11eb_880e_0242ac1c0002row0_col3,#T_67286aec_0e37_11eb_880e_0242ac1c0002row0_col4,#T_67286aec_0e37_11eb_880e_0242ac1c0002row1_col0,#T_67286aec_0e37_11eb_880e_0242ac1c0002row1_col1,#T_67286aec_0e37_11eb_880e_0242ac1c0002row1_col2,#T_67286aec_0e37_11eb_880e_0242ac1c0002row1_col4,#T_67286aec_0e37_11eb_880e_0242ac1c0002row1_col5,#T_67286aec_0e37_11eb_880e_0242ac1c0002row1_col6,#T_67286aec_0e37_11eb_880e_0242ac1c0002row1_col7,#T_67286aec_0e37_11eb_880e_0242ac1c0002row2_col0,#T_67286aec_0e37_11eb_880e_0242ac1c0002row2_col1,#T_67286aec_0e37_11eb_880e_0242ac1c0002row2_col2,#T_67286aec_0e37_11eb_880e_0242ac1c0002row2_col3,#T_67286aec_0e37_11eb_880e_0242ac1c0002row2_col4,#T_67286aec_0e37_11eb_880e_0242ac1c0002row2_col5,#T_67286aec_0e37_11eb_880e_0242ac1c0002row2_col6,#T_67286aec_0e37_11eb_880e_0242ac1c0002row2_col7,#T_67286aec_0e37_11eb_880e_0242ac1c0002row3_col0,#T_67286aec_0e37_11eb_880e_0242ac1c0002row3_col1,#T_67286aec_0e37_11eb_880e_0242ac1c0002row3_col2,#T_67286aec_0e37_11eb_880e_0242ac1c0002row3_col3,#T_67286aec_0e37_11eb_880e_0242ac1c0002row3_col4,#T_67286aec_0e37_11eb_880e_0242ac1c0002row3_col5,#T_67286aec_0e37_11eb_880e_0242ac1c0002row3_col6,#T_67286aec_0e37_11eb_880e_0242ac1c0002row3_col7,#T_67286aec_0e37_11eb_880e_0242ac1c0002row4_col0,#T_67286aec_0e37_11eb_880e_0242ac1c0002row4_col1,#T_67286aec_0e37_11eb_880e_0242ac1c0002row4_col2,#T_67286aec_0e37_11eb_880e_0242ac1c0002row4_col3,#T_67286aec_0e37_11eb_880e_0242ac1c0002row4_col5,#T_67286aec_0e37_11eb_880e_0242ac1c0002row4_col6,#T_67286aec_0e37_11eb_880e_0242ac1c0002row4_col7,#T_67286aec_0e37_11eb_880e_0242ac1c0002row5_col0,#T_67286aec_0e37_11eb_880e_0242ac1c0002row5_col1,#T_67286aec_0e37_11eb_880e_0242ac1c0002row5_col2,#T_67286aec_0e37_11eb_880e_0242ac1c0002row5_col3,#T_67286aec_0e37_11eb_880e_0242ac1c0002row5_col4,#T_67286aec_0e37_11eb_880e_0242ac1c0002row5_col5,#T_67286aec_0e37_11eb_880e_0242ac1c0002row5_col6,#T_67286aec_0e37_11eb_880e_0242ac1c0002row5_col7,#T_67286aec_0e37_11eb_880e_0242ac1c0002row6_col0,#T_67286aec_0e37_11eb_880e_0242ac1c0002row6_col1,#T_67286aec_0e37_11eb_880e_0242ac1c0002row6_col2,#T_67286aec_0e37_11eb_880e_0242ac1c0002row6_col3,#T_67286aec_0e37_11eb_880e_0242ac1c0002row6_col4,#T_67286aec_0e37_11eb_880e_0242ac1c0002row6_col5,#T_67286aec_0e37_11eb_880e_0242ac1c0002row6_col6,#T_67286aec_0e37_11eb_880e_0242ac1c0002row6_col7,#T_67286aec_0e37_11eb_880e_0242ac1c0002row7_col0,#T_67286aec_0e37_11eb_880e_0242ac1c0002row7_col1,#T_67286aec_0e37_11eb_880e_0242ac1c0002row7_col2,#T_67286aec_0e37_11eb_880e_0242ac1c0002row7_col3,#T_67286aec_0e37_11eb_880e_0242ac1c0002row7_col4,#T_67286aec_0e37_11eb_880e_0242ac1c0002row7_col5,#T_67286aec_0e37_11eb_880e_0242ac1c0002row7_col6,#T_67286aec_0e37_11eb_880e_0242ac1c0002row7_col7,#T_67286aec_0e37_11eb_880e_0242ac1c0002row8_col0,#T_67286aec_0e37_11eb_880e_0242ac1c0002row8_col1,#T_67286aec_0e37_11eb_880e_0242ac1c0002row8_col2,#T_67286aec_0e37_11eb_880e_0242ac1c0002row8_col3,#T_67286aec_0e37_11eb_880e_0242ac1c0002row8_col4,#T_67286aec_0e37_11eb_880e_0242ac1c0002row8_col5,#T_67286aec_0e37_11eb_880e_0242ac1c0002row8_col6,#T_67286aec_0e37_11eb_880e_0242ac1c0002row8_col7,#T_67286aec_0e37_11eb_880e_0242ac1c0002row9_col0,#T_67286aec_0e37_11eb_880e_0242ac1c0002row9_col1,#T_67286aec_0e37_11eb_880e_0242ac1c0002row9_col2,#T_67286aec_0e37_11eb_880e_0242ac1c0002row9_col3,#T_67286aec_0e37_11eb_880e_0242ac1c0002row9_col4,#T_67286aec_0e37_11eb_880e_0242ac1c0002row9_col5,#T_67286aec_0e37_11eb_880e_0242ac1c0002row9_col6,#T_67286aec_0e37_11eb_880e_0242ac1c0002row9_col7,#T_67286aec_0e37_11eb_880e_0242ac1c0002row10_col0,#T_67286aec_0e37_11eb_880e_0242ac1c0002row10_col1,#T_67286aec_0e37_11eb_880e_0242ac1c0002row10_col2,#T_67286aec_0e37_11eb_880e_0242ac1c0002row10_col3,#T_67286aec_0e37_11eb_880e_0242ac1c0002row10_col4,#T_67286aec_0e37_11eb_880e_0242ac1c0002row10_col5,#T_67286aec_0e37_11eb_880e_0242ac1c0002row10_col6,#T_67286aec_0e37_11eb_880e_0242ac1c0002row10_col7,#T_67286aec_0e37_11eb_880e_0242ac1c0002row11_col0,#T_67286aec_0e37_11eb_880e_0242ac1c0002row11_col1,#T_67286aec_0e37_11eb_880e_0242ac1c0002row11_col2,#T_67286aec_0e37_11eb_880e_0242ac1c0002row11_col3,#T_67286aec_0e37_11eb_880e_0242ac1c0002row11_col4,#T_67286aec_0e37_11eb_880e_0242ac1c0002row11_col5,#T_67286aec_0e37_11eb_880e_0242ac1c0002row11_col6,#T_67286aec_0e37_11eb_880e_0242ac1c0002row11_col7,#T_67286aec_0e37_11eb_880e_0242ac1c0002row12_col0,#T_67286aec_0e37_11eb_880e_0242ac1c0002row12_col1,#T_67286aec_0e37_11eb_880e_0242ac1c0002row12_col2,#T_67286aec_0e37_11eb_880e_0242ac1c0002row12_col3,#T_67286aec_0e37_11eb_880e_0242ac1c0002row12_col4,#T_67286aec_0e37_11eb_880e_0242ac1c0002row12_col5,#T_67286aec_0e37_11eb_880e_0242ac1c0002row12_col6,#T_67286aec_0e37_11eb_880e_0242ac1c0002row12_col7,#T_67286aec_0e37_11eb_880e_0242ac1c0002row13_col0,#T_67286aec_0e37_11eb_880e_0242ac1c0002row13_col1,#T_67286aec_0e37_11eb_880e_0242ac1c0002row13_col2,#T_67286aec_0e37_11eb_880e_0242ac1c0002row13_col3,#T_67286aec_0e37_11eb_880e_0242ac1c0002row13_col4,#T_67286aec_0e37_11eb_880e_0242ac1c0002row13_col5,#T_67286aec_0e37_11eb_880e_0242ac1c0002row13_col6,#T_67286aec_0e37_11eb_880e_0242ac1c0002row13_col7,#T_67286aec_0e37_11eb_880e_0242ac1c0002row14_col0,#T_67286aec_0e37_11eb_880e_0242ac1c0002row14_col1,#T_67286aec_0e37_11eb_880e_0242ac1c0002row14_col2,#T_67286aec_0e37_11eb_880e_0242ac1c0002row14_col3,#T_67286aec_0e37_11eb_880e_0242ac1c0002row14_col4,#T_67286aec_0e37_11eb_880e_0242ac1c0002row14_col5,#T_67286aec_0e37_11eb_880e_0242ac1c0002row14_col6,#T_67286aec_0e37_11eb_880e_0242ac1c0002row14_col7{\n",
              "            text-align:  left;\n",
              "        }#T_67286aec_0e37_11eb_880e_0242ac1c0002row0_col1,#T_67286aec_0e37_11eb_880e_0242ac1c0002row0_col2,#T_67286aec_0e37_11eb_880e_0242ac1c0002row0_col5,#T_67286aec_0e37_11eb_880e_0242ac1c0002row0_col6,#T_67286aec_0e37_11eb_880e_0242ac1c0002row0_col7,#T_67286aec_0e37_11eb_880e_0242ac1c0002row1_col3,#T_67286aec_0e37_11eb_880e_0242ac1c0002row4_col4{\n",
              "            background-color:  yellow;\n",
              "            text-align:  left;\n",
              "        }#T_67286aec_0e37_11eb_880e_0242ac1c0002row0_col8,#T_67286aec_0e37_11eb_880e_0242ac1c0002row1_col8,#T_67286aec_0e37_11eb_880e_0242ac1c0002row2_col8,#T_67286aec_0e37_11eb_880e_0242ac1c0002row3_col8,#T_67286aec_0e37_11eb_880e_0242ac1c0002row4_col8,#T_67286aec_0e37_11eb_880e_0242ac1c0002row5_col8,#T_67286aec_0e37_11eb_880e_0242ac1c0002row6_col8,#T_67286aec_0e37_11eb_880e_0242ac1c0002row7_col8,#T_67286aec_0e37_11eb_880e_0242ac1c0002row8_col8,#T_67286aec_0e37_11eb_880e_0242ac1c0002row9_col8,#T_67286aec_0e37_11eb_880e_0242ac1c0002row10_col8,#T_67286aec_0e37_11eb_880e_0242ac1c0002row11_col8,#T_67286aec_0e37_11eb_880e_0242ac1c0002row12_col8,#T_67286aec_0e37_11eb_880e_0242ac1c0002row13_col8,#T_67286aec_0e37_11eb_880e_0242ac1c0002row14_col8{\n",
              "            background-color:  lightgrey;\n",
              "            text-align:  left;\n",
              "        }</style><table id=\"T_67286aec_0e37_11eb_880e_0242ac1c0002\" ><thead>    <tr>        <th class=\"blank level0\" ></th>        <th class=\"col_heading level0 col0\" >Model</th>        <th class=\"col_heading level0 col1\" >Accuracy</th>        <th class=\"col_heading level0 col2\" >AUC</th>        <th class=\"col_heading level0 col3\" >Recall</th>        <th class=\"col_heading level0 col4\" >Prec.</th>        <th class=\"col_heading level0 col5\" >F1</th>        <th class=\"col_heading level0 col6\" >Kappa</th>        <th class=\"col_heading level0 col7\" >MCC</th>        <th class=\"col_heading level0 col8\" >TT (Sec)</th>    </tr></thead><tbody>\n",
              "                <tr>\n",
              "                        <th id=\"T_67286aec_0e37_11eb_880e_0242ac1c0002level0_row0\" class=\"row_heading level0 row0\" >0</th>\n",
              "                        <td id=\"T_67286aec_0e37_11eb_880e_0242ac1c0002row0_col0\" class=\"data row0 col0\" >CatBoost Classifier</td>\n",
              "                        <td id=\"T_67286aec_0e37_11eb_880e_0242ac1c0002row0_col1\" class=\"data row0 col1\" >0.7743</td>\n",
              "                        <td id=\"T_67286aec_0e37_11eb_880e_0242ac1c0002row0_col2\" class=\"data row0 col2\" >0.8275</td>\n",
              "                        <td id=\"T_67286aec_0e37_11eb_880e_0242ac1c0002row0_col3\" class=\"data row0 col3\" >0.6176</td>\n",
              "                        <td id=\"T_67286aec_0e37_11eb_880e_0242ac1c0002row0_col4\" class=\"data row0 col4\" >0.7101</td>\n",
              "                        <td id=\"T_67286aec_0e37_11eb_880e_0242ac1c0002row0_col5\" class=\"data row0 col5\" >0.6554</td>\n",
              "                        <td id=\"T_67286aec_0e37_11eb_880e_0242ac1c0002row0_col6\" class=\"data row0 col6\" >0.4899</td>\n",
              "                        <td id=\"T_67286aec_0e37_11eb_880e_0242ac1c0002row0_col7\" class=\"data row0 col7\" >0.4965</td>\n",
              "                        <td id=\"T_67286aec_0e37_11eb_880e_0242ac1c0002row0_col8\" class=\"data row0 col8\" >1.5955</td>\n",
              "            </tr>\n",
              "            <tr>\n",
              "                        <th id=\"T_67286aec_0e37_11eb_880e_0242ac1c0002level0_row1\" class=\"row_heading level0 row1\" >1</th>\n",
              "                        <td id=\"T_67286aec_0e37_11eb_880e_0242ac1c0002row1_col0\" class=\"data row1 col0\" >Gradient Boosting Classifier</td>\n",
              "                        <td id=\"T_67286aec_0e37_11eb_880e_0242ac1c0002row1_col1\" class=\"data row1 col1\" >0.7709</td>\n",
              "                        <td id=\"T_67286aec_0e37_11eb_880e_0242ac1c0002row1_col2\" class=\"data row1 col2\" >0.8261</td>\n",
              "                        <td id=\"T_67286aec_0e37_11eb_880e_0242ac1c0002row1_col3\" class=\"data row1 col3\" >0.6224</td>\n",
              "                        <td id=\"T_67286aec_0e37_11eb_880e_0242ac1c0002row1_col4\" class=\"data row1 col4\" >0.6957</td>\n",
              "                        <td id=\"T_67286aec_0e37_11eb_880e_0242ac1c0002row1_col5\" class=\"data row1 col5\" >0.6530</td>\n",
              "                        <td id=\"T_67286aec_0e37_11eb_880e_0242ac1c0002row1_col6\" class=\"data row1 col6\" >0.4837</td>\n",
              "                        <td id=\"T_67286aec_0e37_11eb_880e_0242ac1c0002row1_col7\" class=\"data row1 col7\" >0.4882</td>\n",
              "                        <td id=\"T_67286aec_0e37_11eb_880e_0242ac1c0002row1_col8\" class=\"data row1 col8\" >0.1481</td>\n",
              "            </tr>\n",
              "            <tr>\n",
              "                        <th id=\"T_67286aec_0e37_11eb_880e_0242ac1c0002level0_row2\" class=\"row_heading level0 row2\" >2</th>\n",
              "                        <td id=\"T_67286aec_0e37_11eb_880e_0242ac1c0002row2_col0\" class=\"data row2 col0\" >Extreme Gradient Boosting</td>\n",
              "                        <td id=\"T_67286aec_0e37_11eb_880e_0242ac1c0002row2_col1\" class=\"data row2 col1\" >0.7691</td>\n",
              "                        <td id=\"T_67286aec_0e37_11eb_880e_0242ac1c0002row2_col2\" class=\"data row2 col2\" >0.8240</td>\n",
              "                        <td id=\"T_67286aec_0e37_11eb_880e_0242ac1c0002row2_col3\" class=\"data row2 col3\" >0.6124</td>\n",
              "                        <td id=\"T_67286aec_0e37_11eb_880e_0242ac1c0002row2_col4\" class=\"data row2 col4\" >0.6980</td>\n",
              "                        <td id=\"T_67286aec_0e37_11eb_880e_0242ac1c0002row2_col5\" class=\"data row2 col5\" >0.6482</td>\n",
              "                        <td id=\"T_67286aec_0e37_11eb_880e_0242ac1c0002row2_col6\" class=\"data row2 col6\" >0.4781</td>\n",
              "                        <td id=\"T_67286aec_0e37_11eb_880e_0242ac1c0002row2_col7\" class=\"data row2 col7\" >0.4835</td>\n",
              "                        <td id=\"T_67286aec_0e37_11eb_880e_0242ac1c0002row2_col8\" class=\"data row2 col8\" >0.0630</td>\n",
              "            </tr>\n",
              "            <tr>\n",
              "                        <th id=\"T_67286aec_0e37_11eb_880e_0242ac1c0002level0_row3\" class=\"row_heading level0 row3\" >3</th>\n",
              "                        <td id=\"T_67286aec_0e37_11eb_880e_0242ac1c0002row3_col0\" class=\"data row3 col0\" >Linear Discriminant Analysis</td>\n",
              "                        <td id=\"T_67286aec_0e37_11eb_880e_0242ac1c0002row3_col1\" class=\"data row3 col1\" >0.7639</td>\n",
              "                        <td id=\"T_67286aec_0e37_11eb_880e_0242ac1c0002row3_col2\" class=\"data row3 col2\" >0.8089</td>\n",
              "                        <td id=\"T_67286aec_0e37_11eb_880e_0242ac1c0002row3_col3\" class=\"data row3 col3\" >0.5531</td>\n",
              "                        <td id=\"T_67286aec_0e37_11eb_880e_0242ac1c0002row3_col4\" class=\"data row3 col4\" >0.7127</td>\n",
              "                        <td id=\"T_67286aec_0e37_11eb_880e_0242ac1c0002row3_col5\" class=\"data row3 col5\" >0.6168</td>\n",
              "                        <td id=\"T_67286aec_0e37_11eb_880e_0242ac1c0002row3_col6\" class=\"data row3 col6\" >0.4517</td>\n",
              "                        <td id=\"T_67286aec_0e37_11eb_880e_0242ac1c0002row3_col7\" class=\"data row3 col7\" >0.4627</td>\n",
              "                        <td id=\"T_67286aec_0e37_11eb_880e_0242ac1c0002row3_col8\" class=\"data row3 col8\" >0.0088</td>\n",
              "            </tr>\n",
              "            <tr>\n",
              "                        <th id=\"T_67286aec_0e37_11eb_880e_0242ac1c0002level0_row4\" class=\"row_heading level0 row4\" >4</th>\n",
              "                        <td id=\"T_67286aec_0e37_11eb_880e_0242ac1c0002row4_col0\" class=\"data row4 col0\" >Ridge Classifier</td>\n",
              "                        <td id=\"T_67286aec_0e37_11eb_880e_0242ac1c0002row4_col1\" class=\"data row4 col1\" >0.7621</td>\n",
              "                        <td id=\"T_67286aec_0e37_11eb_880e_0242ac1c0002row4_col2\" class=\"data row4 col2\" >0.0000</td>\n",
              "                        <td id=\"T_67286aec_0e37_11eb_880e_0242ac1c0002row4_col3\" class=\"data row4 col3\" >0.5429</td>\n",
              "                        <td id=\"T_67286aec_0e37_11eb_880e_0242ac1c0002row4_col4\" class=\"data row4 col4\" >0.7142</td>\n",
              "                        <td id=\"T_67286aec_0e37_11eb_880e_0242ac1c0002row4_col5\" class=\"data row4 col5\" >0.6114</td>\n",
              "                        <td id=\"T_67286aec_0e37_11eb_880e_0242ac1c0002row4_col6\" class=\"data row4 col6\" >0.4458</td>\n",
              "                        <td id=\"T_67286aec_0e37_11eb_880e_0242ac1c0002row4_col7\" class=\"data row4 col7\" >0.4578</td>\n",
              "                        <td id=\"T_67286aec_0e37_11eb_880e_0242ac1c0002row4_col8\" class=\"data row4 col8\" >0.0104</td>\n",
              "            </tr>\n",
              "            <tr>\n",
              "                        <th id=\"T_67286aec_0e37_11eb_880e_0242ac1c0002level0_row5\" class=\"row_heading level0 row5\" >5</th>\n",
              "                        <td id=\"T_67286aec_0e37_11eb_880e_0242ac1c0002row5_col0\" class=\"data row5 col0\" >Logistic Regression</td>\n",
              "                        <td id=\"T_67286aec_0e37_11eb_880e_0242ac1c0002row5_col1\" class=\"data row5 col1\" >0.7587</td>\n",
              "                        <td id=\"T_67286aec_0e37_11eb_880e_0242ac1c0002row5_col2\" class=\"data row5 col2\" >0.8056</td>\n",
              "                        <td id=\"T_67286aec_0e37_11eb_880e_0242ac1c0002row5_col3\" class=\"data row5 col3\" >0.5429</td>\n",
              "                        <td id=\"T_67286aec_0e37_11eb_880e_0242ac1c0002row5_col4\" class=\"data row5 col4\" >0.7051</td>\n",
              "                        <td id=\"T_67286aec_0e37_11eb_880e_0242ac1c0002row5_col5\" class=\"data row5 col5\" >0.6089</td>\n",
              "                        <td id=\"T_67286aec_0e37_11eb_880e_0242ac1c0002row5_col6\" class=\"data row5 col6\" >0.4395</td>\n",
              "                        <td id=\"T_67286aec_0e37_11eb_880e_0242ac1c0002row5_col7\" class=\"data row5 col7\" >0.4503</td>\n",
              "                        <td id=\"T_67286aec_0e37_11eb_880e_0242ac1c0002row5_col8\" class=\"data row5 col8\" >0.0479</td>\n",
              "            </tr>\n",
              "            <tr>\n",
              "                        <th id=\"T_67286aec_0e37_11eb_880e_0242ac1c0002level0_row6\" class=\"row_heading level0 row6\" >6</th>\n",
              "                        <td id=\"T_67286aec_0e37_11eb_880e_0242ac1c0002row6_col0\" class=\"data row6 col0\" >Extra Trees Classifier</td>\n",
              "                        <td id=\"T_67286aec_0e37_11eb_880e_0242ac1c0002row6_col1\" class=\"data row6 col1\" >0.7413</td>\n",
              "                        <td id=\"T_67286aec_0e37_11eb_880e_0242ac1c0002row6_col2\" class=\"data row6 col2\" >0.7914</td>\n",
              "                        <td id=\"T_67286aec_0e37_11eb_880e_0242ac1c0002row6_col3\" class=\"data row6 col3\" >0.5129</td>\n",
              "                        <td id=\"T_67286aec_0e37_11eb_880e_0242ac1c0002row6_col4\" class=\"data row6 col4\" >0.6737</td>\n",
              "                        <td id=\"T_67286aec_0e37_11eb_880e_0242ac1c0002row6_col5\" class=\"data row6 col5\" >0.5786</td>\n",
              "                        <td id=\"T_67286aec_0e37_11eb_880e_0242ac1c0002row6_col6\" class=\"data row6 col6\" >0.3979</td>\n",
              "                        <td id=\"T_67286aec_0e37_11eb_880e_0242ac1c0002row6_col7\" class=\"data row6 col7\" >0.4077</td>\n",
              "                        <td id=\"T_67286aec_0e37_11eb_880e_0242ac1c0002row6_col8\" class=\"data row6 col8\" >0.2513</td>\n",
              "            </tr>\n",
              "            <tr>\n",
              "                        <th id=\"T_67286aec_0e37_11eb_880e_0242ac1c0002level0_row7\" class=\"row_heading level0 row7\" >7</th>\n",
              "                        <td id=\"T_67286aec_0e37_11eb_880e_0242ac1c0002row7_col0\" class=\"data row7 col0\" >Ada Boost Classifier</td>\n",
              "                        <td id=\"T_67286aec_0e37_11eb_880e_0242ac1c0002row7_col1\" class=\"data row7 col1\" >0.7377</td>\n",
              "                        <td id=\"T_67286aec_0e37_11eb_880e_0242ac1c0002row7_col2\" class=\"data row7 col2\" >0.7974</td>\n",
              "                        <td id=\"T_67286aec_0e37_11eb_880e_0242ac1c0002row7_col3\" class=\"data row7 col3\" >0.5621</td>\n",
              "                        <td id=\"T_67286aec_0e37_11eb_880e_0242ac1c0002row7_col4\" class=\"data row7 col4\" >0.6473</td>\n",
              "                        <td id=\"T_67286aec_0e37_11eb_880e_0242ac1c0002row7_col5\" class=\"data row7 col5\" >0.6002</td>\n",
              "                        <td id=\"T_67286aec_0e37_11eb_880e_0242ac1c0002row7_col6\" class=\"data row7 col6\" >0.4065</td>\n",
              "                        <td id=\"T_67286aec_0e37_11eb_880e_0242ac1c0002row7_col7\" class=\"data row7 col7\" >0.4101</td>\n",
              "                        <td id=\"T_67286aec_0e37_11eb_880e_0242ac1c0002row7_col8\" class=\"data row7 col8\" >0.0995</td>\n",
              "            </tr>\n",
              "            <tr>\n",
              "                        <th id=\"T_67286aec_0e37_11eb_880e_0242ac1c0002level0_row8\" class=\"row_heading level0 row8\" >8</th>\n",
              "                        <td id=\"T_67286aec_0e37_11eb_880e_0242ac1c0002row8_col0\" class=\"data row8 col0\" >K Neighbors Classifier</td>\n",
              "                        <td id=\"T_67286aec_0e37_11eb_880e_0242ac1c0002row8_col1\" class=\"data row8 col1\" >0.7220</td>\n",
              "                        <td id=\"T_67286aec_0e37_11eb_880e_0242ac1c0002row8_col2\" class=\"data row8 col2\" >0.7463</td>\n",
              "                        <td id=\"T_67286aec_0e37_11eb_880e_0242ac1c0002row8_col3\" class=\"data row8 col3\" >0.5231</td>\n",
              "                        <td id=\"T_67286aec_0e37_11eb_880e_0242ac1c0002row8_col4\" class=\"data row8 col4\" >0.6311</td>\n",
              "                        <td id=\"T_67286aec_0e37_11eb_880e_0242ac1c0002row8_col5\" class=\"data row8 col5\" >0.5615</td>\n",
              "                        <td id=\"T_67286aec_0e37_11eb_880e_0242ac1c0002row8_col6\" class=\"data row8 col6\" >0.3637</td>\n",
              "                        <td id=\"T_67286aec_0e37_11eb_880e_0242ac1c0002row8_col7\" class=\"data row8 col7\" >0.3736</td>\n",
              "                        <td id=\"T_67286aec_0e37_11eb_880e_0242ac1c0002row8_col8\" class=\"data row8 col8\" >0.0053</td>\n",
              "            </tr>\n",
              "            <tr>\n",
              "                        <th id=\"T_67286aec_0e37_11eb_880e_0242ac1c0002level0_row9\" class=\"row_heading level0 row9\" >9</th>\n",
              "                        <td id=\"T_67286aec_0e37_11eb_880e_0242ac1c0002row9_col0\" class=\"data row9 col0\" >Light Gradient Boosting Machine</td>\n",
              "                        <td id=\"T_67286aec_0e37_11eb_880e_0242ac1c0002row9_col1\" class=\"data row9 col1\" >0.7203</td>\n",
              "                        <td id=\"T_67286aec_0e37_11eb_880e_0242ac1c0002row9_col2\" class=\"data row9 col2\" >0.7826</td>\n",
              "                        <td id=\"T_67286aec_0e37_11eb_880e_0242ac1c0002row9_col3\" class=\"data row9 col3\" >0.5474</td>\n",
              "                        <td id=\"T_67286aec_0e37_11eb_880e_0242ac1c0002row9_col4\" class=\"data row9 col4\" >0.6123</td>\n",
              "                        <td id=\"T_67286aec_0e37_11eb_880e_0242ac1c0002row9_col5\" class=\"data row9 col5\" >0.5757</td>\n",
              "                        <td id=\"T_67286aec_0e37_11eb_880e_0242ac1c0002row9_col6\" class=\"data row9 col6\" >0.3688</td>\n",
              "                        <td id=\"T_67286aec_0e37_11eb_880e_0242ac1c0002row9_col7\" class=\"data row9 col7\" >0.3716</td>\n",
              "                        <td id=\"T_67286aec_0e37_11eb_880e_0242ac1c0002row9_col8\" class=\"data row9 col8\" >0.0610</td>\n",
              "            </tr>\n",
              "            <tr>\n",
              "                        <th id=\"T_67286aec_0e37_11eb_880e_0242ac1c0002level0_row10\" class=\"row_heading level0 row10\" >10</th>\n",
              "                        <td id=\"T_67286aec_0e37_11eb_880e_0242ac1c0002row10_col0\" class=\"data row10 col0\" >Random Forest Classifier</td>\n",
              "                        <td id=\"T_67286aec_0e37_11eb_880e_0242ac1c0002row10_col1\" class=\"data row10 col1\" >0.7172</td>\n",
              "                        <td id=\"T_67286aec_0e37_11eb_880e_0242ac1c0002row10_col2\" class=\"data row10 col2\" >0.7787</td>\n",
              "                        <td id=\"T_67286aec_0e37_11eb_880e_0242ac1c0002row10_col3\" class=\"data row10 col3\" >0.4481</td>\n",
              "                        <td id=\"T_67286aec_0e37_11eb_880e_0242ac1c0002row10_col4\" class=\"data row10 col4\" >0.6361</td>\n",
              "                        <td id=\"T_67286aec_0e37_11eb_880e_0242ac1c0002row10_col5\" class=\"data row10 col5\" >0.5247</td>\n",
              "                        <td id=\"T_67286aec_0e37_11eb_880e_0242ac1c0002row10_col6\" class=\"data row10 col6\" >0.3321</td>\n",
              "                        <td id=\"T_67286aec_0e37_11eb_880e_0242ac1c0002row10_col7\" class=\"data row10 col7\" >0.3431</td>\n",
              "                        <td id=\"T_67286aec_0e37_11eb_880e_0242ac1c0002row10_col8\" class=\"data row10 col8\" >0.1127</td>\n",
              "            </tr>\n",
              "            <tr>\n",
              "                        <th id=\"T_67286aec_0e37_11eb_880e_0242ac1c0002level0_row11\" class=\"row_heading level0 row11\" >11</th>\n",
              "                        <td id=\"T_67286aec_0e37_11eb_880e_0242ac1c0002row11_col0\" class=\"data row11 col0\" >Decision Tree Classifier</td>\n",
              "                        <td id=\"T_67286aec_0e37_11eb_880e_0242ac1c0002row11_col1\" class=\"data row11 col1\" >0.7118</td>\n",
              "                        <td id=\"T_67286aec_0e37_11eb_880e_0242ac1c0002row11_col2\" class=\"data row11 col2\" >0.6840</td>\n",
              "                        <td id=\"T_67286aec_0e37_11eb_880e_0242ac1c0002row11_col3\" class=\"data row11 col3\" >0.5919</td>\n",
              "                        <td id=\"T_67286aec_0e37_11eb_880e_0242ac1c0002row11_col4\" class=\"data row11 col4\" >0.5931</td>\n",
              "                        <td id=\"T_67286aec_0e37_11eb_880e_0242ac1c0002row11_col5\" class=\"data row11 col5\" >0.5888</td>\n",
              "                        <td id=\"T_67286aec_0e37_11eb_880e_0242ac1c0002row11_col6\" class=\"data row11 col6\" >0.3679</td>\n",
              "                        <td id=\"T_67286aec_0e37_11eb_880e_0242ac1c0002row11_col7\" class=\"data row11 col7\" >0.3708</td>\n",
              "                        <td id=\"T_67286aec_0e37_11eb_880e_0242ac1c0002row11_col8\" class=\"data row11 col8\" >0.0080</td>\n",
              "            </tr>\n",
              "            <tr>\n",
              "                        <th id=\"T_67286aec_0e37_11eb_880e_0242ac1c0002level0_row12\" class=\"row_heading level0 row12\" >12</th>\n",
              "                        <td id=\"T_67286aec_0e37_11eb_880e_0242ac1c0002row12_col0\" class=\"data row12 col0\" >Naive Bayes</td>\n",
              "                        <td id=\"T_67286aec_0e37_11eb_880e_0242ac1c0002row12_col1\" class=\"data row12 col1\" >0.6753</td>\n",
              "                        <td id=\"T_67286aec_0e37_11eb_880e_0242ac1c0002row12_col2\" class=\"data row12 col2\" >0.7457</td>\n",
              "                        <td id=\"T_67286aec_0e37_11eb_880e_0242ac1c0002row12_col3\" class=\"data row12 col3\" >0.2543</td>\n",
              "                        <td id=\"T_67286aec_0e37_11eb_880e_0242ac1c0002row12_col4\" class=\"data row12 col4\" >0.5871</td>\n",
              "                        <td id=\"T_67286aec_0e37_11eb_880e_0242ac1c0002row12_col5\" class=\"data row12 col5\" >0.3501</td>\n",
              "                        <td id=\"T_67286aec_0e37_11eb_880e_0242ac1c0002row12_col6\" class=\"data row12 col6\" >0.1782</td>\n",
              "                        <td id=\"T_67286aec_0e37_11eb_880e_0242ac1c0002row12_col7\" class=\"data row12 col7\" >0.2076</td>\n",
              "                        <td id=\"T_67286aec_0e37_11eb_880e_0242ac1c0002row12_col8\" class=\"data row12 col8\" >0.0052</td>\n",
              "            </tr>\n",
              "            <tr>\n",
              "                        <th id=\"T_67286aec_0e37_11eb_880e_0242ac1c0002level0_row13\" class=\"row_heading level0 row13\" >13</th>\n",
              "                        <td id=\"T_67286aec_0e37_11eb_880e_0242ac1c0002row13_col0\" class=\"data row13 col0\" >Quadratic Discriminant Analysis</td>\n",
              "                        <td id=\"T_67286aec_0e37_11eb_880e_0242ac1c0002row13_col1\" class=\"data row13 col1\" >0.5924</td>\n",
              "                        <td id=\"T_67286aec_0e37_11eb_880e_0242ac1c0002row13_col2\" class=\"data row13 col2\" >0.5589</td>\n",
              "                        <td id=\"T_67286aec_0e37_11eb_880e_0242ac1c0002row13_col3\" class=\"data row13 col3\" >0.4088</td>\n",
              "                        <td id=\"T_67286aec_0e37_11eb_880e_0242ac1c0002row13_col4\" class=\"data row13 col4\" >0.4785</td>\n",
              "                        <td id=\"T_67286aec_0e37_11eb_880e_0242ac1c0002row13_col5\" class=\"data row13 col5\" >0.3946</td>\n",
              "                        <td id=\"T_67286aec_0e37_11eb_880e_0242ac1c0002row13_col6\" class=\"data row13 col6\" >0.1086</td>\n",
              "                        <td id=\"T_67286aec_0e37_11eb_880e_0242ac1c0002row13_col7\" class=\"data row13 col7\" >0.1251</td>\n",
              "                        <td id=\"T_67286aec_0e37_11eb_880e_0242ac1c0002row13_col8\" class=\"data row13 col8\" >0.0078</td>\n",
              "            </tr>\n",
              "            <tr>\n",
              "                        <th id=\"T_67286aec_0e37_11eb_880e_0242ac1c0002level0_row14\" class=\"row_heading level0 row14\" >14</th>\n",
              "                        <td id=\"T_67286aec_0e37_11eb_880e_0242ac1c0002row14_col0\" class=\"data row14 col0\" >SVM - Linear Kernel</td>\n",
              "                        <td id=\"T_67286aec_0e37_11eb_880e_0242ac1c0002row14_col1\" class=\"data row14 col1\" >0.5453</td>\n",
              "                        <td id=\"T_67286aec_0e37_11eb_880e_0242ac1c0002row14_col2\" class=\"data row14 col2\" >0.0000</td>\n",
              "                        <td id=\"T_67286aec_0e37_11eb_880e_0242ac1c0002row14_col3\" class=\"data row14 col3\" >0.6148</td>\n",
              "                        <td id=\"T_67286aec_0e37_11eb_880e_0242ac1c0002row14_col4\" class=\"data row14 col4\" >0.4214</td>\n",
              "                        <td id=\"T_67286aec_0e37_11eb_880e_0242ac1c0002row14_col5\" class=\"data row14 col5\" >0.4345</td>\n",
              "                        <td id=\"T_67286aec_0e37_11eb_880e_0242ac1c0002row14_col6\" class=\"data row14 col6\" >0.1132</td>\n",
              "                        <td id=\"T_67286aec_0e37_11eb_880e_0242ac1c0002row14_col7\" class=\"data row14 col7\" >0.1260</td>\n",
              "                        <td id=\"T_67286aec_0e37_11eb_880e_0242ac1c0002row14_col8\" class=\"data row14 col8\" >0.0092</td>\n",
              "            </tr>\n",
              "    </tbody></table>"
            ],
            "text/plain": [
              "<pandas.io.formats.style.Styler at 0x7fb2062a0be0>"
            ]
          },
          "metadata": {
            "tags": []
          }
        },
        {
          "output_type": "execute_result",
          "data": {
            "text/plain": [
              "<catboost.core.CatBoostClassifier at 0x7fb207a91ba8>"
            ]
          },
          "metadata": {
            "tags": []
          },
          "execution_count": 8
        }
      ]
    },
    {
      "cell_type": "markdown",
      "metadata": {
        "id": "F_EyC9srJJOb"
      },
      "source": [
        "So the best algo as per the above model comparision for the given dataset is  CatBoost Classifier"
      ]
    },
    {
      "cell_type": "code",
      "metadata": {
        "id": "JSAaIBKjJMKb"
      },
      "source": [
        ""
      ],
      "execution_count": 8,
      "outputs": []
    },
    {
      "cell_type": "markdown",
      "metadata": {
        "id": "oWM_siWQJaew"
      },
      "source": [
        "Simple Regression"
      ]
    },
    {
      "cell_type": "code",
      "metadata": {
        "id": "0vs2z1vCJcuC",
        "outputId": "a274d47a-16c9-432f-aaa0-fb4e87bcdb11",
        "colab": {
          "base_uri": "https://localhost:8080/",
          "height": 204
        }
      },
      "source": [
        "boston=get_data('boston')"
      ],
      "execution_count": 9,
      "outputs": [
        {
          "output_type": "display_data",
          "data": {
            "text/html": [
              "<div>\n",
              "<style scoped>\n",
              "    .dataframe tbody tr th:only-of-type {\n",
              "        vertical-align: middle;\n",
              "    }\n",
              "\n",
              "    .dataframe tbody tr th {\n",
              "        vertical-align: top;\n",
              "    }\n",
              "\n",
              "    .dataframe thead th {\n",
              "        text-align: right;\n",
              "    }\n",
              "</style>\n",
              "<table border=\"1\" class=\"dataframe\">\n",
              "  <thead>\n",
              "    <tr style=\"text-align: right;\">\n",
              "      <th></th>\n",
              "      <th>crim</th>\n",
              "      <th>zn</th>\n",
              "      <th>indus</th>\n",
              "      <th>chas</th>\n",
              "      <th>nox</th>\n",
              "      <th>rm</th>\n",
              "      <th>age</th>\n",
              "      <th>dis</th>\n",
              "      <th>rad</th>\n",
              "      <th>tax</th>\n",
              "      <th>ptratio</th>\n",
              "      <th>black</th>\n",
              "      <th>lstat</th>\n",
              "      <th>medv</th>\n",
              "    </tr>\n",
              "  </thead>\n",
              "  <tbody>\n",
              "    <tr>\n",
              "      <th>0</th>\n",
              "      <td>0.00632</td>\n",
              "      <td>18.0</td>\n",
              "      <td>2.31</td>\n",
              "      <td>0</td>\n",
              "      <td>0.538</td>\n",
              "      <td>6.575</td>\n",
              "      <td>65.2</td>\n",
              "      <td>4.0900</td>\n",
              "      <td>1</td>\n",
              "      <td>296</td>\n",
              "      <td>15.3</td>\n",
              "      <td>396.90</td>\n",
              "      <td>4.98</td>\n",
              "      <td>24.0</td>\n",
              "    </tr>\n",
              "    <tr>\n",
              "      <th>1</th>\n",
              "      <td>0.02731</td>\n",
              "      <td>0.0</td>\n",
              "      <td>7.07</td>\n",
              "      <td>0</td>\n",
              "      <td>0.469</td>\n",
              "      <td>6.421</td>\n",
              "      <td>78.9</td>\n",
              "      <td>4.9671</td>\n",
              "      <td>2</td>\n",
              "      <td>242</td>\n",
              "      <td>17.8</td>\n",
              "      <td>396.90</td>\n",
              "      <td>9.14</td>\n",
              "      <td>21.6</td>\n",
              "    </tr>\n",
              "    <tr>\n",
              "      <th>2</th>\n",
              "      <td>0.02729</td>\n",
              "      <td>0.0</td>\n",
              "      <td>7.07</td>\n",
              "      <td>0</td>\n",
              "      <td>0.469</td>\n",
              "      <td>7.185</td>\n",
              "      <td>61.1</td>\n",
              "      <td>4.9671</td>\n",
              "      <td>2</td>\n",
              "      <td>242</td>\n",
              "      <td>17.8</td>\n",
              "      <td>392.83</td>\n",
              "      <td>4.03</td>\n",
              "      <td>34.7</td>\n",
              "    </tr>\n",
              "    <tr>\n",
              "      <th>3</th>\n",
              "      <td>0.03237</td>\n",
              "      <td>0.0</td>\n",
              "      <td>2.18</td>\n",
              "      <td>0</td>\n",
              "      <td>0.458</td>\n",
              "      <td>6.998</td>\n",
              "      <td>45.8</td>\n",
              "      <td>6.0622</td>\n",
              "      <td>3</td>\n",
              "      <td>222</td>\n",
              "      <td>18.7</td>\n",
              "      <td>394.63</td>\n",
              "      <td>2.94</td>\n",
              "      <td>33.4</td>\n",
              "    </tr>\n",
              "    <tr>\n",
              "      <th>4</th>\n",
              "      <td>0.06905</td>\n",
              "      <td>0.0</td>\n",
              "      <td>2.18</td>\n",
              "      <td>0</td>\n",
              "      <td>0.458</td>\n",
              "      <td>7.147</td>\n",
              "      <td>54.2</td>\n",
              "      <td>6.0622</td>\n",
              "      <td>3</td>\n",
              "      <td>222</td>\n",
              "      <td>18.7</td>\n",
              "      <td>396.90</td>\n",
              "      <td>5.33</td>\n",
              "      <td>36.2</td>\n",
              "    </tr>\n",
              "  </tbody>\n",
              "</table>\n",
              "</div>"
            ],
            "text/plain": [
              "      crim    zn  indus  chas    nox  ...  tax  ptratio   black  lstat  medv\n",
              "0  0.00632  18.0   2.31     0  0.538  ...  296     15.3  396.90   4.98  24.0\n",
              "1  0.02731   0.0   7.07     0  0.469  ...  242     17.8  396.90   9.14  21.6\n",
              "2  0.02729   0.0   7.07     0  0.469  ...  242     17.8  392.83   4.03  34.7\n",
              "3  0.03237   0.0   2.18     0  0.458  ...  222     18.7  394.63   2.94  33.4\n",
              "4  0.06905   0.0   2.18     0  0.458  ...  222     18.7  396.90   5.33  36.2\n",
              "\n",
              "[5 rows x 14 columns]"
            ]
          },
          "metadata": {
            "tags": []
          }
        }
      ]
    },
    {
      "cell_type": "code",
      "metadata": {
        "id": "a4lBeBJ3Jj7R"
      },
      "source": [
        "from pycaret.regression import *"
      ],
      "execution_count": 10,
      "outputs": []
    },
    {
      "cell_type": "code",
      "metadata": {
        "id": "8SGtE_RHJuqL",
        "outputId": "6015ec74-d326-4b59-d687-8c5ac2084f4f",
        "colab": {
          "base_uri": "https://localhost:8080/",
          "height": 956,
          "referenced_widgets": [
            "c62bf00211ed4439b3f60bc3b566e91d",
            "291b3450c4a34939b683efe809416a0e",
            "9bc8122eb037480a81a701c2114bfb27",
            "7b9fdb273d484fea9db4a1a41b92db88",
            "7e8e7dd7db8e48b3913fabef0cf3c3c2",
            "1ee6cd602ecc489d8dfbf84984f026cb"
          ]
        }
      },
      "source": [
        "reg=setup(data=boston,target='medv',train_size=0.75)"
      ],
      "execution_count": 11,
      "outputs": [
        {
          "output_type": "stream",
          "text": [
            " \n",
            "Setup Succesfully Completed.\n"
          ],
          "name": "stdout"
        },
        {
          "output_type": "display_data",
          "data": {
            "text/html": [
              "<style  type=\"text/css\" >\n",
              "</style><table id=\"T_777f9a8c_0e37_11eb_880e_0242ac1c0002\" ><thead>    <tr>        <th class=\"blank level0\" ></th>        <th class=\"col_heading level0 col0\" >Description</th>        <th class=\"col_heading level0 col1\" >Value</th>    </tr></thead><tbody>\n",
              "                <tr>\n",
              "                        <th id=\"T_777f9a8c_0e37_11eb_880e_0242ac1c0002level0_row0\" class=\"row_heading level0 row0\" >0</th>\n",
              "                        <td id=\"T_777f9a8c_0e37_11eb_880e_0242ac1c0002row0_col0\" class=\"data row0 col0\" >session_id</td>\n",
              "                        <td id=\"T_777f9a8c_0e37_11eb_880e_0242ac1c0002row0_col1\" class=\"data row0 col1\" >5278</td>\n",
              "            </tr>\n",
              "            <tr>\n",
              "                        <th id=\"T_777f9a8c_0e37_11eb_880e_0242ac1c0002level0_row1\" class=\"row_heading level0 row1\" >1</th>\n",
              "                        <td id=\"T_777f9a8c_0e37_11eb_880e_0242ac1c0002row1_col0\" class=\"data row1 col0\" >Transform Target </td>\n",
              "                        <td id=\"T_777f9a8c_0e37_11eb_880e_0242ac1c0002row1_col1\" class=\"data row1 col1\" >False</td>\n",
              "            </tr>\n",
              "            <tr>\n",
              "                        <th id=\"T_777f9a8c_0e37_11eb_880e_0242ac1c0002level0_row2\" class=\"row_heading level0 row2\" >2</th>\n",
              "                        <td id=\"T_777f9a8c_0e37_11eb_880e_0242ac1c0002row2_col0\" class=\"data row2 col0\" >Transform Target Method</td>\n",
              "                        <td id=\"T_777f9a8c_0e37_11eb_880e_0242ac1c0002row2_col1\" class=\"data row2 col1\" >None</td>\n",
              "            </tr>\n",
              "            <tr>\n",
              "                        <th id=\"T_777f9a8c_0e37_11eb_880e_0242ac1c0002level0_row3\" class=\"row_heading level0 row3\" >3</th>\n",
              "                        <td id=\"T_777f9a8c_0e37_11eb_880e_0242ac1c0002row3_col0\" class=\"data row3 col0\" >Original Data</td>\n",
              "                        <td id=\"T_777f9a8c_0e37_11eb_880e_0242ac1c0002row3_col1\" class=\"data row3 col1\" >(506, 14)</td>\n",
              "            </tr>\n",
              "            <tr>\n",
              "                        <th id=\"T_777f9a8c_0e37_11eb_880e_0242ac1c0002level0_row4\" class=\"row_heading level0 row4\" >4</th>\n",
              "                        <td id=\"T_777f9a8c_0e37_11eb_880e_0242ac1c0002row4_col0\" class=\"data row4 col0\" >Missing Values </td>\n",
              "                        <td id=\"T_777f9a8c_0e37_11eb_880e_0242ac1c0002row4_col1\" class=\"data row4 col1\" >False</td>\n",
              "            </tr>\n",
              "            <tr>\n",
              "                        <th id=\"T_777f9a8c_0e37_11eb_880e_0242ac1c0002level0_row5\" class=\"row_heading level0 row5\" >5</th>\n",
              "                        <td id=\"T_777f9a8c_0e37_11eb_880e_0242ac1c0002row5_col0\" class=\"data row5 col0\" >Numeric Features </td>\n",
              "                        <td id=\"T_777f9a8c_0e37_11eb_880e_0242ac1c0002row5_col1\" class=\"data row5 col1\" >11</td>\n",
              "            </tr>\n",
              "            <tr>\n",
              "                        <th id=\"T_777f9a8c_0e37_11eb_880e_0242ac1c0002level0_row6\" class=\"row_heading level0 row6\" >6</th>\n",
              "                        <td id=\"T_777f9a8c_0e37_11eb_880e_0242ac1c0002row6_col0\" class=\"data row6 col0\" >Categorical Features </td>\n",
              "                        <td id=\"T_777f9a8c_0e37_11eb_880e_0242ac1c0002row6_col1\" class=\"data row6 col1\" >2</td>\n",
              "            </tr>\n",
              "            <tr>\n",
              "                        <th id=\"T_777f9a8c_0e37_11eb_880e_0242ac1c0002level0_row7\" class=\"row_heading level0 row7\" >7</th>\n",
              "                        <td id=\"T_777f9a8c_0e37_11eb_880e_0242ac1c0002row7_col0\" class=\"data row7 col0\" >Ordinal Features </td>\n",
              "                        <td id=\"T_777f9a8c_0e37_11eb_880e_0242ac1c0002row7_col1\" class=\"data row7 col1\" >False</td>\n",
              "            </tr>\n",
              "            <tr>\n",
              "                        <th id=\"T_777f9a8c_0e37_11eb_880e_0242ac1c0002level0_row8\" class=\"row_heading level0 row8\" >8</th>\n",
              "                        <td id=\"T_777f9a8c_0e37_11eb_880e_0242ac1c0002row8_col0\" class=\"data row8 col0\" >High Cardinality Features </td>\n",
              "                        <td id=\"T_777f9a8c_0e37_11eb_880e_0242ac1c0002row8_col1\" class=\"data row8 col1\" >False</td>\n",
              "            </tr>\n",
              "            <tr>\n",
              "                        <th id=\"T_777f9a8c_0e37_11eb_880e_0242ac1c0002level0_row9\" class=\"row_heading level0 row9\" >9</th>\n",
              "                        <td id=\"T_777f9a8c_0e37_11eb_880e_0242ac1c0002row9_col0\" class=\"data row9 col0\" >High Cardinality Method </td>\n",
              "                        <td id=\"T_777f9a8c_0e37_11eb_880e_0242ac1c0002row9_col1\" class=\"data row9 col1\" >None</td>\n",
              "            </tr>\n",
              "            <tr>\n",
              "                        <th id=\"T_777f9a8c_0e37_11eb_880e_0242ac1c0002level0_row10\" class=\"row_heading level0 row10\" >10</th>\n",
              "                        <td id=\"T_777f9a8c_0e37_11eb_880e_0242ac1c0002row10_col0\" class=\"data row10 col0\" >Sampled Data</td>\n",
              "                        <td id=\"T_777f9a8c_0e37_11eb_880e_0242ac1c0002row10_col1\" class=\"data row10 col1\" >(506, 14)</td>\n",
              "            </tr>\n",
              "            <tr>\n",
              "                        <th id=\"T_777f9a8c_0e37_11eb_880e_0242ac1c0002level0_row11\" class=\"row_heading level0 row11\" >11</th>\n",
              "                        <td id=\"T_777f9a8c_0e37_11eb_880e_0242ac1c0002row11_col0\" class=\"data row11 col0\" >Transformed Train Set</td>\n",
              "                        <td id=\"T_777f9a8c_0e37_11eb_880e_0242ac1c0002row11_col1\" class=\"data row11 col1\" >(379, 22)</td>\n",
              "            </tr>\n",
              "            <tr>\n",
              "                        <th id=\"T_777f9a8c_0e37_11eb_880e_0242ac1c0002level0_row12\" class=\"row_heading level0 row12\" >12</th>\n",
              "                        <td id=\"T_777f9a8c_0e37_11eb_880e_0242ac1c0002row12_col0\" class=\"data row12 col0\" >Transformed Test Set</td>\n",
              "                        <td id=\"T_777f9a8c_0e37_11eb_880e_0242ac1c0002row12_col1\" class=\"data row12 col1\" >(127, 22)</td>\n",
              "            </tr>\n",
              "            <tr>\n",
              "                        <th id=\"T_777f9a8c_0e37_11eb_880e_0242ac1c0002level0_row13\" class=\"row_heading level0 row13\" >13</th>\n",
              "                        <td id=\"T_777f9a8c_0e37_11eb_880e_0242ac1c0002row13_col0\" class=\"data row13 col0\" >Numeric Imputer </td>\n",
              "                        <td id=\"T_777f9a8c_0e37_11eb_880e_0242ac1c0002row13_col1\" class=\"data row13 col1\" >mean</td>\n",
              "            </tr>\n",
              "            <tr>\n",
              "                        <th id=\"T_777f9a8c_0e37_11eb_880e_0242ac1c0002level0_row14\" class=\"row_heading level0 row14\" >14</th>\n",
              "                        <td id=\"T_777f9a8c_0e37_11eb_880e_0242ac1c0002row14_col0\" class=\"data row14 col0\" >Categorical Imputer </td>\n",
              "                        <td id=\"T_777f9a8c_0e37_11eb_880e_0242ac1c0002row14_col1\" class=\"data row14 col1\" >constant</td>\n",
              "            </tr>\n",
              "            <tr>\n",
              "                        <th id=\"T_777f9a8c_0e37_11eb_880e_0242ac1c0002level0_row15\" class=\"row_heading level0 row15\" >15</th>\n",
              "                        <td id=\"T_777f9a8c_0e37_11eb_880e_0242ac1c0002row15_col0\" class=\"data row15 col0\" >Normalize </td>\n",
              "                        <td id=\"T_777f9a8c_0e37_11eb_880e_0242ac1c0002row15_col1\" class=\"data row15 col1\" >False</td>\n",
              "            </tr>\n",
              "            <tr>\n",
              "                        <th id=\"T_777f9a8c_0e37_11eb_880e_0242ac1c0002level0_row16\" class=\"row_heading level0 row16\" >16</th>\n",
              "                        <td id=\"T_777f9a8c_0e37_11eb_880e_0242ac1c0002row16_col0\" class=\"data row16 col0\" >Normalize Method </td>\n",
              "                        <td id=\"T_777f9a8c_0e37_11eb_880e_0242ac1c0002row16_col1\" class=\"data row16 col1\" >None</td>\n",
              "            </tr>\n",
              "            <tr>\n",
              "                        <th id=\"T_777f9a8c_0e37_11eb_880e_0242ac1c0002level0_row17\" class=\"row_heading level0 row17\" >17</th>\n",
              "                        <td id=\"T_777f9a8c_0e37_11eb_880e_0242ac1c0002row17_col0\" class=\"data row17 col0\" >Transformation </td>\n",
              "                        <td id=\"T_777f9a8c_0e37_11eb_880e_0242ac1c0002row17_col1\" class=\"data row17 col1\" >False</td>\n",
              "            </tr>\n",
              "            <tr>\n",
              "                        <th id=\"T_777f9a8c_0e37_11eb_880e_0242ac1c0002level0_row18\" class=\"row_heading level0 row18\" >18</th>\n",
              "                        <td id=\"T_777f9a8c_0e37_11eb_880e_0242ac1c0002row18_col0\" class=\"data row18 col0\" >Transformation Method </td>\n",
              "                        <td id=\"T_777f9a8c_0e37_11eb_880e_0242ac1c0002row18_col1\" class=\"data row18 col1\" >None</td>\n",
              "            </tr>\n",
              "            <tr>\n",
              "                        <th id=\"T_777f9a8c_0e37_11eb_880e_0242ac1c0002level0_row19\" class=\"row_heading level0 row19\" >19</th>\n",
              "                        <td id=\"T_777f9a8c_0e37_11eb_880e_0242ac1c0002row19_col0\" class=\"data row19 col0\" >PCA </td>\n",
              "                        <td id=\"T_777f9a8c_0e37_11eb_880e_0242ac1c0002row19_col1\" class=\"data row19 col1\" >False</td>\n",
              "            </tr>\n",
              "            <tr>\n",
              "                        <th id=\"T_777f9a8c_0e37_11eb_880e_0242ac1c0002level0_row20\" class=\"row_heading level0 row20\" >20</th>\n",
              "                        <td id=\"T_777f9a8c_0e37_11eb_880e_0242ac1c0002row20_col0\" class=\"data row20 col0\" >PCA Method </td>\n",
              "                        <td id=\"T_777f9a8c_0e37_11eb_880e_0242ac1c0002row20_col1\" class=\"data row20 col1\" >None</td>\n",
              "            </tr>\n",
              "            <tr>\n",
              "                        <th id=\"T_777f9a8c_0e37_11eb_880e_0242ac1c0002level0_row21\" class=\"row_heading level0 row21\" >21</th>\n",
              "                        <td id=\"T_777f9a8c_0e37_11eb_880e_0242ac1c0002row21_col0\" class=\"data row21 col0\" >PCA Components </td>\n",
              "                        <td id=\"T_777f9a8c_0e37_11eb_880e_0242ac1c0002row21_col1\" class=\"data row21 col1\" >None</td>\n",
              "            </tr>\n",
              "            <tr>\n",
              "                        <th id=\"T_777f9a8c_0e37_11eb_880e_0242ac1c0002level0_row22\" class=\"row_heading level0 row22\" >22</th>\n",
              "                        <td id=\"T_777f9a8c_0e37_11eb_880e_0242ac1c0002row22_col0\" class=\"data row22 col0\" >Ignore Low Variance </td>\n",
              "                        <td id=\"T_777f9a8c_0e37_11eb_880e_0242ac1c0002row22_col1\" class=\"data row22 col1\" >False</td>\n",
              "            </tr>\n",
              "            <tr>\n",
              "                        <th id=\"T_777f9a8c_0e37_11eb_880e_0242ac1c0002level0_row23\" class=\"row_heading level0 row23\" >23</th>\n",
              "                        <td id=\"T_777f9a8c_0e37_11eb_880e_0242ac1c0002row23_col0\" class=\"data row23 col0\" >Combine Rare Levels </td>\n",
              "                        <td id=\"T_777f9a8c_0e37_11eb_880e_0242ac1c0002row23_col1\" class=\"data row23 col1\" >False</td>\n",
              "            </tr>\n",
              "            <tr>\n",
              "                        <th id=\"T_777f9a8c_0e37_11eb_880e_0242ac1c0002level0_row24\" class=\"row_heading level0 row24\" >24</th>\n",
              "                        <td id=\"T_777f9a8c_0e37_11eb_880e_0242ac1c0002row24_col0\" class=\"data row24 col0\" >Rare Level Threshold </td>\n",
              "                        <td id=\"T_777f9a8c_0e37_11eb_880e_0242ac1c0002row24_col1\" class=\"data row24 col1\" >None</td>\n",
              "            </tr>\n",
              "            <tr>\n",
              "                        <th id=\"T_777f9a8c_0e37_11eb_880e_0242ac1c0002level0_row25\" class=\"row_heading level0 row25\" >25</th>\n",
              "                        <td id=\"T_777f9a8c_0e37_11eb_880e_0242ac1c0002row25_col0\" class=\"data row25 col0\" >Numeric Binning </td>\n",
              "                        <td id=\"T_777f9a8c_0e37_11eb_880e_0242ac1c0002row25_col1\" class=\"data row25 col1\" >False</td>\n",
              "            </tr>\n",
              "            <tr>\n",
              "                        <th id=\"T_777f9a8c_0e37_11eb_880e_0242ac1c0002level0_row26\" class=\"row_heading level0 row26\" >26</th>\n",
              "                        <td id=\"T_777f9a8c_0e37_11eb_880e_0242ac1c0002row26_col0\" class=\"data row26 col0\" >Remove Outliers </td>\n",
              "                        <td id=\"T_777f9a8c_0e37_11eb_880e_0242ac1c0002row26_col1\" class=\"data row26 col1\" >False</td>\n",
              "            </tr>\n",
              "            <tr>\n",
              "                        <th id=\"T_777f9a8c_0e37_11eb_880e_0242ac1c0002level0_row27\" class=\"row_heading level0 row27\" >27</th>\n",
              "                        <td id=\"T_777f9a8c_0e37_11eb_880e_0242ac1c0002row27_col0\" class=\"data row27 col0\" >Outliers Threshold </td>\n",
              "                        <td id=\"T_777f9a8c_0e37_11eb_880e_0242ac1c0002row27_col1\" class=\"data row27 col1\" >None</td>\n",
              "            </tr>\n",
              "            <tr>\n",
              "                        <th id=\"T_777f9a8c_0e37_11eb_880e_0242ac1c0002level0_row28\" class=\"row_heading level0 row28\" >28</th>\n",
              "                        <td id=\"T_777f9a8c_0e37_11eb_880e_0242ac1c0002row28_col0\" class=\"data row28 col0\" >Remove Multicollinearity </td>\n",
              "                        <td id=\"T_777f9a8c_0e37_11eb_880e_0242ac1c0002row28_col1\" class=\"data row28 col1\" >False</td>\n",
              "            </tr>\n",
              "            <tr>\n",
              "                        <th id=\"T_777f9a8c_0e37_11eb_880e_0242ac1c0002level0_row29\" class=\"row_heading level0 row29\" >29</th>\n",
              "                        <td id=\"T_777f9a8c_0e37_11eb_880e_0242ac1c0002row29_col0\" class=\"data row29 col0\" >Multicollinearity Threshold </td>\n",
              "                        <td id=\"T_777f9a8c_0e37_11eb_880e_0242ac1c0002row29_col1\" class=\"data row29 col1\" >None</td>\n",
              "            </tr>\n",
              "            <tr>\n",
              "                        <th id=\"T_777f9a8c_0e37_11eb_880e_0242ac1c0002level0_row30\" class=\"row_heading level0 row30\" >30</th>\n",
              "                        <td id=\"T_777f9a8c_0e37_11eb_880e_0242ac1c0002row30_col0\" class=\"data row30 col0\" >Clustering </td>\n",
              "                        <td id=\"T_777f9a8c_0e37_11eb_880e_0242ac1c0002row30_col1\" class=\"data row30 col1\" >False</td>\n",
              "            </tr>\n",
              "            <tr>\n",
              "                        <th id=\"T_777f9a8c_0e37_11eb_880e_0242ac1c0002level0_row31\" class=\"row_heading level0 row31\" >31</th>\n",
              "                        <td id=\"T_777f9a8c_0e37_11eb_880e_0242ac1c0002row31_col0\" class=\"data row31 col0\" >Clustering Iteration </td>\n",
              "                        <td id=\"T_777f9a8c_0e37_11eb_880e_0242ac1c0002row31_col1\" class=\"data row31 col1\" >None</td>\n",
              "            </tr>\n",
              "            <tr>\n",
              "                        <th id=\"T_777f9a8c_0e37_11eb_880e_0242ac1c0002level0_row32\" class=\"row_heading level0 row32\" >32</th>\n",
              "                        <td id=\"T_777f9a8c_0e37_11eb_880e_0242ac1c0002row32_col0\" class=\"data row32 col0\" >Polynomial Features </td>\n",
              "                        <td id=\"T_777f9a8c_0e37_11eb_880e_0242ac1c0002row32_col1\" class=\"data row32 col1\" >False</td>\n",
              "            </tr>\n",
              "            <tr>\n",
              "                        <th id=\"T_777f9a8c_0e37_11eb_880e_0242ac1c0002level0_row33\" class=\"row_heading level0 row33\" >33</th>\n",
              "                        <td id=\"T_777f9a8c_0e37_11eb_880e_0242ac1c0002row33_col0\" class=\"data row33 col0\" >Polynomial Degree </td>\n",
              "                        <td id=\"T_777f9a8c_0e37_11eb_880e_0242ac1c0002row33_col1\" class=\"data row33 col1\" >None</td>\n",
              "            </tr>\n",
              "            <tr>\n",
              "                        <th id=\"T_777f9a8c_0e37_11eb_880e_0242ac1c0002level0_row34\" class=\"row_heading level0 row34\" >34</th>\n",
              "                        <td id=\"T_777f9a8c_0e37_11eb_880e_0242ac1c0002row34_col0\" class=\"data row34 col0\" >Trignometry Features </td>\n",
              "                        <td id=\"T_777f9a8c_0e37_11eb_880e_0242ac1c0002row34_col1\" class=\"data row34 col1\" >False</td>\n",
              "            </tr>\n",
              "            <tr>\n",
              "                        <th id=\"T_777f9a8c_0e37_11eb_880e_0242ac1c0002level0_row35\" class=\"row_heading level0 row35\" >35</th>\n",
              "                        <td id=\"T_777f9a8c_0e37_11eb_880e_0242ac1c0002row35_col0\" class=\"data row35 col0\" >Polynomial Threshold </td>\n",
              "                        <td id=\"T_777f9a8c_0e37_11eb_880e_0242ac1c0002row35_col1\" class=\"data row35 col1\" >None</td>\n",
              "            </tr>\n",
              "            <tr>\n",
              "                        <th id=\"T_777f9a8c_0e37_11eb_880e_0242ac1c0002level0_row36\" class=\"row_heading level0 row36\" >36</th>\n",
              "                        <td id=\"T_777f9a8c_0e37_11eb_880e_0242ac1c0002row36_col0\" class=\"data row36 col0\" >Group Features </td>\n",
              "                        <td id=\"T_777f9a8c_0e37_11eb_880e_0242ac1c0002row36_col1\" class=\"data row36 col1\" >False</td>\n",
              "            </tr>\n",
              "            <tr>\n",
              "                        <th id=\"T_777f9a8c_0e37_11eb_880e_0242ac1c0002level0_row37\" class=\"row_heading level0 row37\" >37</th>\n",
              "                        <td id=\"T_777f9a8c_0e37_11eb_880e_0242ac1c0002row37_col0\" class=\"data row37 col0\" >Feature Selection </td>\n",
              "                        <td id=\"T_777f9a8c_0e37_11eb_880e_0242ac1c0002row37_col1\" class=\"data row37 col1\" >False</td>\n",
              "            </tr>\n",
              "            <tr>\n",
              "                        <th id=\"T_777f9a8c_0e37_11eb_880e_0242ac1c0002level0_row38\" class=\"row_heading level0 row38\" >38</th>\n",
              "                        <td id=\"T_777f9a8c_0e37_11eb_880e_0242ac1c0002row38_col0\" class=\"data row38 col0\" >Features Selection Threshold </td>\n",
              "                        <td id=\"T_777f9a8c_0e37_11eb_880e_0242ac1c0002row38_col1\" class=\"data row38 col1\" >None</td>\n",
              "            </tr>\n",
              "            <tr>\n",
              "                        <th id=\"T_777f9a8c_0e37_11eb_880e_0242ac1c0002level0_row39\" class=\"row_heading level0 row39\" >39</th>\n",
              "                        <td id=\"T_777f9a8c_0e37_11eb_880e_0242ac1c0002row39_col0\" class=\"data row39 col0\" >Feature Interaction </td>\n",
              "                        <td id=\"T_777f9a8c_0e37_11eb_880e_0242ac1c0002row39_col1\" class=\"data row39 col1\" >False</td>\n",
              "            </tr>\n",
              "            <tr>\n",
              "                        <th id=\"T_777f9a8c_0e37_11eb_880e_0242ac1c0002level0_row40\" class=\"row_heading level0 row40\" >40</th>\n",
              "                        <td id=\"T_777f9a8c_0e37_11eb_880e_0242ac1c0002row40_col0\" class=\"data row40 col0\" >Feature Ratio </td>\n",
              "                        <td id=\"T_777f9a8c_0e37_11eb_880e_0242ac1c0002row40_col1\" class=\"data row40 col1\" >False</td>\n",
              "            </tr>\n",
              "            <tr>\n",
              "                        <th id=\"T_777f9a8c_0e37_11eb_880e_0242ac1c0002level0_row41\" class=\"row_heading level0 row41\" >41</th>\n",
              "                        <td id=\"T_777f9a8c_0e37_11eb_880e_0242ac1c0002row41_col0\" class=\"data row41 col0\" >Interaction Threshold </td>\n",
              "                        <td id=\"T_777f9a8c_0e37_11eb_880e_0242ac1c0002row41_col1\" class=\"data row41 col1\" >None</td>\n",
              "            </tr>\n",
              "    </tbody></table>"
            ],
            "text/plain": [
              "<pandas.io.formats.style.Styler at 0x7fb207a30a90>"
            ]
          },
          "metadata": {
            "tags": []
          }
        }
      ]
    },
    {
      "cell_type": "code",
      "metadata": {
        "id": "QpX55TLXJ5yK",
        "outputId": "9f61cd94-f042-4b14-b4f6-def885439348",
        "colab": {
          "base_uri": "https://localhost:8080/",
          "height": 519,
          "referenced_widgets": [
            "7ce2070d04894842b5c1e87feb477bb2",
            "b873dfdae2544f31b7fbccbd24cc5bc8",
            "73f40f3cb2714d4893d9deb33e5d1315"
          ]
        }
      },
      "source": [
        "compare_models()"
      ],
      "execution_count": 12,
      "outputs": [
        {
          "output_type": "display_data",
          "data": {
            "text/html": [
              "<style  type=\"text/css\" >\n",
              "    #T_ae07c138_0e37_11eb_880e_0242ac1c0002 th {\n",
              "          text-align: left;\n",
              "    }#T_ae07c138_0e37_11eb_880e_0242ac1c0002row0_col0,#T_ae07c138_0e37_11eb_880e_0242ac1c0002row1_col0,#T_ae07c138_0e37_11eb_880e_0242ac1c0002row1_col1,#T_ae07c138_0e37_11eb_880e_0242ac1c0002row1_col2,#T_ae07c138_0e37_11eb_880e_0242ac1c0002row1_col3,#T_ae07c138_0e37_11eb_880e_0242ac1c0002row1_col4,#T_ae07c138_0e37_11eb_880e_0242ac1c0002row1_col5,#T_ae07c138_0e37_11eb_880e_0242ac1c0002row1_col6,#T_ae07c138_0e37_11eb_880e_0242ac1c0002row2_col0,#T_ae07c138_0e37_11eb_880e_0242ac1c0002row2_col1,#T_ae07c138_0e37_11eb_880e_0242ac1c0002row2_col2,#T_ae07c138_0e37_11eb_880e_0242ac1c0002row2_col3,#T_ae07c138_0e37_11eb_880e_0242ac1c0002row2_col4,#T_ae07c138_0e37_11eb_880e_0242ac1c0002row2_col5,#T_ae07c138_0e37_11eb_880e_0242ac1c0002row2_col6,#T_ae07c138_0e37_11eb_880e_0242ac1c0002row3_col0,#T_ae07c138_0e37_11eb_880e_0242ac1c0002row3_col1,#T_ae07c138_0e37_11eb_880e_0242ac1c0002row3_col2,#T_ae07c138_0e37_11eb_880e_0242ac1c0002row3_col3,#T_ae07c138_0e37_11eb_880e_0242ac1c0002row3_col4,#T_ae07c138_0e37_11eb_880e_0242ac1c0002row3_col5,#T_ae07c138_0e37_11eb_880e_0242ac1c0002row3_col6,#T_ae07c138_0e37_11eb_880e_0242ac1c0002row4_col0,#T_ae07c138_0e37_11eb_880e_0242ac1c0002row4_col1,#T_ae07c138_0e37_11eb_880e_0242ac1c0002row4_col2,#T_ae07c138_0e37_11eb_880e_0242ac1c0002row4_col3,#T_ae07c138_0e37_11eb_880e_0242ac1c0002row4_col4,#T_ae07c138_0e37_11eb_880e_0242ac1c0002row4_col5,#T_ae07c138_0e37_11eb_880e_0242ac1c0002row4_col6,#T_ae07c138_0e37_11eb_880e_0242ac1c0002row5_col0,#T_ae07c138_0e37_11eb_880e_0242ac1c0002row5_col1,#T_ae07c138_0e37_11eb_880e_0242ac1c0002row5_col2,#T_ae07c138_0e37_11eb_880e_0242ac1c0002row5_col3,#T_ae07c138_0e37_11eb_880e_0242ac1c0002row5_col4,#T_ae07c138_0e37_11eb_880e_0242ac1c0002row5_col5,#T_ae07c138_0e37_11eb_880e_0242ac1c0002row5_col6,#T_ae07c138_0e37_11eb_880e_0242ac1c0002row6_col0,#T_ae07c138_0e37_11eb_880e_0242ac1c0002row6_col1,#T_ae07c138_0e37_11eb_880e_0242ac1c0002row6_col2,#T_ae07c138_0e37_11eb_880e_0242ac1c0002row6_col3,#T_ae07c138_0e37_11eb_880e_0242ac1c0002row6_col4,#T_ae07c138_0e37_11eb_880e_0242ac1c0002row6_col5,#T_ae07c138_0e37_11eb_880e_0242ac1c0002row6_col6,#T_ae07c138_0e37_11eb_880e_0242ac1c0002row7_col0,#T_ae07c138_0e37_11eb_880e_0242ac1c0002row7_col1,#T_ae07c138_0e37_11eb_880e_0242ac1c0002row7_col2,#T_ae07c138_0e37_11eb_880e_0242ac1c0002row7_col3,#T_ae07c138_0e37_11eb_880e_0242ac1c0002row7_col4,#T_ae07c138_0e37_11eb_880e_0242ac1c0002row7_col5,#T_ae07c138_0e37_11eb_880e_0242ac1c0002row7_col6,#T_ae07c138_0e37_11eb_880e_0242ac1c0002row8_col0,#T_ae07c138_0e37_11eb_880e_0242ac1c0002row8_col1,#T_ae07c138_0e37_11eb_880e_0242ac1c0002row8_col2,#T_ae07c138_0e37_11eb_880e_0242ac1c0002row8_col3,#T_ae07c138_0e37_11eb_880e_0242ac1c0002row8_col4,#T_ae07c138_0e37_11eb_880e_0242ac1c0002row8_col5,#T_ae07c138_0e37_11eb_880e_0242ac1c0002row8_col6,#T_ae07c138_0e37_11eb_880e_0242ac1c0002row9_col0,#T_ae07c138_0e37_11eb_880e_0242ac1c0002row9_col1,#T_ae07c138_0e37_11eb_880e_0242ac1c0002row9_col2,#T_ae07c138_0e37_11eb_880e_0242ac1c0002row9_col3,#T_ae07c138_0e37_11eb_880e_0242ac1c0002row9_col4,#T_ae07c138_0e37_11eb_880e_0242ac1c0002row9_col5,#T_ae07c138_0e37_11eb_880e_0242ac1c0002row9_col6,#T_ae07c138_0e37_11eb_880e_0242ac1c0002row10_col0,#T_ae07c138_0e37_11eb_880e_0242ac1c0002row10_col1,#T_ae07c138_0e37_11eb_880e_0242ac1c0002row10_col2,#T_ae07c138_0e37_11eb_880e_0242ac1c0002row10_col3,#T_ae07c138_0e37_11eb_880e_0242ac1c0002row10_col4,#T_ae07c138_0e37_11eb_880e_0242ac1c0002row10_col5,#T_ae07c138_0e37_11eb_880e_0242ac1c0002row10_col6,#T_ae07c138_0e37_11eb_880e_0242ac1c0002row11_col0,#T_ae07c138_0e37_11eb_880e_0242ac1c0002row11_col1,#T_ae07c138_0e37_11eb_880e_0242ac1c0002row11_col2,#T_ae07c138_0e37_11eb_880e_0242ac1c0002row11_col3,#T_ae07c138_0e37_11eb_880e_0242ac1c0002row11_col4,#T_ae07c138_0e37_11eb_880e_0242ac1c0002row11_col5,#T_ae07c138_0e37_11eb_880e_0242ac1c0002row11_col6,#T_ae07c138_0e37_11eb_880e_0242ac1c0002row12_col0,#T_ae07c138_0e37_11eb_880e_0242ac1c0002row12_col1,#T_ae07c138_0e37_11eb_880e_0242ac1c0002row12_col2,#T_ae07c138_0e37_11eb_880e_0242ac1c0002row12_col3,#T_ae07c138_0e37_11eb_880e_0242ac1c0002row12_col4,#T_ae07c138_0e37_11eb_880e_0242ac1c0002row12_col5,#T_ae07c138_0e37_11eb_880e_0242ac1c0002row12_col6,#T_ae07c138_0e37_11eb_880e_0242ac1c0002row13_col0,#T_ae07c138_0e37_11eb_880e_0242ac1c0002row13_col1,#T_ae07c138_0e37_11eb_880e_0242ac1c0002row13_col2,#T_ae07c138_0e37_11eb_880e_0242ac1c0002row13_col3,#T_ae07c138_0e37_11eb_880e_0242ac1c0002row13_col4,#T_ae07c138_0e37_11eb_880e_0242ac1c0002row13_col5,#T_ae07c138_0e37_11eb_880e_0242ac1c0002row13_col6,#T_ae07c138_0e37_11eb_880e_0242ac1c0002row14_col0,#T_ae07c138_0e37_11eb_880e_0242ac1c0002row14_col1,#T_ae07c138_0e37_11eb_880e_0242ac1c0002row14_col2,#T_ae07c138_0e37_11eb_880e_0242ac1c0002row14_col3,#T_ae07c138_0e37_11eb_880e_0242ac1c0002row14_col4,#T_ae07c138_0e37_11eb_880e_0242ac1c0002row14_col5,#T_ae07c138_0e37_11eb_880e_0242ac1c0002row14_col6,#T_ae07c138_0e37_11eb_880e_0242ac1c0002row15_col0,#T_ae07c138_0e37_11eb_880e_0242ac1c0002row15_col1,#T_ae07c138_0e37_11eb_880e_0242ac1c0002row15_col2,#T_ae07c138_0e37_11eb_880e_0242ac1c0002row15_col3,#T_ae07c138_0e37_11eb_880e_0242ac1c0002row15_col4,#T_ae07c138_0e37_11eb_880e_0242ac1c0002row15_col5,#T_ae07c138_0e37_11eb_880e_0242ac1c0002row15_col6,#T_ae07c138_0e37_11eb_880e_0242ac1c0002row16_col0,#T_ae07c138_0e37_11eb_880e_0242ac1c0002row16_col1,#T_ae07c138_0e37_11eb_880e_0242ac1c0002row16_col2,#T_ae07c138_0e37_11eb_880e_0242ac1c0002row16_col3,#T_ae07c138_0e37_11eb_880e_0242ac1c0002row16_col4,#T_ae07c138_0e37_11eb_880e_0242ac1c0002row16_col5,#T_ae07c138_0e37_11eb_880e_0242ac1c0002row16_col6,#T_ae07c138_0e37_11eb_880e_0242ac1c0002row17_col0,#T_ae07c138_0e37_11eb_880e_0242ac1c0002row17_col1,#T_ae07c138_0e37_11eb_880e_0242ac1c0002row17_col2,#T_ae07c138_0e37_11eb_880e_0242ac1c0002row17_col3,#T_ae07c138_0e37_11eb_880e_0242ac1c0002row17_col4,#T_ae07c138_0e37_11eb_880e_0242ac1c0002row17_col5,#T_ae07c138_0e37_11eb_880e_0242ac1c0002row17_col6,#T_ae07c138_0e37_11eb_880e_0242ac1c0002row18_col0,#T_ae07c138_0e37_11eb_880e_0242ac1c0002row18_col1,#T_ae07c138_0e37_11eb_880e_0242ac1c0002row18_col2,#T_ae07c138_0e37_11eb_880e_0242ac1c0002row18_col3,#T_ae07c138_0e37_11eb_880e_0242ac1c0002row18_col4,#T_ae07c138_0e37_11eb_880e_0242ac1c0002row18_col5,#T_ae07c138_0e37_11eb_880e_0242ac1c0002row18_col6,#T_ae07c138_0e37_11eb_880e_0242ac1c0002row19_col0,#T_ae07c138_0e37_11eb_880e_0242ac1c0002row19_col1,#T_ae07c138_0e37_11eb_880e_0242ac1c0002row19_col2,#T_ae07c138_0e37_11eb_880e_0242ac1c0002row19_col3,#T_ae07c138_0e37_11eb_880e_0242ac1c0002row19_col4,#T_ae07c138_0e37_11eb_880e_0242ac1c0002row19_col5,#T_ae07c138_0e37_11eb_880e_0242ac1c0002row19_col6,#T_ae07c138_0e37_11eb_880e_0242ac1c0002row20_col0,#T_ae07c138_0e37_11eb_880e_0242ac1c0002row20_col1,#T_ae07c138_0e37_11eb_880e_0242ac1c0002row20_col2,#T_ae07c138_0e37_11eb_880e_0242ac1c0002row20_col3,#T_ae07c138_0e37_11eb_880e_0242ac1c0002row20_col4,#T_ae07c138_0e37_11eb_880e_0242ac1c0002row20_col5,#T_ae07c138_0e37_11eb_880e_0242ac1c0002row20_col6,#T_ae07c138_0e37_11eb_880e_0242ac1c0002row21_col0,#T_ae07c138_0e37_11eb_880e_0242ac1c0002row21_col1,#T_ae07c138_0e37_11eb_880e_0242ac1c0002row21_col2,#T_ae07c138_0e37_11eb_880e_0242ac1c0002row21_col3,#T_ae07c138_0e37_11eb_880e_0242ac1c0002row21_col4,#T_ae07c138_0e37_11eb_880e_0242ac1c0002row21_col5,#T_ae07c138_0e37_11eb_880e_0242ac1c0002row21_col6{\n",
              "            text-align:  left;\n",
              "        }#T_ae07c138_0e37_11eb_880e_0242ac1c0002row0_col1,#T_ae07c138_0e37_11eb_880e_0242ac1c0002row0_col2,#T_ae07c138_0e37_11eb_880e_0242ac1c0002row0_col3,#T_ae07c138_0e37_11eb_880e_0242ac1c0002row0_col4,#T_ae07c138_0e37_11eb_880e_0242ac1c0002row0_col5,#T_ae07c138_0e37_11eb_880e_0242ac1c0002row0_col6{\n",
              "            background-color:  yellow;\n",
              "            text-align:  left;\n",
              "        }#T_ae07c138_0e37_11eb_880e_0242ac1c0002row0_col7,#T_ae07c138_0e37_11eb_880e_0242ac1c0002row1_col7,#T_ae07c138_0e37_11eb_880e_0242ac1c0002row2_col7,#T_ae07c138_0e37_11eb_880e_0242ac1c0002row3_col7,#T_ae07c138_0e37_11eb_880e_0242ac1c0002row4_col7,#T_ae07c138_0e37_11eb_880e_0242ac1c0002row5_col7,#T_ae07c138_0e37_11eb_880e_0242ac1c0002row6_col7,#T_ae07c138_0e37_11eb_880e_0242ac1c0002row7_col7,#T_ae07c138_0e37_11eb_880e_0242ac1c0002row8_col7,#T_ae07c138_0e37_11eb_880e_0242ac1c0002row9_col7,#T_ae07c138_0e37_11eb_880e_0242ac1c0002row10_col7,#T_ae07c138_0e37_11eb_880e_0242ac1c0002row11_col7,#T_ae07c138_0e37_11eb_880e_0242ac1c0002row12_col7,#T_ae07c138_0e37_11eb_880e_0242ac1c0002row13_col7,#T_ae07c138_0e37_11eb_880e_0242ac1c0002row14_col7,#T_ae07c138_0e37_11eb_880e_0242ac1c0002row15_col7,#T_ae07c138_0e37_11eb_880e_0242ac1c0002row16_col7,#T_ae07c138_0e37_11eb_880e_0242ac1c0002row17_col7,#T_ae07c138_0e37_11eb_880e_0242ac1c0002row18_col7,#T_ae07c138_0e37_11eb_880e_0242ac1c0002row19_col7,#T_ae07c138_0e37_11eb_880e_0242ac1c0002row20_col7,#T_ae07c138_0e37_11eb_880e_0242ac1c0002row21_col7{\n",
              "            background-color:  lightgrey;\n",
              "            text-align:  left;\n",
              "        }</style><table id=\"T_ae07c138_0e37_11eb_880e_0242ac1c0002\" ><thead>    <tr>        <th class=\"blank level0\" ></th>        <th class=\"col_heading level0 col0\" >Model</th>        <th class=\"col_heading level0 col1\" >MAE</th>        <th class=\"col_heading level0 col2\" >MSE</th>        <th class=\"col_heading level0 col3\" >RMSE</th>        <th class=\"col_heading level0 col4\" >R2</th>        <th class=\"col_heading level0 col5\" >RMSLE</th>        <th class=\"col_heading level0 col6\" >MAPE</th>        <th class=\"col_heading level0 col7\" >TT (Sec)</th>    </tr></thead><tbody>\n",
              "                <tr>\n",
              "                        <th id=\"T_ae07c138_0e37_11eb_880e_0242ac1c0002level0_row0\" class=\"row_heading level0 row0\" >0</th>\n",
              "                        <td id=\"T_ae07c138_0e37_11eb_880e_0242ac1c0002row0_col0\" class=\"data row0 col0\" >CatBoost Regressor</td>\n",
              "                        <td id=\"T_ae07c138_0e37_11eb_880e_0242ac1c0002row0_col1\" class=\"data row0 col1\" >1.9930</td>\n",
              "                        <td id=\"T_ae07c138_0e37_11eb_880e_0242ac1c0002row0_col2\" class=\"data row0 col2\" >11.0627</td>\n",
              "                        <td id=\"T_ae07c138_0e37_11eb_880e_0242ac1c0002row0_col3\" class=\"data row0 col3\" >3.1455</td>\n",
              "                        <td id=\"T_ae07c138_0e37_11eb_880e_0242ac1c0002row0_col4\" class=\"data row0 col4\" >0.8662</td>\n",
              "                        <td id=\"T_ae07c138_0e37_11eb_880e_0242ac1c0002row0_col5\" class=\"data row0 col5\" >0.1360</td>\n",
              "                        <td id=\"T_ae07c138_0e37_11eb_880e_0242ac1c0002row0_col6\" class=\"data row0 col6\" >0.0970</td>\n",
              "                        <td id=\"T_ae07c138_0e37_11eb_880e_0242ac1c0002row0_col7\" class=\"data row0 col7\" >2.1643</td>\n",
              "            </tr>\n",
              "            <tr>\n",
              "                        <th id=\"T_ae07c138_0e37_11eb_880e_0242ac1c0002level0_row1\" class=\"row_heading level0 row1\" >1</th>\n",
              "                        <td id=\"T_ae07c138_0e37_11eb_880e_0242ac1c0002row1_col0\" class=\"data row1 col0\" >Extra Trees Regressor</td>\n",
              "                        <td id=\"T_ae07c138_0e37_11eb_880e_0242ac1c0002row1_col1\" class=\"data row1 col1\" >2.0577</td>\n",
              "                        <td id=\"T_ae07c138_0e37_11eb_880e_0242ac1c0002row1_col2\" class=\"data row1 col2\" >11.6495</td>\n",
              "                        <td id=\"T_ae07c138_0e37_11eb_880e_0242ac1c0002row1_col3\" class=\"data row1 col3\" >3.2294</td>\n",
              "                        <td id=\"T_ae07c138_0e37_11eb_880e_0242ac1c0002row1_col4\" class=\"data row1 col4\" >0.8557</td>\n",
              "                        <td id=\"T_ae07c138_0e37_11eb_880e_0242ac1c0002row1_col5\" class=\"data row1 col5\" >0.1379</td>\n",
              "                        <td id=\"T_ae07c138_0e37_11eb_880e_0242ac1c0002row1_col6\" class=\"data row1 col6\" >0.1016</td>\n",
              "                        <td id=\"T_ae07c138_0e37_11eb_880e_0242ac1c0002row1_col7\" class=\"data row1 col7\" >0.2485</td>\n",
              "            </tr>\n",
              "            <tr>\n",
              "                        <th id=\"T_ae07c138_0e37_11eb_880e_0242ac1c0002level0_row2\" class=\"row_heading level0 row2\" >2</th>\n",
              "                        <td id=\"T_ae07c138_0e37_11eb_880e_0242ac1c0002row2_col0\" class=\"data row2 col0\" >Gradient Boosting Regressor</td>\n",
              "                        <td id=\"T_ae07c138_0e37_11eb_880e_0242ac1c0002row2_col1\" class=\"data row2 col1\" >2.3026</td>\n",
              "                        <td id=\"T_ae07c138_0e37_11eb_880e_0242ac1c0002row2_col2\" class=\"data row2 col2\" >13.5517</td>\n",
              "                        <td id=\"T_ae07c138_0e37_11eb_880e_0242ac1c0002row2_col3\" class=\"data row2 col3\" >3.5480</td>\n",
              "                        <td id=\"T_ae07c138_0e37_11eb_880e_0242ac1c0002row2_col4\" class=\"data row2 col4\" >0.8292</td>\n",
              "                        <td id=\"T_ae07c138_0e37_11eb_880e_0242ac1c0002row2_col5\" class=\"data row2 col5\" >0.1515</td>\n",
              "                        <td id=\"T_ae07c138_0e37_11eb_880e_0242ac1c0002row2_col6\" class=\"data row2 col6\" >0.1130</td>\n",
              "                        <td id=\"T_ae07c138_0e37_11eb_880e_0242ac1c0002row2_col7\" class=\"data row2 col7\" >0.1172</td>\n",
              "            </tr>\n",
              "            <tr>\n",
              "                        <th id=\"T_ae07c138_0e37_11eb_880e_0242ac1c0002level0_row3\" class=\"row_heading level0 row3\" >3</th>\n",
              "                        <td id=\"T_ae07c138_0e37_11eb_880e_0242ac1c0002row3_col0\" class=\"data row3 col0\" >Light Gradient Boosting Machine</td>\n",
              "                        <td id=\"T_ae07c138_0e37_11eb_880e_0242ac1c0002row3_col1\" class=\"data row3 col1\" >2.3577</td>\n",
              "                        <td id=\"T_ae07c138_0e37_11eb_880e_0242ac1c0002row3_col2\" class=\"data row3 col2\" >14.3910</td>\n",
              "                        <td id=\"T_ae07c138_0e37_11eb_880e_0242ac1c0002row3_col3\" class=\"data row3 col3\" >3.6297</td>\n",
              "                        <td id=\"T_ae07c138_0e37_11eb_880e_0242ac1c0002row3_col4\" class=\"data row3 col4\" >0.8229</td>\n",
              "                        <td id=\"T_ae07c138_0e37_11eb_880e_0242ac1c0002row3_col5\" class=\"data row3 col5\" >0.1531</td>\n",
              "                        <td id=\"T_ae07c138_0e37_11eb_880e_0242ac1c0002row3_col6\" class=\"data row3 col6\" >0.1139</td>\n",
              "                        <td id=\"T_ae07c138_0e37_11eb_880e_0242ac1c0002row3_col7\" class=\"data row3 col7\" >0.0386</td>\n",
              "            </tr>\n",
              "            <tr>\n",
              "                        <th id=\"T_ae07c138_0e37_11eb_880e_0242ac1c0002level0_row4\" class=\"row_heading level0 row4\" >4</th>\n",
              "                        <td id=\"T_ae07c138_0e37_11eb_880e_0242ac1c0002row4_col0\" class=\"data row4 col0\" >Extreme Gradient Boosting</td>\n",
              "                        <td id=\"T_ae07c138_0e37_11eb_880e_0242ac1c0002row4_col1\" class=\"data row4 col1\" >2.3351</td>\n",
              "                        <td id=\"T_ae07c138_0e37_11eb_880e_0242ac1c0002row4_col2\" class=\"data row4 col2\" >14.2983</td>\n",
              "                        <td id=\"T_ae07c138_0e37_11eb_880e_0242ac1c0002row4_col3\" class=\"data row4 col3\" >3.6296</td>\n",
              "                        <td id=\"T_ae07c138_0e37_11eb_880e_0242ac1c0002row4_col4\" class=\"data row4 col4\" >0.8181</td>\n",
              "                        <td id=\"T_ae07c138_0e37_11eb_880e_0242ac1c0002row4_col5\" class=\"data row4 col5\" >0.1549</td>\n",
              "                        <td id=\"T_ae07c138_0e37_11eb_880e_0242ac1c0002row4_col6\" class=\"data row4 col6\" >0.1146</td>\n",
              "                        <td id=\"T_ae07c138_0e37_11eb_880e_0242ac1c0002row4_col7\" class=\"data row4 col7\" >0.0443</td>\n",
              "            </tr>\n",
              "            <tr>\n",
              "                        <th id=\"T_ae07c138_0e37_11eb_880e_0242ac1c0002level0_row5\" class=\"row_heading level0 row5\" >5</th>\n",
              "                        <td id=\"T_ae07c138_0e37_11eb_880e_0242ac1c0002row5_col0\" class=\"data row5 col0\" >Random Forest</td>\n",
              "                        <td id=\"T_ae07c138_0e37_11eb_880e_0242ac1c0002row5_col1\" class=\"data row5 col1\" >2.3018</td>\n",
              "                        <td id=\"T_ae07c138_0e37_11eb_880e_0242ac1c0002row5_col2\" class=\"data row5 col2\" >14.9265</td>\n",
              "                        <td id=\"T_ae07c138_0e37_11eb_880e_0242ac1c0002row5_col3\" class=\"data row5 col3\" >3.6859</td>\n",
              "                        <td id=\"T_ae07c138_0e37_11eb_880e_0242ac1c0002row5_col4\" class=\"data row5 col4\" >0.8137</td>\n",
              "                        <td id=\"T_ae07c138_0e37_11eb_880e_0242ac1c0002row5_col5\" class=\"data row5 col5\" >0.1557</td>\n",
              "                        <td id=\"T_ae07c138_0e37_11eb_880e_0242ac1c0002row5_col6\" class=\"data row5 col6\" >0.1139</td>\n",
              "                        <td id=\"T_ae07c138_0e37_11eb_880e_0242ac1c0002row5_col7\" class=\"data row5 col7\" >0.3540</td>\n",
              "            </tr>\n",
              "            <tr>\n",
              "                        <th id=\"T_ae07c138_0e37_11eb_880e_0242ac1c0002level0_row6\" class=\"row_heading level0 row6\" >6</th>\n",
              "                        <td id=\"T_ae07c138_0e37_11eb_880e_0242ac1c0002row6_col0\" class=\"data row6 col0\" >AdaBoost Regressor</td>\n",
              "                        <td id=\"T_ae07c138_0e37_11eb_880e_0242ac1c0002row6_col1\" class=\"data row6 col1\" >2.7944</td>\n",
              "                        <td id=\"T_ae07c138_0e37_11eb_880e_0242ac1c0002row6_col2\" class=\"data row6 col2\" >18.2350</td>\n",
              "                        <td id=\"T_ae07c138_0e37_11eb_880e_0242ac1c0002row6_col3\" class=\"data row6 col3\" >4.0351</td>\n",
              "                        <td id=\"T_ae07c138_0e37_11eb_880e_0242ac1c0002row6_col4\" class=\"data row6 col4\" >0.7847</td>\n",
              "                        <td id=\"T_ae07c138_0e37_11eb_880e_0242ac1c0002row6_col5\" class=\"data row6 col5\" >0.1812</td>\n",
              "                        <td id=\"T_ae07c138_0e37_11eb_880e_0242ac1c0002row6_col6\" class=\"data row6 col6\" >0.1435</td>\n",
              "                        <td id=\"T_ae07c138_0e37_11eb_880e_0242ac1c0002row6_col7\" class=\"data row6 col7\" >0.1045</td>\n",
              "            </tr>\n",
              "            <tr>\n",
              "                        <th id=\"T_ae07c138_0e37_11eb_880e_0242ac1c0002level0_row7\" class=\"row_heading level0 row7\" >7</th>\n",
              "                        <td id=\"T_ae07c138_0e37_11eb_880e_0242ac1c0002row7_col0\" class=\"data row7 col0\" >Decision Tree</td>\n",
              "                        <td id=\"T_ae07c138_0e37_11eb_880e_0242ac1c0002row7_col1\" class=\"data row7 col1\" >3.0293</td>\n",
              "                        <td id=\"T_ae07c138_0e37_11eb_880e_0242ac1c0002row7_col2\" class=\"data row7 col2\" >21.4548</td>\n",
              "                        <td id=\"T_ae07c138_0e37_11eb_880e_0242ac1c0002row7_col3\" class=\"data row7 col3\" >4.5275</td>\n",
              "                        <td id=\"T_ae07c138_0e37_11eb_880e_0242ac1c0002row7_col4\" class=\"data row7 col4\" >0.7331</td>\n",
              "                        <td id=\"T_ae07c138_0e37_11eb_880e_0242ac1c0002row7_col5\" class=\"data row7 col5\" >0.1958</td>\n",
              "                        <td id=\"T_ae07c138_0e37_11eb_880e_0242ac1c0002row7_col6\" class=\"data row7 col6\" >0.1494</td>\n",
              "                        <td id=\"T_ae07c138_0e37_11eb_880e_0242ac1c0002row7_col7\" class=\"data row7 col7\" >0.0090</td>\n",
              "            </tr>\n",
              "            <tr>\n",
              "                        <th id=\"T_ae07c138_0e37_11eb_880e_0242ac1c0002level0_row8\" class=\"row_heading level0 row8\" >8</th>\n",
              "                        <td id=\"T_ae07c138_0e37_11eb_880e_0242ac1c0002row8_col0\" class=\"data row8 col0\" >Linear Regression</td>\n",
              "                        <td id=\"T_ae07c138_0e37_11eb_880e_0242ac1c0002row8_col1\" class=\"data row8 col1\" >3.3597</td>\n",
              "                        <td id=\"T_ae07c138_0e37_11eb_880e_0242ac1c0002row8_col2\" class=\"data row8 col2\" >24.5947</td>\n",
              "                        <td id=\"T_ae07c138_0e37_11eb_880e_0242ac1c0002row8_col3\" class=\"data row8 col3\" >4.8304</td>\n",
              "                        <td id=\"T_ae07c138_0e37_11eb_880e_0242ac1c0002row8_col4\" class=\"data row8 col4\" >0.6989</td>\n",
              "                        <td id=\"T_ae07c138_0e37_11eb_880e_0242ac1c0002row8_col5\" class=\"data row8 col5\" >0.2700</td>\n",
              "                        <td id=\"T_ae07c138_0e37_11eb_880e_0242ac1c0002row8_col6\" class=\"data row8 col6\" >0.1659</td>\n",
              "                        <td id=\"T_ae07c138_0e37_11eb_880e_0242ac1c0002row8_col7\" class=\"data row8 col7\" >0.0053</td>\n",
              "            </tr>\n",
              "            <tr>\n",
              "                        <th id=\"T_ae07c138_0e37_11eb_880e_0242ac1c0002level0_row9\" class=\"row_heading level0 row9\" >9</th>\n",
              "                        <td id=\"T_ae07c138_0e37_11eb_880e_0242ac1c0002row9_col0\" class=\"data row9 col0\" >Ridge Regression</td>\n",
              "                        <td id=\"T_ae07c138_0e37_11eb_880e_0242ac1c0002row9_col1\" class=\"data row9 col1\" >3.3250</td>\n",
              "                        <td id=\"T_ae07c138_0e37_11eb_880e_0242ac1c0002row9_col2\" class=\"data row9 col2\" >24.7884</td>\n",
              "                        <td id=\"T_ae07c138_0e37_11eb_880e_0242ac1c0002row9_col3\" class=\"data row9 col3\" >4.8494</td>\n",
              "                        <td id=\"T_ae07c138_0e37_11eb_880e_0242ac1c0002row9_col4\" class=\"data row9 col4\" >0.6973</td>\n",
              "                        <td id=\"T_ae07c138_0e37_11eb_880e_0242ac1c0002row9_col5\" class=\"data row9 col5\" >0.2792</td>\n",
              "                        <td id=\"T_ae07c138_0e37_11eb_880e_0242ac1c0002row9_col6\" class=\"data row9 col6\" >0.1647</td>\n",
              "                        <td id=\"T_ae07c138_0e37_11eb_880e_0242ac1c0002row9_col7\" class=\"data row9 col7\" >0.0048</td>\n",
              "            </tr>\n",
              "            <tr>\n",
              "                        <th id=\"T_ae07c138_0e37_11eb_880e_0242ac1c0002level0_row10\" class=\"row_heading level0 row10\" >10</th>\n",
              "                        <td id=\"T_ae07c138_0e37_11eb_880e_0242ac1c0002row10_col0\" class=\"data row10 col0\" >Least Angle Regression</td>\n",
              "                        <td id=\"T_ae07c138_0e37_11eb_880e_0242ac1c0002row10_col1\" class=\"data row10 col1\" >3.3627</td>\n",
              "                        <td id=\"T_ae07c138_0e37_11eb_880e_0242ac1c0002row10_col2\" class=\"data row10 col2\" >24.8999</td>\n",
              "                        <td id=\"T_ae07c138_0e37_11eb_880e_0242ac1c0002row10_col3\" class=\"data row10 col3\" >4.8468</td>\n",
              "                        <td id=\"T_ae07c138_0e37_11eb_880e_0242ac1c0002row10_col4\" class=\"data row10 col4\" >0.6963</td>\n",
              "                        <td id=\"T_ae07c138_0e37_11eb_880e_0242ac1c0002row10_col5\" class=\"data row10 col5\" >0.2678</td>\n",
              "                        <td id=\"T_ae07c138_0e37_11eb_880e_0242ac1c0002row10_col6\" class=\"data row10 col6\" >0.1660</td>\n",
              "                        <td id=\"T_ae07c138_0e37_11eb_880e_0242ac1c0002row10_col7\" class=\"data row10 col7\" >0.0122</td>\n",
              "            </tr>\n",
              "            <tr>\n",
              "                        <th id=\"T_ae07c138_0e37_11eb_880e_0242ac1c0002level0_row11\" class=\"row_heading level0 row11\" >11</th>\n",
              "                        <td id=\"T_ae07c138_0e37_11eb_880e_0242ac1c0002row11_col0\" class=\"data row11 col0\" >Bayesian Ridge</td>\n",
              "                        <td id=\"T_ae07c138_0e37_11eb_880e_0242ac1c0002row11_col1\" class=\"data row11 col1\" >3.3521</td>\n",
              "                        <td id=\"T_ae07c138_0e37_11eb_880e_0242ac1c0002row11_col2\" class=\"data row11 col2\" >25.4527</td>\n",
              "                        <td id=\"T_ae07c138_0e37_11eb_880e_0242ac1c0002row11_col3\" class=\"data row11 col3\" >4.9220</td>\n",
              "                        <td id=\"T_ae07c138_0e37_11eb_880e_0242ac1c0002row11_col4\" class=\"data row11 col4\" >0.6888</td>\n",
              "                        <td id=\"T_ae07c138_0e37_11eb_880e_0242ac1c0002row11_col5\" class=\"data row11 col5\" >0.2643</td>\n",
              "                        <td id=\"T_ae07c138_0e37_11eb_880e_0242ac1c0002row11_col6\" class=\"data row11 col6\" >0.1667</td>\n",
              "                        <td id=\"T_ae07c138_0e37_11eb_880e_0242ac1c0002row11_col7\" class=\"data row11 col7\" >0.0075</td>\n",
              "            </tr>\n",
              "            <tr>\n",
              "                        <th id=\"T_ae07c138_0e37_11eb_880e_0242ac1c0002level0_row12\" class=\"row_heading level0 row12\" >12</th>\n",
              "                        <td id=\"T_ae07c138_0e37_11eb_880e_0242ac1c0002row12_col0\" class=\"data row12 col0\" >TheilSen Regressor</td>\n",
              "                        <td id=\"T_ae07c138_0e37_11eb_880e_0242ac1c0002row12_col1\" class=\"data row12 col1\" >3.2489</td>\n",
              "                        <td id=\"T_ae07c138_0e37_11eb_880e_0242ac1c0002row12_col2\" class=\"data row12 col2\" >26.2835</td>\n",
              "                        <td id=\"T_ae07c138_0e37_11eb_880e_0242ac1c0002row12_col3\" class=\"data row12 col3\" >4.9340</td>\n",
              "                        <td id=\"T_ae07c138_0e37_11eb_880e_0242ac1c0002row12_col4\" class=\"data row12 col4\" >0.6815</td>\n",
              "                        <td id=\"T_ae07c138_0e37_11eb_880e_0242ac1c0002row12_col5\" class=\"data row12 col5\" >0.2664</td>\n",
              "                        <td id=\"T_ae07c138_0e37_11eb_880e_0242ac1c0002row12_col6\" class=\"data row12 col6\" >0.1549</td>\n",
              "                        <td id=\"T_ae07c138_0e37_11eb_880e_0242ac1c0002row12_col7\" class=\"data row12 col7\" >1.8382</td>\n",
              "            </tr>\n",
              "            <tr>\n",
              "                        <th id=\"T_ae07c138_0e37_11eb_880e_0242ac1c0002level0_row13\" class=\"row_heading level0 row13\" >13</th>\n",
              "                        <td id=\"T_ae07c138_0e37_11eb_880e_0242ac1c0002row13_col0\" class=\"data row13 col0\" >Random Sample Consensus</td>\n",
              "                        <td id=\"T_ae07c138_0e37_11eb_880e_0242ac1c0002row13_col1\" class=\"data row13 col1\" >3.1728</td>\n",
              "                        <td id=\"T_ae07c138_0e37_11eb_880e_0242ac1c0002row13_col2\" class=\"data row13 col2\" >26.7671</td>\n",
              "                        <td id=\"T_ae07c138_0e37_11eb_880e_0242ac1c0002row13_col3\" class=\"data row13 col3\" >4.9395</td>\n",
              "                        <td id=\"T_ae07c138_0e37_11eb_880e_0242ac1c0002row13_col4\" class=\"data row13 col4\" >0.6790</td>\n",
              "                        <td id=\"T_ae07c138_0e37_11eb_880e_0242ac1c0002row13_col5\" class=\"data row13 col5\" >0.2665</td>\n",
              "                        <td id=\"T_ae07c138_0e37_11eb_880e_0242ac1c0002row13_col6\" class=\"data row13 col6\" >0.1512</td>\n",
              "                        <td id=\"T_ae07c138_0e37_11eb_880e_0242ac1c0002row13_col7\" class=\"data row13 col7\" >0.0947</td>\n",
              "            </tr>\n",
              "            <tr>\n",
              "                        <th id=\"T_ae07c138_0e37_11eb_880e_0242ac1c0002level0_row14\" class=\"row_heading level0 row14\" >14</th>\n",
              "                        <td id=\"T_ae07c138_0e37_11eb_880e_0242ac1c0002row14_col0\" class=\"data row14 col0\" >Huber Regressor</td>\n",
              "                        <td id=\"T_ae07c138_0e37_11eb_880e_0242ac1c0002row14_col1\" class=\"data row14 col1\" >3.3383</td>\n",
              "                        <td id=\"T_ae07c138_0e37_11eb_880e_0242ac1c0002row14_col2\" class=\"data row14 col2\" >28.9722</td>\n",
              "                        <td id=\"T_ae07c138_0e37_11eb_880e_0242ac1c0002row14_col3\" class=\"data row14 col3\" >5.1352</td>\n",
              "                        <td id=\"T_ae07c138_0e37_11eb_880e_0242ac1c0002row14_col4\" class=\"data row14 col4\" >0.6524</td>\n",
              "                        <td id=\"T_ae07c138_0e37_11eb_880e_0242ac1c0002row14_col5\" class=\"data row14 col5\" >0.2689</td>\n",
              "                        <td id=\"T_ae07c138_0e37_11eb_880e_0242ac1c0002row14_col6\" class=\"data row14 col6\" >0.1619</td>\n",
              "                        <td id=\"T_ae07c138_0e37_11eb_880e_0242ac1c0002row14_col7\" class=\"data row14 col7\" >0.0363</td>\n",
              "            </tr>\n",
              "            <tr>\n",
              "                        <th id=\"T_ae07c138_0e37_11eb_880e_0242ac1c0002level0_row15\" class=\"row_heading level0 row15\" >15</th>\n",
              "                        <td id=\"T_ae07c138_0e37_11eb_880e_0242ac1c0002row15_col0\" class=\"data row15 col0\" >Elastic Net</td>\n",
              "                        <td id=\"T_ae07c138_0e37_11eb_880e_0242ac1c0002row15_col1\" class=\"data row15 col1\" >3.7565</td>\n",
              "                        <td id=\"T_ae07c138_0e37_11eb_880e_0242ac1c0002row15_col2\" class=\"data row15 col2\" >29.0388</td>\n",
              "                        <td id=\"T_ae07c138_0e37_11eb_880e_0242ac1c0002row15_col3\" class=\"data row15 col3\" >5.2977</td>\n",
              "                        <td id=\"T_ae07c138_0e37_11eb_880e_0242ac1c0002row15_col4\" class=\"data row15 col4\" >0.6403</td>\n",
              "                        <td id=\"T_ae07c138_0e37_11eb_880e_0242ac1c0002row15_col5\" class=\"data row15 col5\" >0.2797</td>\n",
              "                        <td id=\"T_ae07c138_0e37_11eb_880e_0242ac1c0002row15_col6\" class=\"data row15 col6\" >0.1823</td>\n",
              "                        <td id=\"T_ae07c138_0e37_11eb_880e_0242ac1c0002row15_col7\" class=\"data row15 col7\" >0.0068</td>\n",
              "            </tr>\n",
              "            <tr>\n",
              "                        <th id=\"T_ae07c138_0e37_11eb_880e_0242ac1c0002level0_row16\" class=\"row_heading level0 row16\" >16</th>\n",
              "                        <td id=\"T_ae07c138_0e37_11eb_880e_0242ac1c0002row16_col0\" class=\"data row16 col0\" >Lasso Regression</td>\n",
              "                        <td id=\"T_ae07c138_0e37_11eb_880e_0242ac1c0002row16_col1\" class=\"data row16 col1\" >3.8317</td>\n",
              "                        <td id=\"T_ae07c138_0e37_11eb_880e_0242ac1c0002row16_col2\" class=\"data row16 col2\" >30.2178</td>\n",
              "                        <td id=\"T_ae07c138_0e37_11eb_880e_0242ac1c0002row16_col3\" class=\"data row16 col3\" >5.4097</td>\n",
              "                        <td id=\"T_ae07c138_0e37_11eb_880e_0242ac1c0002row16_col4\" class=\"data row16 col4\" >0.6253</td>\n",
              "                        <td id=\"T_ae07c138_0e37_11eb_880e_0242ac1c0002row16_col5\" class=\"data row16 col5\" >0.2851</td>\n",
              "                        <td id=\"T_ae07c138_0e37_11eb_880e_0242ac1c0002row16_col6\" class=\"data row16 col6\" >0.1853</td>\n",
              "                        <td id=\"T_ae07c138_0e37_11eb_880e_0242ac1c0002row16_col7\" class=\"data row16 col7\" >0.0059</td>\n",
              "            </tr>\n",
              "            <tr>\n",
              "                        <th id=\"T_ae07c138_0e37_11eb_880e_0242ac1c0002level0_row17\" class=\"row_heading level0 row17\" >17</th>\n",
              "                        <td id=\"T_ae07c138_0e37_11eb_880e_0242ac1c0002row17_col0\" class=\"data row17 col0\" >Orthogonal Matching Pursuit</td>\n",
              "                        <td id=\"T_ae07c138_0e37_11eb_880e_0242ac1c0002row17_col1\" class=\"data row17 col1\" >4.2118</td>\n",
              "                        <td id=\"T_ae07c138_0e37_11eb_880e_0242ac1c0002row17_col2\" class=\"data row17 col2\" >34.5052</td>\n",
              "                        <td id=\"T_ae07c138_0e37_11eb_880e_0242ac1c0002row17_col3\" class=\"data row17 col3\" >5.7957</td>\n",
              "                        <td id=\"T_ae07c138_0e37_11eb_880e_0242ac1c0002row17_col4\" class=\"data row17 col4\" >0.5700</td>\n",
              "                        <td id=\"T_ae07c138_0e37_11eb_880e_0242ac1c0002row17_col5\" class=\"data row17 col5\" >0.2703</td>\n",
              "                        <td id=\"T_ae07c138_0e37_11eb_880e_0242ac1c0002row17_col6\" class=\"data row17 col6\" >0.2018</td>\n",
              "                        <td id=\"T_ae07c138_0e37_11eb_880e_0242ac1c0002row17_col7\" class=\"data row17 col7\" >0.0058</td>\n",
              "            </tr>\n",
              "            <tr>\n",
              "                        <th id=\"T_ae07c138_0e37_11eb_880e_0242ac1c0002level0_row18\" class=\"row_heading level0 row18\" >18</th>\n",
              "                        <td id=\"T_ae07c138_0e37_11eb_880e_0242ac1c0002row18_col0\" class=\"data row18 col0\" >K Neighbors Regressor</td>\n",
              "                        <td id=\"T_ae07c138_0e37_11eb_880e_0242ac1c0002row18_col1\" class=\"data row18 col1\" >4.3798</td>\n",
              "                        <td id=\"T_ae07c138_0e37_11eb_880e_0242ac1c0002row18_col2\" class=\"data row18 col2\" >40.8457</td>\n",
              "                        <td id=\"T_ae07c138_0e37_11eb_880e_0242ac1c0002row18_col3\" class=\"data row18 col3\" >6.2422</td>\n",
              "                        <td id=\"T_ae07c138_0e37_11eb_880e_0242ac1c0002row18_col4\" class=\"data row18 col4\" >0.4918</td>\n",
              "                        <td id=\"T_ae07c138_0e37_11eb_880e_0242ac1c0002row18_col5\" class=\"data row18 col5\" >0.2450</td>\n",
              "                        <td id=\"T_ae07c138_0e37_11eb_880e_0242ac1c0002row18_col6\" class=\"data row18 col6\" >0.2043</td>\n",
              "                        <td id=\"T_ae07c138_0e37_11eb_880e_0242ac1c0002row18_col7\" class=\"data row18 col7\" >0.0042</td>\n",
              "            </tr>\n",
              "            <tr>\n",
              "                        <th id=\"T_ae07c138_0e37_11eb_880e_0242ac1c0002level0_row19\" class=\"row_heading level0 row19\" >19</th>\n",
              "                        <td id=\"T_ae07c138_0e37_11eb_880e_0242ac1c0002row19_col0\" class=\"data row19 col0\" >Support Vector Machine</td>\n",
              "                        <td id=\"T_ae07c138_0e37_11eb_880e_0242ac1c0002row19_col1\" class=\"data row19 col1\" >5.3404</td>\n",
              "                        <td id=\"T_ae07c138_0e37_11eb_880e_0242ac1c0002row19_col2\" class=\"data row19 col2\" >66.9183</td>\n",
              "                        <td id=\"T_ae07c138_0e37_11eb_880e_0242ac1c0002row19_col3\" class=\"data row19 col3\" >8.0692</td>\n",
              "                        <td id=\"T_ae07c138_0e37_11eb_880e_0242ac1c0002row19_col4\" class=\"data row19 col4\" >0.1769</td>\n",
              "                        <td id=\"T_ae07c138_0e37_11eb_880e_0242ac1c0002row19_col5\" class=\"data row19 col5\" >0.3073</td>\n",
              "                        <td id=\"T_ae07c138_0e37_11eb_880e_0242ac1c0002row19_col6\" class=\"data row19 col6\" >0.2359</td>\n",
              "                        <td id=\"T_ae07c138_0e37_11eb_880e_0242ac1c0002row19_col7\" class=\"data row19 col7\" >0.0175</td>\n",
              "            </tr>\n",
              "            <tr>\n",
              "                        <th id=\"T_ae07c138_0e37_11eb_880e_0242ac1c0002level0_row20\" class=\"row_heading level0 row20\" >20</th>\n",
              "                        <td id=\"T_ae07c138_0e37_11eb_880e_0242ac1c0002row20_col0\" class=\"data row20 col0\" >Lasso Least Angle Regression</td>\n",
              "                        <td id=\"T_ae07c138_0e37_11eb_880e_0242ac1c0002row20_col1\" class=\"data row20 col1\" >6.5100</td>\n",
              "                        <td id=\"T_ae07c138_0e37_11eb_880e_0242ac1c0002row20_col2\" class=\"data row20 col2\" >80.2047</td>\n",
              "                        <td id=\"T_ae07c138_0e37_11eb_880e_0242ac1c0002row20_col3\" class=\"data row20 col3\" >8.9017</td>\n",
              "                        <td id=\"T_ae07c138_0e37_11eb_880e_0242ac1c0002row20_col4\" class=\"data row20 col4\" >-0.0052</td>\n",
              "                        <td id=\"T_ae07c138_0e37_11eb_880e_0242ac1c0002row20_col5\" class=\"data row20 col5\" >0.3749</td>\n",
              "                        <td id=\"T_ae07c138_0e37_11eb_880e_0242ac1c0002row20_col6\" class=\"data row20 col6\" >0.3443</td>\n",
              "                        <td id=\"T_ae07c138_0e37_11eb_880e_0242ac1c0002row20_col7\" class=\"data row20 col7\" >0.0054</td>\n",
              "            </tr>\n",
              "            <tr>\n",
              "                        <th id=\"T_ae07c138_0e37_11eb_880e_0242ac1c0002level0_row21\" class=\"row_heading level0 row21\" >21</th>\n",
              "                        <td id=\"T_ae07c138_0e37_11eb_880e_0242ac1c0002row21_col0\" class=\"data row21 col0\" >Passive Aggressive Regressor</td>\n",
              "                        <td id=\"T_ae07c138_0e37_11eb_880e_0242ac1c0002row21_col1\" class=\"data row21 col1\" >9.9740</td>\n",
              "                        <td id=\"T_ae07c138_0e37_11eb_880e_0242ac1c0002row21_col2\" class=\"data row21 col2\" >165.3979</td>\n",
              "                        <td id=\"T_ae07c138_0e37_11eb_880e_0242ac1c0002row21_col3\" class=\"data row21 col3\" >11.9386</td>\n",
              "                        <td id=\"T_ae07c138_0e37_11eb_880e_0242ac1c0002row21_col4\" class=\"data row21 col4\" >-1.6391</td>\n",
              "                        <td id=\"T_ae07c138_0e37_11eb_880e_0242ac1c0002row21_col5\" class=\"data row21 col5\" >0.4995</td>\n",
              "                        <td id=\"T_ae07c138_0e37_11eb_880e_0242ac1c0002row21_col6\" class=\"data row21 col6\" >0.5387</td>\n",
              "                        <td id=\"T_ae07c138_0e37_11eb_880e_0242ac1c0002row21_col7\" class=\"data row21 col7\" >0.0064</td>\n",
              "            </tr>\n",
              "    </tbody></table>"
            ],
            "text/plain": [
              "<pandas.io.formats.style.Styler at 0x7fb2012450f0>"
            ]
          },
          "metadata": {
            "tags": []
          }
        },
        {
          "output_type": "execute_result",
          "data": {
            "text/plain": [
              "<catboost.core.CatBoostRegressor at 0x7fb207c5b588>"
            ]
          },
          "metadata": {
            "tags": []
          },
          "execution_count": 12
        }
      ]
    },
    {
      "cell_type": "markdown",
      "metadata": {
        "id": "3G7QfCnOKmYs"
      },
      "source": [
        "In this regression problem , CatBoost Regressor performed well."
      ]
    },
    {
      "cell_type": "code",
      "metadata": {
        "id": "P3EWSTmMKANK",
        "outputId": "3ffccdcd-777e-4dd9-d5eb-116dd16b27d8",
        "colab": {
          "base_uri": "https://localhost:8080/",
          "height": 292,
          "referenced_widgets": [
            "5cc46352fc9e4680957c7b4275cd76f4",
            "4c4fbbef41ec4bda9cecb97130a2197d",
            "30165e7e094d480f89a4b6e217278384"
          ]
        }
      },
      "source": [
        "catboost_reg=create_model('catboost')"
      ],
      "execution_count": 13,
      "outputs": [
        {
          "output_type": "display_data",
          "data": {
            "text/html": [
              "<style  type=\"text/css\" >\n",
              "#T_c3d2f60e_0e37_11eb_880e_0242ac1c0002row10_col0,#T_c3d2f60e_0e37_11eb_880e_0242ac1c0002row10_col1,#T_c3d2f60e_0e37_11eb_880e_0242ac1c0002row10_col2,#T_c3d2f60e_0e37_11eb_880e_0242ac1c0002row10_col3,#T_c3d2f60e_0e37_11eb_880e_0242ac1c0002row10_col4,#T_c3d2f60e_0e37_11eb_880e_0242ac1c0002row10_col5{\n",
              "            background:  yellow;\n",
              "        }</style><table id=\"T_c3d2f60e_0e37_11eb_880e_0242ac1c0002\" ><thead>    <tr>        <th class=\"blank level0\" ></th>        <th class=\"col_heading level0 col0\" >MAE</th>        <th class=\"col_heading level0 col1\" >MSE</th>        <th class=\"col_heading level0 col2\" >RMSE</th>        <th class=\"col_heading level0 col3\" >R2</th>        <th class=\"col_heading level0 col4\" >RMSLE</th>        <th class=\"col_heading level0 col5\" >MAPE</th>    </tr></thead><tbody>\n",
              "                <tr>\n",
              "                        <th id=\"T_c3d2f60e_0e37_11eb_880e_0242ac1c0002level0_row0\" class=\"row_heading level0 row0\" >0</th>\n",
              "                        <td id=\"T_c3d2f60e_0e37_11eb_880e_0242ac1c0002row0_col0\" class=\"data row0 col0\" >2.7848</td>\n",
              "                        <td id=\"T_c3d2f60e_0e37_11eb_880e_0242ac1c0002row0_col1\" class=\"data row0 col1\" >35.7677</td>\n",
              "                        <td id=\"T_c3d2f60e_0e37_11eb_880e_0242ac1c0002row0_col2\" class=\"data row0 col2\" >5.9806</td>\n",
              "                        <td id=\"T_c3d2f60e_0e37_11eb_880e_0242ac1c0002row0_col3\" class=\"data row0 col3\" >0.6539</td>\n",
              "                        <td id=\"T_c3d2f60e_0e37_11eb_880e_0242ac1c0002row0_col4\" class=\"data row0 col4\" >0.1733</td>\n",
              "                        <td id=\"T_c3d2f60e_0e37_11eb_880e_0242ac1c0002row0_col5\" class=\"data row0 col5\" >0.0961</td>\n",
              "            </tr>\n",
              "            <tr>\n",
              "                        <th id=\"T_c3d2f60e_0e37_11eb_880e_0242ac1c0002level0_row1\" class=\"row_heading level0 row1\" >1</th>\n",
              "                        <td id=\"T_c3d2f60e_0e37_11eb_880e_0242ac1c0002row1_col0\" class=\"data row1 col0\" >1.7585</td>\n",
              "                        <td id=\"T_c3d2f60e_0e37_11eb_880e_0242ac1c0002row1_col1\" class=\"data row1 col1\" >5.9228</td>\n",
              "                        <td id=\"T_c3d2f60e_0e37_11eb_880e_0242ac1c0002row1_col2\" class=\"data row1 col2\" >2.4337</td>\n",
              "                        <td id=\"T_c3d2f60e_0e37_11eb_880e_0242ac1c0002row1_col3\" class=\"data row1 col3\" >0.9354</td>\n",
              "                        <td id=\"T_c3d2f60e_0e37_11eb_880e_0242ac1c0002row1_col4\" class=\"data row1 col4\" >0.1030</td>\n",
              "                        <td id=\"T_c3d2f60e_0e37_11eb_880e_0242ac1c0002row1_col5\" class=\"data row1 col5\" >0.0799</td>\n",
              "            </tr>\n",
              "            <tr>\n",
              "                        <th id=\"T_c3d2f60e_0e37_11eb_880e_0242ac1c0002level0_row2\" class=\"row_heading level0 row2\" >2</th>\n",
              "                        <td id=\"T_c3d2f60e_0e37_11eb_880e_0242ac1c0002row2_col0\" class=\"data row2 col0\" >2.0805</td>\n",
              "                        <td id=\"T_c3d2f60e_0e37_11eb_880e_0242ac1c0002row2_col1\" class=\"data row2 col1\" >6.4990</td>\n",
              "                        <td id=\"T_c3d2f60e_0e37_11eb_880e_0242ac1c0002row2_col2\" class=\"data row2 col2\" >2.5493</td>\n",
              "                        <td id=\"T_c3d2f60e_0e37_11eb_880e_0242ac1c0002row2_col3\" class=\"data row2 col3\" >0.9223</td>\n",
              "                        <td id=\"T_c3d2f60e_0e37_11eb_880e_0242ac1c0002row2_col4\" class=\"data row2 col4\" >0.1440</td>\n",
              "                        <td id=\"T_c3d2f60e_0e37_11eb_880e_0242ac1c0002row2_col5\" class=\"data row2 col5\" >0.1236</td>\n",
              "            </tr>\n",
              "            <tr>\n",
              "                        <th id=\"T_c3d2f60e_0e37_11eb_880e_0242ac1c0002level0_row3\" class=\"row_heading level0 row3\" >3</th>\n",
              "                        <td id=\"T_c3d2f60e_0e37_11eb_880e_0242ac1c0002row3_col0\" class=\"data row3 col0\" >1.9721</td>\n",
              "                        <td id=\"T_c3d2f60e_0e37_11eb_880e_0242ac1c0002row3_col1\" class=\"data row3 col1\" >13.2308</td>\n",
              "                        <td id=\"T_c3d2f60e_0e37_11eb_880e_0242ac1c0002row3_col2\" class=\"data row3 col2\" >3.6374</td>\n",
              "                        <td id=\"T_c3d2f60e_0e37_11eb_880e_0242ac1c0002row3_col3\" class=\"data row3 col3\" >0.8454</td>\n",
              "                        <td id=\"T_c3d2f60e_0e37_11eb_880e_0242ac1c0002row3_col4\" class=\"data row3 col4\" >0.1285</td>\n",
              "                        <td id=\"T_c3d2f60e_0e37_11eb_880e_0242ac1c0002row3_col5\" class=\"data row3 col5\" >0.0899</td>\n",
              "            </tr>\n",
              "            <tr>\n",
              "                        <th id=\"T_c3d2f60e_0e37_11eb_880e_0242ac1c0002level0_row4\" class=\"row_heading level0 row4\" >4</th>\n",
              "                        <td id=\"T_c3d2f60e_0e37_11eb_880e_0242ac1c0002row4_col0\" class=\"data row4 col0\" >1.9982</td>\n",
              "                        <td id=\"T_c3d2f60e_0e37_11eb_880e_0242ac1c0002row4_col1\" class=\"data row4 col1\" >10.7294</td>\n",
              "                        <td id=\"T_c3d2f60e_0e37_11eb_880e_0242ac1c0002row4_col2\" class=\"data row4 col2\" >3.2756</td>\n",
              "                        <td id=\"T_c3d2f60e_0e37_11eb_880e_0242ac1c0002row4_col3\" class=\"data row4 col3\" >0.8815</td>\n",
              "                        <td id=\"T_c3d2f60e_0e37_11eb_880e_0242ac1c0002row4_col4\" class=\"data row4 col4\" >0.1392</td>\n",
              "                        <td id=\"T_c3d2f60e_0e37_11eb_880e_0242ac1c0002row4_col5\" class=\"data row4 col5\" >0.1014</td>\n",
              "            </tr>\n",
              "            <tr>\n",
              "                        <th id=\"T_c3d2f60e_0e37_11eb_880e_0242ac1c0002level0_row5\" class=\"row_heading level0 row5\" >5</th>\n",
              "                        <td id=\"T_c3d2f60e_0e37_11eb_880e_0242ac1c0002row5_col0\" class=\"data row5 col0\" >1.7744</td>\n",
              "                        <td id=\"T_c3d2f60e_0e37_11eb_880e_0242ac1c0002row5_col1\" class=\"data row5 col1\" >6.1446</td>\n",
              "                        <td id=\"T_c3d2f60e_0e37_11eb_880e_0242ac1c0002row5_col2\" class=\"data row5 col2\" >2.4788</td>\n",
              "                        <td id=\"T_c3d2f60e_0e37_11eb_880e_0242ac1c0002row5_col3\" class=\"data row5 col3\" >0.9292</td>\n",
              "                        <td id=\"T_c3d2f60e_0e37_11eb_880e_0242ac1c0002row5_col4\" class=\"data row5 col4\" >0.1337</td>\n",
              "                        <td id=\"T_c3d2f60e_0e37_11eb_880e_0242ac1c0002row5_col5\" class=\"data row5 col5\" >0.0970</td>\n",
              "            </tr>\n",
              "            <tr>\n",
              "                        <th id=\"T_c3d2f60e_0e37_11eb_880e_0242ac1c0002level0_row6\" class=\"row_heading level0 row6\" >6</th>\n",
              "                        <td id=\"T_c3d2f60e_0e37_11eb_880e_0242ac1c0002row6_col0\" class=\"data row6 col0\" >1.8550</td>\n",
              "                        <td id=\"T_c3d2f60e_0e37_11eb_880e_0242ac1c0002row6_col1\" class=\"data row6 col1\" >7.6319</td>\n",
              "                        <td id=\"T_c3d2f60e_0e37_11eb_880e_0242ac1c0002row6_col2\" class=\"data row6 col2\" >2.7626</td>\n",
              "                        <td id=\"T_c3d2f60e_0e37_11eb_880e_0242ac1c0002row6_col3\" class=\"data row6 col3\" >0.8815</td>\n",
              "                        <td id=\"T_c3d2f60e_0e37_11eb_880e_0242ac1c0002row6_col4\" class=\"data row6 col4\" >0.1394</td>\n",
              "                        <td id=\"T_c3d2f60e_0e37_11eb_880e_0242ac1c0002row6_col5\" class=\"data row6 col5\" >0.0988</td>\n",
              "            </tr>\n",
              "            <tr>\n",
              "                        <th id=\"T_c3d2f60e_0e37_11eb_880e_0242ac1c0002level0_row7\" class=\"row_heading level0 row7\" >7</th>\n",
              "                        <td id=\"T_c3d2f60e_0e37_11eb_880e_0242ac1c0002row7_col0\" class=\"data row7 col0\" >2.2020</td>\n",
              "                        <td id=\"T_c3d2f60e_0e37_11eb_880e_0242ac1c0002row7_col1\" class=\"data row7 col1\" >14.1632</td>\n",
              "                        <td id=\"T_c3d2f60e_0e37_11eb_880e_0242ac1c0002row7_col2\" class=\"data row7 col2\" >3.7634</td>\n",
              "                        <td id=\"T_c3d2f60e_0e37_11eb_880e_0242ac1c0002row7_col3\" class=\"data row7 col3\" >0.7900</td>\n",
              "                        <td id=\"T_c3d2f60e_0e37_11eb_880e_0242ac1c0002row7_col4\" class=\"data row7 col4\" >0.1494</td>\n",
              "                        <td id=\"T_c3d2f60e_0e37_11eb_880e_0242ac1c0002row7_col5\" class=\"data row7 col5\" >0.0922</td>\n",
              "            </tr>\n",
              "            <tr>\n",
              "                        <th id=\"T_c3d2f60e_0e37_11eb_880e_0242ac1c0002level0_row8\" class=\"row_heading level0 row8\" >8</th>\n",
              "                        <td id=\"T_c3d2f60e_0e37_11eb_880e_0242ac1c0002row8_col0\" class=\"data row8 col0\" >1.6573</td>\n",
              "                        <td id=\"T_c3d2f60e_0e37_11eb_880e_0242ac1c0002row8_col1\" class=\"data row8 col1\" >4.3657</td>\n",
              "                        <td id=\"T_c3d2f60e_0e37_11eb_880e_0242ac1c0002row8_col2\" class=\"data row8 col2\" >2.0894</td>\n",
              "                        <td id=\"T_c3d2f60e_0e37_11eb_880e_0242ac1c0002row8_col3\" class=\"data row8 col3\" >0.8988</td>\n",
              "                        <td id=\"T_c3d2f60e_0e37_11eb_880e_0242ac1c0002row8_col4\" class=\"data row8 col4\" >0.0966</td>\n",
              "                        <td id=\"T_c3d2f60e_0e37_11eb_880e_0242ac1c0002row8_col5\" class=\"data row8 col5\" >0.0787</td>\n",
              "            </tr>\n",
              "            <tr>\n",
              "                        <th id=\"T_c3d2f60e_0e37_11eb_880e_0242ac1c0002level0_row9\" class=\"row_heading level0 row9\" >9</th>\n",
              "                        <td id=\"T_c3d2f60e_0e37_11eb_880e_0242ac1c0002row9_col0\" class=\"data row9 col0\" >1.8479</td>\n",
              "                        <td id=\"T_c3d2f60e_0e37_11eb_880e_0242ac1c0002row9_col1\" class=\"data row9 col1\" >6.1719</td>\n",
              "                        <td id=\"T_c3d2f60e_0e37_11eb_880e_0242ac1c0002row9_col2\" class=\"data row9 col2\" >2.4843</td>\n",
              "                        <td id=\"T_c3d2f60e_0e37_11eb_880e_0242ac1c0002row9_col3\" class=\"data row9 col3\" >0.9240</td>\n",
              "                        <td id=\"T_c3d2f60e_0e37_11eb_880e_0242ac1c0002row9_col4\" class=\"data row9 col4\" >0.1526</td>\n",
              "                        <td id=\"T_c3d2f60e_0e37_11eb_880e_0242ac1c0002row9_col5\" class=\"data row9 col5\" >0.1124</td>\n",
              "            </tr>\n",
              "            <tr>\n",
              "                        <th id=\"T_c3d2f60e_0e37_11eb_880e_0242ac1c0002level0_row10\" class=\"row_heading level0 row10\" >Mean</th>\n",
              "                        <td id=\"T_c3d2f60e_0e37_11eb_880e_0242ac1c0002row10_col0\" class=\"data row10 col0\" >1.9930</td>\n",
              "                        <td id=\"T_c3d2f60e_0e37_11eb_880e_0242ac1c0002row10_col1\" class=\"data row10 col1\" >11.0627</td>\n",
              "                        <td id=\"T_c3d2f60e_0e37_11eb_880e_0242ac1c0002row10_col2\" class=\"data row10 col2\" >3.1455</td>\n",
              "                        <td id=\"T_c3d2f60e_0e37_11eb_880e_0242ac1c0002row10_col3\" class=\"data row10 col3\" >0.8662</td>\n",
              "                        <td id=\"T_c3d2f60e_0e37_11eb_880e_0242ac1c0002row10_col4\" class=\"data row10 col4\" >0.1360</td>\n",
              "                        <td id=\"T_c3d2f60e_0e37_11eb_880e_0242ac1c0002row10_col5\" class=\"data row10 col5\" >0.0970</td>\n",
              "            </tr>\n",
              "            <tr>\n",
              "                        <th id=\"T_c3d2f60e_0e37_11eb_880e_0242ac1c0002level0_row11\" class=\"row_heading level0 row11\" >SD</th>\n",
              "                        <td id=\"T_c3d2f60e_0e37_11eb_880e_0242ac1c0002row11_col0\" class=\"data row11 col0\" >0.3057</td>\n",
              "                        <td id=\"T_c3d2f60e_0e37_11eb_880e_0242ac1c0002row11_col1\" class=\"data row11 col1\" >8.8133</td>\n",
              "                        <td id=\"T_c3d2f60e_0e37_11eb_880e_0242ac1c0002row11_col2\" class=\"data row11 col2\" >1.0809</td>\n",
              "                        <td id=\"T_c3d2f60e_0e37_11eb_880e_0242ac1c0002row11_col3\" class=\"data row11 col3\" >0.0825</td>\n",
              "                        <td id=\"T_c3d2f60e_0e37_11eb_880e_0242ac1c0002row11_col4\" class=\"data row11 col4\" >0.0215</td>\n",
              "                        <td id=\"T_c3d2f60e_0e37_11eb_880e_0242ac1c0002row11_col5\" class=\"data row11 col5\" >0.0129</td>\n",
              "            </tr>\n",
              "    </tbody></table>"
            ],
            "text/plain": [
              "<pandas.io.formats.style.Styler at 0x7fb207c46cc0>"
            ]
          },
          "metadata": {
            "tags": []
          }
        }
      ]
    },
    {
      "cell_type": "code",
      "metadata": {
        "id": "oC-V_2kIK6YE",
        "outputId": "0a0b8025-6611-44d8-c46d-659d5a4120b4",
        "colab": {
          "base_uri": "https://localhost:8080/",
          "height": 292,
          "referenced_widgets": [
            "bd4f9c793633486d9a4d9e91996c076c",
            "b44efb9f27c44920814b7059f204611d",
            "15106e839c394f1ca69c4ec6ea9e8d09"
          ]
        }
      },
      "source": [
        "catboost_reg_tune=tune_model(catboost_reg,n_iter=30,optimize='MAE')"
      ],
      "execution_count": 14,
      "outputs": [
        {
          "output_type": "display_data",
          "data": {
            "text/html": [
              "<style  type=\"text/css\" >\n",
              "#T_f3afcbe0_0e37_11eb_880e_0242ac1c0002row10_col0,#T_f3afcbe0_0e37_11eb_880e_0242ac1c0002row10_col1,#T_f3afcbe0_0e37_11eb_880e_0242ac1c0002row10_col2,#T_f3afcbe0_0e37_11eb_880e_0242ac1c0002row10_col3,#T_f3afcbe0_0e37_11eb_880e_0242ac1c0002row10_col4,#T_f3afcbe0_0e37_11eb_880e_0242ac1c0002row10_col5{\n",
              "            background:  yellow;\n",
              "        }</style><table id=\"T_f3afcbe0_0e37_11eb_880e_0242ac1c0002\" ><thead>    <tr>        <th class=\"blank level0\" ></th>        <th class=\"col_heading level0 col0\" >MAE</th>        <th class=\"col_heading level0 col1\" >MSE</th>        <th class=\"col_heading level0 col2\" >RMSE</th>        <th class=\"col_heading level0 col3\" >R2</th>        <th class=\"col_heading level0 col4\" >RMSLE</th>        <th class=\"col_heading level0 col5\" >MAPE</th>    </tr></thead><tbody>\n",
              "                <tr>\n",
              "                        <th id=\"T_f3afcbe0_0e37_11eb_880e_0242ac1c0002level0_row0\" class=\"row_heading level0 row0\" >0</th>\n",
              "                        <td id=\"T_f3afcbe0_0e37_11eb_880e_0242ac1c0002row0_col0\" class=\"data row0 col0\" >2.7354</td>\n",
              "                        <td id=\"T_f3afcbe0_0e37_11eb_880e_0242ac1c0002row0_col1\" class=\"data row0 col1\" >38.8013</td>\n",
              "                        <td id=\"T_f3afcbe0_0e37_11eb_880e_0242ac1c0002row0_col2\" class=\"data row0 col2\" >6.2291</td>\n",
              "                        <td id=\"T_f3afcbe0_0e37_11eb_880e_0242ac1c0002row0_col3\" class=\"data row0 col3\" >0.6246</td>\n",
              "                        <td id=\"T_f3afcbe0_0e37_11eb_880e_0242ac1c0002row0_col4\" class=\"data row0 col4\" >0.1802</td>\n",
              "                        <td id=\"T_f3afcbe0_0e37_11eb_880e_0242ac1c0002row0_col5\" class=\"data row0 col5\" >0.0931</td>\n",
              "            </tr>\n",
              "            <tr>\n",
              "                        <th id=\"T_f3afcbe0_0e37_11eb_880e_0242ac1c0002level0_row1\" class=\"row_heading level0 row1\" >1</th>\n",
              "                        <td id=\"T_f3afcbe0_0e37_11eb_880e_0242ac1c0002row1_col0\" class=\"data row1 col0\" >1.9240</td>\n",
              "                        <td id=\"T_f3afcbe0_0e37_11eb_880e_0242ac1c0002row1_col1\" class=\"data row1 col1\" >6.4350</td>\n",
              "                        <td id=\"T_f3afcbe0_0e37_11eb_880e_0242ac1c0002row1_col2\" class=\"data row1 col2\" >2.5367</td>\n",
              "                        <td id=\"T_f3afcbe0_0e37_11eb_880e_0242ac1c0002row1_col3\" class=\"data row1 col3\" >0.9298</td>\n",
              "                        <td id=\"T_f3afcbe0_0e37_11eb_880e_0242ac1c0002row1_col4\" class=\"data row1 col4\" >0.1122</td>\n",
              "                        <td id=\"T_f3afcbe0_0e37_11eb_880e_0242ac1c0002row1_col5\" class=\"data row1 col5\" >0.0930</td>\n",
              "            </tr>\n",
              "            <tr>\n",
              "                        <th id=\"T_f3afcbe0_0e37_11eb_880e_0242ac1c0002level0_row2\" class=\"row_heading level0 row2\" >2</th>\n",
              "                        <td id=\"T_f3afcbe0_0e37_11eb_880e_0242ac1c0002row2_col0\" class=\"data row2 col0\" >2.1418</td>\n",
              "                        <td id=\"T_f3afcbe0_0e37_11eb_880e_0242ac1c0002row2_col1\" class=\"data row2 col1\" >7.7474</td>\n",
              "                        <td id=\"T_f3afcbe0_0e37_11eb_880e_0242ac1c0002row2_col2\" class=\"data row2 col2\" >2.7834</td>\n",
              "                        <td id=\"T_f3afcbe0_0e37_11eb_880e_0242ac1c0002row2_col3\" class=\"data row2 col3\" >0.9073</td>\n",
              "                        <td id=\"T_f3afcbe0_0e37_11eb_880e_0242ac1c0002row2_col4\" class=\"data row2 col4\" >0.1464</td>\n",
              "                        <td id=\"T_f3afcbe0_0e37_11eb_880e_0242ac1c0002row2_col5\" class=\"data row2 col5\" >0.1245</td>\n",
              "            </tr>\n",
              "            <tr>\n",
              "                        <th id=\"T_f3afcbe0_0e37_11eb_880e_0242ac1c0002level0_row3\" class=\"row_heading level0 row3\" >3</th>\n",
              "                        <td id=\"T_f3afcbe0_0e37_11eb_880e_0242ac1c0002row3_col0\" class=\"data row3 col0\" >1.6462</td>\n",
              "                        <td id=\"T_f3afcbe0_0e37_11eb_880e_0242ac1c0002row3_col1\" class=\"data row3 col1\" >6.6400</td>\n",
              "                        <td id=\"T_f3afcbe0_0e37_11eb_880e_0242ac1c0002row3_col2\" class=\"data row3 col2\" >2.5768</td>\n",
              "                        <td id=\"T_f3afcbe0_0e37_11eb_880e_0242ac1c0002row3_col3\" class=\"data row3 col3\" >0.9224</td>\n",
              "                        <td id=\"T_f3afcbe0_0e37_11eb_880e_0242ac1c0002row3_col4\" class=\"data row3 col4\" >0.1022</td>\n",
              "                        <td id=\"T_f3afcbe0_0e37_11eb_880e_0242ac1c0002row3_col5\" class=\"data row3 col5\" >0.0804</td>\n",
              "            </tr>\n",
              "            <tr>\n",
              "                        <th id=\"T_f3afcbe0_0e37_11eb_880e_0242ac1c0002level0_row4\" class=\"row_heading level0 row4\" >4</th>\n",
              "                        <td id=\"T_f3afcbe0_0e37_11eb_880e_0242ac1c0002row4_col0\" class=\"data row4 col0\" >1.6853</td>\n",
              "                        <td id=\"T_f3afcbe0_0e37_11eb_880e_0242ac1c0002row4_col1\" class=\"data row4 col1\" >7.0621</td>\n",
              "                        <td id=\"T_f3afcbe0_0e37_11eb_880e_0242ac1c0002row4_col2\" class=\"data row4 col2\" >2.6575</td>\n",
              "                        <td id=\"T_f3afcbe0_0e37_11eb_880e_0242ac1c0002row4_col3\" class=\"data row4 col3\" >0.9220</td>\n",
              "                        <td id=\"T_f3afcbe0_0e37_11eb_880e_0242ac1c0002row4_col4\" class=\"data row4 col4\" >0.1247</td>\n",
              "                        <td id=\"T_f3afcbe0_0e37_11eb_880e_0242ac1c0002row4_col5\" class=\"data row4 col5\" >0.0860</td>\n",
              "            </tr>\n",
              "            <tr>\n",
              "                        <th id=\"T_f3afcbe0_0e37_11eb_880e_0242ac1c0002level0_row5\" class=\"row_heading level0 row5\" >5</th>\n",
              "                        <td id=\"T_f3afcbe0_0e37_11eb_880e_0242ac1c0002row5_col0\" class=\"data row5 col0\" >1.6887</td>\n",
              "                        <td id=\"T_f3afcbe0_0e37_11eb_880e_0242ac1c0002row5_col1\" class=\"data row5 col1\" >5.7741</td>\n",
              "                        <td id=\"T_f3afcbe0_0e37_11eb_880e_0242ac1c0002row5_col2\" class=\"data row5 col2\" >2.4029</td>\n",
              "                        <td id=\"T_f3afcbe0_0e37_11eb_880e_0242ac1c0002row5_col3\" class=\"data row5 col3\" >0.9335</td>\n",
              "                        <td id=\"T_f3afcbe0_0e37_11eb_880e_0242ac1c0002row5_col4\" class=\"data row5 col4\" >0.1466</td>\n",
              "                        <td id=\"T_f3afcbe0_0e37_11eb_880e_0242ac1c0002row5_col5\" class=\"data row5 col5\" >0.1007</td>\n",
              "            </tr>\n",
              "            <tr>\n",
              "                        <th id=\"T_f3afcbe0_0e37_11eb_880e_0242ac1c0002level0_row6\" class=\"row_heading level0 row6\" >6</th>\n",
              "                        <td id=\"T_f3afcbe0_0e37_11eb_880e_0242ac1c0002row6_col0\" class=\"data row6 col0\" >2.4249</td>\n",
              "                        <td id=\"T_f3afcbe0_0e37_11eb_880e_0242ac1c0002row6_col1\" class=\"data row6 col1\" >12.5415</td>\n",
              "                        <td id=\"T_f3afcbe0_0e37_11eb_880e_0242ac1c0002row6_col2\" class=\"data row6 col2\" >3.5414</td>\n",
              "                        <td id=\"T_f3afcbe0_0e37_11eb_880e_0242ac1c0002row6_col3\" class=\"data row6 col3\" >0.8052</td>\n",
              "                        <td id=\"T_f3afcbe0_0e37_11eb_880e_0242ac1c0002row6_col4\" class=\"data row6 col4\" >0.1677</td>\n",
              "                        <td id=\"T_f3afcbe0_0e37_11eb_880e_0242ac1c0002row6_col5\" class=\"data row6 col5\" >0.1266</td>\n",
              "            </tr>\n",
              "            <tr>\n",
              "                        <th id=\"T_f3afcbe0_0e37_11eb_880e_0242ac1c0002level0_row7\" class=\"row_heading level0 row7\" >7</th>\n",
              "                        <td id=\"T_f3afcbe0_0e37_11eb_880e_0242ac1c0002row7_col0\" class=\"data row7 col0\" >2.0624</td>\n",
              "                        <td id=\"T_f3afcbe0_0e37_11eb_880e_0242ac1c0002row7_col1\" class=\"data row7 col1\" >10.2103</td>\n",
              "                        <td id=\"T_f3afcbe0_0e37_11eb_880e_0242ac1c0002row7_col2\" class=\"data row7 col2\" >3.1954</td>\n",
              "                        <td id=\"T_f3afcbe0_0e37_11eb_880e_0242ac1c0002row7_col3\" class=\"data row7 col3\" >0.8486</td>\n",
              "                        <td id=\"T_f3afcbe0_0e37_11eb_880e_0242ac1c0002row7_col4\" class=\"data row7 col4\" >0.1405</td>\n",
              "                        <td id=\"T_f3afcbe0_0e37_11eb_880e_0242ac1c0002row7_col5\" class=\"data row7 col5\" >0.0873</td>\n",
              "            </tr>\n",
              "            <tr>\n",
              "                        <th id=\"T_f3afcbe0_0e37_11eb_880e_0242ac1c0002level0_row8\" class=\"row_heading level0 row8\" >8</th>\n",
              "                        <td id=\"T_f3afcbe0_0e37_11eb_880e_0242ac1c0002row8_col0\" class=\"data row8 col0\" >1.8817</td>\n",
              "                        <td id=\"T_f3afcbe0_0e37_11eb_880e_0242ac1c0002row8_col1\" class=\"data row8 col1\" >4.9689</td>\n",
              "                        <td id=\"T_f3afcbe0_0e37_11eb_880e_0242ac1c0002row8_col2\" class=\"data row8 col2\" >2.2291</td>\n",
              "                        <td id=\"T_f3afcbe0_0e37_11eb_880e_0242ac1c0002row8_col3\" class=\"data row8 col3\" >0.8848</td>\n",
              "                        <td id=\"T_f3afcbe0_0e37_11eb_880e_0242ac1c0002row8_col4\" class=\"data row8 col4\" >0.0934</td>\n",
              "                        <td id=\"T_f3afcbe0_0e37_11eb_880e_0242ac1c0002row8_col5\" class=\"data row8 col5\" >0.0857</td>\n",
              "            </tr>\n",
              "            <tr>\n",
              "                        <th id=\"T_f3afcbe0_0e37_11eb_880e_0242ac1c0002level0_row9\" class=\"row_heading level0 row9\" >9</th>\n",
              "                        <td id=\"T_f3afcbe0_0e37_11eb_880e_0242ac1c0002row9_col0\" class=\"data row9 col0\" >1.8876</td>\n",
              "                        <td id=\"T_f3afcbe0_0e37_11eb_880e_0242ac1c0002row9_col1\" class=\"data row9 col1\" >6.6473</td>\n",
              "                        <td id=\"T_f3afcbe0_0e37_11eb_880e_0242ac1c0002row9_col2\" class=\"data row9 col2\" >2.5782</td>\n",
              "                        <td id=\"T_f3afcbe0_0e37_11eb_880e_0242ac1c0002row9_col3\" class=\"data row9 col3\" >0.9181</td>\n",
              "                        <td id=\"T_f3afcbe0_0e37_11eb_880e_0242ac1c0002row9_col4\" class=\"data row9 col4\" >0.1684</td>\n",
              "                        <td id=\"T_f3afcbe0_0e37_11eb_880e_0242ac1c0002row9_col5\" class=\"data row9 col5\" >0.1228</td>\n",
              "            </tr>\n",
              "            <tr>\n",
              "                        <th id=\"T_f3afcbe0_0e37_11eb_880e_0242ac1c0002level0_row10\" class=\"row_heading level0 row10\" >Mean</th>\n",
              "                        <td id=\"T_f3afcbe0_0e37_11eb_880e_0242ac1c0002row10_col0\" class=\"data row10 col0\" >2.0078</td>\n",
              "                        <td id=\"T_f3afcbe0_0e37_11eb_880e_0242ac1c0002row10_col1\" class=\"data row10 col1\" >10.6828</td>\n",
              "                        <td id=\"T_f3afcbe0_0e37_11eb_880e_0242ac1c0002row10_col2\" class=\"data row10 col2\" >3.0731</td>\n",
              "                        <td id=\"T_f3afcbe0_0e37_11eb_880e_0242ac1c0002row10_col3\" class=\"data row10 col3\" >0.8696</td>\n",
              "                        <td id=\"T_f3afcbe0_0e37_11eb_880e_0242ac1c0002row10_col4\" class=\"data row10 col4\" >0.1382</td>\n",
              "                        <td id=\"T_f3afcbe0_0e37_11eb_880e_0242ac1c0002row10_col5\" class=\"data row10 col5\" >0.1000</td>\n",
              "            </tr>\n",
              "            <tr>\n",
              "                        <th id=\"T_f3afcbe0_0e37_11eb_880e_0242ac1c0002level0_row11\" class=\"row_heading level0 row11\" >SD</th>\n",
              "                        <td id=\"T_f3afcbe0_0e37_11eb_880e_0242ac1c0002row11_col0\" class=\"data row11 col0\" >0.3314</td>\n",
              "                        <td id=\"T_f3afcbe0_0e37_11eb_880e_0242ac1c0002row11_col1\" class=\"data row11 col1\" >9.6097</td>\n",
              "                        <td id=\"T_f3afcbe0_0e37_11eb_880e_0242ac1c0002row11_col2\" class=\"data row11 col2\" >1.1132</td>\n",
              "                        <td id=\"T_f3afcbe0_0e37_11eb_880e_0242ac1c0002row11_col3\" class=\"data row11 col3\" >0.0905</td>\n",
              "                        <td id=\"T_f3afcbe0_0e37_11eb_880e_0242ac1c0002row11_col4\" class=\"data row11 col4\" >0.0280</td>\n",
              "                        <td id=\"T_f3afcbe0_0e37_11eb_880e_0242ac1c0002row11_col5\" class=\"data row11 col5\" >0.0169</td>\n",
              "            </tr>\n",
              "    </tbody></table>"
            ],
            "text/plain": [
              "<pandas.io.formats.style.Styler at 0x7fb207a53a20>"
            ]
          },
          "metadata": {
            "tags": []
          }
        }
      ]
    },
    {
      "cell_type": "code",
      "metadata": {
        "id": "wHg6_ZTQLy3s",
        "outputId": "ab1a291b-9b80-477b-b162-c6dfc8d52d12",
        "colab": {
          "base_uri": "https://localhost:8080/",
          "height": 34
        }
      },
      "source": [
        "catboost_reg_tune"
      ],
      "execution_count": 15,
      "outputs": [
        {
          "output_type": "execute_result",
          "data": {
            "text/plain": [
              "<catboost.core.CatBoostRegressor at 0x7fb207a53400>"
            ]
          },
          "metadata": {
            "tags": []
          },
          "execution_count": 15
        }
      ]
    },
    {
      "cell_type": "markdown",
      "metadata": {
        "id": "qIhbP1qiM4Q-"
      },
      "source": [
        "Simple Clustering"
      ]
    },
    {
      "cell_type": "code",
      "metadata": {
        "id": "gDbe8v-JMXhR",
        "outputId": "d71c35f4-a792-4d91-f849-11b0b7afe3a6",
        "colab": {
          "base_uri": "https://localhost:8080/",
          "height": 204
        }
      },
      "source": [
        "cluster_df=get_data('jewellery')"
      ],
      "execution_count": 16,
      "outputs": [
        {
          "output_type": "display_data",
          "data": {
            "text/html": [
              "<div>\n",
              "<style scoped>\n",
              "    .dataframe tbody tr th:only-of-type {\n",
              "        vertical-align: middle;\n",
              "    }\n",
              "\n",
              "    .dataframe tbody tr th {\n",
              "        vertical-align: top;\n",
              "    }\n",
              "\n",
              "    .dataframe thead th {\n",
              "        text-align: right;\n",
              "    }\n",
              "</style>\n",
              "<table border=\"1\" class=\"dataframe\">\n",
              "  <thead>\n",
              "    <tr style=\"text-align: right;\">\n",
              "      <th></th>\n",
              "      <th>Age</th>\n",
              "      <th>Income</th>\n",
              "      <th>SpendingScore</th>\n",
              "      <th>Savings</th>\n",
              "    </tr>\n",
              "  </thead>\n",
              "  <tbody>\n",
              "    <tr>\n",
              "      <th>0</th>\n",
              "      <td>58</td>\n",
              "      <td>77769</td>\n",
              "      <td>0.791329</td>\n",
              "      <td>6559.829923</td>\n",
              "    </tr>\n",
              "    <tr>\n",
              "      <th>1</th>\n",
              "      <td>59</td>\n",
              "      <td>81799</td>\n",
              "      <td>0.791082</td>\n",
              "      <td>5417.661426</td>\n",
              "    </tr>\n",
              "    <tr>\n",
              "      <th>2</th>\n",
              "      <td>62</td>\n",
              "      <td>74751</td>\n",
              "      <td>0.702657</td>\n",
              "      <td>9258.992965</td>\n",
              "    </tr>\n",
              "    <tr>\n",
              "      <th>3</th>\n",
              "      <td>59</td>\n",
              "      <td>74373</td>\n",
              "      <td>0.765680</td>\n",
              "      <td>7346.334504</td>\n",
              "    </tr>\n",
              "    <tr>\n",
              "      <th>4</th>\n",
              "      <td>87</td>\n",
              "      <td>17760</td>\n",
              "      <td>0.348778</td>\n",
              "      <td>16869.507130</td>\n",
              "    </tr>\n",
              "  </tbody>\n",
              "</table>\n",
              "</div>"
            ],
            "text/plain": [
              "   Age  Income  SpendingScore       Savings\n",
              "0   58   77769       0.791329   6559.829923\n",
              "1   59   81799       0.791082   5417.661426\n",
              "2   62   74751       0.702657   9258.992965\n",
              "3   59   74373       0.765680   7346.334504\n",
              "4   87   17760       0.348778  16869.507130"
            ]
          },
          "metadata": {
            "tags": []
          }
        }
      ]
    },
    {
      "cell_type": "code",
      "metadata": {
        "id": "1qKanULtNDE2",
        "outputId": "a1e0b3ef-dde4-4f66-836e-c216c31b01eb",
        "colab": {
          "base_uri": "https://localhost:8080/",
          "height": 34
        }
      },
      "source": [
        "cluster_df.shape"
      ],
      "execution_count": 17,
      "outputs": [
        {
          "output_type": "execute_result",
          "data": {
            "text/plain": [
              "(505, 4)"
            ]
          },
          "metadata": {
            "tags": []
          },
          "execution_count": 17
        }
      ]
    },
    {
      "cell_type": "code",
      "metadata": {
        "id": "wsWH21_RNF3P"
      },
      "source": [
        "from pycaret.clustering import *"
      ],
      "execution_count": 18,
      "outputs": []
    },
    {
      "cell_type": "code",
      "metadata": {
        "id": "Vht0BirKNKyU",
        "outputId": "5c49ba94-4891-40d0-c4bf-34312c365a72",
        "colab": {
          "base_uri": "https://localhost:8080/",
          "height": 561,
          "referenced_widgets": [
            "edce5914b6084537bbfc5f70f6b1a109",
            "777988a568f241f381aabb8c7b77ceb7",
            "f09baaca97094ffbb24bee7141f4f3d3",
            "35abf64b2ab44ceb963fe037ba2cbbf2",
            "0d5644d208374c35924a969095ad176c",
            "c21b87ed989746248ec3dff701616afa"
          ]
        }
      },
      "source": [
        "cluster_algo=setup(data=cluster_df)"
      ],
      "execution_count": 19,
      "outputs": [
        {
          "output_type": "stream",
          "text": [
            "Setup Succesfully Completed!\n"
          ],
          "name": "stdout"
        },
        {
          "output_type": "display_data",
          "data": {
            "text/html": [
              "<style  type=\"text/css\" >\n",
              "</style><table id=\"T_26990d46_0e38_11eb_880e_0242ac1c0002\" ><thead>    <tr>        <th class=\"blank level0\" ></th>        <th class=\"col_heading level0 col0\" >Description</th>        <th class=\"col_heading level0 col1\" >Value</th>    </tr></thead><tbody>\n",
              "                <tr>\n",
              "                        <th id=\"T_26990d46_0e38_11eb_880e_0242ac1c0002level0_row0\" class=\"row_heading level0 row0\" >0</th>\n",
              "                        <td id=\"T_26990d46_0e38_11eb_880e_0242ac1c0002row0_col0\" class=\"data row0 col0\" >session_id </td>\n",
              "                        <td id=\"T_26990d46_0e38_11eb_880e_0242ac1c0002row0_col1\" class=\"data row0 col1\" >3002</td>\n",
              "            </tr>\n",
              "            <tr>\n",
              "                        <th id=\"T_26990d46_0e38_11eb_880e_0242ac1c0002level0_row1\" class=\"row_heading level0 row1\" >1</th>\n",
              "                        <td id=\"T_26990d46_0e38_11eb_880e_0242ac1c0002row1_col0\" class=\"data row1 col0\" >Original Data </td>\n",
              "                        <td id=\"T_26990d46_0e38_11eb_880e_0242ac1c0002row1_col1\" class=\"data row1 col1\" >(505, 4)</td>\n",
              "            </tr>\n",
              "            <tr>\n",
              "                        <th id=\"T_26990d46_0e38_11eb_880e_0242ac1c0002level0_row2\" class=\"row_heading level0 row2\" >2</th>\n",
              "                        <td id=\"T_26990d46_0e38_11eb_880e_0242ac1c0002row2_col0\" class=\"data row2 col0\" >Missing Values </td>\n",
              "                        <td id=\"T_26990d46_0e38_11eb_880e_0242ac1c0002row2_col1\" class=\"data row2 col1\" >False</td>\n",
              "            </tr>\n",
              "            <tr>\n",
              "                        <th id=\"T_26990d46_0e38_11eb_880e_0242ac1c0002level0_row3\" class=\"row_heading level0 row3\" >3</th>\n",
              "                        <td id=\"T_26990d46_0e38_11eb_880e_0242ac1c0002row3_col0\" class=\"data row3 col0\" >Numeric Features </td>\n",
              "                        <td id=\"T_26990d46_0e38_11eb_880e_0242ac1c0002row3_col1\" class=\"data row3 col1\" >3</td>\n",
              "            </tr>\n",
              "            <tr>\n",
              "                        <th id=\"T_26990d46_0e38_11eb_880e_0242ac1c0002level0_row4\" class=\"row_heading level0 row4\" >4</th>\n",
              "                        <td id=\"T_26990d46_0e38_11eb_880e_0242ac1c0002row4_col0\" class=\"data row4 col0\" >Categorical Features </td>\n",
              "                        <td id=\"T_26990d46_0e38_11eb_880e_0242ac1c0002row4_col1\" class=\"data row4 col1\" >1</td>\n",
              "            </tr>\n",
              "            <tr>\n",
              "                        <th id=\"T_26990d46_0e38_11eb_880e_0242ac1c0002level0_row5\" class=\"row_heading level0 row5\" >5</th>\n",
              "                        <td id=\"T_26990d46_0e38_11eb_880e_0242ac1c0002row5_col0\" class=\"data row5 col0\" >Ordinal Features </td>\n",
              "                        <td id=\"T_26990d46_0e38_11eb_880e_0242ac1c0002row5_col1\" class=\"data row5 col1\" >False</td>\n",
              "            </tr>\n",
              "            <tr>\n",
              "                        <th id=\"T_26990d46_0e38_11eb_880e_0242ac1c0002level0_row6\" class=\"row_heading level0 row6\" >6</th>\n",
              "                        <td id=\"T_26990d46_0e38_11eb_880e_0242ac1c0002row6_col0\" class=\"data row6 col0\" >High Cardinality Features </td>\n",
              "                        <td id=\"T_26990d46_0e38_11eb_880e_0242ac1c0002row6_col1\" class=\"data row6 col1\" >False</td>\n",
              "            </tr>\n",
              "            <tr>\n",
              "                        <th id=\"T_26990d46_0e38_11eb_880e_0242ac1c0002level0_row7\" class=\"row_heading level0 row7\" >7</th>\n",
              "                        <td id=\"T_26990d46_0e38_11eb_880e_0242ac1c0002row7_col0\" class=\"data row7 col0\" >Transformed Data </td>\n",
              "                        <td id=\"T_26990d46_0e38_11eb_880e_0242ac1c0002row7_col1\" class=\"data row7 col1\" >(505, 4)</td>\n",
              "            </tr>\n",
              "            <tr>\n",
              "                        <th id=\"T_26990d46_0e38_11eb_880e_0242ac1c0002level0_row8\" class=\"row_heading level0 row8\" >8</th>\n",
              "                        <td id=\"T_26990d46_0e38_11eb_880e_0242ac1c0002row8_col0\" class=\"data row8 col0\" >Numeric Imputer </td>\n",
              "                        <td id=\"T_26990d46_0e38_11eb_880e_0242ac1c0002row8_col1\" class=\"data row8 col1\" >mean</td>\n",
              "            </tr>\n",
              "            <tr>\n",
              "                        <th id=\"T_26990d46_0e38_11eb_880e_0242ac1c0002level0_row9\" class=\"row_heading level0 row9\" >9</th>\n",
              "                        <td id=\"T_26990d46_0e38_11eb_880e_0242ac1c0002row9_col0\" class=\"data row9 col0\" >Categorical Imputer </td>\n",
              "                        <td id=\"T_26990d46_0e38_11eb_880e_0242ac1c0002row9_col1\" class=\"data row9 col1\" >constant</td>\n",
              "            </tr>\n",
              "            <tr>\n",
              "                        <th id=\"T_26990d46_0e38_11eb_880e_0242ac1c0002level0_row10\" class=\"row_heading level0 row10\" >10</th>\n",
              "                        <td id=\"T_26990d46_0e38_11eb_880e_0242ac1c0002row10_col0\" class=\"data row10 col0\" >Normalize </td>\n",
              "                        <td id=\"T_26990d46_0e38_11eb_880e_0242ac1c0002row10_col1\" class=\"data row10 col1\" >False</td>\n",
              "            </tr>\n",
              "            <tr>\n",
              "                        <th id=\"T_26990d46_0e38_11eb_880e_0242ac1c0002level0_row11\" class=\"row_heading level0 row11\" >11</th>\n",
              "                        <td id=\"T_26990d46_0e38_11eb_880e_0242ac1c0002row11_col0\" class=\"data row11 col0\" >Normalize Method </td>\n",
              "                        <td id=\"T_26990d46_0e38_11eb_880e_0242ac1c0002row11_col1\" class=\"data row11 col1\" >None</td>\n",
              "            </tr>\n",
              "            <tr>\n",
              "                        <th id=\"T_26990d46_0e38_11eb_880e_0242ac1c0002level0_row12\" class=\"row_heading level0 row12\" >12</th>\n",
              "                        <td id=\"T_26990d46_0e38_11eb_880e_0242ac1c0002row12_col0\" class=\"data row12 col0\" >Transformation </td>\n",
              "                        <td id=\"T_26990d46_0e38_11eb_880e_0242ac1c0002row12_col1\" class=\"data row12 col1\" >False</td>\n",
              "            </tr>\n",
              "            <tr>\n",
              "                        <th id=\"T_26990d46_0e38_11eb_880e_0242ac1c0002level0_row13\" class=\"row_heading level0 row13\" >13</th>\n",
              "                        <td id=\"T_26990d46_0e38_11eb_880e_0242ac1c0002row13_col0\" class=\"data row13 col0\" >Transformation Method </td>\n",
              "                        <td id=\"T_26990d46_0e38_11eb_880e_0242ac1c0002row13_col1\" class=\"data row13 col1\" >None</td>\n",
              "            </tr>\n",
              "            <tr>\n",
              "                        <th id=\"T_26990d46_0e38_11eb_880e_0242ac1c0002level0_row14\" class=\"row_heading level0 row14\" >14</th>\n",
              "                        <td id=\"T_26990d46_0e38_11eb_880e_0242ac1c0002row14_col0\" class=\"data row14 col0\" >PCA </td>\n",
              "                        <td id=\"T_26990d46_0e38_11eb_880e_0242ac1c0002row14_col1\" class=\"data row14 col1\" >False</td>\n",
              "            </tr>\n",
              "            <tr>\n",
              "                        <th id=\"T_26990d46_0e38_11eb_880e_0242ac1c0002level0_row15\" class=\"row_heading level0 row15\" >15</th>\n",
              "                        <td id=\"T_26990d46_0e38_11eb_880e_0242ac1c0002row15_col0\" class=\"data row15 col0\" >PCA Method </td>\n",
              "                        <td id=\"T_26990d46_0e38_11eb_880e_0242ac1c0002row15_col1\" class=\"data row15 col1\" >None</td>\n",
              "            </tr>\n",
              "            <tr>\n",
              "                        <th id=\"T_26990d46_0e38_11eb_880e_0242ac1c0002level0_row16\" class=\"row_heading level0 row16\" >16</th>\n",
              "                        <td id=\"T_26990d46_0e38_11eb_880e_0242ac1c0002row16_col0\" class=\"data row16 col0\" >PCA components </td>\n",
              "                        <td id=\"T_26990d46_0e38_11eb_880e_0242ac1c0002row16_col1\" class=\"data row16 col1\" >None</td>\n",
              "            </tr>\n",
              "            <tr>\n",
              "                        <th id=\"T_26990d46_0e38_11eb_880e_0242ac1c0002level0_row17\" class=\"row_heading level0 row17\" >17</th>\n",
              "                        <td id=\"T_26990d46_0e38_11eb_880e_0242ac1c0002row17_col0\" class=\"data row17 col0\" >Ignore Low Variance </td>\n",
              "                        <td id=\"T_26990d46_0e38_11eb_880e_0242ac1c0002row17_col1\" class=\"data row17 col1\" >False</td>\n",
              "            </tr>\n",
              "            <tr>\n",
              "                        <th id=\"T_26990d46_0e38_11eb_880e_0242ac1c0002level0_row18\" class=\"row_heading level0 row18\" >18</th>\n",
              "                        <td id=\"T_26990d46_0e38_11eb_880e_0242ac1c0002row18_col0\" class=\"data row18 col0\" >Combine Rare Levels </td>\n",
              "                        <td id=\"T_26990d46_0e38_11eb_880e_0242ac1c0002row18_col1\" class=\"data row18 col1\" >False</td>\n",
              "            </tr>\n",
              "            <tr>\n",
              "                        <th id=\"T_26990d46_0e38_11eb_880e_0242ac1c0002level0_row19\" class=\"row_heading level0 row19\" >19</th>\n",
              "                        <td id=\"T_26990d46_0e38_11eb_880e_0242ac1c0002row19_col0\" class=\"data row19 col0\" >Rare Level Threshold </td>\n",
              "                        <td id=\"T_26990d46_0e38_11eb_880e_0242ac1c0002row19_col1\" class=\"data row19 col1\" >None</td>\n",
              "            </tr>\n",
              "            <tr>\n",
              "                        <th id=\"T_26990d46_0e38_11eb_880e_0242ac1c0002level0_row20\" class=\"row_heading level0 row20\" >20</th>\n",
              "                        <td id=\"T_26990d46_0e38_11eb_880e_0242ac1c0002row20_col0\" class=\"data row20 col0\" >Numeric Binning </td>\n",
              "                        <td id=\"T_26990d46_0e38_11eb_880e_0242ac1c0002row20_col1\" class=\"data row20 col1\" >False</td>\n",
              "            </tr>\n",
              "            <tr>\n",
              "                        <th id=\"T_26990d46_0e38_11eb_880e_0242ac1c0002level0_row21\" class=\"row_heading level0 row21\" >21</th>\n",
              "                        <td id=\"T_26990d46_0e38_11eb_880e_0242ac1c0002row21_col0\" class=\"data row21 col0\" >Remove Multicollinearity </td>\n",
              "                        <td id=\"T_26990d46_0e38_11eb_880e_0242ac1c0002row21_col1\" class=\"data row21 col1\" >False</td>\n",
              "            </tr>\n",
              "            <tr>\n",
              "                        <th id=\"T_26990d46_0e38_11eb_880e_0242ac1c0002level0_row22\" class=\"row_heading level0 row22\" >22</th>\n",
              "                        <td id=\"T_26990d46_0e38_11eb_880e_0242ac1c0002row22_col0\" class=\"data row22 col0\" >Multicollinearity Threshold </td>\n",
              "                        <td id=\"T_26990d46_0e38_11eb_880e_0242ac1c0002row22_col1\" class=\"data row22 col1\" >None</td>\n",
              "            </tr>\n",
              "            <tr>\n",
              "                        <th id=\"T_26990d46_0e38_11eb_880e_0242ac1c0002level0_row23\" class=\"row_heading level0 row23\" >23</th>\n",
              "                        <td id=\"T_26990d46_0e38_11eb_880e_0242ac1c0002row23_col0\" class=\"data row23 col0\" >Group Features </td>\n",
              "                        <td id=\"T_26990d46_0e38_11eb_880e_0242ac1c0002row23_col1\" class=\"data row23 col1\" >False</td>\n",
              "            </tr>\n",
              "    </tbody></table>"
            ],
            "text/plain": [
              "<pandas.io.formats.style.Styler at 0x7fb203a56a58>"
            ]
          },
          "metadata": {
            "tags": []
          }
        }
      ]
    },
    {
      "cell_type": "code",
      "metadata": {
        "id": "MUyotZK-NYdB",
        "outputId": "8c251d90-d238-401f-e94f-1fb45bd2cd5e",
        "colab": {
          "base_uri": "https://localhost:8080/",
          "height": 32,
          "referenced_widgets": [
            "4e1573cf33b34f568e9e7bead93ec218"
          ]
        }
      },
      "source": [
        "dbscan=create_model('dbscan')"
      ],
      "execution_count": 20,
      "outputs": [
        {
          "output_type": "display_data",
          "data": {
            "text/html": [
              "<div>\n",
              "<style scoped>\n",
              "    .dataframe tbody tr th:only-of-type {\n",
              "        vertical-align: middle;\n",
              "    }\n",
              "\n",
              "    .dataframe tbody tr th {\n",
              "        vertical-align: top;\n",
              "    }\n",
              "\n",
              "    .dataframe thead th {\n",
              "        text-align: right;\n",
              "    }\n",
              "</style>\n",
              "<table border=\"1\" class=\"dataframe\">\n",
              "  <thead>\n",
              "    <tr style=\"text-align: right;\">\n",
              "      <th></th>\n",
              "    </tr>\n",
              "  </thead>\n",
              "  <tbody>\n",
              "  </tbody>\n",
              "</table>\n",
              "</div>"
            ],
            "text/plain": [
              "Empty DataFrame\n",
              "Columns: []\n",
              "Index: []"
            ]
          },
          "metadata": {
            "tags": []
          }
        }
      ]
    },
    {
      "cell_type": "code",
      "metadata": {
        "id": "j_Q0Z7xHNdWI",
        "outputId": "7f478978-8417-4c97-992a-c215a86c0a5f",
        "colab": {
          "base_uri": "https://localhost:8080/",
          "height": 51
        }
      },
      "source": [
        "dbscan"
      ],
      "execution_count": 21,
      "outputs": [
        {
          "output_type": "execute_result",
          "data": {
            "text/plain": [
              "DBSCAN(algorithm='auto', eps=0.5, leaf_size=30, metric='euclidean',\n",
              "       metric_params=None, min_samples=5, n_jobs=-1, p=None)"
            ]
          },
          "metadata": {
            "tags": []
          },
          "execution_count": 21
        }
      ]
    },
    {
      "cell_type": "code",
      "metadata": {
        "id": "GUFf1oFZOVhI",
        "outputId": "042ab060-2476-4afe-8c0f-9a3d87d7f847",
        "colab": {
          "base_uri": "https://localhost:8080/",
          "height": 193,
          "referenced_widgets": [
            "af3dbb6721fd450b808a717b8164ca37"
          ]
        }
      },
      "source": [
        "kmeans=create_model('kmeans')\n",
        "kmeans"
      ],
      "execution_count": 22,
      "outputs": [
        {
          "output_type": "display_data",
          "data": {
            "text/html": [
              "<div>\n",
              "<style scoped>\n",
              "    .dataframe tbody tr th:only-of-type {\n",
              "        vertical-align: middle;\n",
              "    }\n",
              "\n",
              "    .dataframe tbody tr th {\n",
              "        vertical-align: top;\n",
              "    }\n",
              "\n",
              "    .dataframe thead th {\n",
              "        text-align: right;\n",
              "    }\n",
              "</style>\n",
              "<table border=\"1\" class=\"dataframe\">\n",
              "  <thead>\n",
              "    <tr style=\"text-align: right;\">\n",
              "      <th></th>\n",
              "      <th>Metric</th>\n",
              "    </tr>\n",
              "  </thead>\n",
              "  <tbody>\n",
              "    <tr>\n",
              "      <th>Silhouette</th>\n",
              "      <td>0.7207</td>\n",
              "    </tr>\n",
              "    <tr>\n",
              "      <th>Calinski-Harabasz</th>\n",
              "      <td>5011.8115</td>\n",
              "    </tr>\n",
              "    <tr>\n",
              "      <th>Davies-Bouldin</th>\n",
              "      <td>0.4114</td>\n",
              "    </tr>\n",
              "  </tbody>\n",
              "</table>\n",
              "</div>"
            ],
            "text/plain": [
              "                      Metric\n",
              "Silhouette            0.7207\n",
              "Calinski-Harabasz  5011.8115\n",
              "Davies-Bouldin        0.4114"
            ]
          },
          "metadata": {
            "tags": []
          }
        },
        {
          "output_type": "execute_result",
          "data": {
            "text/plain": [
              "KMeans(algorithm='auto', copy_x=True, init='k-means++', max_iter=300,\n",
              "       n_clusters=4, n_init=10, n_jobs=-1, precompute_distances='deprecated',\n",
              "       random_state=3002, tol=0.0001, verbose=0)"
            ]
          },
          "metadata": {
            "tags": []
          },
          "execution_count": 22
        }
      ]
    },
    {
      "cell_type": "code",
      "metadata": {
        "id": "D1ZjgrhOOdSs",
        "outputId": "144c0781-41b8-4848-a47b-84d7e0e96f45",
        "colab": {
          "base_uri": "https://localhost:8080/",
          "height": 419,
          "referenced_widgets": [
            "fdeadf7f18594e3b9c7ec35ed97d840f"
          ]
        }
      },
      "source": [
        "kmeans_df=assign_model(kmeans)\n",
        "kmeans_df"
      ],
      "execution_count": 23,
      "outputs": [
        {
          "output_type": "execute_result",
          "data": {
            "text/html": [
              "<div>\n",
              "<style scoped>\n",
              "    .dataframe tbody tr th:only-of-type {\n",
              "        vertical-align: middle;\n",
              "    }\n",
              "\n",
              "    .dataframe tbody tr th {\n",
              "        vertical-align: top;\n",
              "    }\n",
              "\n",
              "    .dataframe thead th {\n",
              "        text-align: right;\n",
              "    }\n",
              "</style>\n",
              "<table border=\"1\" class=\"dataframe\">\n",
              "  <thead>\n",
              "    <tr style=\"text-align: right;\">\n",
              "      <th></th>\n",
              "      <th>Age</th>\n",
              "      <th>Income</th>\n",
              "      <th>SpendingScore</th>\n",
              "      <th>Savings</th>\n",
              "      <th>Cluster</th>\n",
              "    </tr>\n",
              "  </thead>\n",
              "  <tbody>\n",
              "    <tr>\n",
              "      <th>0</th>\n",
              "      <td>58</td>\n",
              "      <td>77769</td>\n",
              "      <td>0.791329</td>\n",
              "      <td>6559.829923</td>\n",
              "      <td>Cluster 1</td>\n",
              "    </tr>\n",
              "    <tr>\n",
              "      <th>1</th>\n",
              "      <td>59</td>\n",
              "      <td>81799</td>\n",
              "      <td>0.791082</td>\n",
              "      <td>5417.661426</td>\n",
              "      <td>Cluster 1</td>\n",
              "    </tr>\n",
              "    <tr>\n",
              "      <th>2</th>\n",
              "      <td>62</td>\n",
              "      <td>74751</td>\n",
              "      <td>0.702657</td>\n",
              "      <td>9258.992965</td>\n",
              "      <td>Cluster 1</td>\n",
              "    </tr>\n",
              "    <tr>\n",
              "      <th>3</th>\n",
              "      <td>59</td>\n",
              "      <td>74373</td>\n",
              "      <td>0.765680</td>\n",
              "      <td>7346.334504</td>\n",
              "      <td>Cluster 1</td>\n",
              "    </tr>\n",
              "    <tr>\n",
              "      <th>4</th>\n",
              "      <td>87</td>\n",
              "      <td>17760</td>\n",
              "      <td>0.348778</td>\n",
              "      <td>16869.507130</td>\n",
              "      <td>Cluster 2</td>\n",
              "    </tr>\n",
              "    <tr>\n",
              "      <th>...</th>\n",
              "      <td>...</td>\n",
              "      <td>...</td>\n",
              "      <td>...</td>\n",
              "      <td>...</td>\n",
              "      <td>...</td>\n",
              "    </tr>\n",
              "    <tr>\n",
              "      <th>500</th>\n",
              "      <td>28</td>\n",
              "      <td>101206</td>\n",
              "      <td>0.387441</td>\n",
              "      <td>14936.775389</td>\n",
              "      <td>Cluster 3</td>\n",
              "    </tr>\n",
              "    <tr>\n",
              "      <th>501</th>\n",
              "      <td>93</td>\n",
              "      <td>19934</td>\n",
              "      <td>0.203140</td>\n",
              "      <td>17969.693769</td>\n",
              "      <td>Cluster 2</td>\n",
              "    </tr>\n",
              "    <tr>\n",
              "      <th>502</th>\n",
              "      <td>90</td>\n",
              "      <td>35297</td>\n",
              "      <td>0.355149</td>\n",
              "      <td>16091.401954</td>\n",
              "      <td>Cluster 2</td>\n",
              "    </tr>\n",
              "    <tr>\n",
              "      <th>503</th>\n",
              "      <td>91</td>\n",
              "      <td>20681</td>\n",
              "      <td>0.354679</td>\n",
              "      <td>18401.088445</td>\n",
              "      <td>Cluster 2</td>\n",
              "    </tr>\n",
              "    <tr>\n",
              "      <th>504</th>\n",
              "      <td>89</td>\n",
              "      <td>30267</td>\n",
              "      <td>0.289310</td>\n",
              "      <td>14386.351880</td>\n",
              "      <td>Cluster 2</td>\n",
              "    </tr>\n",
              "  </tbody>\n",
              "</table>\n",
              "<p>505 rows × 5 columns</p>\n",
              "</div>"
            ],
            "text/plain": [
              "     Age  Income  SpendingScore       Savings    Cluster\n",
              "0     58   77769       0.791329   6559.829923  Cluster 1\n",
              "1     59   81799       0.791082   5417.661426  Cluster 1\n",
              "2     62   74751       0.702657   9258.992965  Cluster 1\n",
              "3     59   74373       0.765680   7346.334504  Cluster 1\n",
              "4     87   17760       0.348778  16869.507130  Cluster 2\n",
              "..   ...     ...            ...           ...        ...\n",
              "500   28  101206       0.387441  14936.775389  Cluster 3\n",
              "501   93   19934       0.203140  17969.693769  Cluster 2\n",
              "502   90   35297       0.355149  16091.401954  Cluster 2\n",
              "503   91   20681       0.354679  18401.088445  Cluster 2\n",
              "504   89   30267       0.289310  14386.351880  Cluster 2\n",
              "\n",
              "[505 rows x 5 columns]"
            ]
          },
          "metadata": {
            "tags": []
          },
          "execution_count": 23
        }
      ]
    },
    {
      "cell_type": "code",
      "metadata": {
        "id": "eouSMENjO2UA",
        "outputId": "5caa8a69-cc8b-4574-d098-ee9b23f5e37d",
        "colab": {
          "base_uri": "https://localhost:8080/",
          "height": 102
        }
      },
      "source": [
        "kmeans_df['Cluster'].value_counts()"
      ],
      "execution_count": 24,
      "outputs": [
        {
          "output_type": "execute_result",
          "data": {
            "text/plain": [
              "Cluster 1    156\n",
              "Cluster 2    147\n",
              "Cluster 3    130\n",
              "Cluster 0     72\n",
              "Name: Cluster, dtype: int64"
            ]
          },
          "metadata": {
            "tags": []
          },
          "execution_count": 24
        }
      ]
    },
    {
      "cell_type": "code",
      "metadata": {
        "id": "kPLaT-ZRO7ga",
        "outputId": "19e902bc-88b9-4656-c18c-36e885404a3b",
        "colab": {
          "base_uri": "https://localhost:8080/",
          "height": 617
        }
      },
      "source": [
        "plot_model(kmeans)"
      ],
      "execution_count": 25,
      "outputs": [
        {
          "output_type": "display_data",
          "data": {
            "text/html": [
              "        <script type=\"text/javascript\">\n",
              "        window.PlotlyConfig = {MathJaxConfig: 'local'};\n",
              "        if (window.MathJax) {MathJax.Hub.Config({SVG: {font: \"STIX-Web\"}});}\n",
              "        if (typeof require !== 'undefined') {\n",
              "        require.undef(\"plotly\");\n",
              "        requirejs.config({\n",
              "            paths: {\n",
              "                'plotly': ['https://cdn.plot.ly/plotly-latest.min']\n",
              "            }\n",
              "        });\n",
              "        require(['plotly'], function(Plotly) {\n",
              "            window._Plotly = Plotly;\n",
              "        });\n",
              "        }\n",
              "        </script>\n",
              "        "
            ]
          },
          "metadata": {
            "tags": []
          }
        },
        {
          "output_type": "display_data",
          "data": {
            "text/html": [
              "<div>\n",
              "        \n",
              "        \n",
              "            <div id=\"d1cdb200-3227-4758-b2a9-a7d28bd61832\" class=\"plotly-graph-div\" style=\"height:600px; width:100%;\"></div>\n",
              "            <script type=\"text/javascript\">\n",
              "                require([\"plotly\"], function(Plotly) {\n",
              "                    window.PLOTLYENV=window.PLOTLYENV || {};\n",
              "                    \n",
              "                if (document.getElementById(\"d1cdb200-3227-4758-b2a9-a7d28bd61832\")) {\n",
              "                    Plotly.newPlot(\n",
              "                        'd1cdb200-3227-4758-b2a9-a7d28bd61832',\n",
              "                        [{\"customdata\": [[24], [21], [28], [25], [23], [28], [87], [24], [20], [77], [82], [25], [23], [27], [21], [88], [26], [25], [83], [26], [34], [91], [29], [90], [83], [23], [22], [24], [26], [25], [25], [83], [85], [24], [22], [28], [29], [24], [17], [20], [90], [82], [18], [28], [29], [20], [17], [30], [89], [28], [84], [18], [88], [32], [92], [31], [27], [26], [29], [22], [25], [17], [93], [28], [26], [86], [27], [23], [24], [17], [24], [86]], \"hoverlabel\": {\"namelength\": 0}, \"hovertemplate\": \"Cluster=Cluster 0<br>PCA1=%{x}<br>PCA2=%{y}<br>Feature=%{customdata[0]}\", \"legendgroup\": \"Cluster=Cluster 0\", \"marker\": {\"color\": \"#636efa\", \"opacity\": 0.5, \"symbol\": \"circle\"}, \"mode\": \"markers\", \"name\": \"Cluster=Cluster 0\", \"showlegend\": true, \"textposition\": \"top center\", \"type\": \"scatter\", \"x\": [53976.79000263129, 48602.571111840196, 41933.876349092105, 55809.6082599398, 51395.224355999504, 48029.235982960905, 41859.15436997566, 52263.49410874445, 54230.311420476595, 52844.21454083217, 50433.851384533395, 45728.40114434411, 63317.066532442914, 46271.74999066811, 54542.56026091128, 47964.552261386976, 50397.083897731354, 62912.45709780567, 43629.01273923759, 51532.470058404506, 44074.74432267948, 43084.43130106843, 47210.61128412961, 48410.00929047236, 41580.27174463827, 45049.71303774848, 58984.55027496727, 55795.997914963955, 56651.45548374747, 55168.451545061886, 55783.42885801491, 42157.80542870104, 42414.13984409399, 61617.25602185722, 45302.57090416743, 53924.597039558765, 66750.62108457656, 59196.593086339104, 59803.045579193, 47415.38916240531, 42045.79570257145, 45920.30384600764, 55587.35173073358, 46000.80248469955, 43600.21618030977, 53899.23405997957, 59798.17482849971, 47549.76254622707, 43861.747091025565, 48281.9647640219, 46993.641087908436, 48551.89779119263, 44952.902035388994, 41328.25266330998, 47182.06858155586, 47836.448391826845, 49923.23240258631, 47842.88367906651, 56449.67813828141, 57857.289056922295, 53422.55248570126, 48697.32854440994, 50874.593733151916, 52465.0335866599, 52086.38065892721, 48577.24594456374, 47518.881318567925, 54778.919909691445, 45280.29645748763, 61085.16181542689, 59239.85352839813, 52679.137422450636], \"xaxis\": \"x\", \"y\": [5488.38998458211, 6249.537360930087, 4717.997205237611, 3879.1497332626586, 5657.241494980819, 5422.323757682565, -4543.326267067198, 5916.358054129834, 3238.428770323687, -5677.667475551912, -6854.206134077957, 3658.306501252223, 4946.177510120512, 4207.414796612185, 4193.882999372308, -4397.186114919678, 2890.5509685647057, 5261.355213266392, -6254.840941209126, 6006.733833662533, -6307.669140625976, -4660.855622444508, 6674.234677495921, -5693.665441157448, -5615.560772408641, 4590.872583456108, 3350.7116179336476, 4252.8975407069975, 4271.292185091138, 4016.9816222016166, 4732.087714707709, -5954.4546018511455, -5432.281819509644, 6726.313750520615, 3778.1814213096095, 5765.842845736468, 2693.0081866217524, 3903.9749268153714, 8450.307562492615, 4709.38880763183, -3106.1034758683595, -4953.921129423362, 3427.1351952588116, 3884.4528513190858, -5657.478831520008, 3176.7468854090935, 4315.751792559069, 3437.8964823947817, -6877.035883382068, 8499.96694459981, -4647.129088588652, 4668.214697412175, -4985.514801220398, -4823.6458993355955, -4557.716601791876, 6059.983323374553, 6048.724079227709, 4758.188729714918, 5101.398697367524, 5717.501137167644, 3894.2354791277503, 5282.497809754311, -5178.052813440074, 3371.5330650131004, 3388.4270346813764, -6305.307759672732, 4941.999362973273, 4629.7913652810985, 4437.356566167742, 4243.721728508768, 4745.14458912481, -4749.057025715365], \"yaxis\": \"y\"}, {\"customdata\": [[58], [61], [64], [63], [56], [60], [55], [63], [58], [57], [62], [60], [62], [64], [62], [61], [56], [67], [58], [62], [58], [57], [55], [66], [64], [58], [63], [64], [60], [59], [53], [57], [68], [59], [59], [61], [58], [59], [58], [55], [51], [57], [61], [60], [64], [65], [59], [58], [63], [61], [68], [59], [61], [63], [58], [62], [60], [62], [65], [59], [65], [58], [61], [66], [56], [58], [67], [56], [59], [58], [56], [61], [56], [61], [59], [62], [59], [59], [59], [57], [56], [59], [61], [67], [63], [56], [59], [58], [61], [55], [59], [60], [60], [67], [57], [59], [61], [57], [60], [58], [61], [59], [59], [59], [57], [62], [56], [58], [56], [61], [63], [61], [60], [60], [65], [58], [61], [66], [64], [62], [57], [53], [59], [55], [62], [61], [62], [55], [57], [60], [64], [55], [56], [62], [58], [63], [64], [59], [62], [59], [58], [54], [66], [53], [56], [59], [66], [58], [62], [63], [55], [61], [59], [62], [65], [64]], \"hoverlabel\": {\"namelength\": 0}, \"hovertemplate\": \"Cluster=Cluster 1<br>PCA1=%{x}<br>PCA2=%{y}<br>Feature=%{customdata[0]}\", \"legendgroup\": \"Cluster=Cluster 1\", \"marker\": {\"color\": \"#EF553B\", \"opacity\": 0.5, \"symbol\": \"circle\"}, \"mode\": \"markers\", \"name\": \"Cluster=Cluster 1\", \"showlegend\": true, \"textposition\": \"top center\", \"type\": \"scatter\", \"x\": [8122.080380415541, -4025.5345868614945, 1223.3332842063603, -5414.849621380294, -7927.279393999568, -9955.599000501974, -1254.7961050822857, -18377.08091916089, 3385.8220491313177, 1380.9095854822558, -5806.0770526118185, -10072.875118803537, 3175.7301008876825, 11039.026942031716, -8175.944783841653, -4335.121223668243, -15159.901916245683, -15876.01419493387, 2392.9514000132276, -12401.012614422632, -4856.160277619087, -9604.976101231405, 871.056144864038, -3578.6411667637262, 3594.0424216908364, 5073.487356522343, -182.87509706289467, -10817.514881421735, -7740.90487908972, -5713.30447503172, -284.9346161317581, -5506.504775277306, 2456.1149429108928, 384.4886537787829, -3902.650760127408, -1867.5011952055122, 2555.784235160229, -18832.323089995105, 3333.0370081988904, -10419.650727093287, -3127.746475407197, -3147.9716901024044, 3607.621847535448, -805.5182840466953, -12402.614006035734, -811.2733012582978, -7981.746810683441, 2868.675335891809, 7034.566991846881, -7827.504392605749, -6270.130057704631, -7225.656651496555, -3197.7706749317085, -4661.643199436441, -4588.845682887331, -1424.2968527852493, -11770.096221904694, -7431.169946592947, -4794.730185972457, -5787.584457334291, -4114.66581250266, -4883.720561797816, -967.1345292294812, 1855.0479869186909, -9823.292971418661, -6075.7239459118755, 3574.8676282851407, -1755.366356398995, -7793.454352086529, 834.6063416853502, 375.6120252474091, -3222.0284971176457, 3735.2223001205402, -9600.009525716896, 2663.814142724259, -5898.744479681148, -6051.798027149641, 5619.125538763626, -2220.635450610066, -10371.487057071723, -6874.447300583787, -1864.5940590614468, -9270.983246113974, -6586.375015596338, -7793.21150891416, 5122.282562298914, 7017.4072298069495, 4968.764645874571, -6214.354917756377, 1547.9124395594195, -1709.006711698438, -5149.414552966315, -9176.939917160451, 5679.9350322555665, 4615.604589783892, 277.31945471803493, -5628.983771409209, -1148.5927138363193, 4848.442764387981, 1797.8692846207523, 1691.1469990055034, -9514.742122293772, -5495.930030665688, -2601.869628345948, 4241.775895153044, -4176.722631704309, -11393.264281389049, 499.49661809613264, 9121.208329826177, -1006.794280892696, 5567.47811711181, -11385.807297750884, -4595.725467462927, -5228.773548143098, -9447.566957019653, -907.6690876091204, -6112.701966838937, -10238.837928743033, -14757.626854505608, -5414.451723823095, 1381.2925438038912, -13124.39160403842, -7423.928769536234, -847.3002227743459, -11570.013629472296, -2009.7086141751704, -12594.175242128535, -4197.995995572512, 106.44730782999382, -3881.2792235448305, -3536.624899618862, 3442.067865401042, -6529.597912750264, -1710.009100629774, -4972.922141129973, 10499.407295945586, 1198.2155272857278, 6644.5976127982285, -611.8920766835427, -879.6961231840203, -5327.512619806889, 1270.5926186365043, 7325.2561894927, 1535.320034923855, 11129.42414922961, -7249.028129796931, -2630.7941352081752, -4333.35317149532, 4864.683651413, -2329.6167597527656, -3652.051627219525, -3354.409395492049, -860.4354477953804, -6945.4902208559, -9153.992100917838, 13091.37415351669], \"xaxis\": \"x\", \"y\": [4731.012058760932, 5644.5521996142725, 5666.367954752703, 4509.378948047733, 5673.527728610807, 4085.3122504461235, 6380.915494292794, 5086.374324713107, 4513.159427781259, 5567.112673818736, 5686.132349951809, 7033.832306225476, 4727.079813055351, 4384.687289531573, 5599.274828311296, 2658.297518890415, 5573.243592768731, 7337.46258433077, 5992.684094109711, 6731.622371228145, 6861.841710581508, 5517.456998799795, 5689.000453091913, 4687.331305792247, 5244.223767536207, 5244.43680934892, 4411.324353776286, 6677.482101590941, 5133.639471687391, 6098.40717149921, 4064.008336080812, 6298.430178867738, 5539.978254276129, 6845.141814371282, 5499.339332721769, 2685.6626854367973, 5164.690387393554, 6823.2533280405705, 4012.215493342317, 5982.8582214391345, 5318.281993622228, 5506.996622913863, 4852.44451876734, 4348.095679784139, 4277.420432790432, 4771.515153180695, 3467.565974911421, 5223.642330390359, 3374.2871342934286, 5701.697575023515, 5401.821696967171, 4564.617621855319, 5127.949261280456, 4875.412034392044, 4468.268102563845, 7267.3285423970065, 5001.420783196852, 6342.03690187803, 5174.470545977295, 5711.628393266972, 3078.896438494594, 4688.37074694926, 4638.724240674153, 5468.743274286698, 6862.247572080612, 3500.596454313256, 6638.189488143048, 4273.205301847637, 5788.85389338375, 5141.101367432593, 5049.606296947779, 4129.181189416358, 4370.46782882272, 4923.281603355224, 3399.1203547303244, 5205.840154213881, 6221.683453940022, 4314.803908984971, 4177.140129281852, 6211.274488459203, 3266.4701832643814, 5267.352553209779, 5996.549152653398, 4795.6596223076, 6334.24325198205, 3424.0736039052895, 5588.800602998206, 3943.1170736339145, 8154.20053386381, 3973.9069974865147, 3684.69529594036, 5556.666139133823, 7146.662858252782, 4711.285967238695, 5713.442041909507, 5152.0777221213175, 3413.4609900340356, 6154.518606181517, 6716.389270082331, 3616.906622264865, 4305.605513370142, 5484.062210130753, 5033.927181148627, 5720.0639106318495, 4854.373611538009, 5121.948177991023, 4760.726683836123, 4450.572465085803, 4076.1888638585, 6827.736752280873, 6399.679457928579, 5239.834486252133, 4575.315245883316, 4906.821369117011, 6026.370137728774, 4662.5718013621645, 7150.265686204212, 7423.315368546439, 5008.012103778609, 6401.496850378559, 5207.221097509012, 5122.298575466135, 5595.425208078432, 5435.293808150467, 6393.584927460238, 4571.311601888516, 5058.59350766587, 4646.4230382320975, 5019.545071865862, 3532.750801645639, 5070.413098436328, 3293.9257098257876, 5174.060016070754, 5692.091704359404, 5053.974394482309, 4092.5868105824975, 6031.597780098122, 6074.108821940029, 2642.856462873312, 4574.029852480234, 5507.674538617936, 4918.861099714737, 5245.750156657966, 6617.143404468859, 2451.395645635494, 5030.101509904848, 5512.809888472103, 6791.121727987134, 4834.953991865888, 6502.207882775595, 4298.1479342158, 4039.0497082186093, 1366.2175061913915, 5240.283697626607, 6237.4550067498, 3878.074005604355], \"yaxis\": \"y\"}, {\"customdata\": [[83], [91], [91], [92], [91], [89], [87], [87], [94], [86], [94], [79], [84], [87], [88], [93], [89], [91], [83], [83], [88], [83], [88], [86], [90], [91], [86], [86], [91], [91], [87], [82], [89], [85], [94], [86], [92], [82], [87], [90], [84], [83], [86], [84], [84], [90], [91], [87], [92], [97], [84], [87], [92], [87], [91], [93], [90], [91], [83], [90], [87], [92], [89], [83], [83], [90], [87], [87], [83], [89], [91], [91], [84], [90], [82], [87], [87], [86], [89], [90], [84], [88], [92], [88], [85], [79], [89], [84], [91], [85], [90], [88], [89], [88], [89], [84], [88], [89], [87], [88], [84], [90], [92], [81], [85], [86], [89], [95], [86], [94], [82], [94], [91], [91], [90], [88], [91], [84], [91], [88], [89], [87], [85], [85], [88], [88], [94], [88], [88], [92], [85], [83], [87], [87], [85], [91], [85], [88], [85], [93], [88], [85], [94], [84], [82], [87], [84]], \"hoverlabel\": {\"namelength\": 0}, \"hovertemplate\": \"Cluster=Cluster 2<br>PCA1=%{x}<br>PCA2=%{y}<br>Feature=%{customdata[0]}\", \"legendgroup\": \"Cluster=Cluster 2\", \"marker\": {\"color\": \"#00cc96\", \"opacity\": 0.5, \"symbol\": \"circle\"}, \"mode\": \"markers\", \"name\": \"Cluster=Cluster 2\", \"showlegend\": true, \"textposition\": \"top center\", \"type\": \"scatter\", \"x\": [-48890.162042831646, -48496.84792497303, -47000.171708792885, -53329.088908637925, -39063.28667619089, -50446.68725850558, -50055.787564293554, -49618.56425158389, -36822.88272990105, -46897.28720484184, -56820.08755360424, -37510.58801132115, -48329.37521986342, -63656.34758998012, -40724.15688509663, -58127.50387027002, -48762.364668271184, -38870.672641380326, -41183.6520716571, -57495.82751822278, -42334.047671506334, -45148.062146087905, -53103.8479128973, -56854.24491468408, -42253.87287795822, -46108.56441807311, -43811.472620393884, -39708.646989663466, -63634.722002739545, -49855.360239061156, -45504.92821664386, -42172.09142372813, -44680.893509319234, -47211.30921897939, -51858.95285225974, -48031.600338698336, -53120.540708745815, -42152.50281937875, -44207.369196690044, -46621.67518992087, -48086.47161506781, -41229.0853264679, -52219.78891026323, -51590.97205811301, -45243.33599570979, -52877.38164603335, -47591.22511121999, -33223.7879275869, -56895.33602609465, -48338.7046626193, -39255.47386551346, -57945.29400939378, -39730.75492373196, -45889.16124528394, -44891.72694017815, -55837.89621255907, -40392.52353813575, -52957.616291780956, -45053.50115134016, -38257.012522678684, -49083.98904448346, -42194.798734952405, -41047.376366850294, -52508.30353343572, -42546.30928703382, -42485.19893050837, -45592.66271459646, -52350.136881607665, -47072.832708278795, -47490.05337363706, -48867.33422412473, -51304.42079121018, -57516.27318363642, -53514.36608306823, -51335.696362198025, -59885.18345080087, -52745.271995073825, -60035.35573518631, -53680.72058527789, -51240.79467490209, -55003.114735362935, -44316.39097613651, -40276.44813108955, -57888.986937986156, -53905.33080870667, -43219.57063079796, -45316.581406095545, -48254.00622992488, -50504.823142737696, -47927.75615335325, -45508.35388587766, -49640.516333935906, -56491.72616160142, -46888.40589877375, -55368.98427568009, -48469.758225555765, -43012.769783491385, -51006.62596717177, -51191.18311026796, -48459.578853164654, -46294.696525815074, -50029.048673484416, -39882.023331382996, -41272.8953398618, -47271.413276242114, -28705.212826769788, -49610.67501015969, -48754.553222931434, -39916.59061152689, -48448.18982139339, -51459.51350546342, -54957.49098917232, -45489.120024218624, -58771.33010043617, -42382.6988320362, -57750.757746123876, -49274.4423961593, -53484.990447976204, -55116.83601816836, -42594.243001932955, -42432.645099662266, -49952.563864247546, -46206.76070917286, -49427.524137026114, -56178.67327005175, -47129.8441634206, -47975.629894303675, -58306.89374121131, -49206.07297923621, -42805.17469366228, -46522.91941975117, -47148.049506652584, -57176.867806106035, -44821.27195537093, -40907.25147798808, -46752.171891149075, -44945.69901444299, -47339.94733410825, -54413.158553524736, -55300.43835611647, -41654.28537091672, -41090.43271162365, -47366.64939309711, -33685.82303783499, -43231.477908798784, -28723.99191956599, -37730.76934060817], \"xaxis\": \"x\", \"y\": [-3117.0435724351237, -1255.0231217175192, -3258.592731249429, -3704.1152030668827, -2178.951260878266, -1789.8310613735043, -458.7329379734677, -1200.4987085747, -3004.1359250357305, -1500.5997535503452, -2626.494760123041, -2385.930673599971, -2106.9565485318562, -672.1303645870981, -3403.3549980948774, -3329.4241557503883, -1902.3037525718107, -4966.632983631629, -2299.1775764582508, -874.5938320396228, -946.4427010468264, -918.4435413744563, -1838.664645556659, -1039.8869670204485, -2813.408865756102, -4704.900718140077, -3844.050642994283, -2812.6408322745265, -958.5365645110752, -2551.6409458672993, -1656.4250558163033, -3482.950924420313, -3320.238109106741, -497.02873214681415, -1998.3145148841252, -2520.8796709258977, -2373.9068521136146, -3595.4264994551527, -1788.595019255138, -1061.3928297006266, -3267.664533478743, -559.8887343311553, -361.8228772290589, -1709.6809922654022, -2386.7446703879687, -1034.0462861180679, -2876.0168218541617, -4327.599800404027, -219.83567344031925, -296.94791022013555, -2456.062469507205, -1690.2235244245394, -3215.3117531036182, -3656.8600405231205, -1059.5099705589153, -2913.151326193391, -1918.0706539765351, -512.168161665235, -3267.8530880659664, -3209.7056998551207, -2706.9542458595406, -2831.244972649776, 163.00860194240718, -2003.379558614893, -2323.9550250667407, -1573.129333946468, -1858.7415428672737, -1271.8366968001815, -3652.1430220775037, -1025.6556377131574, -3330.0950893142613, -1341.6421504993361, -2662.237917413056, -3511.650542757559, -2253.324954790313, 968.182184170177, -3270.2500120301256, -2067.7852022028565, -1523.1531827794756, -337.5831102994571, -1806.3716349634744, -1681.1078093986146, -3159.4030652887386, -2297.4104284560135, 776.7213551828818, -982.637404545742, 72.34189620852592, -3586.392912339361, -2541.1040744024203, 1139.0677249894097, -1716.0957515179928, -2403.452656500526, -1529.9495201383822, -1747.284515874375, -990.6075970316526, -975.0110199269355, -2388.3975155671865, 1229.6342021038006, -2999.048136853005, -623.0248233972341, -3445.1407626668747, -2907.7981801354904, -3145.838811669631, -2039.051945091477, -1422.263252153145, -2125.516573296832, -2494.3460158547678, -3476.757532941406, -5860.40697091343, -424.49445160246984, -1443.6312210611663, -1273.0340909671534, -857.2365574199107, -1946.425634881532, -1026.217828121941, -1546.7860227984638, -1819.1411133435656, -2964.871161538943, -3386.6313874278358, -4573.13594967613, -2804.3175987818163, -1016.362817605335, -3972.437291114197, -3282.4967836895166, -1450.7318688866612, -2166.9455265130237, -2697.480649636871, -1498.3070625903997, 646.5438723752053, -2383.9235864924335, -2395.1506203279096, -948.1700320034132, -500.38222602903454, -809.2478504066127, -2247.7230980697586, -4260.667936777423, -2663.436303414358, -2756.210456765215, -1055.9968931753674, -2379.445392952534, -1284.2763352326006, -2507.468037848857, -2226.5238835946834, -2359.9810608524367, -2464.3665067293464, -1283.2493416842192, -3447.5228656993518], \"yaxis\": \"y\"}, {\"customdata\": [[34], [30], [35], [37], [31], [29], [22], [29], [39], [34], [37], [31], [34], [31], [33], [36], [33], [29], [31], [33], [29], [28], [30], [28], [31], [29], [32], [30], [32], [32], [30], [86], [85], [33], [33], [36], [30], [31], [31], [32], [30], [29], [28], [33], [28], [25], [28], [35], [31], [32], [31], [36], [27], [84], [31], [84], [34], [28], [36], [31], [29], [35], [30], [31], [33], [37], [31], [32], [33], [29], [33], [37], [35], [33], [37], [26], [24], [36], [30], [34], [36], [30], [29], [34], [34], [40], [42], [30], [33], [34], [84], [33], [28], [25], [34], [44], [35], [88], [36], [33], [36], [31], [29], [38], [36], [31], [39], [38], [35], [34], [37], [31], [38], [43], [37], [39], [38], [33], [35], [37], [59], [35], [31], [35], [30], [31], [36], [37], [37], [35]], \"hoverlabel\": {\"namelength\": 0}, \"hovertemplate\": \"Cluster=Cluster 3<br>PCA1=%{x}<br>PCA2=%{y}<br>Feature=%{customdata[0]}\", \"legendgroup\": \"Cluster=Cluster 3\", \"marker\": {\"color\": \"#ab63fa\", \"opacity\": 0.5, \"symbol\": \"circle\"}, \"mode\": \"markers\", \"name\": \"Cluster=Cluster 3\", \"showlegend\": true, \"textposition\": \"top center\", \"type\": \"scatter\", \"x\": [26507.042872359896, 20486.14069594543, 32691.869561685715, 31960.754514207252, 35758.27543553666, 26228.37628643617, 33345.15627123116, 30268.70548126327, 24706.128352845142, 23196.213306438214, 31202.412682476064, 31330.343984524752, 27758.387575808196, 26983.04636427817, 25328.06996228165, 28639.385002450475, 19295.267686809544, 23392.942046850563, 32345.708428700575, 36008.725359122305, 26312.372968927506, 25474.40276379726, 22224.556143435264, 23858.5982400234, 23748.67781545403, 35711.07999432943, 19785.99439327466, 32149.921292682855, 26023.56635140614, 32572.750272366167, 30614.16577855354, 39941.237375096156, 35579.20581580636, 31361.085267799124, 31045.220255678763, 23967.006087975613, 24294.808478346316, 32307.936729140918, 25363.9192267204, 30836.978307627425, 25376.693266073136, 27412.691405421207, 19017.169464917482, 40849.48059769062, 24827.97878054595, 30950.101839682367, 36260.399857073855, 34360.48180735056, 32322.90855312245, 26343.67867390245, 29210.556946439672, 34060.87750047383, 31016.952770667845, 39513.27355543246, 40419.576695104144, 38543.62512292874, 23022.218263126637, 33379.420584689076, 29861.546669621443, 32416.939873895524, 15764.491431415807, 37194.902279074166, 31614.442565419064, 30148.682673916064, 30046.489080926036, 22105.03459107824, 35187.910534684626, 34753.148485730795, 22258.608668569883, 35036.71585548718, 30584.12461511323, 34830.866037353575, 41298.63129283505, 24613.751980326106, 21900.785300032745, 21973.307950443803, 34815.25492053803, 26071.981181359228, 26298.148410246697, 14006.00096536538, 32210.979768642395, 31911.00123936631, 40673.85964432744, 22393.41773018011, 28627.259856400287, 23032.680124651255, 31253.468530449416, 32797.64366935491, 38869.64945267169, 31502.360342968204, 34834.90179466002, 32561.02536006328, 22236.16947437225, 25765.79004232834, 27456.913266673087, 38938.11813871435, 30806.776341952776, 38847.16976776086, 22350.76981632155, 16918.676201100105, 33203.84256888802, 25732.344972190538, 36813.76713420393, 28960.63496494676, 20592.34661300775, 39135.37622313005, 24819.36094949774, 18943.372817813015, 31317.298064553695, 35572.71538685354, 35023.21627080027, 29240.50974864808, 39399.40138181148, 25938.05049675624, 30949.636901997925, 23470.84703332801, 37939.71700891235, 23896.368807904066, 30155.33415963697, 32289.54020716664, 15177.319714667687, 26578.15319626617, 28681.549887585734, 26003.522431925605, 33217.926610948074, 37228.734745200665, 24491.388898644716, 32853.06228369525, 32912.892063315834, 28912.895136199924], \"xaxis\": \"x\", \"y\": [-5484.6746561210975, -4804.203700356798, -6066.457122934575, -7950.137679904537, -4122.472097486011, -4266.4841646878, -6080.299826048202, -4917.675594824385, -6304.286871577942, -5613.714946473869, -4006.8807824041223, -5635.163544619185, -3524.6018820414934, -2897.418110778118, -4507.818852759071, -3130.9505393461013, -3266.6501002799114, -5117.926369906291, -2201.720436215354, -6111.705171395259, -4286.405360287332, -4541.1617119158645, -5737.01421639917, -4857.997302514551, -4085.3878885407776, -4543.481105344733, -4699.391527469763, -5508.945169399093, -7172.3347856199325, -6711.005814772025, -4762.434912619336, -5237.495032301003, -6195.256515402729, -4837.589604607753, -4354.880673536974, -5918.696393593375, -3156.1748677381497, -3401.0815217687764, -6518.877743618622, -4248.410998779929, -3922.329207394541, -5970.659605817778, -4587.056600403994, -5591.430862352508, -5088.608312301609, -6274.3994076764575, -3890.344796261254, -5038.8164407421755, -3681.290385681802, -3863.0068749343045, -6286.356908964103, -5075.678351149005, -4865.004407317278, -4805.682520520938, -6642.233640263946, -7198.063753004439, -4439.122859420631, -4139.053044046937, -4210.491742797322, -3316.87378451985, -2149.152212076622, -4030.4860762357494, -3948.413153701506, -3727.641222685244, -2733.1094851712623, -4346.187741550607, -4164.858385743972, -4008.589012753901, -5195.925409188554, -6415.699536226247, -5198.65174378372, -5377.229021116214, -6422.06500631135, -3288.4642893518326, -5234.914435436245, -5227.97230615995, -5108.281670571711, -4687.764619495447, -5023.038755192272, -1775.6050399833505, -5806.3623666588965, -2672.9112969661514, -5771.827716588528, -5150.746928288213, -3324.816421778015, -5461.1790445209535, -4792.820172444662, -5654.546848389318, -4117.836047019012, -5081.205331963822, -5079.540930731748, -5658.5291473353955, -4400.042331000771, -4647.5150918336985, -4868.312164441828, -4443.1698152763865, -5560.2046796, -8209.639308093876, -5405.192380070509, -2877.1946078768756, -6552.893169384943, -4846.280009746117, -4615.462129870628, -5439.902381792009, -4611.58764836157, -4339.707016425754, -6443.1165674782, -6099.926511675159, -6141.763263553494, -4807.665202226774, -4416.577273256115, -5240.709879901139, -5202.090344164466, -4054.2528418970833, -4397.197322284791, -4720.248925408388, -4683.440281859749, -4653.57255088404, -6491.845916302063, -3634.3413606407375, 4253.670268811266, -4542.181472406767, -4194.112454577068, -3786.133642471529, -4387.404636496325, -4575.537648425252, -3378.5440905478677, -5910.595724540101, -4588.664684244311, -5224.554435670842], \"yaxis\": \"y\"}],\n",
              "                        {\"height\": 600, \"legend\": {\"tracegroupgap\": 0}, \"margin\": {\"t\": 60}, \"plot_bgcolor\": \"rgb(240,240,240)\", \"template\": {\"data\": {\"bar\": [{\"error_x\": {\"color\": \"#2a3f5f\"}, \"error_y\": {\"color\": \"#2a3f5f\"}, \"marker\": {\"line\": {\"color\": \"#E5ECF6\", \"width\": 0.5}}, \"type\": \"bar\"}], \"barpolar\": [{\"marker\": {\"line\": {\"color\": \"#E5ECF6\", \"width\": 0.5}}, \"type\": \"barpolar\"}], \"carpet\": [{\"aaxis\": {\"endlinecolor\": \"#2a3f5f\", \"gridcolor\": \"white\", \"linecolor\": \"white\", \"minorgridcolor\": \"white\", \"startlinecolor\": \"#2a3f5f\"}, \"baxis\": {\"endlinecolor\": \"#2a3f5f\", \"gridcolor\": \"white\", \"linecolor\": \"white\", \"minorgridcolor\": \"white\", \"startlinecolor\": \"#2a3f5f\"}, \"type\": \"carpet\"}], \"choropleth\": [{\"colorbar\": {\"outlinewidth\": 0, \"ticks\": \"\"}, \"type\": \"choropleth\"}], \"contour\": [{\"colorbar\": {\"outlinewidth\": 0, \"ticks\": \"\"}, \"colorscale\": [[0.0, \"#0d0887\"], [0.1111111111111111, \"#46039f\"], [0.2222222222222222, \"#7201a8\"], [0.3333333333333333, \"#9c179e\"], [0.4444444444444444, \"#bd3786\"], [0.5555555555555556, \"#d8576b\"], [0.6666666666666666, \"#ed7953\"], [0.7777777777777778, \"#fb9f3a\"], [0.8888888888888888, \"#fdca26\"], [1.0, \"#f0f921\"]], \"type\": \"contour\"}], \"contourcarpet\": [{\"colorbar\": {\"outlinewidth\": 0, \"ticks\": \"\"}, \"type\": \"contourcarpet\"}], \"heatmap\": [{\"colorbar\": {\"outlinewidth\": 0, \"ticks\": \"\"}, \"colorscale\": [[0.0, \"#0d0887\"], [0.1111111111111111, \"#46039f\"], [0.2222222222222222, \"#7201a8\"], [0.3333333333333333, \"#9c179e\"], [0.4444444444444444, \"#bd3786\"], [0.5555555555555556, \"#d8576b\"], [0.6666666666666666, \"#ed7953\"], [0.7777777777777778, \"#fb9f3a\"], [0.8888888888888888, \"#fdca26\"], [1.0, \"#f0f921\"]], \"type\": \"heatmap\"}], \"heatmapgl\": [{\"colorbar\": {\"outlinewidth\": 0, \"ticks\": \"\"}, \"colorscale\": [[0.0, \"#0d0887\"], [0.1111111111111111, \"#46039f\"], [0.2222222222222222, \"#7201a8\"], [0.3333333333333333, \"#9c179e\"], [0.4444444444444444, \"#bd3786\"], [0.5555555555555556, \"#d8576b\"], [0.6666666666666666, \"#ed7953\"], [0.7777777777777778, \"#fb9f3a\"], [0.8888888888888888, \"#fdca26\"], [1.0, \"#f0f921\"]], \"type\": \"heatmapgl\"}], \"histogram\": [{\"marker\": {\"colorbar\": {\"outlinewidth\": 0, \"ticks\": \"\"}}, \"type\": \"histogram\"}], \"histogram2d\": [{\"colorbar\": {\"outlinewidth\": 0, \"ticks\": \"\"}, \"colorscale\": [[0.0, \"#0d0887\"], [0.1111111111111111, \"#46039f\"], [0.2222222222222222, \"#7201a8\"], [0.3333333333333333, \"#9c179e\"], [0.4444444444444444, \"#bd3786\"], [0.5555555555555556, \"#d8576b\"], [0.6666666666666666, \"#ed7953\"], [0.7777777777777778, \"#fb9f3a\"], [0.8888888888888888, \"#fdca26\"], [1.0, \"#f0f921\"]], \"type\": \"histogram2d\"}], \"histogram2dcontour\": [{\"colorbar\": {\"outlinewidth\": 0, \"ticks\": \"\"}, \"colorscale\": [[0.0, \"#0d0887\"], [0.1111111111111111, \"#46039f\"], [0.2222222222222222, \"#7201a8\"], [0.3333333333333333, \"#9c179e\"], [0.4444444444444444, \"#bd3786\"], [0.5555555555555556, \"#d8576b\"], [0.6666666666666666, \"#ed7953\"], [0.7777777777777778, \"#fb9f3a\"], [0.8888888888888888, \"#fdca26\"], [1.0, \"#f0f921\"]], \"type\": \"histogram2dcontour\"}], \"mesh3d\": [{\"colorbar\": {\"outlinewidth\": 0, \"ticks\": \"\"}, \"type\": \"mesh3d\"}], \"parcoords\": [{\"line\": {\"colorbar\": {\"outlinewidth\": 0, \"ticks\": \"\"}}, \"type\": \"parcoords\"}], \"pie\": [{\"automargin\": true, \"type\": \"pie\"}], \"scatter\": [{\"marker\": {\"colorbar\": {\"outlinewidth\": 0, \"ticks\": \"\"}}, \"type\": \"scatter\"}], \"scatter3d\": [{\"line\": {\"colorbar\": {\"outlinewidth\": 0, \"ticks\": \"\"}}, \"marker\": {\"colorbar\": {\"outlinewidth\": 0, \"ticks\": \"\"}}, \"type\": \"scatter3d\"}], \"scattercarpet\": [{\"marker\": {\"colorbar\": {\"outlinewidth\": 0, \"ticks\": \"\"}}, \"type\": \"scattercarpet\"}], \"scattergeo\": [{\"marker\": {\"colorbar\": {\"outlinewidth\": 0, \"ticks\": \"\"}}, \"type\": \"scattergeo\"}], \"scattergl\": [{\"marker\": {\"colorbar\": {\"outlinewidth\": 0, \"ticks\": \"\"}}, \"type\": \"scattergl\"}], \"scattermapbox\": [{\"marker\": {\"colorbar\": {\"outlinewidth\": 0, \"ticks\": \"\"}}, \"type\": \"scattermapbox\"}], \"scatterpolar\": [{\"marker\": {\"colorbar\": {\"outlinewidth\": 0, \"ticks\": \"\"}}, \"type\": \"scatterpolar\"}], \"scatterpolargl\": [{\"marker\": {\"colorbar\": {\"outlinewidth\": 0, \"ticks\": \"\"}}, \"type\": \"scatterpolargl\"}], \"scatterternary\": [{\"marker\": {\"colorbar\": {\"outlinewidth\": 0, \"ticks\": \"\"}}, \"type\": \"scatterternary\"}], \"surface\": [{\"colorbar\": {\"outlinewidth\": 0, \"ticks\": \"\"}, \"colorscale\": [[0.0, \"#0d0887\"], [0.1111111111111111, \"#46039f\"], [0.2222222222222222, \"#7201a8\"], [0.3333333333333333, \"#9c179e\"], [0.4444444444444444, \"#bd3786\"], [0.5555555555555556, \"#d8576b\"], [0.6666666666666666, \"#ed7953\"], [0.7777777777777778, \"#fb9f3a\"], [0.8888888888888888, \"#fdca26\"], [1.0, \"#f0f921\"]], \"type\": \"surface\"}], \"table\": [{\"cells\": {\"fill\": {\"color\": \"#EBF0F8\"}, \"line\": {\"color\": \"white\"}}, \"header\": {\"fill\": {\"color\": \"#C8D4E3\"}, \"line\": {\"color\": \"white\"}}, \"type\": \"table\"}]}, \"layout\": {\"annotationdefaults\": {\"arrowcolor\": \"#2a3f5f\", \"arrowhead\": 0, \"arrowwidth\": 1}, \"coloraxis\": {\"colorbar\": {\"outlinewidth\": 0, \"ticks\": \"\"}}, \"colorscale\": {\"diverging\": [[0, \"#8e0152\"], [0.1, \"#c51b7d\"], [0.2, \"#de77ae\"], [0.3, \"#f1b6da\"], [0.4, \"#fde0ef\"], [0.5, \"#f7f7f7\"], [0.6, \"#e6f5d0\"], [0.7, \"#b8e186\"], [0.8, \"#7fbc41\"], [0.9, \"#4d9221\"], [1, \"#276419\"]], \"sequential\": [[0.0, \"#0d0887\"], [0.1111111111111111, \"#46039f\"], [0.2222222222222222, \"#7201a8\"], [0.3333333333333333, \"#9c179e\"], [0.4444444444444444, \"#bd3786\"], [0.5555555555555556, \"#d8576b\"], [0.6666666666666666, \"#ed7953\"], [0.7777777777777778, \"#fb9f3a\"], [0.8888888888888888, \"#fdca26\"], [1.0, \"#f0f921\"]], \"sequentialminus\": [[0.0, \"#0d0887\"], [0.1111111111111111, \"#46039f\"], [0.2222222222222222, \"#7201a8\"], [0.3333333333333333, \"#9c179e\"], [0.4444444444444444, \"#bd3786\"], [0.5555555555555556, \"#d8576b\"], [0.6666666666666666, \"#ed7953\"], [0.7777777777777778, \"#fb9f3a\"], [0.8888888888888888, \"#fdca26\"], [1.0, \"#f0f921\"]]}, \"colorway\": [\"#636efa\", \"#EF553B\", \"#00cc96\", \"#ab63fa\", \"#FFA15A\", \"#19d3f3\", \"#FF6692\", \"#B6E880\", \"#FF97FF\", \"#FECB52\"], \"font\": {\"color\": \"#2a3f5f\"}, \"geo\": {\"bgcolor\": \"white\", \"lakecolor\": \"white\", \"landcolor\": \"#E5ECF6\", \"showlakes\": true, \"showland\": true, \"subunitcolor\": \"white\"}, \"hoverlabel\": {\"align\": \"left\"}, \"hovermode\": \"closest\", \"mapbox\": {\"style\": \"light\"}, \"paper_bgcolor\": \"white\", \"plot_bgcolor\": \"#E5ECF6\", \"polar\": {\"angularaxis\": {\"gridcolor\": \"white\", \"linecolor\": \"white\", \"ticks\": \"\"}, \"bgcolor\": \"#E5ECF6\", \"radialaxis\": {\"gridcolor\": \"white\", \"linecolor\": \"white\", \"ticks\": \"\"}}, \"scene\": {\"xaxis\": {\"backgroundcolor\": \"#E5ECF6\", \"gridcolor\": \"white\", \"gridwidth\": 2, \"linecolor\": \"white\", \"showbackground\": true, \"ticks\": \"\", \"zerolinecolor\": \"white\"}, \"yaxis\": {\"backgroundcolor\": \"#E5ECF6\", \"gridcolor\": \"white\", \"gridwidth\": 2, \"linecolor\": \"white\", \"showbackground\": true, \"ticks\": \"\", \"zerolinecolor\": \"white\"}, \"zaxis\": {\"backgroundcolor\": \"#E5ECF6\", \"gridcolor\": \"white\", \"gridwidth\": 2, \"linecolor\": \"white\", \"showbackground\": true, \"ticks\": \"\", \"zerolinecolor\": \"white\"}}, \"shapedefaults\": {\"line\": {\"color\": \"#2a3f5f\"}}, \"ternary\": {\"aaxis\": {\"gridcolor\": \"white\", \"linecolor\": \"white\", \"ticks\": \"\"}, \"baxis\": {\"gridcolor\": \"white\", \"linecolor\": \"white\", \"ticks\": \"\"}, \"bgcolor\": \"#E5ECF6\", \"caxis\": {\"gridcolor\": \"white\", \"linecolor\": \"white\", \"ticks\": \"\"}}, \"title\": {\"x\": 0.05}, \"xaxis\": {\"automargin\": true, \"gridcolor\": \"white\", \"linecolor\": \"white\", \"ticks\": \"\", \"title\": {\"standoff\": 15}, \"zerolinecolor\": \"white\", \"zerolinewidth\": 2}, \"yaxis\": {\"automargin\": true, \"gridcolor\": \"white\", \"linecolor\": \"white\", \"ticks\": \"\", \"title\": {\"standoff\": 15}, \"zerolinecolor\": \"white\", \"zerolinewidth\": 2}}}, \"title\": {\"text\": \"2D Cluster PCA Plot\"}, \"xaxis\": {\"anchor\": \"y\", \"domain\": [0.0, 1.0], \"title\": {\"text\": \"PCA1\"}}, \"yaxis\": {\"anchor\": \"x\", \"domain\": [0.0, 1.0], \"title\": {\"text\": \"PCA2\"}}},\n",
              "                        {\"responsive\": true}\n",
              "                    ).then(function(){\n",
              "                            \n",
              "var gd = document.getElementById('d1cdb200-3227-4758-b2a9-a7d28bd61832');\n",
              "var x = new MutationObserver(function (mutations, observer) {{\n",
              "        var display = window.getComputedStyle(gd).display;\n",
              "        if (!display || display === 'none') {{\n",
              "            console.log([gd, 'removed!']);\n",
              "            Plotly.purge(gd);\n",
              "            observer.disconnect();\n",
              "        }}\n",
              "}});\n",
              "\n",
              "// Listen for the removal of the full notebook cells\n",
              "var notebookContainer = gd.closest('#notebook-container');\n",
              "if (notebookContainer) {{\n",
              "    x.observe(notebookContainer, {childList: true});\n",
              "}}\n",
              "\n",
              "// Listen for the clearing of the current output cell\n",
              "var outputEl = gd.closest('.output');\n",
              "if (outputEl) {{\n",
              "    x.observe(outputEl, {childList: true});\n",
              "}}\n",
              "\n",
              "                        })\n",
              "                };\n",
              "                });\n",
              "            </script>\n",
              "        </div>"
            ],
            "application/vnd.plotly.v1+json": {
              "data": [
                {
                  "textposition": "top center",
                  "hovertemplate": "Cluster=Cluster 0<br>PCA1=%{x}<br>PCA2=%{y}<br>Feature=%{customdata[0]}",
                  "showlegend": true,
                  "legendgroup": "Cluster=Cluster 0",
                  "name": "Cluster=Cluster 0",
                  "yaxis": "y",
                  "customdata": [
                    [
                      24
                    ],
                    [
                      21
                    ],
                    [
                      28
                    ],
                    [
                      25
                    ],
                    [
                      23
                    ],
                    [
                      28
                    ],
                    [
                      87
                    ],
                    [
                      24
                    ],
                    [
                      20
                    ],
                    [
                      77
                    ],
                    [
                      82
                    ],
                    [
                      25
                    ],
                    [
                      23
                    ],
                    [
                      27
                    ],
                    [
                      21
                    ],
                    [
                      88
                    ],
                    [
                      26
                    ],
                    [
                      25
                    ],
                    [
                      83
                    ],
                    [
                      26
                    ],
                    [
                      34
                    ],
                    [
                      91
                    ],
                    [
                      29
                    ],
                    [
                      90
                    ],
                    [
                      83
                    ],
                    [
                      23
                    ],
                    [
                      22
                    ],
                    [
                      24
                    ],
                    [
                      26
                    ],
                    [
                      25
                    ],
                    [
                      25
                    ],
                    [
                      83
                    ],
                    [
                      85
                    ],
                    [
                      24
                    ],
                    [
                      22
                    ],
                    [
                      28
                    ],
                    [
                      29
                    ],
                    [
                      24
                    ],
                    [
                      17
                    ],
                    [
                      20
                    ],
                    [
                      90
                    ],
                    [
                      82
                    ],
                    [
                      18
                    ],
                    [
                      28
                    ],
                    [
                      29
                    ],
                    [
                      20
                    ],
                    [
                      17
                    ],
                    [
                      30
                    ],
                    [
                      89
                    ],
                    [
                      28
                    ],
                    [
                      84
                    ],
                    [
                      18
                    ],
                    [
                      88
                    ],
                    [
                      32
                    ],
                    [
                      92
                    ],
                    [
                      31
                    ],
                    [
                      27
                    ],
                    [
                      26
                    ],
                    [
                      29
                    ],
                    [
                      22
                    ],
                    [
                      25
                    ],
                    [
                      17
                    ],
                    [
                      93
                    ],
                    [
                      28
                    ],
                    [
                      26
                    ],
                    [
                      86
                    ],
                    [
                      27
                    ],
                    [
                      23
                    ],
                    [
                      24
                    ],
                    [
                      17
                    ],
                    [
                      24
                    ],
                    [
                      86
                    ]
                  ],
                  "y": [
                    5488.38998458211,
                    6249.537360930087,
                    4717.997205237611,
                    3879.1497332626586,
                    5657.241494980819,
                    5422.323757682565,
                    -4543.326267067198,
                    5916.358054129834,
                    3238.428770323687,
                    -5677.667475551912,
                    -6854.206134077957,
                    3658.306501252223,
                    4946.177510120512,
                    4207.414796612185,
                    4193.882999372308,
                    -4397.186114919678,
                    2890.5509685647057,
                    5261.355213266392,
                    -6254.840941209126,
                    6006.733833662533,
                    -6307.669140625976,
                    -4660.855622444508,
                    6674.234677495921,
                    -5693.665441157448,
                    -5615.560772408641,
                    4590.872583456108,
                    3350.7116179336476,
                    4252.8975407069975,
                    4271.292185091138,
                    4016.9816222016166,
                    4732.087714707709,
                    -5954.4546018511455,
                    -5432.281819509644,
                    6726.313750520615,
                    3778.1814213096095,
                    5765.842845736468,
                    2693.0081866217524,
                    3903.9749268153714,
                    8450.307562492615,
                    4709.38880763183,
                    -3106.1034758683595,
                    -4953.921129423362,
                    3427.1351952588116,
                    3884.4528513190858,
                    -5657.478831520008,
                    3176.7468854090935,
                    4315.751792559069,
                    3437.8964823947817,
                    -6877.035883382068,
                    8499.96694459981,
                    -4647.129088588652,
                    4668.214697412175,
                    -4985.514801220398,
                    -4823.6458993355955,
                    -4557.716601791876,
                    6059.983323374553,
                    6048.724079227709,
                    4758.188729714918,
                    5101.398697367524,
                    5717.501137167644,
                    3894.2354791277503,
                    5282.497809754311,
                    -5178.052813440074,
                    3371.5330650131004,
                    3388.4270346813764,
                    -6305.307759672732,
                    4941.999362973273,
                    4629.7913652810985,
                    4437.356566167742,
                    4243.721728508768,
                    4745.14458912481,
                    -4749.057025715365
                  ],
                  "hoverlabel": {
                    "namelength": 0
                  },
                  "mode": "markers",
                  "xaxis": "x",
                  "marker": {
                    "color": "#636efa",
                    "opacity": 0.5,
                    "symbol": "circle"
                  },
                  "x": [
                    53976.79000263129,
                    48602.571111840196,
                    41933.876349092105,
                    55809.6082599398,
                    51395.224355999504,
                    48029.235982960905,
                    41859.15436997566,
                    52263.49410874445,
                    54230.311420476595,
                    52844.21454083217,
                    50433.851384533395,
                    45728.40114434411,
                    63317.066532442914,
                    46271.74999066811,
                    54542.56026091128,
                    47964.552261386976,
                    50397.083897731354,
                    62912.45709780567,
                    43629.01273923759,
                    51532.470058404506,
                    44074.74432267948,
                    43084.43130106843,
                    47210.61128412961,
                    48410.00929047236,
                    41580.27174463827,
                    45049.71303774848,
                    58984.55027496727,
                    55795.997914963955,
                    56651.45548374747,
                    55168.451545061886,
                    55783.42885801491,
                    42157.80542870104,
                    42414.13984409399,
                    61617.25602185722,
                    45302.57090416743,
                    53924.597039558765,
                    66750.62108457656,
                    59196.593086339104,
                    59803.045579193,
                    47415.38916240531,
                    42045.79570257145,
                    45920.30384600764,
                    55587.35173073358,
                    46000.80248469955,
                    43600.21618030977,
                    53899.23405997957,
                    59798.17482849971,
                    47549.76254622707,
                    43861.747091025565,
                    48281.9647640219,
                    46993.641087908436,
                    48551.89779119263,
                    44952.902035388994,
                    41328.25266330998,
                    47182.06858155586,
                    47836.448391826845,
                    49923.23240258631,
                    47842.88367906651,
                    56449.67813828141,
                    57857.289056922295,
                    53422.55248570126,
                    48697.32854440994,
                    50874.593733151916,
                    52465.0335866599,
                    52086.38065892721,
                    48577.24594456374,
                    47518.881318567925,
                    54778.919909691445,
                    45280.29645748763,
                    61085.16181542689,
                    59239.85352839813,
                    52679.137422450636
                  ],
                  "type": "scatter"
                },
                {
                  "textposition": "top center",
                  "hovertemplate": "Cluster=Cluster 1<br>PCA1=%{x}<br>PCA2=%{y}<br>Feature=%{customdata[0]}",
                  "showlegend": true,
                  "legendgroup": "Cluster=Cluster 1",
                  "name": "Cluster=Cluster 1",
                  "yaxis": "y",
                  "customdata": [
                    [
                      58
                    ],
                    [
                      61
                    ],
                    [
                      64
                    ],
                    [
                      63
                    ],
                    [
                      56
                    ],
                    [
                      60
                    ],
                    [
                      55
                    ],
                    [
                      63
                    ],
                    [
                      58
                    ],
                    [
                      57
                    ],
                    [
                      62
                    ],
                    [
                      60
                    ],
                    [
                      62
                    ],
                    [
                      64
                    ],
                    [
                      62
                    ],
                    [
                      61
                    ],
                    [
                      56
                    ],
                    [
                      67
                    ],
                    [
                      58
                    ],
                    [
                      62
                    ],
                    [
                      58
                    ],
                    [
                      57
                    ],
                    [
                      55
                    ],
                    [
                      66
                    ],
                    [
                      64
                    ],
                    [
                      58
                    ],
                    [
                      63
                    ],
                    [
                      64
                    ],
                    [
                      60
                    ],
                    [
                      59
                    ],
                    [
                      53
                    ],
                    [
                      57
                    ],
                    [
                      68
                    ],
                    [
                      59
                    ],
                    [
                      59
                    ],
                    [
                      61
                    ],
                    [
                      58
                    ],
                    [
                      59
                    ],
                    [
                      58
                    ],
                    [
                      55
                    ],
                    [
                      51
                    ],
                    [
                      57
                    ],
                    [
                      61
                    ],
                    [
                      60
                    ],
                    [
                      64
                    ],
                    [
                      65
                    ],
                    [
                      59
                    ],
                    [
                      58
                    ],
                    [
                      63
                    ],
                    [
                      61
                    ],
                    [
                      68
                    ],
                    [
                      59
                    ],
                    [
                      61
                    ],
                    [
                      63
                    ],
                    [
                      58
                    ],
                    [
                      62
                    ],
                    [
                      60
                    ],
                    [
                      62
                    ],
                    [
                      65
                    ],
                    [
                      59
                    ],
                    [
                      65
                    ],
                    [
                      58
                    ],
                    [
                      61
                    ],
                    [
                      66
                    ],
                    [
                      56
                    ],
                    [
                      58
                    ],
                    [
                      67
                    ],
                    [
                      56
                    ],
                    [
                      59
                    ],
                    [
                      58
                    ],
                    [
                      56
                    ],
                    [
                      61
                    ],
                    [
                      56
                    ],
                    [
                      61
                    ],
                    [
                      59
                    ],
                    [
                      62
                    ],
                    [
                      59
                    ],
                    [
                      59
                    ],
                    [
                      59
                    ],
                    [
                      57
                    ],
                    [
                      56
                    ],
                    [
                      59
                    ],
                    [
                      61
                    ],
                    [
                      67
                    ],
                    [
                      63
                    ],
                    [
                      56
                    ],
                    [
                      59
                    ],
                    [
                      58
                    ],
                    [
                      61
                    ],
                    [
                      55
                    ],
                    [
                      59
                    ],
                    [
                      60
                    ],
                    [
                      60
                    ],
                    [
                      67
                    ],
                    [
                      57
                    ],
                    [
                      59
                    ],
                    [
                      61
                    ],
                    [
                      57
                    ],
                    [
                      60
                    ],
                    [
                      58
                    ],
                    [
                      61
                    ],
                    [
                      59
                    ],
                    [
                      59
                    ],
                    [
                      59
                    ],
                    [
                      57
                    ],
                    [
                      62
                    ],
                    [
                      56
                    ],
                    [
                      58
                    ],
                    [
                      56
                    ],
                    [
                      61
                    ],
                    [
                      63
                    ],
                    [
                      61
                    ],
                    [
                      60
                    ],
                    [
                      60
                    ],
                    [
                      65
                    ],
                    [
                      58
                    ],
                    [
                      61
                    ],
                    [
                      66
                    ],
                    [
                      64
                    ],
                    [
                      62
                    ],
                    [
                      57
                    ],
                    [
                      53
                    ],
                    [
                      59
                    ],
                    [
                      55
                    ],
                    [
                      62
                    ],
                    [
                      61
                    ],
                    [
                      62
                    ],
                    [
                      55
                    ],
                    [
                      57
                    ],
                    [
                      60
                    ],
                    [
                      64
                    ],
                    [
                      55
                    ],
                    [
                      56
                    ],
                    [
                      62
                    ],
                    [
                      58
                    ],
                    [
                      63
                    ],
                    [
                      64
                    ],
                    [
                      59
                    ],
                    [
                      62
                    ],
                    [
                      59
                    ],
                    [
                      58
                    ],
                    [
                      54
                    ],
                    [
                      66
                    ],
                    [
                      53
                    ],
                    [
                      56
                    ],
                    [
                      59
                    ],
                    [
                      66
                    ],
                    [
                      58
                    ],
                    [
                      62
                    ],
                    [
                      63
                    ],
                    [
                      55
                    ],
                    [
                      61
                    ],
                    [
                      59
                    ],
                    [
                      62
                    ],
                    [
                      65
                    ],
                    [
                      64
                    ]
                  ],
                  "y": [
                    4731.012058760932,
                    5644.5521996142725,
                    5666.367954752703,
                    4509.378948047733,
                    5673.527728610807,
                    4085.3122504461235,
                    6380.915494292794,
                    5086.374324713107,
                    4513.159427781259,
                    5567.112673818736,
                    5686.132349951809,
                    7033.832306225476,
                    4727.079813055351,
                    4384.687289531573,
                    5599.274828311296,
                    2658.297518890415,
                    5573.243592768731,
                    7337.46258433077,
                    5992.684094109711,
                    6731.622371228145,
                    6861.841710581508,
                    5517.456998799795,
                    5689.000453091913,
                    4687.331305792247,
                    5244.223767536207,
                    5244.43680934892,
                    4411.324353776286,
                    6677.482101590941,
                    5133.639471687391,
                    6098.40717149921,
                    4064.008336080812,
                    6298.430178867738,
                    5539.978254276129,
                    6845.141814371282,
                    5499.339332721769,
                    2685.6626854367973,
                    5164.690387393554,
                    6823.2533280405705,
                    4012.215493342317,
                    5982.8582214391345,
                    5318.281993622228,
                    5506.996622913863,
                    4852.44451876734,
                    4348.095679784139,
                    4277.420432790432,
                    4771.515153180695,
                    3467.565974911421,
                    5223.642330390359,
                    3374.2871342934286,
                    5701.697575023515,
                    5401.821696967171,
                    4564.617621855319,
                    5127.949261280456,
                    4875.412034392044,
                    4468.268102563845,
                    7267.3285423970065,
                    5001.420783196852,
                    6342.03690187803,
                    5174.470545977295,
                    5711.628393266972,
                    3078.896438494594,
                    4688.37074694926,
                    4638.724240674153,
                    5468.743274286698,
                    6862.247572080612,
                    3500.596454313256,
                    6638.189488143048,
                    4273.205301847637,
                    5788.85389338375,
                    5141.101367432593,
                    5049.606296947779,
                    4129.181189416358,
                    4370.46782882272,
                    4923.281603355224,
                    3399.1203547303244,
                    5205.840154213881,
                    6221.683453940022,
                    4314.803908984971,
                    4177.140129281852,
                    6211.274488459203,
                    3266.4701832643814,
                    5267.352553209779,
                    5996.549152653398,
                    4795.6596223076,
                    6334.24325198205,
                    3424.0736039052895,
                    5588.800602998206,
                    3943.1170736339145,
                    8154.20053386381,
                    3973.9069974865147,
                    3684.69529594036,
                    5556.666139133823,
                    7146.662858252782,
                    4711.285967238695,
                    5713.442041909507,
                    5152.0777221213175,
                    3413.4609900340356,
                    6154.518606181517,
                    6716.389270082331,
                    3616.906622264865,
                    4305.605513370142,
                    5484.062210130753,
                    5033.927181148627,
                    5720.0639106318495,
                    4854.373611538009,
                    5121.948177991023,
                    4760.726683836123,
                    4450.572465085803,
                    4076.1888638585,
                    6827.736752280873,
                    6399.679457928579,
                    5239.834486252133,
                    4575.315245883316,
                    4906.821369117011,
                    6026.370137728774,
                    4662.5718013621645,
                    7150.265686204212,
                    7423.315368546439,
                    5008.012103778609,
                    6401.496850378559,
                    5207.221097509012,
                    5122.298575466135,
                    5595.425208078432,
                    5435.293808150467,
                    6393.584927460238,
                    4571.311601888516,
                    5058.59350766587,
                    4646.4230382320975,
                    5019.545071865862,
                    3532.750801645639,
                    5070.413098436328,
                    3293.9257098257876,
                    5174.060016070754,
                    5692.091704359404,
                    5053.974394482309,
                    4092.5868105824975,
                    6031.597780098122,
                    6074.108821940029,
                    2642.856462873312,
                    4574.029852480234,
                    5507.674538617936,
                    4918.861099714737,
                    5245.750156657966,
                    6617.143404468859,
                    2451.395645635494,
                    5030.101509904848,
                    5512.809888472103,
                    6791.121727987134,
                    4834.953991865888,
                    6502.207882775595,
                    4298.1479342158,
                    4039.0497082186093,
                    1366.2175061913915,
                    5240.283697626607,
                    6237.4550067498,
                    3878.074005604355
                  ],
                  "hoverlabel": {
                    "namelength": 0
                  },
                  "mode": "markers",
                  "xaxis": "x",
                  "marker": {
                    "color": "#EF553B",
                    "opacity": 0.5,
                    "symbol": "circle"
                  },
                  "x": [
                    8122.080380415541,
                    -4025.5345868614945,
                    1223.3332842063603,
                    -5414.849621380294,
                    -7927.279393999568,
                    -9955.599000501974,
                    -1254.7961050822857,
                    -18377.08091916089,
                    3385.8220491313177,
                    1380.9095854822558,
                    -5806.0770526118185,
                    -10072.875118803537,
                    3175.7301008876825,
                    11039.026942031716,
                    -8175.944783841653,
                    -4335.121223668243,
                    -15159.901916245683,
                    -15876.01419493387,
                    2392.9514000132276,
                    -12401.012614422632,
                    -4856.160277619087,
                    -9604.976101231405,
                    871.056144864038,
                    -3578.6411667637262,
                    3594.0424216908364,
                    5073.487356522343,
                    -182.87509706289467,
                    -10817.514881421735,
                    -7740.90487908972,
                    -5713.30447503172,
                    -284.9346161317581,
                    -5506.504775277306,
                    2456.1149429108928,
                    384.4886537787829,
                    -3902.650760127408,
                    -1867.5011952055122,
                    2555.784235160229,
                    -18832.323089995105,
                    3333.0370081988904,
                    -10419.650727093287,
                    -3127.746475407197,
                    -3147.9716901024044,
                    3607.621847535448,
                    -805.5182840466953,
                    -12402.614006035734,
                    -811.2733012582978,
                    -7981.746810683441,
                    2868.675335891809,
                    7034.566991846881,
                    -7827.504392605749,
                    -6270.130057704631,
                    -7225.656651496555,
                    -3197.7706749317085,
                    -4661.643199436441,
                    -4588.845682887331,
                    -1424.2968527852493,
                    -11770.096221904694,
                    -7431.169946592947,
                    -4794.730185972457,
                    -5787.584457334291,
                    -4114.66581250266,
                    -4883.720561797816,
                    -967.1345292294812,
                    1855.0479869186909,
                    -9823.292971418661,
                    -6075.7239459118755,
                    3574.8676282851407,
                    -1755.366356398995,
                    -7793.454352086529,
                    834.6063416853502,
                    375.6120252474091,
                    -3222.0284971176457,
                    3735.2223001205402,
                    -9600.009525716896,
                    2663.814142724259,
                    -5898.744479681148,
                    -6051.798027149641,
                    5619.125538763626,
                    -2220.635450610066,
                    -10371.487057071723,
                    -6874.447300583787,
                    -1864.5940590614468,
                    -9270.983246113974,
                    -6586.375015596338,
                    -7793.21150891416,
                    5122.282562298914,
                    7017.4072298069495,
                    4968.764645874571,
                    -6214.354917756377,
                    1547.9124395594195,
                    -1709.006711698438,
                    -5149.414552966315,
                    -9176.939917160451,
                    5679.9350322555665,
                    4615.604589783892,
                    277.31945471803493,
                    -5628.983771409209,
                    -1148.5927138363193,
                    4848.442764387981,
                    1797.8692846207523,
                    1691.1469990055034,
                    -9514.742122293772,
                    -5495.930030665688,
                    -2601.869628345948,
                    4241.775895153044,
                    -4176.722631704309,
                    -11393.264281389049,
                    499.49661809613264,
                    9121.208329826177,
                    -1006.794280892696,
                    5567.47811711181,
                    -11385.807297750884,
                    -4595.725467462927,
                    -5228.773548143098,
                    -9447.566957019653,
                    -907.6690876091204,
                    -6112.701966838937,
                    -10238.837928743033,
                    -14757.626854505608,
                    -5414.451723823095,
                    1381.2925438038912,
                    -13124.39160403842,
                    -7423.928769536234,
                    -847.3002227743459,
                    -11570.013629472296,
                    -2009.7086141751704,
                    -12594.175242128535,
                    -4197.995995572512,
                    106.44730782999382,
                    -3881.2792235448305,
                    -3536.624899618862,
                    3442.067865401042,
                    -6529.597912750264,
                    -1710.009100629774,
                    -4972.922141129973,
                    10499.407295945586,
                    1198.2155272857278,
                    6644.5976127982285,
                    -611.8920766835427,
                    -879.6961231840203,
                    -5327.512619806889,
                    1270.5926186365043,
                    7325.2561894927,
                    1535.320034923855,
                    11129.42414922961,
                    -7249.028129796931,
                    -2630.7941352081752,
                    -4333.35317149532,
                    4864.683651413,
                    -2329.6167597527656,
                    -3652.051627219525,
                    -3354.409395492049,
                    -860.4354477953804,
                    -6945.4902208559,
                    -9153.992100917838,
                    13091.37415351669
                  ],
                  "type": "scatter"
                },
                {
                  "textposition": "top center",
                  "hovertemplate": "Cluster=Cluster 2<br>PCA1=%{x}<br>PCA2=%{y}<br>Feature=%{customdata[0]}",
                  "showlegend": true,
                  "legendgroup": "Cluster=Cluster 2",
                  "name": "Cluster=Cluster 2",
                  "yaxis": "y",
                  "customdata": [
                    [
                      83
                    ],
                    [
                      91
                    ],
                    [
                      91
                    ],
                    [
                      92
                    ],
                    [
                      91
                    ],
                    [
                      89
                    ],
                    [
                      87
                    ],
                    [
                      87
                    ],
                    [
                      94
                    ],
                    [
                      86
                    ],
                    [
                      94
                    ],
                    [
                      79
                    ],
                    [
                      84
                    ],
                    [
                      87
                    ],
                    [
                      88
                    ],
                    [
                      93
                    ],
                    [
                      89
                    ],
                    [
                      91
                    ],
                    [
                      83
                    ],
                    [
                      83
                    ],
                    [
                      88
                    ],
                    [
                      83
                    ],
                    [
                      88
                    ],
                    [
                      86
                    ],
                    [
                      90
                    ],
                    [
                      91
                    ],
                    [
                      86
                    ],
                    [
                      86
                    ],
                    [
                      91
                    ],
                    [
                      91
                    ],
                    [
                      87
                    ],
                    [
                      82
                    ],
                    [
                      89
                    ],
                    [
                      85
                    ],
                    [
                      94
                    ],
                    [
                      86
                    ],
                    [
                      92
                    ],
                    [
                      82
                    ],
                    [
                      87
                    ],
                    [
                      90
                    ],
                    [
                      84
                    ],
                    [
                      83
                    ],
                    [
                      86
                    ],
                    [
                      84
                    ],
                    [
                      84
                    ],
                    [
                      90
                    ],
                    [
                      91
                    ],
                    [
                      87
                    ],
                    [
                      92
                    ],
                    [
                      97
                    ],
                    [
                      84
                    ],
                    [
                      87
                    ],
                    [
                      92
                    ],
                    [
                      87
                    ],
                    [
                      91
                    ],
                    [
                      93
                    ],
                    [
                      90
                    ],
                    [
                      91
                    ],
                    [
                      83
                    ],
                    [
                      90
                    ],
                    [
                      87
                    ],
                    [
                      92
                    ],
                    [
                      89
                    ],
                    [
                      83
                    ],
                    [
                      83
                    ],
                    [
                      90
                    ],
                    [
                      87
                    ],
                    [
                      87
                    ],
                    [
                      83
                    ],
                    [
                      89
                    ],
                    [
                      91
                    ],
                    [
                      91
                    ],
                    [
                      84
                    ],
                    [
                      90
                    ],
                    [
                      82
                    ],
                    [
                      87
                    ],
                    [
                      87
                    ],
                    [
                      86
                    ],
                    [
                      89
                    ],
                    [
                      90
                    ],
                    [
                      84
                    ],
                    [
                      88
                    ],
                    [
                      92
                    ],
                    [
                      88
                    ],
                    [
                      85
                    ],
                    [
                      79
                    ],
                    [
                      89
                    ],
                    [
                      84
                    ],
                    [
                      91
                    ],
                    [
                      85
                    ],
                    [
                      90
                    ],
                    [
                      88
                    ],
                    [
                      89
                    ],
                    [
                      88
                    ],
                    [
                      89
                    ],
                    [
                      84
                    ],
                    [
                      88
                    ],
                    [
                      89
                    ],
                    [
                      87
                    ],
                    [
                      88
                    ],
                    [
                      84
                    ],
                    [
                      90
                    ],
                    [
                      92
                    ],
                    [
                      81
                    ],
                    [
                      85
                    ],
                    [
                      86
                    ],
                    [
                      89
                    ],
                    [
                      95
                    ],
                    [
                      86
                    ],
                    [
                      94
                    ],
                    [
                      82
                    ],
                    [
                      94
                    ],
                    [
                      91
                    ],
                    [
                      91
                    ],
                    [
                      90
                    ],
                    [
                      88
                    ],
                    [
                      91
                    ],
                    [
                      84
                    ],
                    [
                      91
                    ],
                    [
                      88
                    ],
                    [
                      89
                    ],
                    [
                      87
                    ],
                    [
                      85
                    ],
                    [
                      85
                    ],
                    [
                      88
                    ],
                    [
                      88
                    ],
                    [
                      94
                    ],
                    [
                      88
                    ],
                    [
                      88
                    ],
                    [
                      92
                    ],
                    [
                      85
                    ],
                    [
                      83
                    ],
                    [
                      87
                    ],
                    [
                      87
                    ],
                    [
                      85
                    ],
                    [
                      91
                    ],
                    [
                      85
                    ],
                    [
                      88
                    ],
                    [
                      85
                    ],
                    [
                      93
                    ],
                    [
                      88
                    ],
                    [
                      85
                    ],
                    [
                      94
                    ],
                    [
                      84
                    ],
                    [
                      82
                    ],
                    [
                      87
                    ],
                    [
                      84
                    ]
                  ],
                  "y": [
                    -3117.0435724351237,
                    -1255.0231217175192,
                    -3258.592731249429,
                    -3704.1152030668827,
                    -2178.951260878266,
                    -1789.8310613735043,
                    -458.7329379734677,
                    -1200.4987085747,
                    -3004.1359250357305,
                    -1500.5997535503452,
                    -2626.494760123041,
                    -2385.930673599971,
                    -2106.9565485318562,
                    -672.1303645870981,
                    -3403.3549980948774,
                    -3329.4241557503883,
                    -1902.3037525718107,
                    -4966.632983631629,
                    -2299.1775764582508,
                    -874.5938320396228,
                    -946.4427010468264,
                    -918.4435413744563,
                    -1838.664645556659,
                    -1039.8869670204485,
                    -2813.408865756102,
                    -4704.900718140077,
                    -3844.050642994283,
                    -2812.6408322745265,
                    -958.5365645110752,
                    -2551.6409458672993,
                    -1656.4250558163033,
                    -3482.950924420313,
                    -3320.238109106741,
                    -497.02873214681415,
                    -1998.3145148841252,
                    -2520.8796709258977,
                    -2373.9068521136146,
                    -3595.4264994551527,
                    -1788.595019255138,
                    -1061.3928297006266,
                    -3267.664533478743,
                    -559.8887343311553,
                    -361.8228772290589,
                    -1709.6809922654022,
                    -2386.7446703879687,
                    -1034.0462861180679,
                    -2876.0168218541617,
                    -4327.599800404027,
                    -219.83567344031925,
                    -296.94791022013555,
                    -2456.062469507205,
                    -1690.2235244245394,
                    -3215.3117531036182,
                    -3656.8600405231205,
                    -1059.5099705589153,
                    -2913.151326193391,
                    -1918.0706539765351,
                    -512.168161665235,
                    -3267.8530880659664,
                    -3209.7056998551207,
                    -2706.9542458595406,
                    -2831.244972649776,
                    163.00860194240718,
                    -2003.379558614893,
                    -2323.9550250667407,
                    -1573.129333946468,
                    -1858.7415428672737,
                    -1271.8366968001815,
                    -3652.1430220775037,
                    -1025.6556377131574,
                    -3330.0950893142613,
                    -1341.6421504993361,
                    -2662.237917413056,
                    -3511.650542757559,
                    -2253.324954790313,
                    968.182184170177,
                    -3270.2500120301256,
                    -2067.7852022028565,
                    -1523.1531827794756,
                    -337.5831102994571,
                    -1806.3716349634744,
                    -1681.1078093986146,
                    -3159.4030652887386,
                    -2297.4104284560135,
                    776.7213551828818,
                    -982.637404545742,
                    72.34189620852592,
                    -3586.392912339361,
                    -2541.1040744024203,
                    1139.0677249894097,
                    -1716.0957515179928,
                    -2403.452656500526,
                    -1529.9495201383822,
                    -1747.284515874375,
                    -990.6075970316526,
                    -975.0110199269355,
                    -2388.3975155671865,
                    1229.6342021038006,
                    -2999.048136853005,
                    -623.0248233972341,
                    -3445.1407626668747,
                    -2907.7981801354904,
                    -3145.838811669631,
                    -2039.051945091477,
                    -1422.263252153145,
                    -2125.516573296832,
                    -2494.3460158547678,
                    -3476.757532941406,
                    -5860.40697091343,
                    -424.49445160246984,
                    -1443.6312210611663,
                    -1273.0340909671534,
                    -857.2365574199107,
                    -1946.425634881532,
                    -1026.217828121941,
                    -1546.7860227984638,
                    -1819.1411133435656,
                    -2964.871161538943,
                    -3386.6313874278358,
                    -4573.13594967613,
                    -2804.3175987818163,
                    -1016.362817605335,
                    -3972.437291114197,
                    -3282.4967836895166,
                    -1450.7318688866612,
                    -2166.9455265130237,
                    -2697.480649636871,
                    -1498.3070625903997,
                    646.5438723752053,
                    -2383.9235864924335,
                    -2395.1506203279096,
                    -948.1700320034132,
                    -500.38222602903454,
                    -809.2478504066127,
                    -2247.7230980697586,
                    -4260.667936777423,
                    -2663.436303414358,
                    -2756.210456765215,
                    -1055.9968931753674,
                    -2379.445392952534,
                    -1284.2763352326006,
                    -2507.468037848857,
                    -2226.5238835946834,
                    -2359.9810608524367,
                    -2464.3665067293464,
                    -1283.2493416842192,
                    -3447.5228656993518
                  ],
                  "hoverlabel": {
                    "namelength": 0
                  },
                  "mode": "markers",
                  "xaxis": "x",
                  "marker": {
                    "color": "#00cc96",
                    "opacity": 0.5,
                    "symbol": "circle"
                  },
                  "x": [
                    -48890.162042831646,
                    -48496.84792497303,
                    -47000.171708792885,
                    -53329.088908637925,
                    -39063.28667619089,
                    -50446.68725850558,
                    -50055.787564293554,
                    -49618.56425158389,
                    -36822.88272990105,
                    -46897.28720484184,
                    -56820.08755360424,
                    -37510.58801132115,
                    -48329.37521986342,
                    -63656.34758998012,
                    -40724.15688509663,
                    -58127.50387027002,
                    -48762.364668271184,
                    -38870.672641380326,
                    -41183.6520716571,
                    -57495.82751822278,
                    -42334.047671506334,
                    -45148.062146087905,
                    -53103.8479128973,
                    -56854.24491468408,
                    -42253.87287795822,
                    -46108.56441807311,
                    -43811.472620393884,
                    -39708.646989663466,
                    -63634.722002739545,
                    -49855.360239061156,
                    -45504.92821664386,
                    -42172.09142372813,
                    -44680.893509319234,
                    -47211.30921897939,
                    -51858.95285225974,
                    -48031.600338698336,
                    -53120.540708745815,
                    -42152.50281937875,
                    -44207.369196690044,
                    -46621.67518992087,
                    -48086.47161506781,
                    -41229.0853264679,
                    -52219.78891026323,
                    -51590.97205811301,
                    -45243.33599570979,
                    -52877.38164603335,
                    -47591.22511121999,
                    -33223.7879275869,
                    -56895.33602609465,
                    -48338.7046626193,
                    -39255.47386551346,
                    -57945.29400939378,
                    -39730.75492373196,
                    -45889.16124528394,
                    -44891.72694017815,
                    -55837.89621255907,
                    -40392.52353813575,
                    -52957.616291780956,
                    -45053.50115134016,
                    -38257.012522678684,
                    -49083.98904448346,
                    -42194.798734952405,
                    -41047.376366850294,
                    -52508.30353343572,
                    -42546.30928703382,
                    -42485.19893050837,
                    -45592.66271459646,
                    -52350.136881607665,
                    -47072.832708278795,
                    -47490.05337363706,
                    -48867.33422412473,
                    -51304.42079121018,
                    -57516.27318363642,
                    -53514.36608306823,
                    -51335.696362198025,
                    -59885.18345080087,
                    -52745.271995073825,
                    -60035.35573518631,
                    -53680.72058527789,
                    -51240.79467490209,
                    -55003.114735362935,
                    -44316.39097613651,
                    -40276.44813108955,
                    -57888.986937986156,
                    -53905.33080870667,
                    -43219.57063079796,
                    -45316.581406095545,
                    -48254.00622992488,
                    -50504.823142737696,
                    -47927.75615335325,
                    -45508.35388587766,
                    -49640.516333935906,
                    -56491.72616160142,
                    -46888.40589877375,
                    -55368.98427568009,
                    -48469.758225555765,
                    -43012.769783491385,
                    -51006.62596717177,
                    -51191.18311026796,
                    -48459.578853164654,
                    -46294.696525815074,
                    -50029.048673484416,
                    -39882.023331382996,
                    -41272.8953398618,
                    -47271.413276242114,
                    -28705.212826769788,
                    -49610.67501015969,
                    -48754.553222931434,
                    -39916.59061152689,
                    -48448.18982139339,
                    -51459.51350546342,
                    -54957.49098917232,
                    -45489.120024218624,
                    -58771.33010043617,
                    -42382.6988320362,
                    -57750.757746123876,
                    -49274.4423961593,
                    -53484.990447976204,
                    -55116.83601816836,
                    -42594.243001932955,
                    -42432.645099662266,
                    -49952.563864247546,
                    -46206.76070917286,
                    -49427.524137026114,
                    -56178.67327005175,
                    -47129.8441634206,
                    -47975.629894303675,
                    -58306.89374121131,
                    -49206.07297923621,
                    -42805.17469366228,
                    -46522.91941975117,
                    -47148.049506652584,
                    -57176.867806106035,
                    -44821.27195537093,
                    -40907.25147798808,
                    -46752.171891149075,
                    -44945.69901444299,
                    -47339.94733410825,
                    -54413.158553524736,
                    -55300.43835611647,
                    -41654.28537091672,
                    -41090.43271162365,
                    -47366.64939309711,
                    -33685.82303783499,
                    -43231.477908798784,
                    -28723.99191956599,
                    -37730.76934060817
                  ],
                  "type": "scatter"
                },
                {
                  "textposition": "top center",
                  "hovertemplate": "Cluster=Cluster 3<br>PCA1=%{x}<br>PCA2=%{y}<br>Feature=%{customdata[0]}",
                  "showlegend": true,
                  "legendgroup": "Cluster=Cluster 3",
                  "name": "Cluster=Cluster 3",
                  "yaxis": "y",
                  "customdata": [
                    [
                      34
                    ],
                    [
                      30
                    ],
                    [
                      35
                    ],
                    [
                      37
                    ],
                    [
                      31
                    ],
                    [
                      29
                    ],
                    [
                      22
                    ],
                    [
                      29
                    ],
                    [
                      39
                    ],
                    [
                      34
                    ],
                    [
                      37
                    ],
                    [
                      31
                    ],
                    [
                      34
                    ],
                    [
                      31
                    ],
                    [
                      33
                    ],
                    [
                      36
                    ],
                    [
                      33
                    ],
                    [
                      29
                    ],
                    [
                      31
                    ],
                    [
                      33
                    ],
                    [
                      29
                    ],
                    [
                      28
                    ],
                    [
                      30
                    ],
                    [
                      28
                    ],
                    [
                      31
                    ],
                    [
                      29
                    ],
                    [
                      32
                    ],
                    [
                      30
                    ],
                    [
                      32
                    ],
                    [
                      32
                    ],
                    [
                      30
                    ],
                    [
                      86
                    ],
                    [
                      85
                    ],
                    [
                      33
                    ],
                    [
                      33
                    ],
                    [
                      36
                    ],
                    [
                      30
                    ],
                    [
                      31
                    ],
                    [
                      31
                    ],
                    [
                      32
                    ],
                    [
                      30
                    ],
                    [
                      29
                    ],
                    [
                      28
                    ],
                    [
                      33
                    ],
                    [
                      28
                    ],
                    [
                      25
                    ],
                    [
                      28
                    ],
                    [
                      35
                    ],
                    [
                      31
                    ],
                    [
                      32
                    ],
                    [
                      31
                    ],
                    [
                      36
                    ],
                    [
                      27
                    ],
                    [
                      84
                    ],
                    [
                      31
                    ],
                    [
                      84
                    ],
                    [
                      34
                    ],
                    [
                      28
                    ],
                    [
                      36
                    ],
                    [
                      31
                    ],
                    [
                      29
                    ],
                    [
                      35
                    ],
                    [
                      30
                    ],
                    [
                      31
                    ],
                    [
                      33
                    ],
                    [
                      37
                    ],
                    [
                      31
                    ],
                    [
                      32
                    ],
                    [
                      33
                    ],
                    [
                      29
                    ],
                    [
                      33
                    ],
                    [
                      37
                    ],
                    [
                      35
                    ],
                    [
                      33
                    ],
                    [
                      37
                    ],
                    [
                      26
                    ],
                    [
                      24
                    ],
                    [
                      36
                    ],
                    [
                      30
                    ],
                    [
                      34
                    ],
                    [
                      36
                    ],
                    [
                      30
                    ],
                    [
                      29
                    ],
                    [
                      34
                    ],
                    [
                      34
                    ],
                    [
                      40
                    ],
                    [
                      42
                    ],
                    [
                      30
                    ],
                    [
                      33
                    ],
                    [
                      34
                    ],
                    [
                      84
                    ],
                    [
                      33
                    ],
                    [
                      28
                    ],
                    [
                      25
                    ],
                    [
                      34
                    ],
                    [
                      44
                    ],
                    [
                      35
                    ],
                    [
                      88
                    ],
                    [
                      36
                    ],
                    [
                      33
                    ],
                    [
                      36
                    ],
                    [
                      31
                    ],
                    [
                      29
                    ],
                    [
                      38
                    ],
                    [
                      36
                    ],
                    [
                      31
                    ],
                    [
                      39
                    ],
                    [
                      38
                    ],
                    [
                      35
                    ],
                    [
                      34
                    ],
                    [
                      37
                    ],
                    [
                      31
                    ],
                    [
                      38
                    ],
                    [
                      43
                    ],
                    [
                      37
                    ],
                    [
                      39
                    ],
                    [
                      38
                    ],
                    [
                      33
                    ],
                    [
                      35
                    ],
                    [
                      37
                    ],
                    [
                      59
                    ],
                    [
                      35
                    ],
                    [
                      31
                    ],
                    [
                      35
                    ],
                    [
                      30
                    ],
                    [
                      31
                    ],
                    [
                      36
                    ],
                    [
                      37
                    ],
                    [
                      37
                    ],
                    [
                      35
                    ]
                  ],
                  "y": [
                    -5484.6746561210975,
                    -4804.203700356798,
                    -6066.457122934575,
                    -7950.137679904537,
                    -4122.472097486011,
                    -4266.4841646878,
                    -6080.299826048202,
                    -4917.675594824385,
                    -6304.286871577942,
                    -5613.714946473869,
                    -4006.8807824041223,
                    -5635.163544619185,
                    -3524.6018820414934,
                    -2897.418110778118,
                    -4507.818852759071,
                    -3130.9505393461013,
                    -3266.6501002799114,
                    -5117.926369906291,
                    -2201.720436215354,
                    -6111.705171395259,
                    -4286.405360287332,
                    -4541.1617119158645,
                    -5737.01421639917,
                    -4857.997302514551,
                    -4085.3878885407776,
                    -4543.481105344733,
                    -4699.391527469763,
                    -5508.945169399093,
                    -7172.3347856199325,
                    -6711.005814772025,
                    -4762.434912619336,
                    -5237.495032301003,
                    -6195.256515402729,
                    -4837.589604607753,
                    -4354.880673536974,
                    -5918.696393593375,
                    -3156.1748677381497,
                    -3401.0815217687764,
                    -6518.877743618622,
                    -4248.410998779929,
                    -3922.329207394541,
                    -5970.659605817778,
                    -4587.056600403994,
                    -5591.430862352508,
                    -5088.608312301609,
                    -6274.3994076764575,
                    -3890.344796261254,
                    -5038.8164407421755,
                    -3681.290385681802,
                    -3863.0068749343045,
                    -6286.356908964103,
                    -5075.678351149005,
                    -4865.004407317278,
                    -4805.682520520938,
                    -6642.233640263946,
                    -7198.063753004439,
                    -4439.122859420631,
                    -4139.053044046937,
                    -4210.491742797322,
                    -3316.87378451985,
                    -2149.152212076622,
                    -4030.4860762357494,
                    -3948.413153701506,
                    -3727.641222685244,
                    -2733.1094851712623,
                    -4346.187741550607,
                    -4164.858385743972,
                    -4008.589012753901,
                    -5195.925409188554,
                    -6415.699536226247,
                    -5198.65174378372,
                    -5377.229021116214,
                    -6422.06500631135,
                    -3288.4642893518326,
                    -5234.914435436245,
                    -5227.97230615995,
                    -5108.281670571711,
                    -4687.764619495447,
                    -5023.038755192272,
                    -1775.6050399833505,
                    -5806.3623666588965,
                    -2672.9112969661514,
                    -5771.827716588528,
                    -5150.746928288213,
                    -3324.816421778015,
                    -5461.1790445209535,
                    -4792.820172444662,
                    -5654.546848389318,
                    -4117.836047019012,
                    -5081.205331963822,
                    -5079.540930731748,
                    -5658.5291473353955,
                    -4400.042331000771,
                    -4647.5150918336985,
                    -4868.312164441828,
                    -4443.1698152763865,
                    -5560.2046796,
                    -8209.639308093876,
                    -5405.192380070509,
                    -2877.1946078768756,
                    -6552.893169384943,
                    -4846.280009746117,
                    -4615.462129870628,
                    -5439.902381792009,
                    -4611.58764836157,
                    -4339.707016425754,
                    -6443.1165674782,
                    -6099.926511675159,
                    -6141.763263553494,
                    -4807.665202226774,
                    -4416.577273256115,
                    -5240.709879901139,
                    -5202.090344164466,
                    -4054.2528418970833,
                    -4397.197322284791,
                    -4720.248925408388,
                    -4683.440281859749,
                    -4653.57255088404,
                    -6491.845916302063,
                    -3634.3413606407375,
                    4253.670268811266,
                    -4542.181472406767,
                    -4194.112454577068,
                    -3786.133642471529,
                    -4387.404636496325,
                    -4575.537648425252,
                    -3378.5440905478677,
                    -5910.595724540101,
                    -4588.664684244311,
                    -5224.554435670842
                  ],
                  "hoverlabel": {
                    "namelength": 0
                  },
                  "mode": "markers",
                  "xaxis": "x",
                  "marker": {
                    "color": "#ab63fa",
                    "opacity": 0.5,
                    "symbol": "circle"
                  },
                  "x": [
                    26507.042872359896,
                    20486.14069594543,
                    32691.869561685715,
                    31960.754514207252,
                    35758.27543553666,
                    26228.37628643617,
                    33345.15627123116,
                    30268.70548126327,
                    24706.128352845142,
                    23196.213306438214,
                    31202.412682476064,
                    31330.343984524752,
                    27758.387575808196,
                    26983.04636427817,
                    25328.06996228165,
                    28639.385002450475,
                    19295.267686809544,
                    23392.942046850563,
                    32345.708428700575,
                    36008.725359122305,
                    26312.372968927506,
                    25474.40276379726,
                    22224.556143435264,
                    23858.5982400234,
                    23748.67781545403,
                    35711.07999432943,
                    19785.99439327466,
                    32149.921292682855,
                    26023.56635140614,
                    32572.750272366167,
                    30614.16577855354,
                    39941.237375096156,
                    35579.20581580636,
                    31361.085267799124,
                    31045.220255678763,
                    23967.006087975613,
                    24294.808478346316,
                    32307.936729140918,
                    25363.9192267204,
                    30836.978307627425,
                    25376.693266073136,
                    27412.691405421207,
                    19017.169464917482,
                    40849.48059769062,
                    24827.97878054595,
                    30950.101839682367,
                    36260.399857073855,
                    34360.48180735056,
                    32322.90855312245,
                    26343.67867390245,
                    29210.556946439672,
                    34060.87750047383,
                    31016.952770667845,
                    39513.27355543246,
                    40419.576695104144,
                    38543.62512292874,
                    23022.218263126637,
                    33379.420584689076,
                    29861.546669621443,
                    32416.939873895524,
                    15764.491431415807,
                    37194.902279074166,
                    31614.442565419064,
                    30148.682673916064,
                    30046.489080926036,
                    22105.03459107824,
                    35187.910534684626,
                    34753.148485730795,
                    22258.608668569883,
                    35036.71585548718,
                    30584.12461511323,
                    34830.866037353575,
                    41298.63129283505,
                    24613.751980326106,
                    21900.785300032745,
                    21973.307950443803,
                    34815.25492053803,
                    26071.981181359228,
                    26298.148410246697,
                    14006.00096536538,
                    32210.979768642395,
                    31911.00123936631,
                    40673.85964432744,
                    22393.41773018011,
                    28627.259856400287,
                    23032.680124651255,
                    31253.468530449416,
                    32797.64366935491,
                    38869.64945267169,
                    31502.360342968204,
                    34834.90179466002,
                    32561.02536006328,
                    22236.16947437225,
                    25765.79004232834,
                    27456.913266673087,
                    38938.11813871435,
                    30806.776341952776,
                    38847.16976776086,
                    22350.76981632155,
                    16918.676201100105,
                    33203.84256888802,
                    25732.344972190538,
                    36813.76713420393,
                    28960.63496494676,
                    20592.34661300775,
                    39135.37622313005,
                    24819.36094949774,
                    18943.372817813015,
                    31317.298064553695,
                    35572.71538685354,
                    35023.21627080027,
                    29240.50974864808,
                    39399.40138181148,
                    25938.05049675624,
                    30949.636901997925,
                    23470.84703332801,
                    37939.71700891235,
                    23896.368807904066,
                    30155.33415963697,
                    32289.54020716664,
                    15177.319714667687,
                    26578.15319626617,
                    28681.549887585734,
                    26003.522431925605,
                    33217.926610948074,
                    37228.734745200665,
                    24491.388898644716,
                    32853.06228369525,
                    32912.892063315834,
                    28912.895136199924
                  ],
                  "type": "scatter"
                }
              ],
              "config": {
                "plotlyServerURL": "https://plot.ly"
              },
              "layout": {
                "xaxis": {
                  "domain": [
                    0,
                    1
                  ],
                  "anchor": "y",
                  "title": {
                    "text": "PCA1"
                  }
                },
                "title": {
                  "text": "2D Cluster PCA Plot"
                },
                "plot_bgcolor": "rgb(240,240,240)",
                "yaxis": {
                  "domain": [
                    0,
                    1
                  ],
                  "anchor": "x",
                  "title": {
                    "text": "PCA2"
                  }
                },
                "height": 600,
                "template": {
                  "layout": {
                    "shapedefaults": {
                      "line": {
                        "color": "#2a3f5f"
                      }
                    },
                    "polar": {
                      "radialaxis": {
                        "ticks": "",
                        "gridcolor": "white",
                        "linecolor": "white"
                      },
                      "bgcolor": "#E5ECF6",
                      "angularaxis": {
                        "ticks": "",
                        "gridcolor": "white",
                        "linecolor": "white"
                      }
                    },
                    "colorway": [
                      "#636efa",
                      "#EF553B",
                      "#00cc96",
                      "#ab63fa",
                      "#FFA15A",
                      "#19d3f3",
                      "#FF6692",
                      "#B6E880",
                      "#FF97FF",
                      "#FECB52"
                    ],
                    "xaxis": {
                      "automargin": true,
                      "title": {
                        "standoff": 15
                      },
                      "zerolinewidth": 2,
                      "ticks": "",
                      "zerolinecolor": "white",
                      "gridcolor": "white",
                      "linecolor": "white"
                    },
                    "colorscale": {
                      "diverging": [
                        [
                          0,
                          "#8e0152"
                        ],
                        [
                          0.1,
                          "#c51b7d"
                        ],
                        [
                          0.2,
                          "#de77ae"
                        ],
                        [
                          0.3,
                          "#f1b6da"
                        ],
                        [
                          0.4,
                          "#fde0ef"
                        ],
                        [
                          0.5,
                          "#f7f7f7"
                        ],
                        [
                          0.6,
                          "#e6f5d0"
                        ],
                        [
                          0.7,
                          "#b8e186"
                        ],
                        [
                          0.8,
                          "#7fbc41"
                        ],
                        [
                          0.9,
                          "#4d9221"
                        ],
                        [
                          1,
                          "#276419"
                        ]
                      ],
                      "sequential": [
                        [
                          0,
                          "#0d0887"
                        ],
                        [
                          0.1111111111111111,
                          "#46039f"
                        ],
                        [
                          0.2222222222222222,
                          "#7201a8"
                        ],
                        [
                          0.3333333333333333,
                          "#9c179e"
                        ],
                        [
                          0.4444444444444444,
                          "#bd3786"
                        ],
                        [
                          0.5555555555555556,
                          "#d8576b"
                        ],
                        [
                          0.6666666666666666,
                          "#ed7953"
                        ],
                        [
                          0.7777777777777778,
                          "#fb9f3a"
                        ],
                        [
                          0.8888888888888888,
                          "#fdca26"
                        ],
                        [
                          1,
                          "#f0f921"
                        ]
                      ],
                      "sequentialminus": [
                        [
                          0,
                          "#0d0887"
                        ],
                        [
                          0.1111111111111111,
                          "#46039f"
                        ],
                        [
                          0.2222222222222222,
                          "#7201a8"
                        ],
                        [
                          0.3333333333333333,
                          "#9c179e"
                        ],
                        [
                          0.4444444444444444,
                          "#bd3786"
                        ],
                        [
                          0.5555555555555556,
                          "#d8576b"
                        ],
                        [
                          0.6666666666666666,
                          "#ed7953"
                        ],
                        [
                          0.7777777777777778,
                          "#fb9f3a"
                        ],
                        [
                          0.8888888888888888,
                          "#fdca26"
                        ],
                        [
                          1,
                          "#f0f921"
                        ]
                      ]
                    },
                    "paper_bgcolor": "white",
                    "plot_bgcolor": "#E5ECF6",
                    "title": {
                      "x": 0.05
                    },
                    "scene": {
                      "zaxis": {
                        "backgroundcolor": "#E5ECF6",
                        "ticks": "",
                        "gridwidth": 2,
                        "showbackground": true,
                        "zerolinecolor": "white",
                        "gridcolor": "white",
                        "linecolor": "white"
                      },
                      "xaxis": {
                        "backgroundcolor": "#E5ECF6",
                        "ticks": "",
                        "gridwidth": 2,
                        "showbackground": true,
                        "zerolinecolor": "white",
                        "gridcolor": "white",
                        "linecolor": "white"
                      },
                      "yaxis": {
                        "backgroundcolor": "#E5ECF6",
                        "ticks": "",
                        "gridwidth": 2,
                        "showbackground": true,
                        "zerolinecolor": "white",
                        "gridcolor": "white",
                        "linecolor": "white"
                      }
                    },
                    "yaxis": {
                      "automargin": true,
                      "title": {
                        "standoff": 15
                      },
                      "zerolinewidth": 2,
                      "ticks": "",
                      "zerolinecolor": "white",
                      "gridcolor": "white",
                      "linecolor": "white"
                    },
                    "annotationdefaults": {
                      "arrowwidth": 1,
                      "arrowhead": 0,
                      "arrowcolor": "#2a3f5f"
                    },
                    "hoverlabel": {
                      "align": "left"
                    },
                    "ternary": {
                      "bgcolor": "#E5ECF6",
                      "baxis": {
                        "ticks": "",
                        "gridcolor": "white",
                        "linecolor": "white"
                      },
                      "caxis": {
                        "ticks": "",
                        "gridcolor": "white",
                        "linecolor": "white"
                      },
                      "aaxis": {
                        "ticks": "",
                        "gridcolor": "white",
                        "linecolor": "white"
                      }
                    },
                    "mapbox": {
                      "style": "light"
                    },
                    "hovermode": "closest",
                    "font": {
                      "color": "#2a3f5f"
                    },
                    "geo": {
                      "showland": true,
                      "landcolor": "#E5ECF6",
                      "showlakes": true,
                      "bgcolor": "white",
                      "subunitcolor": "white",
                      "lakecolor": "white"
                    },
                    "coloraxis": {
                      "colorbar": {
                        "outlinewidth": 0,
                        "ticks": ""
                      }
                    }
                  },
                  "data": {
                    "mesh3d": [
                      {
                        "colorbar": {
                          "outlinewidth": 0,
                          "ticks": ""
                        },
                        "type": "mesh3d"
                      }
                    ],
                    "scattercarpet": [
                      {
                        "marker": {
                          "colorbar": {
                            "outlinewidth": 0,
                            "ticks": ""
                          }
                        },
                        "type": "scattercarpet"
                      }
                    ],
                    "pie": [
                      {
                        "automargin": true,
                        "type": "pie"
                      }
                    ],
                    "surface": [
                      {
                        "colorbar": {
                          "outlinewidth": 0,
                          "ticks": ""
                        },
                        "type": "surface",
                        "colorscale": [
                          [
                            0,
                            "#0d0887"
                          ],
                          [
                            0.1111111111111111,
                            "#46039f"
                          ],
                          [
                            0.2222222222222222,
                            "#7201a8"
                          ],
                          [
                            0.3333333333333333,
                            "#9c179e"
                          ],
                          [
                            0.4444444444444444,
                            "#bd3786"
                          ],
                          [
                            0.5555555555555556,
                            "#d8576b"
                          ],
                          [
                            0.6666666666666666,
                            "#ed7953"
                          ],
                          [
                            0.7777777777777778,
                            "#fb9f3a"
                          ],
                          [
                            0.8888888888888888,
                            "#fdca26"
                          ],
                          [
                            1,
                            "#f0f921"
                          ]
                        ]
                      }
                    ],
                    "table": [
                      {
                        "header": {
                          "line": {
                            "color": "white"
                          },
                          "fill": {
                            "color": "#C8D4E3"
                          }
                        },
                        "cells": {
                          "line": {
                            "color": "white"
                          },
                          "fill": {
                            "color": "#EBF0F8"
                          }
                        },
                        "type": "table"
                      }
                    ],
                    "scatterpolargl": [
                      {
                        "marker": {
                          "colorbar": {
                            "outlinewidth": 0,
                            "ticks": ""
                          }
                        },
                        "type": "scatterpolargl"
                      }
                    ],
                    "contour": [
                      {
                        "colorbar": {
                          "outlinewidth": 0,
                          "ticks": ""
                        },
                        "type": "contour",
                        "colorscale": [
                          [
                            0,
                            "#0d0887"
                          ],
                          [
                            0.1111111111111111,
                            "#46039f"
                          ],
                          [
                            0.2222222222222222,
                            "#7201a8"
                          ],
                          [
                            0.3333333333333333,
                            "#9c179e"
                          ],
                          [
                            0.4444444444444444,
                            "#bd3786"
                          ],
                          [
                            0.5555555555555556,
                            "#d8576b"
                          ],
                          [
                            0.6666666666666666,
                            "#ed7953"
                          ],
                          [
                            0.7777777777777778,
                            "#fb9f3a"
                          ],
                          [
                            0.8888888888888888,
                            "#fdca26"
                          ],
                          [
                            1,
                            "#f0f921"
                          ]
                        ]
                      }
                    ],
                    "carpet": [
                      {
                        "type": "carpet",
                        "baxis": {
                          "minorgridcolor": "white",
                          "gridcolor": "white",
                          "linecolor": "white",
                          "endlinecolor": "#2a3f5f",
                          "startlinecolor": "#2a3f5f"
                        },
                        "aaxis": {
                          "minorgridcolor": "white",
                          "gridcolor": "white",
                          "linecolor": "white",
                          "endlinecolor": "#2a3f5f",
                          "startlinecolor": "#2a3f5f"
                        }
                      }
                    ],
                    "contourcarpet": [
                      {
                        "colorbar": {
                          "outlinewidth": 0,
                          "ticks": ""
                        },
                        "type": "contourcarpet"
                      }
                    ],
                    "heatmap": [
                      {
                        "colorbar": {
                          "outlinewidth": 0,
                          "ticks": ""
                        },
                        "type": "heatmap",
                        "colorscale": [
                          [
                            0,
                            "#0d0887"
                          ],
                          [
                            0.1111111111111111,
                            "#46039f"
                          ],
                          [
                            0.2222222222222222,
                            "#7201a8"
                          ],
                          [
                            0.3333333333333333,
                            "#9c179e"
                          ],
                          [
                            0.4444444444444444,
                            "#bd3786"
                          ],
                          [
                            0.5555555555555556,
                            "#d8576b"
                          ],
                          [
                            0.6666666666666666,
                            "#ed7953"
                          ],
                          [
                            0.7777777777777778,
                            "#fb9f3a"
                          ],
                          [
                            0.8888888888888888,
                            "#fdca26"
                          ],
                          [
                            1,
                            "#f0f921"
                          ]
                        ]
                      }
                    ],
                    "scattermapbox": [
                      {
                        "marker": {
                          "colorbar": {
                            "outlinewidth": 0,
                            "ticks": ""
                          }
                        },
                        "type": "scattermapbox"
                      }
                    ],
                    "scatter3d": [
                      {
                        "marker": {
                          "colorbar": {
                            "outlinewidth": 0,
                            "ticks": ""
                          }
                        },
                        "line": {
                          "colorbar": {
                            "outlinewidth": 0,
                            "ticks": ""
                          }
                        },
                        "type": "scatter3d"
                      }
                    ],
                    "scattergl": [
                      {
                        "marker": {
                          "colorbar": {
                            "outlinewidth": 0,
                            "ticks": ""
                          }
                        },
                        "type": "scattergl"
                      }
                    ],
                    "scatterternary": [
                      {
                        "marker": {
                          "colorbar": {
                            "outlinewidth": 0,
                            "ticks": ""
                          }
                        },
                        "type": "scatterternary"
                      }
                    ],
                    "histogram": [
                      {
                        "marker": {
                          "colorbar": {
                            "outlinewidth": 0,
                            "ticks": ""
                          }
                        },
                        "type": "histogram"
                      }
                    ],
                    "heatmapgl": [
                      {
                        "colorbar": {
                          "outlinewidth": 0,
                          "ticks": ""
                        },
                        "type": "heatmapgl",
                        "colorscale": [
                          [
                            0,
                            "#0d0887"
                          ],
                          [
                            0.1111111111111111,
                            "#46039f"
                          ],
                          [
                            0.2222222222222222,
                            "#7201a8"
                          ],
                          [
                            0.3333333333333333,
                            "#9c179e"
                          ],
                          [
                            0.4444444444444444,
                            "#bd3786"
                          ],
                          [
                            0.5555555555555556,
                            "#d8576b"
                          ],
                          [
                            0.6666666666666666,
                            "#ed7953"
                          ],
                          [
                            0.7777777777777778,
                            "#fb9f3a"
                          ],
                          [
                            0.8888888888888888,
                            "#fdca26"
                          ],
                          [
                            1,
                            "#f0f921"
                          ]
                        ]
                      }
                    ],
                    "scatterpolar": [
                      {
                        "marker": {
                          "colorbar": {
                            "outlinewidth": 0,
                            "ticks": ""
                          }
                        },
                        "type": "scatterpolar"
                      }
                    ],
                    "histogram2d": [
                      {
                        "colorbar": {
                          "outlinewidth": 0,
                          "ticks": ""
                        },
                        "type": "histogram2d",
                        "colorscale": [
                          [
                            0,
                            "#0d0887"
                          ],
                          [
                            0.1111111111111111,
                            "#46039f"
                          ],
                          [
                            0.2222222222222222,
                            "#7201a8"
                          ],
                          [
                            0.3333333333333333,
                            "#9c179e"
                          ],
                          [
                            0.4444444444444444,
                            "#bd3786"
                          ],
                          [
                            0.5555555555555556,
                            "#d8576b"
                          ],
                          [
                            0.6666666666666666,
                            "#ed7953"
                          ],
                          [
                            0.7777777777777778,
                            "#fb9f3a"
                          ],
                          [
                            0.8888888888888888,
                            "#fdca26"
                          ],
                          [
                            1,
                            "#f0f921"
                          ]
                        ]
                      }
                    ],
                    "scattergeo": [
                      {
                        "marker": {
                          "colorbar": {
                            "outlinewidth": 0,
                            "ticks": ""
                          }
                        },
                        "type": "scattergeo"
                      }
                    ],
                    "bar": [
                      {
                        "marker": {
                          "line": {
                            "color": "#E5ECF6",
                            "width": 0.5
                          }
                        },
                        "type": "bar",
                        "error_x": {
                          "color": "#2a3f5f"
                        },
                        "error_y": {
                          "color": "#2a3f5f"
                        }
                      }
                    ],
                    "choropleth": [
                      {
                        "colorbar": {
                          "outlinewidth": 0,
                          "ticks": ""
                        },
                        "type": "choropleth"
                      }
                    ],
                    "parcoords": [
                      {
                        "line": {
                          "colorbar": {
                            "outlinewidth": 0,
                            "ticks": ""
                          }
                        },
                        "type": "parcoords"
                      }
                    ],
                    "barpolar": [
                      {
                        "marker": {
                          "line": {
                            "color": "#E5ECF6",
                            "width": 0.5
                          }
                        },
                        "type": "barpolar"
                      }
                    ],
                    "histogram2dcontour": [
                      {
                        "colorbar": {
                          "outlinewidth": 0,
                          "ticks": ""
                        },
                        "type": "histogram2dcontour",
                        "colorscale": [
                          [
                            0,
                            "#0d0887"
                          ],
                          [
                            0.1111111111111111,
                            "#46039f"
                          ],
                          [
                            0.2222222222222222,
                            "#7201a8"
                          ],
                          [
                            0.3333333333333333,
                            "#9c179e"
                          ],
                          [
                            0.4444444444444444,
                            "#bd3786"
                          ],
                          [
                            0.5555555555555556,
                            "#d8576b"
                          ],
                          [
                            0.6666666666666666,
                            "#ed7953"
                          ],
                          [
                            0.7777777777777778,
                            "#fb9f3a"
                          ],
                          [
                            0.8888888888888888,
                            "#fdca26"
                          ],
                          [
                            1,
                            "#f0f921"
                          ]
                        ]
                      }
                    ],
                    "scatter": [
                      {
                        "marker": {
                          "colorbar": {
                            "outlinewidth": 0,
                            "ticks": ""
                          }
                        },
                        "type": "scatter"
                      }
                    ]
                  }
                },
                "margin": {
                  "t": 60
                },
                "legend": {
                  "tracegroupgap": 0
                }
              }
            }
          },
          "metadata": {
            "tags": []
          }
        }
      ]
    },
    {
      "cell_type": "markdown",
      "metadata": {
        "id": "aEcn1YdJTk0a"
      },
      "source": [
        "Data Preprocessing"
      ]
    },
    {
      "cell_type": "code",
      "metadata": {
        "id": "bQMR9-IVQsC8",
        "outputId": "0c885fad-5b63-4f10-9eff-10263f771a1f",
        "colab": {
          "base_uri": "https://localhost:8080/",
          "height": 241
        }
      },
      "source": [
        "hepatitis=get_data('hepatitis')"
      ],
      "execution_count": 28,
      "outputs": [
        {
          "output_type": "display_data",
          "data": {
            "text/html": [
              "<div>\n",
              "<style scoped>\n",
              "    .dataframe tbody tr th:only-of-type {\n",
              "        vertical-align: middle;\n",
              "    }\n",
              "\n",
              "    .dataframe tbody tr th {\n",
              "        vertical-align: top;\n",
              "    }\n",
              "\n",
              "    .dataframe thead th {\n",
              "        text-align: right;\n",
              "    }\n",
              "</style>\n",
              "<table border=\"1\" class=\"dataframe\">\n",
              "  <thead>\n",
              "    <tr style=\"text-align: right;\">\n",
              "      <th></th>\n",
              "      <th>Class</th>\n",
              "      <th>AGE</th>\n",
              "      <th>SEX</th>\n",
              "      <th>STEROID</th>\n",
              "      <th>ANTIVIRALS</th>\n",
              "      <th>FATIGUE</th>\n",
              "      <th>MALAISE</th>\n",
              "      <th>ANOREXIA</th>\n",
              "      <th>LIVER BIG</th>\n",
              "      <th>LIVER FIRM</th>\n",
              "      <th>SPLEEN PALPABLE</th>\n",
              "      <th>SPIDERS</th>\n",
              "      <th>ASCITES</th>\n",
              "      <th>VARICES</th>\n",
              "      <th>BILIRUBIN</th>\n",
              "      <th>ALK PHOSPHATE</th>\n",
              "      <th>SGOT</th>\n",
              "      <th>ALBUMIN</th>\n",
              "      <th>PROTIME</th>\n",
              "      <th>HISTOLOGY</th>\n",
              "    </tr>\n",
              "  </thead>\n",
              "  <tbody>\n",
              "    <tr>\n",
              "      <th>0</th>\n",
              "      <td>0</td>\n",
              "      <td>30</td>\n",
              "      <td>2</td>\n",
              "      <td>1.0</td>\n",
              "      <td>2</td>\n",
              "      <td>2</td>\n",
              "      <td>2</td>\n",
              "      <td>2</td>\n",
              "      <td>1.0</td>\n",
              "      <td>2.0</td>\n",
              "      <td>2.0</td>\n",
              "      <td>2.0</td>\n",
              "      <td>2.0</td>\n",
              "      <td>2.0</td>\n",
              "      <td>1.0</td>\n",
              "      <td>85.0</td>\n",
              "      <td>18.0</td>\n",
              "      <td>4.0</td>\n",
              "      <td>NaN</td>\n",
              "      <td>1</td>\n",
              "    </tr>\n",
              "    <tr>\n",
              "      <th>1</th>\n",
              "      <td>0</td>\n",
              "      <td>50</td>\n",
              "      <td>1</td>\n",
              "      <td>1.0</td>\n",
              "      <td>2</td>\n",
              "      <td>1</td>\n",
              "      <td>2</td>\n",
              "      <td>2</td>\n",
              "      <td>1.0</td>\n",
              "      <td>2.0</td>\n",
              "      <td>2.0</td>\n",
              "      <td>2.0</td>\n",
              "      <td>2.0</td>\n",
              "      <td>2.0</td>\n",
              "      <td>0.9</td>\n",
              "      <td>135.0</td>\n",
              "      <td>42.0</td>\n",
              "      <td>3.5</td>\n",
              "      <td>NaN</td>\n",
              "      <td>1</td>\n",
              "    </tr>\n",
              "    <tr>\n",
              "      <th>2</th>\n",
              "      <td>0</td>\n",
              "      <td>78</td>\n",
              "      <td>1</td>\n",
              "      <td>2.0</td>\n",
              "      <td>2</td>\n",
              "      <td>1</td>\n",
              "      <td>2</td>\n",
              "      <td>2</td>\n",
              "      <td>2.0</td>\n",
              "      <td>2.0</td>\n",
              "      <td>2.0</td>\n",
              "      <td>2.0</td>\n",
              "      <td>2.0</td>\n",
              "      <td>2.0</td>\n",
              "      <td>0.7</td>\n",
              "      <td>96.0</td>\n",
              "      <td>32.0</td>\n",
              "      <td>4.0</td>\n",
              "      <td>NaN</td>\n",
              "      <td>1</td>\n",
              "    </tr>\n",
              "    <tr>\n",
              "      <th>3</th>\n",
              "      <td>0</td>\n",
              "      <td>31</td>\n",
              "      <td>1</td>\n",
              "      <td>NaN</td>\n",
              "      <td>1</td>\n",
              "      <td>2</td>\n",
              "      <td>2</td>\n",
              "      <td>2</td>\n",
              "      <td>2.0</td>\n",
              "      <td>2.0</td>\n",
              "      <td>2.0</td>\n",
              "      <td>2.0</td>\n",
              "      <td>2.0</td>\n",
              "      <td>2.0</td>\n",
              "      <td>0.7</td>\n",
              "      <td>46.0</td>\n",
              "      <td>52.0</td>\n",
              "      <td>4.0</td>\n",
              "      <td>80.0</td>\n",
              "      <td>1</td>\n",
              "    </tr>\n",
              "    <tr>\n",
              "      <th>4</th>\n",
              "      <td>0</td>\n",
              "      <td>34</td>\n",
              "      <td>1</td>\n",
              "      <td>2.0</td>\n",
              "      <td>2</td>\n",
              "      <td>2</td>\n",
              "      <td>2</td>\n",
              "      <td>2</td>\n",
              "      <td>2.0</td>\n",
              "      <td>2.0</td>\n",
              "      <td>2.0</td>\n",
              "      <td>2.0</td>\n",
              "      <td>2.0</td>\n",
              "      <td>2.0</td>\n",
              "      <td>1.0</td>\n",
              "      <td>NaN</td>\n",
              "      <td>200.0</td>\n",
              "      <td>4.0</td>\n",
              "      <td>NaN</td>\n",
              "      <td>1</td>\n",
              "    </tr>\n",
              "  </tbody>\n",
              "</table>\n",
              "</div>"
            ],
            "text/plain": [
              "   Class  AGE  SEX  STEROID  ...   SGOT  ALBUMIN  PROTIME  HISTOLOGY\n",
              "0      0   30    2      1.0  ...   18.0      4.0      NaN          1\n",
              "1      0   50    1      1.0  ...   42.0      3.5      NaN          1\n",
              "2      0   78    1      2.0  ...   32.0      4.0      NaN          1\n",
              "3      0   31    1      NaN  ...   52.0      4.0     80.0          1\n",
              "4      0   34    1      2.0  ...  200.0      4.0      NaN          1\n",
              "\n",
              "[5 rows x 20 columns]"
            ]
          },
          "metadata": {
            "tags": []
          }
        }
      ]
    },
    {
      "cell_type": "code",
      "metadata": {
        "id": "PNpDlikKTrAs"
      },
      "source": [
        "from pycaret.classification import *"
      ],
      "execution_count": 29,
      "outputs": []
    },
    {
      "cell_type": "code",
      "metadata": {
        "id": "C7xt4gvw6YPw",
        "outputId": "2760fe9e-ad36-42f2-f311-06f54dbf0c7d",
        "colab": {
          "base_uri": "https://localhost:8080/",
          "height": 981,
          "referenced_widgets": [
            "aea50799966d4875830c7d6e47ffb7e9",
            "8728fb4f02d94c09a1d20cceb29df4e4",
            "03b558f6dfe1489585718fa48bfd9c94",
            "28921fdc24b54b5394156955420f8923",
            "9d1baa7ff7d54ea186ff078342cef6ae",
            "03964129975646c8a260b42755d00cc1"
          ]
        }
      },
      "source": [
        "clf=setup(data=hepatitis,target='Class')"
      ],
      "execution_count": 31,
      "outputs": [
        {
          "output_type": "stream",
          "text": [
            "Setup Succesfully Completed!\n"
          ],
          "name": "stdout"
        },
        {
          "output_type": "display_data",
          "data": {
            "text/html": [
              "<style  type=\"text/css\" >\n",
              "#T_67a04434_0e39_11eb_880e_0242ac1c0002row4_col1{\n",
              "            background-color:  lightgreen;\n",
              "        }</style><table id=\"T_67a04434_0e39_11eb_880e_0242ac1c0002\" ><thead>    <tr>        <th class=\"blank level0\" ></th>        <th class=\"col_heading level0 col0\" >Description</th>        <th class=\"col_heading level0 col1\" >Value</th>    </tr></thead><tbody>\n",
              "                <tr>\n",
              "                        <th id=\"T_67a04434_0e39_11eb_880e_0242ac1c0002level0_row0\" class=\"row_heading level0 row0\" >0</th>\n",
              "                        <td id=\"T_67a04434_0e39_11eb_880e_0242ac1c0002row0_col0\" class=\"data row0 col0\" >session_id</td>\n",
              "                        <td id=\"T_67a04434_0e39_11eb_880e_0242ac1c0002row0_col1\" class=\"data row0 col1\" >5508</td>\n",
              "            </tr>\n",
              "            <tr>\n",
              "                        <th id=\"T_67a04434_0e39_11eb_880e_0242ac1c0002level0_row1\" class=\"row_heading level0 row1\" >1</th>\n",
              "                        <td id=\"T_67a04434_0e39_11eb_880e_0242ac1c0002row1_col0\" class=\"data row1 col0\" >Target Type</td>\n",
              "                        <td id=\"T_67a04434_0e39_11eb_880e_0242ac1c0002row1_col1\" class=\"data row1 col1\" >Binary</td>\n",
              "            </tr>\n",
              "            <tr>\n",
              "                        <th id=\"T_67a04434_0e39_11eb_880e_0242ac1c0002level0_row2\" class=\"row_heading level0 row2\" >2</th>\n",
              "                        <td id=\"T_67a04434_0e39_11eb_880e_0242ac1c0002row2_col0\" class=\"data row2 col0\" >Label Encoded</td>\n",
              "                        <td id=\"T_67a04434_0e39_11eb_880e_0242ac1c0002row2_col1\" class=\"data row2 col1\" >0: 0, 1: 1</td>\n",
              "            </tr>\n",
              "            <tr>\n",
              "                        <th id=\"T_67a04434_0e39_11eb_880e_0242ac1c0002level0_row3\" class=\"row_heading level0 row3\" >3</th>\n",
              "                        <td id=\"T_67a04434_0e39_11eb_880e_0242ac1c0002row3_col0\" class=\"data row3 col0\" >Original Data</td>\n",
              "                        <td id=\"T_67a04434_0e39_11eb_880e_0242ac1c0002row3_col1\" class=\"data row3 col1\" >(154, 20)</td>\n",
              "            </tr>\n",
              "            <tr>\n",
              "                        <th id=\"T_67a04434_0e39_11eb_880e_0242ac1c0002level0_row4\" class=\"row_heading level0 row4\" >4</th>\n",
              "                        <td id=\"T_67a04434_0e39_11eb_880e_0242ac1c0002row4_col0\" class=\"data row4 col0\" >Missing Values </td>\n",
              "                        <td id=\"T_67a04434_0e39_11eb_880e_0242ac1c0002row4_col1\" class=\"data row4 col1\" >True</td>\n",
              "            </tr>\n",
              "            <tr>\n",
              "                        <th id=\"T_67a04434_0e39_11eb_880e_0242ac1c0002level0_row5\" class=\"row_heading level0 row5\" >5</th>\n",
              "                        <td id=\"T_67a04434_0e39_11eb_880e_0242ac1c0002row5_col0\" class=\"data row5 col0\" >Numeric Features </td>\n",
              "                        <td id=\"T_67a04434_0e39_11eb_880e_0242ac1c0002row5_col1\" class=\"data row5 col1\" >6</td>\n",
              "            </tr>\n",
              "            <tr>\n",
              "                        <th id=\"T_67a04434_0e39_11eb_880e_0242ac1c0002level0_row6\" class=\"row_heading level0 row6\" >6</th>\n",
              "                        <td id=\"T_67a04434_0e39_11eb_880e_0242ac1c0002row6_col0\" class=\"data row6 col0\" >Categorical Features </td>\n",
              "                        <td id=\"T_67a04434_0e39_11eb_880e_0242ac1c0002row6_col1\" class=\"data row6 col1\" >13</td>\n",
              "            </tr>\n",
              "            <tr>\n",
              "                        <th id=\"T_67a04434_0e39_11eb_880e_0242ac1c0002level0_row7\" class=\"row_heading level0 row7\" >7</th>\n",
              "                        <td id=\"T_67a04434_0e39_11eb_880e_0242ac1c0002row7_col0\" class=\"data row7 col0\" >Ordinal Features </td>\n",
              "                        <td id=\"T_67a04434_0e39_11eb_880e_0242ac1c0002row7_col1\" class=\"data row7 col1\" >False</td>\n",
              "            </tr>\n",
              "            <tr>\n",
              "                        <th id=\"T_67a04434_0e39_11eb_880e_0242ac1c0002level0_row8\" class=\"row_heading level0 row8\" >8</th>\n",
              "                        <td id=\"T_67a04434_0e39_11eb_880e_0242ac1c0002row8_col0\" class=\"data row8 col0\" >High Cardinality Features </td>\n",
              "                        <td id=\"T_67a04434_0e39_11eb_880e_0242ac1c0002row8_col1\" class=\"data row8 col1\" >False</td>\n",
              "            </tr>\n",
              "            <tr>\n",
              "                        <th id=\"T_67a04434_0e39_11eb_880e_0242ac1c0002level0_row9\" class=\"row_heading level0 row9\" >9</th>\n",
              "                        <td id=\"T_67a04434_0e39_11eb_880e_0242ac1c0002row9_col0\" class=\"data row9 col0\" >High Cardinality Method </td>\n",
              "                        <td id=\"T_67a04434_0e39_11eb_880e_0242ac1c0002row9_col1\" class=\"data row9 col1\" >None</td>\n",
              "            </tr>\n",
              "            <tr>\n",
              "                        <th id=\"T_67a04434_0e39_11eb_880e_0242ac1c0002level0_row10\" class=\"row_heading level0 row10\" >10</th>\n",
              "                        <td id=\"T_67a04434_0e39_11eb_880e_0242ac1c0002row10_col0\" class=\"data row10 col0\" >Sampled Data</td>\n",
              "                        <td id=\"T_67a04434_0e39_11eb_880e_0242ac1c0002row10_col1\" class=\"data row10 col1\" >(154, 20)</td>\n",
              "            </tr>\n",
              "            <tr>\n",
              "                        <th id=\"T_67a04434_0e39_11eb_880e_0242ac1c0002level0_row11\" class=\"row_heading level0 row11\" >11</th>\n",
              "                        <td id=\"T_67a04434_0e39_11eb_880e_0242ac1c0002row11_col0\" class=\"data row11 col0\" >Transformed Train Set</td>\n",
              "                        <td id=\"T_67a04434_0e39_11eb_880e_0242ac1c0002row11_col1\" class=\"data row11 col1\" >(107, 39)</td>\n",
              "            </tr>\n",
              "            <tr>\n",
              "                        <th id=\"T_67a04434_0e39_11eb_880e_0242ac1c0002level0_row12\" class=\"row_heading level0 row12\" >12</th>\n",
              "                        <td id=\"T_67a04434_0e39_11eb_880e_0242ac1c0002row12_col0\" class=\"data row12 col0\" >Transformed Test Set</td>\n",
              "                        <td id=\"T_67a04434_0e39_11eb_880e_0242ac1c0002row12_col1\" class=\"data row12 col1\" >(47, 39)</td>\n",
              "            </tr>\n",
              "            <tr>\n",
              "                        <th id=\"T_67a04434_0e39_11eb_880e_0242ac1c0002level0_row13\" class=\"row_heading level0 row13\" >13</th>\n",
              "                        <td id=\"T_67a04434_0e39_11eb_880e_0242ac1c0002row13_col0\" class=\"data row13 col0\" >Numeric Imputer </td>\n",
              "                        <td id=\"T_67a04434_0e39_11eb_880e_0242ac1c0002row13_col1\" class=\"data row13 col1\" >mean</td>\n",
              "            </tr>\n",
              "            <tr>\n",
              "                        <th id=\"T_67a04434_0e39_11eb_880e_0242ac1c0002level0_row14\" class=\"row_heading level0 row14\" >14</th>\n",
              "                        <td id=\"T_67a04434_0e39_11eb_880e_0242ac1c0002row14_col0\" class=\"data row14 col0\" >Categorical Imputer </td>\n",
              "                        <td id=\"T_67a04434_0e39_11eb_880e_0242ac1c0002row14_col1\" class=\"data row14 col1\" >constant</td>\n",
              "            </tr>\n",
              "            <tr>\n",
              "                        <th id=\"T_67a04434_0e39_11eb_880e_0242ac1c0002level0_row15\" class=\"row_heading level0 row15\" >15</th>\n",
              "                        <td id=\"T_67a04434_0e39_11eb_880e_0242ac1c0002row15_col0\" class=\"data row15 col0\" >Normalize </td>\n",
              "                        <td id=\"T_67a04434_0e39_11eb_880e_0242ac1c0002row15_col1\" class=\"data row15 col1\" >False</td>\n",
              "            </tr>\n",
              "            <tr>\n",
              "                        <th id=\"T_67a04434_0e39_11eb_880e_0242ac1c0002level0_row16\" class=\"row_heading level0 row16\" >16</th>\n",
              "                        <td id=\"T_67a04434_0e39_11eb_880e_0242ac1c0002row16_col0\" class=\"data row16 col0\" >Normalize Method </td>\n",
              "                        <td id=\"T_67a04434_0e39_11eb_880e_0242ac1c0002row16_col1\" class=\"data row16 col1\" >None</td>\n",
              "            </tr>\n",
              "            <tr>\n",
              "                        <th id=\"T_67a04434_0e39_11eb_880e_0242ac1c0002level0_row17\" class=\"row_heading level0 row17\" >17</th>\n",
              "                        <td id=\"T_67a04434_0e39_11eb_880e_0242ac1c0002row17_col0\" class=\"data row17 col0\" >Transformation </td>\n",
              "                        <td id=\"T_67a04434_0e39_11eb_880e_0242ac1c0002row17_col1\" class=\"data row17 col1\" >False</td>\n",
              "            </tr>\n",
              "            <tr>\n",
              "                        <th id=\"T_67a04434_0e39_11eb_880e_0242ac1c0002level0_row18\" class=\"row_heading level0 row18\" >18</th>\n",
              "                        <td id=\"T_67a04434_0e39_11eb_880e_0242ac1c0002row18_col0\" class=\"data row18 col0\" >Transformation Method </td>\n",
              "                        <td id=\"T_67a04434_0e39_11eb_880e_0242ac1c0002row18_col1\" class=\"data row18 col1\" >None</td>\n",
              "            </tr>\n",
              "            <tr>\n",
              "                        <th id=\"T_67a04434_0e39_11eb_880e_0242ac1c0002level0_row19\" class=\"row_heading level0 row19\" >19</th>\n",
              "                        <td id=\"T_67a04434_0e39_11eb_880e_0242ac1c0002row19_col0\" class=\"data row19 col0\" >PCA </td>\n",
              "                        <td id=\"T_67a04434_0e39_11eb_880e_0242ac1c0002row19_col1\" class=\"data row19 col1\" >False</td>\n",
              "            </tr>\n",
              "            <tr>\n",
              "                        <th id=\"T_67a04434_0e39_11eb_880e_0242ac1c0002level0_row20\" class=\"row_heading level0 row20\" >20</th>\n",
              "                        <td id=\"T_67a04434_0e39_11eb_880e_0242ac1c0002row20_col0\" class=\"data row20 col0\" >PCA Method </td>\n",
              "                        <td id=\"T_67a04434_0e39_11eb_880e_0242ac1c0002row20_col1\" class=\"data row20 col1\" >None</td>\n",
              "            </tr>\n",
              "            <tr>\n",
              "                        <th id=\"T_67a04434_0e39_11eb_880e_0242ac1c0002level0_row21\" class=\"row_heading level0 row21\" >21</th>\n",
              "                        <td id=\"T_67a04434_0e39_11eb_880e_0242ac1c0002row21_col0\" class=\"data row21 col0\" >PCA Components </td>\n",
              "                        <td id=\"T_67a04434_0e39_11eb_880e_0242ac1c0002row21_col1\" class=\"data row21 col1\" >None</td>\n",
              "            </tr>\n",
              "            <tr>\n",
              "                        <th id=\"T_67a04434_0e39_11eb_880e_0242ac1c0002level0_row22\" class=\"row_heading level0 row22\" >22</th>\n",
              "                        <td id=\"T_67a04434_0e39_11eb_880e_0242ac1c0002row22_col0\" class=\"data row22 col0\" >Ignore Low Variance </td>\n",
              "                        <td id=\"T_67a04434_0e39_11eb_880e_0242ac1c0002row22_col1\" class=\"data row22 col1\" >False</td>\n",
              "            </tr>\n",
              "            <tr>\n",
              "                        <th id=\"T_67a04434_0e39_11eb_880e_0242ac1c0002level0_row23\" class=\"row_heading level0 row23\" >23</th>\n",
              "                        <td id=\"T_67a04434_0e39_11eb_880e_0242ac1c0002row23_col0\" class=\"data row23 col0\" >Combine Rare Levels </td>\n",
              "                        <td id=\"T_67a04434_0e39_11eb_880e_0242ac1c0002row23_col1\" class=\"data row23 col1\" >False</td>\n",
              "            </tr>\n",
              "            <tr>\n",
              "                        <th id=\"T_67a04434_0e39_11eb_880e_0242ac1c0002level0_row24\" class=\"row_heading level0 row24\" >24</th>\n",
              "                        <td id=\"T_67a04434_0e39_11eb_880e_0242ac1c0002row24_col0\" class=\"data row24 col0\" >Rare Level Threshold </td>\n",
              "                        <td id=\"T_67a04434_0e39_11eb_880e_0242ac1c0002row24_col1\" class=\"data row24 col1\" >None</td>\n",
              "            </tr>\n",
              "            <tr>\n",
              "                        <th id=\"T_67a04434_0e39_11eb_880e_0242ac1c0002level0_row25\" class=\"row_heading level0 row25\" >25</th>\n",
              "                        <td id=\"T_67a04434_0e39_11eb_880e_0242ac1c0002row25_col0\" class=\"data row25 col0\" >Numeric Binning </td>\n",
              "                        <td id=\"T_67a04434_0e39_11eb_880e_0242ac1c0002row25_col1\" class=\"data row25 col1\" >False</td>\n",
              "            </tr>\n",
              "            <tr>\n",
              "                        <th id=\"T_67a04434_0e39_11eb_880e_0242ac1c0002level0_row26\" class=\"row_heading level0 row26\" >26</th>\n",
              "                        <td id=\"T_67a04434_0e39_11eb_880e_0242ac1c0002row26_col0\" class=\"data row26 col0\" >Remove Outliers </td>\n",
              "                        <td id=\"T_67a04434_0e39_11eb_880e_0242ac1c0002row26_col1\" class=\"data row26 col1\" >False</td>\n",
              "            </tr>\n",
              "            <tr>\n",
              "                        <th id=\"T_67a04434_0e39_11eb_880e_0242ac1c0002level0_row27\" class=\"row_heading level0 row27\" >27</th>\n",
              "                        <td id=\"T_67a04434_0e39_11eb_880e_0242ac1c0002row27_col0\" class=\"data row27 col0\" >Outliers Threshold </td>\n",
              "                        <td id=\"T_67a04434_0e39_11eb_880e_0242ac1c0002row27_col1\" class=\"data row27 col1\" >None</td>\n",
              "            </tr>\n",
              "            <tr>\n",
              "                        <th id=\"T_67a04434_0e39_11eb_880e_0242ac1c0002level0_row28\" class=\"row_heading level0 row28\" >28</th>\n",
              "                        <td id=\"T_67a04434_0e39_11eb_880e_0242ac1c0002row28_col0\" class=\"data row28 col0\" >Remove Multicollinearity </td>\n",
              "                        <td id=\"T_67a04434_0e39_11eb_880e_0242ac1c0002row28_col1\" class=\"data row28 col1\" >False</td>\n",
              "            </tr>\n",
              "            <tr>\n",
              "                        <th id=\"T_67a04434_0e39_11eb_880e_0242ac1c0002level0_row29\" class=\"row_heading level0 row29\" >29</th>\n",
              "                        <td id=\"T_67a04434_0e39_11eb_880e_0242ac1c0002row29_col0\" class=\"data row29 col0\" >Multicollinearity Threshold </td>\n",
              "                        <td id=\"T_67a04434_0e39_11eb_880e_0242ac1c0002row29_col1\" class=\"data row29 col1\" >None</td>\n",
              "            </tr>\n",
              "            <tr>\n",
              "                        <th id=\"T_67a04434_0e39_11eb_880e_0242ac1c0002level0_row30\" class=\"row_heading level0 row30\" >30</th>\n",
              "                        <td id=\"T_67a04434_0e39_11eb_880e_0242ac1c0002row30_col0\" class=\"data row30 col0\" >Clustering </td>\n",
              "                        <td id=\"T_67a04434_0e39_11eb_880e_0242ac1c0002row30_col1\" class=\"data row30 col1\" >False</td>\n",
              "            </tr>\n",
              "            <tr>\n",
              "                        <th id=\"T_67a04434_0e39_11eb_880e_0242ac1c0002level0_row31\" class=\"row_heading level0 row31\" >31</th>\n",
              "                        <td id=\"T_67a04434_0e39_11eb_880e_0242ac1c0002row31_col0\" class=\"data row31 col0\" >Clustering Iteration </td>\n",
              "                        <td id=\"T_67a04434_0e39_11eb_880e_0242ac1c0002row31_col1\" class=\"data row31 col1\" >None</td>\n",
              "            </tr>\n",
              "            <tr>\n",
              "                        <th id=\"T_67a04434_0e39_11eb_880e_0242ac1c0002level0_row32\" class=\"row_heading level0 row32\" >32</th>\n",
              "                        <td id=\"T_67a04434_0e39_11eb_880e_0242ac1c0002row32_col0\" class=\"data row32 col0\" >Polynomial Features </td>\n",
              "                        <td id=\"T_67a04434_0e39_11eb_880e_0242ac1c0002row32_col1\" class=\"data row32 col1\" >False</td>\n",
              "            </tr>\n",
              "            <tr>\n",
              "                        <th id=\"T_67a04434_0e39_11eb_880e_0242ac1c0002level0_row33\" class=\"row_heading level0 row33\" >33</th>\n",
              "                        <td id=\"T_67a04434_0e39_11eb_880e_0242ac1c0002row33_col0\" class=\"data row33 col0\" >Polynomial Degree </td>\n",
              "                        <td id=\"T_67a04434_0e39_11eb_880e_0242ac1c0002row33_col1\" class=\"data row33 col1\" >None</td>\n",
              "            </tr>\n",
              "            <tr>\n",
              "                        <th id=\"T_67a04434_0e39_11eb_880e_0242ac1c0002level0_row34\" class=\"row_heading level0 row34\" >34</th>\n",
              "                        <td id=\"T_67a04434_0e39_11eb_880e_0242ac1c0002row34_col0\" class=\"data row34 col0\" >Trignometry Features </td>\n",
              "                        <td id=\"T_67a04434_0e39_11eb_880e_0242ac1c0002row34_col1\" class=\"data row34 col1\" >False</td>\n",
              "            </tr>\n",
              "            <tr>\n",
              "                        <th id=\"T_67a04434_0e39_11eb_880e_0242ac1c0002level0_row35\" class=\"row_heading level0 row35\" >35</th>\n",
              "                        <td id=\"T_67a04434_0e39_11eb_880e_0242ac1c0002row35_col0\" class=\"data row35 col0\" >Polynomial Threshold </td>\n",
              "                        <td id=\"T_67a04434_0e39_11eb_880e_0242ac1c0002row35_col1\" class=\"data row35 col1\" >None</td>\n",
              "            </tr>\n",
              "            <tr>\n",
              "                        <th id=\"T_67a04434_0e39_11eb_880e_0242ac1c0002level0_row36\" class=\"row_heading level0 row36\" >36</th>\n",
              "                        <td id=\"T_67a04434_0e39_11eb_880e_0242ac1c0002row36_col0\" class=\"data row36 col0\" >Group Features </td>\n",
              "                        <td id=\"T_67a04434_0e39_11eb_880e_0242ac1c0002row36_col1\" class=\"data row36 col1\" >False</td>\n",
              "            </tr>\n",
              "            <tr>\n",
              "                        <th id=\"T_67a04434_0e39_11eb_880e_0242ac1c0002level0_row37\" class=\"row_heading level0 row37\" >37</th>\n",
              "                        <td id=\"T_67a04434_0e39_11eb_880e_0242ac1c0002row37_col0\" class=\"data row37 col0\" >Feature Selection </td>\n",
              "                        <td id=\"T_67a04434_0e39_11eb_880e_0242ac1c0002row37_col1\" class=\"data row37 col1\" >False</td>\n",
              "            </tr>\n",
              "            <tr>\n",
              "                        <th id=\"T_67a04434_0e39_11eb_880e_0242ac1c0002level0_row38\" class=\"row_heading level0 row38\" >38</th>\n",
              "                        <td id=\"T_67a04434_0e39_11eb_880e_0242ac1c0002row38_col0\" class=\"data row38 col0\" >Features Selection Threshold </td>\n",
              "                        <td id=\"T_67a04434_0e39_11eb_880e_0242ac1c0002row38_col1\" class=\"data row38 col1\" >None</td>\n",
              "            </tr>\n",
              "            <tr>\n",
              "                        <th id=\"T_67a04434_0e39_11eb_880e_0242ac1c0002level0_row39\" class=\"row_heading level0 row39\" >39</th>\n",
              "                        <td id=\"T_67a04434_0e39_11eb_880e_0242ac1c0002row39_col0\" class=\"data row39 col0\" >Feature Interaction </td>\n",
              "                        <td id=\"T_67a04434_0e39_11eb_880e_0242ac1c0002row39_col1\" class=\"data row39 col1\" >False</td>\n",
              "            </tr>\n",
              "            <tr>\n",
              "                        <th id=\"T_67a04434_0e39_11eb_880e_0242ac1c0002level0_row40\" class=\"row_heading level0 row40\" >40</th>\n",
              "                        <td id=\"T_67a04434_0e39_11eb_880e_0242ac1c0002row40_col0\" class=\"data row40 col0\" >Feature Ratio </td>\n",
              "                        <td id=\"T_67a04434_0e39_11eb_880e_0242ac1c0002row40_col1\" class=\"data row40 col1\" >False</td>\n",
              "            </tr>\n",
              "            <tr>\n",
              "                        <th id=\"T_67a04434_0e39_11eb_880e_0242ac1c0002level0_row41\" class=\"row_heading level0 row41\" >41</th>\n",
              "                        <td id=\"T_67a04434_0e39_11eb_880e_0242ac1c0002row41_col0\" class=\"data row41 col0\" >Interaction Threshold </td>\n",
              "                        <td id=\"T_67a04434_0e39_11eb_880e_0242ac1c0002row41_col1\" class=\"data row41 col1\" >None</td>\n",
              "            </tr>\n",
              "            <tr>\n",
              "                        <th id=\"T_67a04434_0e39_11eb_880e_0242ac1c0002level0_row42\" class=\"row_heading level0 row42\" >42</th>\n",
              "                        <td id=\"T_67a04434_0e39_11eb_880e_0242ac1c0002row42_col0\" class=\"data row42 col0\" >Fix Imbalance</td>\n",
              "                        <td id=\"T_67a04434_0e39_11eb_880e_0242ac1c0002row42_col1\" class=\"data row42 col1\" >False</td>\n",
              "            </tr>\n",
              "            <tr>\n",
              "                        <th id=\"T_67a04434_0e39_11eb_880e_0242ac1c0002level0_row43\" class=\"row_heading level0 row43\" >43</th>\n",
              "                        <td id=\"T_67a04434_0e39_11eb_880e_0242ac1c0002row43_col0\" class=\"data row43 col0\" >Fix Imbalance Method</td>\n",
              "                        <td id=\"T_67a04434_0e39_11eb_880e_0242ac1c0002row43_col1\" class=\"data row43 col1\" >SMOTE</td>\n",
              "            </tr>\n",
              "    </tbody></table>"
            ],
            "text/plain": [
              "<pandas.io.formats.style.Styler at 0x7fb1ff2d5e10>"
            ]
          },
          "metadata": {
            "tags": []
          }
        }
      ]
    },
    {
      "cell_type": "code",
      "metadata": {
        "id": "pfKcEiM18HjD",
        "outputId": "04f385be-300b-4bf4-cc45-384590b61aa6",
        "colab": {
          "base_uri": "https://localhost:8080/",
          "height": 440,
          "referenced_widgets": [
            "93a267a50c6d41eeb90205e97609d06e",
            "63c8fa7401fa44708bb67ed95f6b81f7",
            "35ef2fded7014aa981a01b6d6870e3f4"
          ]
        }
      },
      "source": [
        "compare_models()"
      ],
      "execution_count": 43,
      "outputs": [
        {
          "output_type": "display_data",
          "data": {
            "text/html": [
              "<style  type=\"text/css\" >\n",
              "    #T_38e75c38_0e3c_11eb_880e_0242ac1c0002 th {\n",
              "          text-align: left;\n",
              "    }#T_38e75c38_0e3c_11eb_880e_0242ac1c0002row0_col0,#T_38e75c38_0e3c_11eb_880e_0242ac1c0002row0_col3,#T_38e75c38_0e3c_11eb_880e_0242ac1c0002row1_col0,#T_38e75c38_0e3c_11eb_880e_0242ac1c0002row1_col1,#T_38e75c38_0e3c_11eb_880e_0242ac1c0002row1_col2,#T_38e75c38_0e3c_11eb_880e_0242ac1c0002row1_col3,#T_38e75c38_0e3c_11eb_880e_0242ac1c0002row1_col4,#T_38e75c38_0e3c_11eb_880e_0242ac1c0002row1_col5,#T_38e75c38_0e3c_11eb_880e_0242ac1c0002row1_col6,#T_38e75c38_0e3c_11eb_880e_0242ac1c0002row1_col7,#T_38e75c38_0e3c_11eb_880e_0242ac1c0002row2_col0,#T_38e75c38_0e3c_11eb_880e_0242ac1c0002row2_col1,#T_38e75c38_0e3c_11eb_880e_0242ac1c0002row2_col2,#T_38e75c38_0e3c_11eb_880e_0242ac1c0002row2_col3,#T_38e75c38_0e3c_11eb_880e_0242ac1c0002row2_col4,#T_38e75c38_0e3c_11eb_880e_0242ac1c0002row2_col5,#T_38e75c38_0e3c_11eb_880e_0242ac1c0002row2_col6,#T_38e75c38_0e3c_11eb_880e_0242ac1c0002row2_col7,#T_38e75c38_0e3c_11eb_880e_0242ac1c0002row3_col0,#T_38e75c38_0e3c_11eb_880e_0242ac1c0002row3_col1,#T_38e75c38_0e3c_11eb_880e_0242ac1c0002row3_col2,#T_38e75c38_0e3c_11eb_880e_0242ac1c0002row3_col3,#T_38e75c38_0e3c_11eb_880e_0242ac1c0002row3_col4,#T_38e75c38_0e3c_11eb_880e_0242ac1c0002row3_col5,#T_38e75c38_0e3c_11eb_880e_0242ac1c0002row3_col6,#T_38e75c38_0e3c_11eb_880e_0242ac1c0002row3_col7,#T_38e75c38_0e3c_11eb_880e_0242ac1c0002row4_col0,#T_38e75c38_0e3c_11eb_880e_0242ac1c0002row4_col1,#T_38e75c38_0e3c_11eb_880e_0242ac1c0002row4_col2,#T_38e75c38_0e3c_11eb_880e_0242ac1c0002row4_col3,#T_38e75c38_0e3c_11eb_880e_0242ac1c0002row4_col4,#T_38e75c38_0e3c_11eb_880e_0242ac1c0002row4_col5,#T_38e75c38_0e3c_11eb_880e_0242ac1c0002row4_col6,#T_38e75c38_0e3c_11eb_880e_0242ac1c0002row4_col7,#T_38e75c38_0e3c_11eb_880e_0242ac1c0002row5_col0,#T_38e75c38_0e3c_11eb_880e_0242ac1c0002row5_col1,#T_38e75c38_0e3c_11eb_880e_0242ac1c0002row5_col2,#T_38e75c38_0e3c_11eb_880e_0242ac1c0002row5_col3,#T_38e75c38_0e3c_11eb_880e_0242ac1c0002row5_col4,#T_38e75c38_0e3c_11eb_880e_0242ac1c0002row5_col5,#T_38e75c38_0e3c_11eb_880e_0242ac1c0002row5_col6,#T_38e75c38_0e3c_11eb_880e_0242ac1c0002row5_col7,#T_38e75c38_0e3c_11eb_880e_0242ac1c0002row6_col0,#T_38e75c38_0e3c_11eb_880e_0242ac1c0002row6_col1,#T_38e75c38_0e3c_11eb_880e_0242ac1c0002row6_col2,#T_38e75c38_0e3c_11eb_880e_0242ac1c0002row6_col3,#T_38e75c38_0e3c_11eb_880e_0242ac1c0002row6_col4,#T_38e75c38_0e3c_11eb_880e_0242ac1c0002row6_col5,#T_38e75c38_0e3c_11eb_880e_0242ac1c0002row6_col6,#T_38e75c38_0e3c_11eb_880e_0242ac1c0002row6_col7,#T_38e75c38_0e3c_11eb_880e_0242ac1c0002row7_col0,#T_38e75c38_0e3c_11eb_880e_0242ac1c0002row7_col1,#T_38e75c38_0e3c_11eb_880e_0242ac1c0002row7_col2,#T_38e75c38_0e3c_11eb_880e_0242ac1c0002row7_col3,#T_38e75c38_0e3c_11eb_880e_0242ac1c0002row7_col4,#T_38e75c38_0e3c_11eb_880e_0242ac1c0002row7_col5,#T_38e75c38_0e3c_11eb_880e_0242ac1c0002row7_col6,#T_38e75c38_0e3c_11eb_880e_0242ac1c0002row7_col7,#T_38e75c38_0e3c_11eb_880e_0242ac1c0002row8_col0,#T_38e75c38_0e3c_11eb_880e_0242ac1c0002row8_col1,#T_38e75c38_0e3c_11eb_880e_0242ac1c0002row8_col2,#T_38e75c38_0e3c_11eb_880e_0242ac1c0002row8_col3,#T_38e75c38_0e3c_11eb_880e_0242ac1c0002row8_col4,#T_38e75c38_0e3c_11eb_880e_0242ac1c0002row8_col5,#T_38e75c38_0e3c_11eb_880e_0242ac1c0002row8_col6,#T_38e75c38_0e3c_11eb_880e_0242ac1c0002row8_col7,#T_38e75c38_0e3c_11eb_880e_0242ac1c0002row9_col0,#T_38e75c38_0e3c_11eb_880e_0242ac1c0002row9_col1,#T_38e75c38_0e3c_11eb_880e_0242ac1c0002row9_col2,#T_38e75c38_0e3c_11eb_880e_0242ac1c0002row9_col3,#T_38e75c38_0e3c_11eb_880e_0242ac1c0002row9_col4,#T_38e75c38_0e3c_11eb_880e_0242ac1c0002row9_col5,#T_38e75c38_0e3c_11eb_880e_0242ac1c0002row9_col6,#T_38e75c38_0e3c_11eb_880e_0242ac1c0002row9_col7,#T_38e75c38_0e3c_11eb_880e_0242ac1c0002row10_col0,#T_38e75c38_0e3c_11eb_880e_0242ac1c0002row10_col1,#T_38e75c38_0e3c_11eb_880e_0242ac1c0002row10_col2,#T_38e75c38_0e3c_11eb_880e_0242ac1c0002row10_col3,#T_38e75c38_0e3c_11eb_880e_0242ac1c0002row10_col4,#T_38e75c38_0e3c_11eb_880e_0242ac1c0002row10_col5,#T_38e75c38_0e3c_11eb_880e_0242ac1c0002row10_col6,#T_38e75c38_0e3c_11eb_880e_0242ac1c0002row10_col7,#T_38e75c38_0e3c_11eb_880e_0242ac1c0002row11_col0,#T_38e75c38_0e3c_11eb_880e_0242ac1c0002row11_col1,#T_38e75c38_0e3c_11eb_880e_0242ac1c0002row11_col2,#T_38e75c38_0e3c_11eb_880e_0242ac1c0002row11_col3,#T_38e75c38_0e3c_11eb_880e_0242ac1c0002row11_col4,#T_38e75c38_0e3c_11eb_880e_0242ac1c0002row11_col5,#T_38e75c38_0e3c_11eb_880e_0242ac1c0002row11_col6,#T_38e75c38_0e3c_11eb_880e_0242ac1c0002row11_col7,#T_38e75c38_0e3c_11eb_880e_0242ac1c0002row12_col0,#T_38e75c38_0e3c_11eb_880e_0242ac1c0002row12_col1,#T_38e75c38_0e3c_11eb_880e_0242ac1c0002row12_col2,#T_38e75c38_0e3c_11eb_880e_0242ac1c0002row12_col4,#T_38e75c38_0e3c_11eb_880e_0242ac1c0002row12_col5,#T_38e75c38_0e3c_11eb_880e_0242ac1c0002row12_col6,#T_38e75c38_0e3c_11eb_880e_0242ac1c0002row12_col7,#T_38e75c38_0e3c_11eb_880e_0242ac1c0002row13_col0,#T_38e75c38_0e3c_11eb_880e_0242ac1c0002row13_col1,#T_38e75c38_0e3c_11eb_880e_0242ac1c0002row13_col2,#T_38e75c38_0e3c_11eb_880e_0242ac1c0002row13_col3,#T_38e75c38_0e3c_11eb_880e_0242ac1c0002row13_col4,#T_38e75c38_0e3c_11eb_880e_0242ac1c0002row13_col5,#T_38e75c38_0e3c_11eb_880e_0242ac1c0002row13_col6,#T_38e75c38_0e3c_11eb_880e_0242ac1c0002row13_col7,#T_38e75c38_0e3c_11eb_880e_0242ac1c0002row14_col0,#T_38e75c38_0e3c_11eb_880e_0242ac1c0002row14_col1,#T_38e75c38_0e3c_11eb_880e_0242ac1c0002row14_col2,#T_38e75c38_0e3c_11eb_880e_0242ac1c0002row14_col3,#T_38e75c38_0e3c_11eb_880e_0242ac1c0002row14_col4,#T_38e75c38_0e3c_11eb_880e_0242ac1c0002row14_col5,#T_38e75c38_0e3c_11eb_880e_0242ac1c0002row14_col6,#T_38e75c38_0e3c_11eb_880e_0242ac1c0002row14_col7{\n",
              "            text-align:  left;\n",
              "        }#T_38e75c38_0e3c_11eb_880e_0242ac1c0002row0_col1,#T_38e75c38_0e3c_11eb_880e_0242ac1c0002row0_col2,#T_38e75c38_0e3c_11eb_880e_0242ac1c0002row0_col4,#T_38e75c38_0e3c_11eb_880e_0242ac1c0002row0_col5,#T_38e75c38_0e3c_11eb_880e_0242ac1c0002row0_col6,#T_38e75c38_0e3c_11eb_880e_0242ac1c0002row0_col7,#T_38e75c38_0e3c_11eb_880e_0242ac1c0002row12_col3{\n",
              "            background-color:  yellow;\n",
              "            text-align:  left;\n",
              "        }#T_38e75c38_0e3c_11eb_880e_0242ac1c0002row0_col8,#T_38e75c38_0e3c_11eb_880e_0242ac1c0002row1_col8,#T_38e75c38_0e3c_11eb_880e_0242ac1c0002row2_col8,#T_38e75c38_0e3c_11eb_880e_0242ac1c0002row3_col8,#T_38e75c38_0e3c_11eb_880e_0242ac1c0002row4_col8,#T_38e75c38_0e3c_11eb_880e_0242ac1c0002row5_col8,#T_38e75c38_0e3c_11eb_880e_0242ac1c0002row6_col8,#T_38e75c38_0e3c_11eb_880e_0242ac1c0002row7_col8,#T_38e75c38_0e3c_11eb_880e_0242ac1c0002row8_col8,#T_38e75c38_0e3c_11eb_880e_0242ac1c0002row9_col8,#T_38e75c38_0e3c_11eb_880e_0242ac1c0002row10_col8,#T_38e75c38_0e3c_11eb_880e_0242ac1c0002row11_col8,#T_38e75c38_0e3c_11eb_880e_0242ac1c0002row12_col8,#T_38e75c38_0e3c_11eb_880e_0242ac1c0002row13_col8,#T_38e75c38_0e3c_11eb_880e_0242ac1c0002row14_col8{\n",
              "            background-color:  lightgrey;\n",
              "            text-align:  left;\n",
              "        }</style><table id=\"T_38e75c38_0e3c_11eb_880e_0242ac1c0002\" ><thead>    <tr>        <th class=\"blank level0\" ></th>        <th class=\"col_heading level0 col0\" >Model</th>        <th class=\"col_heading level0 col1\" >Accuracy</th>        <th class=\"col_heading level0 col2\" >AUC</th>        <th class=\"col_heading level0 col3\" >Recall</th>        <th class=\"col_heading level0 col4\" >Prec.</th>        <th class=\"col_heading level0 col5\" >F1</th>        <th class=\"col_heading level0 col6\" >Kappa</th>        <th class=\"col_heading level0 col7\" >MCC</th>        <th class=\"col_heading level0 col8\" >TT (Sec)</th>    </tr></thead><tbody>\n",
              "                <tr>\n",
              "                        <th id=\"T_38e75c38_0e3c_11eb_880e_0242ac1c0002level0_row0\" class=\"row_heading level0 row0\" >0</th>\n",
              "                        <td id=\"T_38e75c38_0e3c_11eb_880e_0242ac1c0002row0_col0\" class=\"data row0 col0\" >Logistic Regression</td>\n",
              "                        <td id=\"T_38e75c38_0e3c_11eb_880e_0242ac1c0002row0_col1\" class=\"data row0 col1\" >0.8682</td>\n",
              "                        <td id=\"T_38e75c38_0e3c_11eb_880e_0242ac1c0002row0_col2\" class=\"data row0 col2\" >0.9167</td>\n",
              "                        <td id=\"T_38e75c38_0e3c_11eb_880e_0242ac1c0002row0_col3\" class=\"data row0 col3\" >0.5667</td>\n",
              "                        <td id=\"T_38e75c38_0e3c_11eb_880e_0242ac1c0002row0_col4\" class=\"data row0 col4\" >0.8667</td>\n",
              "                        <td id=\"T_38e75c38_0e3c_11eb_880e_0242ac1c0002row0_col5\" class=\"data row0 col5\" >0.6333</td>\n",
              "                        <td id=\"T_38e75c38_0e3c_11eb_880e_0242ac1c0002row0_col6\" class=\"data row0 col6\" >0.5634</td>\n",
              "                        <td id=\"T_38e75c38_0e3c_11eb_880e_0242ac1c0002row0_col7\" class=\"data row0 col7\" >0.6136</td>\n",
              "                        <td id=\"T_38e75c38_0e3c_11eb_880e_0242ac1c0002row0_col8\" class=\"data row0 col8\" >0.0307</td>\n",
              "            </tr>\n",
              "            <tr>\n",
              "                        <th id=\"T_38e75c38_0e3c_11eb_880e_0242ac1c0002level0_row1\" class=\"row_heading level0 row1\" >1</th>\n",
              "                        <td id=\"T_38e75c38_0e3c_11eb_880e_0242ac1c0002row1_col0\" class=\"data row1 col0\" >CatBoost Classifier</td>\n",
              "                        <td id=\"T_38e75c38_0e3c_11eb_880e_0242ac1c0002row1_col1\" class=\"data row1 col1\" >0.8591</td>\n",
              "                        <td id=\"T_38e75c38_0e3c_11eb_880e_0242ac1c0002row1_col2\" class=\"data row1 col2\" >0.8958</td>\n",
              "                        <td id=\"T_38e75c38_0e3c_11eb_880e_0242ac1c0002row1_col3\" class=\"data row1 col3\" >0.5000</td>\n",
              "                        <td id=\"T_38e75c38_0e3c_11eb_880e_0242ac1c0002row1_col4\" class=\"data row1 col4\" >0.6667</td>\n",
              "                        <td id=\"T_38e75c38_0e3c_11eb_880e_0242ac1c0002row1_col5\" class=\"data row1 col5\" >0.5433</td>\n",
              "                        <td id=\"T_38e75c38_0e3c_11eb_880e_0242ac1c0002row1_col6\" class=\"data row1 col6\" >0.4771</td>\n",
              "                        <td id=\"T_38e75c38_0e3c_11eb_880e_0242ac1c0002row1_col7\" class=\"data row1 col7\" >0.5008</td>\n",
              "                        <td id=\"T_38e75c38_0e3c_11eb_880e_0242ac1c0002row1_col8\" class=\"data row1 col8\" >1.8905</td>\n",
              "            </tr>\n",
              "            <tr>\n",
              "                        <th id=\"T_38e75c38_0e3c_11eb_880e_0242ac1c0002level0_row2\" class=\"row_heading level0 row2\" >2</th>\n",
              "                        <td id=\"T_38e75c38_0e3c_11eb_880e_0242ac1c0002row2_col0\" class=\"data row2 col0\" >Linear Discriminant Analysis</td>\n",
              "                        <td id=\"T_38e75c38_0e3c_11eb_880e_0242ac1c0002row2_col1\" class=\"data row2 col1\" >0.8509</td>\n",
              "                        <td id=\"T_38e75c38_0e3c_11eb_880e_0242ac1c0002row2_col2\" class=\"data row2 col2\" >0.8743</td>\n",
              "                        <td id=\"T_38e75c38_0e3c_11eb_880e_0242ac1c0002row2_col3\" class=\"data row2 col3\" >0.5667</td>\n",
              "                        <td id=\"T_38e75c38_0e3c_11eb_880e_0242ac1c0002row2_col4\" class=\"data row2 col4\" >0.8000</td>\n",
              "                        <td id=\"T_38e75c38_0e3c_11eb_880e_0242ac1c0002row2_col5\" class=\"data row2 col5\" >0.6067</td>\n",
              "                        <td id=\"T_38e75c38_0e3c_11eb_880e_0242ac1c0002row2_col6\" class=\"data row2 col6\" >0.5241</td>\n",
              "                        <td id=\"T_38e75c38_0e3c_11eb_880e_0242ac1c0002row2_col7\" class=\"data row2 col7\" >0.5725</td>\n",
              "                        <td id=\"T_38e75c38_0e3c_11eb_880e_0242ac1c0002row2_col8\" class=\"data row2 col8\" >0.0067</td>\n",
              "            </tr>\n",
              "            <tr>\n",
              "                        <th id=\"T_38e75c38_0e3c_11eb_880e_0242ac1c0002level0_row3\" class=\"row_heading level0 row3\" >3</th>\n",
              "                        <td id=\"T_38e75c38_0e3c_11eb_880e_0242ac1c0002row3_col0\" class=\"data row3 col0\" >Extreme Gradient Boosting</td>\n",
              "                        <td id=\"T_38e75c38_0e3c_11eb_880e_0242ac1c0002row3_col1\" class=\"data row3 col1\" >0.8509</td>\n",
              "                        <td id=\"T_38e75c38_0e3c_11eb_880e_0242ac1c0002row3_col2\" class=\"data row3 col2\" >0.9160</td>\n",
              "                        <td id=\"T_38e75c38_0e3c_11eb_880e_0242ac1c0002row3_col3\" class=\"data row3 col3\" >0.5667</td>\n",
              "                        <td id=\"T_38e75c38_0e3c_11eb_880e_0242ac1c0002row3_col4\" class=\"data row3 col4\" >0.7250</td>\n",
              "                        <td id=\"T_38e75c38_0e3c_11eb_880e_0242ac1c0002row3_col5\" class=\"data row3 col5\" >0.5967</td>\n",
              "                        <td id=\"T_38e75c38_0e3c_11eb_880e_0242ac1c0002row3_col6\" class=\"data row3 col6\" >0.5271</td>\n",
              "                        <td id=\"T_38e75c38_0e3c_11eb_880e_0242ac1c0002row3_col7\" class=\"data row3 col7\" >0.5580</td>\n",
              "                        <td id=\"T_38e75c38_0e3c_11eb_880e_0242ac1c0002row3_col8\" class=\"data row3 col8\" >0.0279</td>\n",
              "            </tr>\n",
              "            <tr>\n",
              "                        <th id=\"T_38e75c38_0e3c_11eb_880e_0242ac1c0002level0_row4\" class=\"row_heading level0 row4\" >4</th>\n",
              "                        <td id=\"T_38e75c38_0e3c_11eb_880e_0242ac1c0002row4_col0\" class=\"data row4 col0\" >Extra Trees Classifier</td>\n",
              "                        <td id=\"T_38e75c38_0e3c_11eb_880e_0242ac1c0002row4_col1\" class=\"data row4 col1\" >0.8491</td>\n",
              "                        <td id=\"T_38e75c38_0e3c_11eb_880e_0242ac1c0002row4_col2\" class=\"data row4 col2\" >0.8903</td>\n",
              "                        <td id=\"T_38e75c38_0e3c_11eb_880e_0242ac1c0002row4_col3\" class=\"data row4 col3\" >0.5000</td>\n",
              "                        <td id=\"T_38e75c38_0e3c_11eb_880e_0242ac1c0002row4_col4\" class=\"data row4 col4\" >0.6333</td>\n",
              "                        <td id=\"T_38e75c38_0e3c_11eb_880e_0242ac1c0002row4_col5\" class=\"data row4 col5\" >0.5200</td>\n",
              "                        <td id=\"T_38e75c38_0e3c_11eb_880e_0242ac1c0002row4_col6\" class=\"data row4 col6\" >0.4574</td>\n",
              "                        <td id=\"T_38e75c38_0e3c_11eb_880e_0242ac1c0002row4_col7\" class=\"data row4 col7\" >0.4870</td>\n",
              "                        <td id=\"T_38e75c38_0e3c_11eb_880e_0242ac1c0002row4_col8\" class=\"data row4 col8\" >0.2315</td>\n",
              "            </tr>\n",
              "            <tr>\n",
              "                        <th id=\"T_38e75c38_0e3c_11eb_880e_0242ac1c0002level0_row5\" class=\"row_heading level0 row5\" >5</th>\n",
              "                        <td id=\"T_38e75c38_0e3c_11eb_880e_0242ac1c0002row5_col0\" class=\"data row5 col0\" >Gradient Boosting Classifier</td>\n",
              "                        <td id=\"T_38e75c38_0e3c_11eb_880e_0242ac1c0002row5_col1\" class=\"data row5 col1\" >0.8418</td>\n",
              "                        <td id=\"T_38e75c38_0e3c_11eb_880e_0242ac1c0002row5_col2\" class=\"data row5 col2\" >0.8910</td>\n",
              "                        <td id=\"T_38e75c38_0e3c_11eb_880e_0242ac1c0002row5_col3\" class=\"data row5 col3\" >0.5500</td>\n",
              "                        <td id=\"T_38e75c38_0e3c_11eb_880e_0242ac1c0002row5_col4\" class=\"data row5 col4\" >0.6417</td>\n",
              "                        <td id=\"T_38e75c38_0e3c_11eb_880e_0242ac1c0002row5_col5\" class=\"data row5 col5\" >0.5667</td>\n",
              "                        <td id=\"T_38e75c38_0e3c_11eb_880e_0242ac1c0002row5_col6\" class=\"data row5 col6\" >0.4847</td>\n",
              "                        <td id=\"T_38e75c38_0e3c_11eb_880e_0242ac1c0002row5_col7\" class=\"data row5 col7\" >0.5023</td>\n",
              "                        <td id=\"T_38e75c38_0e3c_11eb_880e_0242ac1c0002row5_col8\" class=\"data row5 col8\" >0.0804</td>\n",
              "            </tr>\n",
              "            <tr>\n",
              "                        <th id=\"T_38e75c38_0e3c_11eb_880e_0242ac1c0002level0_row6\" class=\"row_heading level0 row6\" >6</th>\n",
              "                        <td id=\"T_38e75c38_0e3c_11eb_880e_0242ac1c0002row6_col0\" class=\"data row6 col0\" >Ridge Classifier</td>\n",
              "                        <td id=\"T_38e75c38_0e3c_11eb_880e_0242ac1c0002row6_col1\" class=\"data row6 col1\" >0.8409</td>\n",
              "                        <td id=\"T_38e75c38_0e3c_11eb_880e_0242ac1c0002row6_col2\" class=\"data row6 col2\" >0.0000</td>\n",
              "                        <td id=\"T_38e75c38_0e3c_11eb_880e_0242ac1c0002row6_col3\" class=\"data row6 col3\" >0.5167</td>\n",
              "                        <td id=\"T_38e75c38_0e3c_11eb_880e_0242ac1c0002row6_col4\" class=\"data row6 col4\" >0.7500</td>\n",
              "                        <td id=\"T_38e75c38_0e3c_11eb_880e_0242ac1c0002row6_col5\" class=\"data row6 col5\" >0.5567</td>\n",
              "                        <td id=\"T_38e75c38_0e3c_11eb_880e_0242ac1c0002row6_col6\" class=\"data row6 col6\" >0.4713</td>\n",
              "                        <td id=\"T_38e75c38_0e3c_11eb_880e_0242ac1c0002row6_col7\" class=\"data row6 col7\" >0.5183</td>\n",
              "                        <td id=\"T_38e75c38_0e3c_11eb_880e_0242ac1c0002row6_col8\" class=\"data row6 col8\" >0.0097</td>\n",
              "            </tr>\n",
              "            <tr>\n",
              "                        <th id=\"T_38e75c38_0e3c_11eb_880e_0242ac1c0002level0_row7\" class=\"row_heading level0 row7\" >7</th>\n",
              "                        <td id=\"T_38e75c38_0e3c_11eb_880e_0242ac1c0002row7_col0\" class=\"data row7 col0\" >Ada Boost Classifier</td>\n",
              "                        <td id=\"T_38e75c38_0e3c_11eb_880e_0242ac1c0002row7_col1\" class=\"data row7 col1\" >0.8318</td>\n",
              "                        <td id=\"T_38e75c38_0e3c_11eb_880e_0242ac1c0002row7_col2\" class=\"data row7 col2\" >0.8306</td>\n",
              "                        <td id=\"T_38e75c38_0e3c_11eb_880e_0242ac1c0002row7_col3\" class=\"data row7 col3\" >0.5667</td>\n",
              "                        <td id=\"T_38e75c38_0e3c_11eb_880e_0242ac1c0002row7_col4\" class=\"data row7 col4\" >0.7000</td>\n",
              "                        <td id=\"T_38e75c38_0e3c_11eb_880e_0242ac1c0002row7_col5\" class=\"data row7 col5\" >0.5800</td>\n",
              "                        <td id=\"T_38e75c38_0e3c_11eb_880e_0242ac1c0002row7_col6\" class=\"data row7 col6\" >0.4825</td>\n",
              "                        <td id=\"T_38e75c38_0e3c_11eb_880e_0242ac1c0002row7_col7\" class=\"data row7 col7\" >0.5148</td>\n",
              "                        <td id=\"T_38e75c38_0e3c_11eb_880e_0242ac1c0002row7_col8\" class=\"data row7 col8\" >0.0812</td>\n",
              "            </tr>\n",
              "            <tr>\n",
              "                        <th id=\"T_38e75c38_0e3c_11eb_880e_0242ac1c0002level0_row8\" class=\"row_heading level0 row8\" >8</th>\n",
              "                        <td id=\"T_38e75c38_0e3c_11eb_880e_0242ac1c0002row8_col0\" class=\"data row8 col0\" >Light Gradient Boosting Machine</td>\n",
              "                        <td id=\"T_38e75c38_0e3c_11eb_880e_0242ac1c0002row8_col1\" class=\"data row8 col1\" >0.8218</td>\n",
              "                        <td id=\"T_38e75c38_0e3c_11eb_880e_0242ac1c0002row8_col2\" class=\"data row8 col2\" >0.8833</td>\n",
              "                        <td id=\"T_38e75c38_0e3c_11eb_880e_0242ac1c0002row8_col3\" class=\"data row8 col3\" >0.4667</td>\n",
              "                        <td id=\"T_38e75c38_0e3c_11eb_880e_0242ac1c0002row8_col4\" class=\"data row8 col4\" >0.5733</td>\n",
              "                        <td id=\"T_38e75c38_0e3c_11eb_880e_0242ac1c0002row8_col5\" class=\"data row8 col5\" >0.4771</td>\n",
              "                        <td id=\"T_38e75c38_0e3c_11eb_880e_0242ac1c0002row8_col6\" class=\"data row8 col6\" >0.4011</td>\n",
              "                        <td id=\"T_38e75c38_0e3c_11eb_880e_0242ac1c0002row8_col7\" class=\"data row8 col7\" >0.4296</td>\n",
              "                        <td id=\"T_38e75c38_0e3c_11eb_880e_0242ac1c0002row8_col8\" class=\"data row8 col8\" >0.0179</td>\n",
              "            </tr>\n",
              "            <tr>\n",
              "                        <th id=\"T_38e75c38_0e3c_11eb_880e_0242ac1c0002level0_row9\" class=\"row_heading level0 row9\" >9</th>\n",
              "                        <td id=\"T_38e75c38_0e3c_11eb_880e_0242ac1c0002row9_col0\" class=\"data row9 col0\" >Random Forest Classifier</td>\n",
              "                        <td id=\"T_38e75c38_0e3c_11eb_880e_0242ac1c0002row9_col1\" class=\"data row9 col1\" >0.8209</td>\n",
              "                        <td id=\"T_38e75c38_0e3c_11eb_880e_0242ac1c0002row9_col2\" class=\"data row9 col2\" >0.8389</td>\n",
              "                        <td id=\"T_38e75c38_0e3c_11eb_880e_0242ac1c0002row9_col3\" class=\"data row9 col3\" >0.3167</td>\n",
              "                        <td id=\"T_38e75c38_0e3c_11eb_880e_0242ac1c0002row9_col4\" class=\"data row9 col4\" >0.4667</td>\n",
              "                        <td id=\"T_38e75c38_0e3c_11eb_880e_0242ac1c0002row9_col5\" class=\"data row9 col5\" >0.3467</td>\n",
              "                        <td id=\"T_38e75c38_0e3c_11eb_880e_0242ac1c0002row9_col6\" class=\"data row9 col6\" >0.2831</td>\n",
              "                        <td id=\"T_38e75c38_0e3c_11eb_880e_0242ac1c0002row9_col7\" class=\"data row9 col7\" >0.3085</td>\n",
              "                        <td id=\"T_38e75c38_0e3c_11eb_880e_0242ac1c0002row9_col8\" class=\"data row9 col8\" >0.1136</td>\n",
              "            </tr>\n",
              "            <tr>\n",
              "                        <th id=\"T_38e75c38_0e3c_11eb_880e_0242ac1c0002level0_row10\" class=\"row_heading level0 row10\" >10</th>\n",
              "                        <td id=\"T_38e75c38_0e3c_11eb_880e_0242ac1c0002row10_col0\" class=\"data row10 col0\" >Quadratic Discriminant Analysis</td>\n",
              "                        <td id=\"T_38e75c38_0e3c_11eb_880e_0242ac1c0002row10_col1\" class=\"data row10 col1\" >0.7945</td>\n",
              "                        <td id=\"T_38e75c38_0e3c_11eb_880e_0242ac1c0002row10_col2\" class=\"data row10 col2\" >0.4938</td>\n",
              "                        <td id=\"T_38e75c38_0e3c_11eb_880e_0242ac1c0002row10_col3\" class=\"data row10 col3\" >0.0000</td>\n",
              "                        <td id=\"T_38e75c38_0e3c_11eb_880e_0242ac1c0002row10_col4\" class=\"data row10 col4\" >0.0000</td>\n",
              "                        <td id=\"T_38e75c38_0e3c_11eb_880e_0242ac1c0002row10_col5\" class=\"data row10 col5\" >0.0000</td>\n",
              "                        <td id=\"T_38e75c38_0e3c_11eb_880e_0242ac1c0002row10_col6\" class=\"data row10 col6\" >0.0000</td>\n",
              "                        <td id=\"T_38e75c38_0e3c_11eb_880e_0242ac1c0002row10_col7\" class=\"data row10 col7\" >0.0000</td>\n",
              "                        <td id=\"T_38e75c38_0e3c_11eb_880e_0242ac1c0002row10_col8\" class=\"data row10 col8\" >0.0064</td>\n",
              "            </tr>\n",
              "            <tr>\n",
              "                        <th id=\"T_38e75c38_0e3c_11eb_880e_0242ac1c0002level0_row11\" class=\"row_heading level0 row11\" >11</th>\n",
              "                        <td id=\"T_38e75c38_0e3c_11eb_880e_0242ac1c0002row11_col0\" class=\"data row11 col0\" >Decision Tree Classifier</td>\n",
              "                        <td id=\"T_38e75c38_0e3c_11eb_880e_0242ac1c0002row11_col1\" class=\"data row11 col1\" >0.7855</td>\n",
              "                        <td id=\"T_38e75c38_0e3c_11eb_880e_0242ac1c0002row11_col2\" class=\"data row11 col2\" >0.7257</td>\n",
              "                        <td id=\"T_38e75c38_0e3c_11eb_880e_0242ac1c0002row11_col3\" class=\"data row11 col3\" >0.6167</td>\n",
              "                        <td id=\"T_38e75c38_0e3c_11eb_880e_0242ac1c0002row11_col4\" class=\"data row11 col4\" >0.4817</td>\n",
              "                        <td id=\"T_38e75c38_0e3c_11eb_880e_0242ac1c0002row11_col5\" class=\"data row11 col5\" >0.5200</td>\n",
              "                        <td id=\"T_38e75c38_0e3c_11eb_880e_0242ac1c0002row11_col6\" class=\"data row11 col6\" >0.4025</td>\n",
              "                        <td id=\"T_38e75c38_0e3c_11eb_880e_0242ac1c0002row11_col7\" class=\"data row11 col7\" >0.4202</td>\n",
              "                        <td id=\"T_38e75c38_0e3c_11eb_880e_0242ac1c0002row11_col8\" class=\"data row11 col8\" >0.0060</td>\n",
              "            </tr>\n",
              "            <tr>\n",
              "                        <th id=\"T_38e75c38_0e3c_11eb_880e_0242ac1c0002level0_row12\" class=\"row_heading level0 row12\" >12</th>\n",
              "                        <td id=\"T_38e75c38_0e3c_11eb_880e_0242ac1c0002row12_col0\" class=\"data row12 col0\" >Naive Bayes</td>\n",
              "                        <td id=\"T_38e75c38_0e3c_11eb_880e_0242ac1c0002row12_col1\" class=\"data row12 col1\" >0.7755</td>\n",
              "                        <td id=\"T_38e75c38_0e3c_11eb_880e_0242ac1c0002row12_col2\" class=\"data row12 col2\" >0.8715</td>\n",
              "                        <td id=\"T_38e75c38_0e3c_11eb_880e_0242ac1c0002row12_col3\" class=\"data row12 col3\" >0.8333</td>\n",
              "                        <td id=\"T_38e75c38_0e3c_11eb_880e_0242ac1c0002row12_col4\" class=\"data row12 col4\" >0.5317</td>\n",
              "                        <td id=\"T_38e75c38_0e3c_11eb_880e_0242ac1c0002row12_col5\" class=\"data row12 col5\" >0.6267</td>\n",
              "                        <td id=\"T_38e75c38_0e3c_11eb_880e_0242ac1c0002row12_col6\" class=\"data row12 col6\" >0.4915</td>\n",
              "                        <td id=\"T_38e75c38_0e3c_11eb_880e_0242ac1c0002row12_col7\" class=\"data row12 col7\" >0.5297</td>\n",
              "                        <td id=\"T_38e75c38_0e3c_11eb_880e_0242ac1c0002row12_col8\" class=\"data row12 col8\" >0.0057</td>\n",
              "            </tr>\n",
              "            <tr>\n",
              "                        <th id=\"T_38e75c38_0e3c_11eb_880e_0242ac1c0002level0_row13\" class=\"row_heading level0 row13\" >13</th>\n",
              "                        <td id=\"T_38e75c38_0e3c_11eb_880e_0242ac1c0002row13_col0\" class=\"data row13 col0\" >K Neighbors Classifier</td>\n",
              "                        <td id=\"T_38e75c38_0e3c_11eb_880e_0242ac1c0002row13_col1\" class=\"data row13 col1\" >0.7191</td>\n",
              "                        <td id=\"T_38e75c38_0e3c_11eb_880e_0242ac1c0002row13_col2\" class=\"data row13 col2\" >0.6503</td>\n",
              "                        <td id=\"T_38e75c38_0e3c_11eb_880e_0242ac1c0002row13_col3\" class=\"data row13 col3\" >0.0000</td>\n",
              "                        <td id=\"T_38e75c38_0e3c_11eb_880e_0242ac1c0002row13_col4\" class=\"data row13 col4\" >0.0000</td>\n",
              "                        <td id=\"T_38e75c38_0e3c_11eb_880e_0242ac1c0002row13_col5\" class=\"data row13 col5\" >0.0000</td>\n",
              "                        <td id=\"T_38e75c38_0e3c_11eb_880e_0242ac1c0002row13_col6\" class=\"data row13 col6\" >-0.0979</td>\n",
              "                        <td id=\"T_38e75c38_0e3c_11eb_880e_0242ac1c0002row13_col7\" class=\"data row13 col7\" >-0.1048</td>\n",
              "                        <td id=\"T_38e75c38_0e3c_11eb_880e_0242ac1c0002row13_col8\" class=\"data row13 col8\" >0.0043</td>\n",
              "            </tr>\n",
              "            <tr>\n",
              "                        <th id=\"T_38e75c38_0e3c_11eb_880e_0242ac1c0002level0_row14\" class=\"row_heading level0 row14\" >14</th>\n",
              "                        <td id=\"T_38e75c38_0e3c_11eb_880e_0242ac1c0002row14_col0\" class=\"data row14 col0\" >SVM - Linear Kernel</td>\n",
              "                        <td id=\"T_38e75c38_0e3c_11eb_880e_0242ac1c0002row14_col1\" class=\"data row14 col1\" >0.7127</td>\n",
              "                        <td id=\"T_38e75c38_0e3c_11eb_880e_0242ac1c0002row14_col2\" class=\"data row14 col2\" >0.0000</td>\n",
              "                        <td id=\"T_38e75c38_0e3c_11eb_880e_0242ac1c0002row14_col3\" class=\"data row14 col3\" >0.3333</td>\n",
              "                        <td id=\"T_38e75c38_0e3c_11eb_880e_0242ac1c0002row14_col4\" class=\"data row14 col4\" >0.3533</td>\n",
              "                        <td id=\"T_38e75c38_0e3c_11eb_880e_0242ac1c0002row14_col5\" class=\"data row14 col5\" >0.3086</td>\n",
              "                        <td id=\"T_38e75c38_0e3c_11eb_880e_0242ac1c0002row14_col6\" class=\"data row14 col6\" >0.1663</td>\n",
              "                        <td id=\"T_38e75c38_0e3c_11eb_880e_0242ac1c0002row14_col7\" class=\"data row14 col7\" >0.1805</td>\n",
              "                        <td id=\"T_38e75c38_0e3c_11eb_880e_0242ac1c0002row14_col8\" class=\"data row14 col8\" >0.0066</td>\n",
              "            </tr>\n",
              "    </tbody></table>"
            ],
            "text/plain": [
              "<pandas.io.formats.style.Styler at 0x7fb1f7a9f940>"
            ]
          },
          "metadata": {
            "tags": []
          }
        },
        {
          "output_type": "execute_result",
          "data": {
            "text/plain": [
              "LogisticRegression(C=1.0, class_weight=None, dual=False, fit_intercept=True,\n",
              "                   intercept_scaling=1, l1_ratio=None, max_iter=100,\n",
              "                   multi_class='auto', n_jobs=None, penalty='l2',\n",
              "                   random_state=5508, solver='lbfgs', tol=0.0001, verbose=0,\n",
              "                   warm_start=False)"
            ]
          },
          "metadata": {
            "tags": []
          },
          "execution_count": 43
        }
      ]
    },
    {
      "cell_type": "code",
      "metadata": {
        "id": "dvPPqx9Z_R2h",
        "outputId": "f207d3a7-f6a7-484d-8778-5ab0e83d6b21",
        "colab": {
          "base_uri": "https://localhost:8080/",
          "height": 292,
          "referenced_widgets": [
            "7cb544b5f01545639378e5d0c3d7a7db",
            "e10e8285a4c84a7ab033d6aa6f70c438",
            "3a361c8d7894493ea88ea8fa5f598d18"
          ]
        }
      },
      "source": [
        "log_model=create_model('lr')"
      ],
      "execution_count": 44,
      "outputs": [
        {
          "output_type": "display_data",
          "data": {
            "text/html": [
              "<style  type=\"text/css\" >\n",
              "#T_97c10876_0e3c_11eb_880e_0242ac1c0002row10_col0,#T_97c10876_0e3c_11eb_880e_0242ac1c0002row10_col1,#T_97c10876_0e3c_11eb_880e_0242ac1c0002row10_col2,#T_97c10876_0e3c_11eb_880e_0242ac1c0002row10_col3,#T_97c10876_0e3c_11eb_880e_0242ac1c0002row10_col4,#T_97c10876_0e3c_11eb_880e_0242ac1c0002row10_col5,#T_97c10876_0e3c_11eb_880e_0242ac1c0002row10_col6{\n",
              "            background:  yellow;\n",
              "        }</style><table id=\"T_97c10876_0e3c_11eb_880e_0242ac1c0002\" ><thead>    <tr>        <th class=\"blank level0\" ></th>        <th class=\"col_heading level0 col0\" >Accuracy</th>        <th class=\"col_heading level0 col1\" >AUC</th>        <th class=\"col_heading level0 col2\" >Recall</th>        <th class=\"col_heading level0 col3\" >Prec.</th>        <th class=\"col_heading level0 col4\" >F1</th>        <th class=\"col_heading level0 col5\" >Kappa</th>        <th class=\"col_heading level0 col6\" >MCC</th>    </tr></thead><tbody>\n",
              "                <tr>\n",
              "                        <th id=\"T_97c10876_0e3c_11eb_880e_0242ac1c0002level0_row0\" class=\"row_heading level0 row0\" >0</th>\n",
              "                        <td id=\"T_97c10876_0e3c_11eb_880e_0242ac1c0002row0_col0\" class=\"data row0 col0\" >0.9091</td>\n",
              "                        <td id=\"T_97c10876_0e3c_11eb_880e_0242ac1c0002row0_col1\" class=\"data row0 col1\" >0.8333</td>\n",
              "                        <td id=\"T_97c10876_0e3c_11eb_880e_0242ac1c0002row0_col2\" class=\"data row0 col2\" >0.5000</td>\n",
              "                        <td id=\"T_97c10876_0e3c_11eb_880e_0242ac1c0002row0_col3\" class=\"data row0 col3\" >1.0000</td>\n",
              "                        <td id=\"T_97c10876_0e3c_11eb_880e_0242ac1c0002row0_col4\" class=\"data row0 col4\" >0.6667</td>\n",
              "                        <td id=\"T_97c10876_0e3c_11eb_880e_0242ac1c0002row0_col5\" class=\"data row0 col5\" >0.6207</td>\n",
              "                        <td id=\"T_97c10876_0e3c_11eb_880e_0242ac1c0002row0_col6\" class=\"data row0 col6\" >0.6708</td>\n",
              "            </tr>\n",
              "            <tr>\n",
              "                        <th id=\"T_97c10876_0e3c_11eb_880e_0242ac1c0002level0_row1\" class=\"row_heading level0 row1\" >1</th>\n",
              "                        <td id=\"T_97c10876_0e3c_11eb_880e_0242ac1c0002row1_col0\" class=\"data row1 col0\" >0.9091</td>\n",
              "                        <td id=\"T_97c10876_0e3c_11eb_880e_0242ac1c0002row1_col1\" class=\"data row1 col1\" >1.0000</td>\n",
              "                        <td id=\"T_97c10876_0e3c_11eb_880e_0242ac1c0002row1_col2\" class=\"data row1 col2\" >0.5000</td>\n",
              "                        <td id=\"T_97c10876_0e3c_11eb_880e_0242ac1c0002row1_col3\" class=\"data row1 col3\" >1.0000</td>\n",
              "                        <td id=\"T_97c10876_0e3c_11eb_880e_0242ac1c0002row1_col4\" class=\"data row1 col4\" >0.6667</td>\n",
              "                        <td id=\"T_97c10876_0e3c_11eb_880e_0242ac1c0002row1_col5\" class=\"data row1 col5\" >0.6207</td>\n",
              "                        <td id=\"T_97c10876_0e3c_11eb_880e_0242ac1c0002row1_col6\" class=\"data row1 col6\" >0.6708</td>\n",
              "            </tr>\n",
              "            <tr>\n",
              "                        <th id=\"T_97c10876_0e3c_11eb_880e_0242ac1c0002level0_row2\" class=\"row_heading level0 row2\" >2</th>\n",
              "                        <td id=\"T_97c10876_0e3c_11eb_880e_0242ac1c0002row2_col0\" class=\"data row2 col0\" >0.9091</td>\n",
              "                        <td id=\"T_97c10876_0e3c_11eb_880e_0242ac1c0002row2_col1\" class=\"data row2 col1\" >1.0000</td>\n",
              "                        <td id=\"T_97c10876_0e3c_11eb_880e_0242ac1c0002row2_col2\" class=\"data row2 col2\" >1.0000</td>\n",
              "                        <td id=\"T_97c10876_0e3c_11eb_880e_0242ac1c0002row2_col3\" class=\"data row2 col3\" >0.6667</td>\n",
              "                        <td id=\"T_97c10876_0e3c_11eb_880e_0242ac1c0002row2_col4\" class=\"data row2 col4\" >0.8000</td>\n",
              "                        <td id=\"T_97c10876_0e3c_11eb_880e_0242ac1c0002row2_col5\" class=\"data row2 col5\" >0.7442</td>\n",
              "                        <td id=\"T_97c10876_0e3c_11eb_880e_0242ac1c0002row2_col6\" class=\"data row2 col6\" >0.7698</td>\n",
              "            </tr>\n",
              "            <tr>\n",
              "                        <th id=\"T_97c10876_0e3c_11eb_880e_0242ac1c0002level0_row3\" class=\"row_heading level0 row3\" >3</th>\n",
              "                        <td id=\"T_97c10876_0e3c_11eb_880e_0242ac1c0002row3_col0\" class=\"data row3 col0\" >0.9091</td>\n",
              "                        <td id=\"T_97c10876_0e3c_11eb_880e_0242ac1c0002row3_col1\" class=\"data row3 col1\" >0.9444</td>\n",
              "                        <td id=\"T_97c10876_0e3c_11eb_880e_0242ac1c0002row3_col2\" class=\"data row3 col2\" >0.5000</td>\n",
              "                        <td id=\"T_97c10876_0e3c_11eb_880e_0242ac1c0002row3_col3\" class=\"data row3 col3\" >1.0000</td>\n",
              "                        <td id=\"T_97c10876_0e3c_11eb_880e_0242ac1c0002row3_col4\" class=\"data row3 col4\" >0.6667</td>\n",
              "                        <td id=\"T_97c10876_0e3c_11eb_880e_0242ac1c0002row3_col5\" class=\"data row3 col5\" >0.6207</td>\n",
              "                        <td id=\"T_97c10876_0e3c_11eb_880e_0242ac1c0002row3_col6\" class=\"data row3 col6\" >0.6708</td>\n",
              "            </tr>\n",
              "            <tr>\n",
              "                        <th id=\"T_97c10876_0e3c_11eb_880e_0242ac1c0002level0_row4\" class=\"row_heading level0 row4\" >4</th>\n",
              "                        <td id=\"T_97c10876_0e3c_11eb_880e_0242ac1c0002row4_col0\" class=\"data row4 col0\" >0.9091</td>\n",
              "                        <td id=\"T_97c10876_0e3c_11eb_880e_0242ac1c0002row4_col1\" class=\"data row4 col1\" >0.8889</td>\n",
              "                        <td id=\"T_97c10876_0e3c_11eb_880e_0242ac1c0002row4_col2\" class=\"data row4 col2\" >1.0000</td>\n",
              "                        <td id=\"T_97c10876_0e3c_11eb_880e_0242ac1c0002row4_col3\" class=\"data row4 col3\" >0.6667</td>\n",
              "                        <td id=\"T_97c10876_0e3c_11eb_880e_0242ac1c0002row4_col4\" class=\"data row4 col4\" >0.8000</td>\n",
              "                        <td id=\"T_97c10876_0e3c_11eb_880e_0242ac1c0002row4_col5\" class=\"data row4 col5\" >0.7442</td>\n",
              "                        <td id=\"T_97c10876_0e3c_11eb_880e_0242ac1c0002row4_col6\" class=\"data row4 col6\" >0.7698</td>\n",
              "            </tr>\n",
              "            <tr>\n",
              "                        <th id=\"T_97c10876_0e3c_11eb_880e_0242ac1c0002level0_row5\" class=\"row_heading level0 row5\" >5</th>\n",
              "                        <td id=\"T_97c10876_0e3c_11eb_880e_0242ac1c0002row5_col0\" class=\"data row5 col0\" >0.8182</td>\n",
              "                        <td id=\"T_97c10876_0e3c_11eb_880e_0242ac1c0002row5_col1\" class=\"data row5 col1\" >0.6250</td>\n",
              "                        <td id=\"T_97c10876_0e3c_11eb_880e_0242ac1c0002row5_col2\" class=\"data row5 col2\" >0.3333</td>\n",
              "                        <td id=\"T_97c10876_0e3c_11eb_880e_0242ac1c0002row5_col3\" class=\"data row5 col3\" >1.0000</td>\n",
              "                        <td id=\"T_97c10876_0e3c_11eb_880e_0242ac1c0002row5_col4\" class=\"data row5 col4\" >0.5000</td>\n",
              "                        <td id=\"T_97c10876_0e3c_11eb_880e_0242ac1c0002row5_col5\" class=\"data row5 col5\" >0.4211</td>\n",
              "                        <td id=\"T_97c10876_0e3c_11eb_880e_0242ac1c0002row5_col6\" class=\"data row5 col6\" >0.5164</td>\n",
              "            </tr>\n",
              "            <tr>\n",
              "                        <th id=\"T_97c10876_0e3c_11eb_880e_0242ac1c0002level0_row6\" class=\"row_heading level0 row6\" >6</th>\n",
              "                        <td id=\"T_97c10876_0e3c_11eb_880e_0242ac1c0002row6_col0\" class=\"data row6 col0\" >0.8182</td>\n",
              "                        <td id=\"T_97c10876_0e3c_11eb_880e_0242ac1c0002row6_col1\" class=\"data row6 col1\" >1.0000</td>\n",
              "                        <td id=\"T_97c10876_0e3c_11eb_880e_0242ac1c0002row6_col2\" class=\"data row6 col2\" >0.3333</td>\n",
              "                        <td id=\"T_97c10876_0e3c_11eb_880e_0242ac1c0002row6_col3\" class=\"data row6 col3\" >1.0000</td>\n",
              "                        <td id=\"T_97c10876_0e3c_11eb_880e_0242ac1c0002row6_col4\" class=\"data row6 col4\" >0.5000</td>\n",
              "                        <td id=\"T_97c10876_0e3c_11eb_880e_0242ac1c0002row6_col5\" class=\"data row6 col5\" >0.4211</td>\n",
              "                        <td id=\"T_97c10876_0e3c_11eb_880e_0242ac1c0002row6_col6\" class=\"data row6 col6\" >0.5164</td>\n",
              "            </tr>\n",
              "            <tr>\n",
              "                        <th id=\"T_97c10876_0e3c_11eb_880e_0242ac1c0002level0_row7\" class=\"row_heading level0 row7\" >7</th>\n",
              "                        <td id=\"T_97c10876_0e3c_11eb_880e_0242ac1c0002row7_col0\" class=\"data row7 col0\" >0.9000</td>\n",
              "                        <td id=\"T_97c10876_0e3c_11eb_880e_0242ac1c0002row7_col1\" class=\"data row7 col1\" >1.0000</td>\n",
              "                        <td id=\"T_97c10876_0e3c_11eb_880e_0242ac1c0002row7_col2\" class=\"data row7 col2\" >0.5000</td>\n",
              "                        <td id=\"T_97c10876_0e3c_11eb_880e_0242ac1c0002row7_col3\" class=\"data row7 col3\" >1.0000</td>\n",
              "                        <td id=\"T_97c10876_0e3c_11eb_880e_0242ac1c0002row7_col4\" class=\"data row7 col4\" >0.6667</td>\n",
              "                        <td id=\"T_97c10876_0e3c_11eb_880e_0242ac1c0002row7_col5\" class=\"data row7 col5\" >0.6154</td>\n",
              "                        <td id=\"T_97c10876_0e3c_11eb_880e_0242ac1c0002row7_col6\" class=\"data row7 col6\" >0.6667</td>\n",
              "            </tr>\n",
              "            <tr>\n",
              "                        <th id=\"T_97c10876_0e3c_11eb_880e_0242ac1c0002level0_row8\" class=\"row_heading level0 row8\" >8</th>\n",
              "                        <td id=\"T_97c10876_0e3c_11eb_880e_0242ac1c0002row8_col0\" class=\"data row8 col0\" >0.7000</td>\n",
              "                        <td id=\"T_97c10876_0e3c_11eb_880e_0242ac1c0002row8_col1\" class=\"data row8 col1\" >0.8750</td>\n",
              "                        <td id=\"T_97c10876_0e3c_11eb_880e_0242ac1c0002row8_col2\" class=\"data row8 col2\" >0.5000</td>\n",
              "                        <td id=\"T_97c10876_0e3c_11eb_880e_0242ac1c0002row8_col3\" class=\"data row8 col3\" >0.3333</td>\n",
              "                        <td id=\"T_97c10876_0e3c_11eb_880e_0242ac1c0002row8_col4\" class=\"data row8 col4\" >0.4000</td>\n",
              "                        <td id=\"T_97c10876_0e3c_11eb_880e_0242ac1c0002row8_col5\" class=\"data row8 col5\" >0.2105</td>\n",
              "                        <td id=\"T_97c10876_0e3c_11eb_880e_0242ac1c0002row8_col6\" class=\"data row8 col6\" >0.2182</td>\n",
              "            </tr>\n",
              "            <tr>\n",
              "                        <th id=\"T_97c10876_0e3c_11eb_880e_0242ac1c0002level0_row9\" class=\"row_heading level0 row9\" >9</th>\n",
              "                        <td id=\"T_97c10876_0e3c_11eb_880e_0242ac1c0002row9_col0\" class=\"data row9 col0\" >0.9000</td>\n",
              "                        <td id=\"T_97c10876_0e3c_11eb_880e_0242ac1c0002row9_col1\" class=\"data row9 col1\" >1.0000</td>\n",
              "                        <td id=\"T_97c10876_0e3c_11eb_880e_0242ac1c0002row9_col2\" class=\"data row9 col2\" >0.5000</td>\n",
              "                        <td id=\"T_97c10876_0e3c_11eb_880e_0242ac1c0002row9_col3\" class=\"data row9 col3\" >1.0000</td>\n",
              "                        <td id=\"T_97c10876_0e3c_11eb_880e_0242ac1c0002row9_col4\" class=\"data row9 col4\" >0.6667</td>\n",
              "                        <td id=\"T_97c10876_0e3c_11eb_880e_0242ac1c0002row9_col5\" class=\"data row9 col5\" >0.6154</td>\n",
              "                        <td id=\"T_97c10876_0e3c_11eb_880e_0242ac1c0002row9_col6\" class=\"data row9 col6\" >0.6667</td>\n",
              "            </tr>\n",
              "            <tr>\n",
              "                        <th id=\"T_97c10876_0e3c_11eb_880e_0242ac1c0002level0_row10\" class=\"row_heading level0 row10\" >Mean</th>\n",
              "                        <td id=\"T_97c10876_0e3c_11eb_880e_0242ac1c0002row10_col0\" class=\"data row10 col0\" >0.8682</td>\n",
              "                        <td id=\"T_97c10876_0e3c_11eb_880e_0242ac1c0002row10_col1\" class=\"data row10 col1\" >0.9167</td>\n",
              "                        <td id=\"T_97c10876_0e3c_11eb_880e_0242ac1c0002row10_col2\" class=\"data row10 col2\" >0.5667</td>\n",
              "                        <td id=\"T_97c10876_0e3c_11eb_880e_0242ac1c0002row10_col3\" class=\"data row10 col3\" >0.8667</td>\n",
              "                        <td id=\"T_97c10876_0e3c_11eb_880e_0242ac1c0002row10_col4\" class=\"data row10 col4\" >0.6333</td>\n",
              "                        <td id=\"T_97c10876_0e3c_11eb_880e_0242ac1c0002row10_col5\" class=\"data row10 col5\" >0.5634</td>\n",
              "                        <td id=\"T_97c10876_0e3c_11eb_880e_0242ac1c0002row10_col6\" class=\"data row10 col6\" >0.6136</td>\n",
              "            </tr>\n",
              "            <tr>\n",
              "                        <th id=\"T_97c10876_0e3c_11eb_880e_0242ac1c0002level0_row11\" class=\"row_heading level0 row11\" >SD</th>\n",
              "                        <td id=\"T_97c10876_0e3c_11eb_880e_0242ac1c0002row11_col0\" class=\"data row11 col0\" >0.0661</td>\n",
              "                        <td id=\"T_97c10876_0e3c_11eb_880e_0242ac1c0002row11_col1\" class=\"data row11 col1\" >0.1140</td>\n",
              "                        <td id=\"T_97c10876_0e3c_11eb_880e_0242ac1c0002row11_col2\" class=\"data row11 col2\" >0.2261</td>\n",
              "                        <td id=\"T_97c10876_0e3c_11eb_880e_0242ac1c0002row11_col3\" class=\"data row11 col3\" >0.2211</td>\n",
              "                        <td id=\"T_97c10876_0e3c_11eb_880e_0242ac1c0002row11_col4\" class=\"data row11 col4\" >0.1229</td>\n",
              "                        <td id=\"T_97c10876_0e3c_11eb_880e_0242ac1c0002row11_col5\" class=\"data row11 col5\" >0.1567</td>\n",
              "                        <td id=\"T_97c10876_0e3c_11eb_880e_0242ac1c0002row11_col6\" class=\"data row11 col6\" >0.1547</td>\n",
              "            </tr>\n",
              "    </tbody></table>"
            ],
            "text/plain": [
              "<pandas.io.formats.style.Styler at 0x7fb200cfe6d8>"
            ]
          },
          "metadata": {
            "tags": []
          }
        }
      ]
    },
    {
      "cell_type": "code",
      "metadata": {
        "id": "2rzZR7pAABXr",
        "outputId": "004c4318-d5de-488a-dc26-11b726d6d958",
        "colab": {
          "base_uri": "https://localhost:8080/",
          "height": 292,
          "referenced_widgets": [
            "14a8e1a2e317498cb664a3212531a88b",
            "578563eefe014b8d8605447642d54a51",
            "87a7e02c134848d99ed62331a6a16b67"
          ]
        }
      },
      "source": [
        "log_model_tune=tune_model(log_model)"
      ],
      "execution_count": 45,
      "outputs": [
        {
          "output_type": "display_data",
          "data": {
            "text/html": [
              "<style  type=\"text/css\" >\n",
              "#T_abf47288_0e3c_11eb_880e_0242ac1c0002row10_col0,#T_abf47288_0e3c_11eb_880e_0242ac1c0002row10_col1,#T_abf47288_0e3c_11eb_880e_0242ac1c0002row10_col2,#T_abf47288_0e3c_11eb_880e_0242ac1c0002row10_col3,#T_abf47288_0e3c_11eb_880e_0242ac1c0002row10_col4,#T_abf47288_0e3c_11eb_880e_0242ac1c0002row10_col5,#T_abf47288_0e3c_11eb_880e_0242ac1c0002row10_col6{\n",
              "            background:  yellow;\n",
              "        }</style><table id=\"T_abf47288_0e3c_11eb_880e_0242ac1c0002\" ><thead>    <tr>        <th class=\"blank level0\" ></th>        <th class=\"col_heading level0 col0\" >Accuracy</th>        <th class=\"col_heading level0 col1\" >AUC</th>        <th class=\"col_heading level0 col2\" >Recall</th>        <th class=\"col_heading level0 col3\" >Prec.</th>        <th class=\"col_heading level0 col4\" >F1</th>        <th class=\"col_heading level0 col5\" >Kappa</th>        <th class=\"col_heading level0 col6\" >MCC</th>    </tr></thead><tbody>\n",
              "                <tr>\n",
              "                        <th id=\"T_abf47288_0e3c_11eb_880e_0242ac1c0002level0_row0\" class=\"row_heading level0 row0\" >0</th>\n",
              "                        <td id=\"T_abf47288_0e3c_11eb_880e_0242ac1c0002row0_col0\" class=\"data row0 col0\" >0.8182</td>\n",
              "                        <td id=\"T_abf47288_0e3c_11eb_880e_0242ac1c0002row0_col1\" class=\"data row0 col1\" >0.7778</td>\n",
              "                        <td id=\"T_abf47288_0e3c_11eb_880e_0242ac1c0002row0_col2\" class=\"data row0 col2\" >0.5000</td>\n",
              "                        <td id=\"T_abf47288_0e3c_11eb_880e_0242ac1c0002row0_col3\" class=\"data row0 col3\" >0.5000</td>\n",
              "                        <td id=\"T_abf47288_0e3c_11eb_880e_0242ac1c0002row0_col4\" class=\"data row0 col4\" >0.5000</td>\n",
              "                        <td id=\"T_abf47288_0e3c_11eb_880e_0242ac1c0002row0_col5\" class=\"data row0 col5\" >0.3889</td>\n",
              "                        <td id=\"T_abf47288_0e3c_11eb_880e_0242ac1c0002row0_col6\" class=\"data row0 col6\" >0.3889</td>\n",
              "            </tr>\n",
              "            <tr>\n",
              "                        <th id=\"T_abf47288_0e3c_11eb_880e_0242ac1c0002level0_row1\" class=\"row_heading level0 row1\" >1</th>\n",
              "                        <td id=\"T_abf47288_0e3c_11eb_880e_0242ac1c0002row1_col0\" class=\"data row1 col0\" >0.9091</td>\n",
              "                        <td id=\"T_abf47288_0e3c_11eb_880e_0242ac1c0002row1_col1\" class=\"data row1 col1\" >1.0000</td>\n",
              "                        <td id=\"T_abf47288_0e3c_11eb_880e_0242ac1c0002row1_col2\" class=\"data row1 col2\" >1.0000</td>\n",
              "                        <td id=\"T_abf47288_0e3c_11eb_880e_0242ac1c0002row1_col3\" class=\"data row1 col3\" >0.6667</td>\n",
              "                        <td id=\"T_abf47288_0e3c_11eb_880e_0242ac1c0002row1_col4\" class=\"data row1 col4\" >0.8000</td>\n",
              "                        <td id=\"T_abf47288_0e3c_11eb_880e_0242ac1c0002row1_col5\" class=\"data row1 col5\" >0.7442</td>\n",
              "                        <td id=\"T_abf47288_0e3c_11eb_880e_0242ac1c0002row1_col6\" class=\"data row1 col6\" >0.7698</td>\n",
              "            </tr>\n",
              "            <tr>\n",
              "                        <th id=\"T_abf47288_0e3c_11eb_880e_0242ac1c0002level0_row2\" class=\"row_heading level0 row2\" >2</th>\n",
              "                        <td id=\"T_abf47288_0e3c_11eb_880e_0242ac1c0002row2_col0\" class=\"data row2 col0\" >0.8182</td>\n",
              "                        <td id=\"T_abf47288_0e3c_11eb_880e_0242ac1c0002row2_col1\" class=\"data row2 col1\" >1.0000</td>\n",
              "                        <td id=\"T_abf47288_0e3c_11eb_880e_0242ac1c0002row2_col2\" class=\"data row2 col2\" >1.0000</td>\n",
              "                        <td id=\"T_abf47288_0e3c_11eb_880e_0242ac1c0002row2_col3\" class=\"data row2 col3\" >0.5000</td>\n",
              "                        <td id=\"T_abf47288_0e3c_11eb_880e_0242ac1c0002row2_col4\" class=\"data row2 col4\" >0.6667</td>\n",
              "                        <td id=\"T_abf47288_0e3c_11eb_880e_0242ac1c0002row2_col5\" class=\"data row2 col5\" >0.5600</td>\n",
              "                        <td id=\"T_abf47288_0e3c_11eb_880e_0242ac1c0002row2_col6\" class=\"data row2 col6\" >0.6236</td>\n",
              "            </tr>\n",
              "            <tr>\n",
              "                        <th id=\"T_abf47288_0e3c_11eb_880e_0242ac1c0002level0_row3\" class=\"row_heading level0 row3\" >3</th>\n",
              "                        <td id=\"T_abf47288_0e3c_11eb_880e_0242ac1c0002row3_col0\" class=\"data row3 col0\" >0.8182</td>\n",
              "                        <td id=\"T_abf47288_0e3c_11eb_880e_0242ac1c0002row3_col1\" class=\"data row3 col1\" >0.9444</td>\n",
              "                        <td id=\"T_abf47288_0e3c_11eb_880e_0242ac1c0002row3_col2\" class=\"data row3 col2\" >0.5000</td>\n",
              "                        <td id=\"T_abf47288_0e3c_11eb_880e_0242ac1c0002row3_col3\" class=\"data row3 col3\" >0.5000</td>\n",
              "                        <td id=\"T_abf47288_0e3c_11eb_880e_0242ac1c0002row3_col4\" class=\"data row3 col4\" >0.5000</td>\n",
              "                        <td id=\"T_abf47288_0e3c_11eb_880e_0242ac1c0002row3_col5\" class=\"data row3 col5\" >0.3889</td>\n",
              "                        <td id=\"T_abf47288_0e3c_11eb_880e_0242ac1c0002row3_col6\" class=\"data row3 col6\" >0.3889</td>\n",
              "            </tr>\n",
              "            <tr>\n",
              "                        <th id=\"T_abf47288_0e3c_11eb_880e_0242ac1c0002level0_row4\" class=\"row_heading level0 row4\" >4</th>\n",
              "                        <td id=\"T_abf47288_0e3c_11eb_880e_0242ac1c0002row4_col0\" class=\"data row4 col0\" >0.8182</td>\n",
              "                        <td id=\"T_abf47288_0e3c_11eb_880e_0242ac1c0002row4_col1\" class=\"data row4 col1\" >0.8889</td>\n",
              "                        <td id=\"T_abf47288_0e3c_11eb_880e_0242ac1c0002row4_col2\" class=\"data row4 col2\" >1.0000</td>\n",
              "                        <td id=\"T_abf47288_0e3c_11eb_880e_0242ac1c0002row4_col3\" class=\"data row4 col3\" >0.5000</td>\n",
              "                        <td id=\"T_abf47288_0e3c_11eb_880e_0242ac1c0002row4_col4\" class=\"data row4 col4\" >0.6667</td>\n",
              "                        <td id=\"T_abf47288_0e3c_11eb_880e_0242ac1c0002row4_col5\" class=\"data row4 col5\" >0.5600</td>\n",
              "                        <td id=\"T_abf47288_0e3c_11eb_880e_0242ac1c0002row4_col6\" class=\"data row4 col6\" >0.6236</td>\n",
              "            </tr>\n",
              "            <tr>\n",
              "                        <th id=\"T_abf47288_0e3c_11eb_880e_0242ac1c0002level0_row5\" class=\"row_heading level0 row5\" >5</th>\n",
              "                        <td id=\"T_abf47288_0e3c_11eb_880e_0242ac1c0002row5_col0\" class=\"data row5 col0\" >0.7273</td>\n",
              "                        <td id=\"T_abf47288_0e3c_11eb_880e_0242ac1c0002row5_col1\" class=\"data row5 col1\" >0.6250</td>\n",
              "                        <td id=\"T_abf47288_0e3c_11eb_880e_0242ac1c0002row5_col2\" class=\"data row5 col2\" >0.6667</td>\n",
              "                        <td id=\"T_abf47288_0e3c_11eb_880e_0242ac1c0002row5_col3\" class=\"data row5 col3\" >0.5000</td>\n",
              "                        <td id=\"T_abf47288_0e3c_11eb_880e_0242ac1c0002row5_col4\" class=\"data row5 col4\" >0.5714</td>\n",
              "                        <td id=\"T_abf47288_0e3c_11eb_880e_0242ac1c0002row5_col5\" class=\"data row5 col5\" >0.3774</td>\n",
              "                        <td id=\"T_abf47288_0e3c_11eb_880e_0242ac1c0002row5_col6\" class=\"data row5 col6\" >0.3858</td>\n",
              "            </tr>\n",
              "            <tr>\n",
              "                        <th id=\"T_abf47288_0e3c_11eb_880e_0242ac1c0002level0_row6\" class=\"row_heading level0 row6\" >6</th>\n",
              "                        <td id=\"T_abf47288_0e3c_11eb_880e_0242ac1c0002row6_col0\" class=\"data row6 col0\" >0.7273</td>\n",
              "                        <td id=\"T_abf47288_0e3c_11eb_880e_0242ac1c0002row6_col1\" class=\"data row6 col1\" >0.9167</td>\n",
              "                        <td id=\"T_abf47288_0e3c_11eb_880e_0242ac1c0002row6_col2\" class=\"data row6 col2\" >0.3333</td>\n",
              "                        <td id=\"T_abf47288_0e3c_11eb_880e_0242ac1c0002row6_col3\" class=\"data row6 col3\" >0.5000</td>\n",
              "                        <td id=\"T_abf47288_0e3c_11eb_880e_0242ac1c0002row6_col4\" class=\"data row6 col4\" >0.4000</td>\n",
              "                        <td id=\"T_abf47288_0e3c_11eb_880e_0242ac1c0002row6_col5\" class=\"data row6 col5\" >0.2326</td>\n",
              "                        <td id=\"T_abf47288_0e3c_11eb_880e_0242ac1c0002row6_col6\" class=\"data row6 col6\" >0.2406</td>\n",
              "            </tr>\n",
              "            <tr>\n",
              "                        <th id=\"T_abf47288_0e3c_11eb_880e_0242ac1c0002level0_row7\" class=\"row_heading level0 row7\" >7</th>\n",
              "                        <td id=\"T_abf47288_0e3c_11eb_880e_0242ac1c0002row7_col0\" class=\"data row7 col0\" >0.9000</td>\n",
              "                        <td id=\"T_abf47288_0e3c_11eb_880e_0242ac1c0002row7_col1\" class=\"data row7 col1\" >1.0000</td>\n",
              "                        <td id=\"T_abf47288_0e3c_11eb_880e_0242ac1c0002row7_col2\" class=\"data row7 col2\" >0.5000</td>\n",
              "                        <td id=\"T_abf47288_0e3c_11eb_880e_0242ac1c0002row7_col3\" class=\"data row7 col3\" >1.0000</td>\n",
              "                        <td id=\"T_abf47288_0e3c_11eb_880e_0242ac1c0002row7_col4\" class=\"data row7 col4\" >0.6667</td>\n",
              "                        <td id=\"T_abf47288_0e3c_11eb_880e_0242ac1c0002row7_col5\" class=\"data row7 col5\" >0.6154</td>\n",
              "                        <td id=\"T_abf47288_0e3c_11eb_880e_0242ac1c0002row7_col6\" class=\"data row7 col6\" >0.6667</td>\n",
              "            </tr>\n",
              "            <tr>\n",
              "                        <th id=\"T_abf47288_0e3c_11eb_880e_0242ac1c0002level0_row8\" class=\"row_heading level0 row8\" >8</th>\n",
              "                        <td id=\"T_abf47288_0e3c_11eb_880e_0242ac1c0002row8_col0\" class=\"data row8 col0\" >0.8000</td>\n",
              "                        <td id=\"T_abf47288_0e3c_11eb_880e_0242ac1c0002row8_col1\" class=\"data row8 col1\" >0.9375</td>\n",
              "                        <td id=\"T_abf47288_0e3c_11eb_880e_0242ac1c0002row8_col2\" class=\"data row8 col2\" >1.0000</td>\n",
              "                        <td id=\"T_abf47288_0e3c_11eb_880e_0242ac1c0002row8_col3\" class=\"data row8 col3\" >0.5000</td>\n",
              "                        <td id=\"T_abf47288_0e3c_11eb_880e_0242ac1c0002row8_col4\" class=\"data row8 col4\" >0.6667</td>\n",
              "                        <td id=\"T_abf47288_0e3c_11eb_880e_0242ac1c0002row8_col5\" class=\"data row8 col5\" >0.5455</td>\n",
              "                        <td id=\"T_abf47288_0e3c_11eb_880e_0242ac1c0002row8_col6\" class=\"data row8 col6\" >0.6124</td>\n",
              "            </tr>\n",
              "            <tr>\n",
              "                        <th id=\"T_abf47288_0e3c_11eb_880e_0242ac1c0002level0_row9\" class=\"row_heading level0 row9\" >9</th>\n",
              "                        <td id=\"T_abf47288_0e3c_11eb_880e_0242ac1c0002row9_col0\" class=\"data row9 col0\" >0.9000</td>\n",
              "                        <td id=\"T_abf47288_0e3c_11eb_880e_0242ac1c0002row9_col1\" class=\"data row9 col1\" >0.9375</td>\n",
              "                        <td id=\"T_abf47288_0e3c_11eb_880e_0242ac1c0002row9_col2\" class=\"data row9 col2\" >0.5000</td>\n",
              "                        <td id=\"T_abf47288_0e3c_11eb_880e_0242ac1c0002row9_col3\" class=\"data row9 col3\" >1.0000</td>\n",
              "                        <td id=\"T_abf47288_0e3c_11eb_880e_0242ac1c0002row9_col4\" class=\"data row9 col4\" >0.6667</td>\n",
              "                        <td id=\"T_abf47288_0e3c_11eb_880e_0242ac1c0002row9_col5\" class=\"data row9 col5\" >0.6154</td>\n",
              "                        <td id=\"T_abf47288_0e3c_11eb_880e_0242ac1c0002row9_col6\" class=\"data row9 col6\" >0.6667</td>\n",
              "            </tr>\n",
              "            <tr>\n",
              "                        <th id=\"T_abf47288_0e3c_11eb_880e_0242ac1c0002level0_row10\" class=\"row_heading level0 row10\" >Mean</th>\n",
              "                        <td id=\"T_abf47288_0e3c_11eb_880e_0242ac1c0002row10_col0\" class=\"data row10 col0\" >0.8236</td>\n",
              "                        <td id=\"T_abf47288_0e3c_11eb_880e_0242ac1c0002row10_col1\" class=\"data row10 col1\" >0.9028</td>\n",
              "                        <td id=\"T_abf47288_0e3c_11eb_880e_0242ac1c0002row10_col2\" class=\"data row10 col2\" >0.7000</td>\n",
              "                        <td id=\"T_abf47288_0e3c_11eb_880e_0242ac1c0002row10_col3\" class=\"data row10 col3\" >0.6167</td>\n",
              "                        <td id=\"T_abf47288_0e3c_11eb_880e_0242ac1c0002row10_col4\" class=\"data row10 col4\" >0.6105</td>\n",
              "                        <td id=\"T_abf47288_0e3c_11eb_880e_0242ac1c0002row10_col5\" class=\"data row10 col5\" >0.5028</td>\n",
              "                        <td id=\"T_abf47288_0e3c_11eb_880e_0242ac1c0002row10_col6\" class=\"data row10 col6\" >0.5367</td>\n",
              "            </tr>\n",
              "            <tr>\n",
              "                        <th id=\"T_abf47288_0e3c_11eb_880e_0242ac1c0002level0_row11\" class=\"row_heading level0 row11\" >SD</th>\n",
              "                        <td id=\"T_abf47288_0e3c_11eb_880e_0242ac1c0002row11_col0\" class=\"data row11 col0\" >0.0618</td>\n",
              "                        <td id=\"T_abf47288_0e3c_11eb_880e_0242ac1c0002row11_col1\" class=\"data row11 col1\" >0.1121</td>\n",
              "                        <td id=\"T_abf47288_0e3c_11eb_880e_0242ac1c0002row11_col2\" class=\"data row11 col2\" >0.2560</td>\n",
              "                        <td id=\"T_abf47288_0e3c_11eb_880e_0242ac1c0002row11_col3\" class=\"data row11 col3\" >0.1979</td>\n",
              "                        <td id=\"T_abf47288_0e3c_11eb_880e_0242ac1c0002row11_col4\" class=\"data row11 col4\" >0.1104</td>\n",
              "                        <td id=\"T_abf47288_0e3c_11eb_880e_0242ac1c0002row11_col5\" class=\"data row11 col5\" >0.1438</td>\n",
              "                        <td id=\"T_abf47288_0e3c_11eb_880e_0242ac1c0002row11_col6\" class=\"data row11 col6\" >0.1622</td>\n",
              "            </tr>\n",
              "    </tbody></table>"
            ],
            "text/plain": [
              "<pandas.io.formats.style.Styler at 0x7fb1ff2ce240>"
            ]
          },
          "metadata": {
            "tags": []
          }
        }
      ]
    },
    {
      "cell_type": "code",
      "metadata": {
        "id": "aXzdWTAcAJMJ",
        "outputId": "a34df57f-8650-4324-f2c6-16ab66e2889e",
        "colab": {
          "base_uri": "https://localhost:8080/",
          "height": 204
        }
      },
      "source": [
        "pokemon=get_data('pokemon')"
      ],
      "execution_count": 46,
      "outputs": [
        {
          "output_type": "display_data",
          "data": {
            "text/html": [
              "<div>\n",
              "<style scoped>\n",
              "    .dataframe tbody tr th:only-of-type {\n",
              "        vertical-align: middle;\n",
              "    }\n",
              "\n",
              "    .dataframe tbody tr th {\n",
              "        vertical-align: top;\n",
              "    }\n",
              "\n",
              "    .dataframe thead th {\n",
              "        text-align: right;\n",
              "    }\n",
              "</style>\n",
              "<table border=\"1\" class=\"dataframe\">\n",
              "  <thead>\n",
              "    <tr style=\"text-align: right;\">\n",
              "      <th></th>\n",
              "      <th>#</th>\n",
              "      <th>Name</th>\n",
              "      <th>Type 1</th>\n",
              "      <th>Type 2</th>\n",
              "      <th>Total</th>\n",
              "      <th>HP</th>\n",
              "      <th>Attack</th>\n",
              "      <th>Defense</th>\n",
              "      <th>Sp. Atk</th>\n",
              "      <th>Sp. Def</th>\n",
              "      <th>Speed</th>\n",
              "      <th>Generation</th>\n",
              "      <th>Legendary</th>\n",
              "    </tr>\n",
              "  </thead>\n",
              "  <tbody>\n",
              "    <tr>\n",
              "      <th>0</th>\n",
              "      <td>1</td>\n",
              "      <td>Bulbasaur</td>\n",
              "      <td>Grass</td>\n",
              "      <td>Poison</td>\n",
              "      <td>318</td>\n",
              "      <td>45</td>\n",
              "      <td>49</td>\n",
              "      <td>49</td>\n",
              "      <td>65</td>\n",
              "      <td>65</td>\n",
              "      <td>45</td>\n",
              "      <td>1</td>\n",
              "      <td>False</td>\n",
              "    </tr>\n",
              "    <tr>\n",
              "      <th>1</th>\n",
              "      <td>2</td>\n",
              "      <td>Ivysaur</td>\n",
              "      <td>Grass</td>\n",
              "      <td>Poison</td>\n",
              "      <td>405</td>\n",
              "      <td>60</td>\n",
              "      <td>62</td>\n",
              "      <td>63</td>\n",
              "      <td>80</td>\n",
              "      <td>80</td>\n",
              "      <td>60</td>\n",
              "      <td>1</td>\n",
              "      <td>False</td>\n",
              "    </tr>\n",
              "    <tr>\n",
              "      <th>2</th>\n",
              "      <td>3</td>\n",
              "      <td>Venusaur</td>\n",
              "      <td>Grass</td>\n",
              "      <td>Poison</td>\n",
              "      <td>525</td>\n",
              "      <td>80</td>\n",
              "      <td>82</td>\n",
              "      <td>83</td>\n",
              "      <td>100</td>\n",
              "      <td>100</td>\n",
              "      <td>80</td>\n",
              "      <td>1</td>\n",
              "      <td>False</td>\n",
              "    </tr>\n",
              "    <tr>\n",
              "      <th>3</th>\n",
              "      <td>3</td>\n",
              "      <td>VenusaurMega Venusaur</td>\n",
              "      <td>Grass</td>\n",
              "      <td>Poison</td>\n",
              "      <td>625</td>\n",
              "      <td>80</td>\n",
              "      <td>100</td>\n",
              "      <td>123</td>\n",
              "      <td>122</td>\n",
              "      <td>120</td>\n",
              "      <td>80</td>\n",
              "      <td>1</td>\n",
              "      <td>False</td>\n",
              "    </tr>\n",
              "    <tr>\n",
              "      <th>4</th>\n",
              "      <td>4</td>\n",
              "      <td>Charmander</td>\n",
              "      <td>Fire</td>\n",
              "      <td>NaN</td>\n",
              "      <td>309</td>\n",
              "      <td>39</td>\n",
              "      <td>52</td>\n",
              "      <td>43</td>\n",
              "      <td>60</td>\n",
              "      <td>50</td>\n",
              "      <td>65</td>\n",
              "      <td>1</td>\n",
              "      <td>False</td>\n",
              "    </tr>\n",
              "  </tbody>\n",
              "</table>\n",
              "</div>"
            ],
            "text/plain": [
              "   #                   Name Type 1  ... Speed  Generation  Legendary\n",
              "0  1              Bulbasaur  Grass  ...    45           1      False\n",
              "1  2                Ivysaur  Grass  ...    60           1      False\n",
              "2  3               Venusaur  Grass  ...    80           1      False\n",
              "3  3  VenusaurMega Venusaur  Grass  ...    80           1      False\n",
              "4  4             Charmander   Fire  ...    65           1      False\n",
              "\n",
              "[5 rows x 13 columns]"
            ]
          },
          "metadata": {
            "tags": []
          }
        }
      ]
    },
    {
      "cell_type": "code",
      "metadata": {
        "id": "H2oerK4wAbey",
        "outputId": "afecf408-dbec-48de-8681-4dc04a2cecc3",
        "colab": {
          "base_uri": "https://localhost:8080/",
          "height": 981,
          "referenced_widgets": [
            "9addd890f0784fbfbc0921205952e64a",
            "74b6cc6c404f48638db7f295302966bf",
            "31f490d8ecdb4e0cae7ce8dfb12fcb87",
            "6e802b64276b4c2fb7b6e9d65a96d25b",
            "6df2a6d9c4a446e5b0a02c20dc1e0a87",
            "31df6720458c4802b06765e11ef9c819"
          ]
        }
      },
      "source": [
        "clf=setup(data=pokemon,target='Legendary',train_size=0.75,ignore_features=['#','Name'],normalize=True,remove_outliers=True,remove_multicollinearity=True,polynomial_features=True,trigonometry_features=True,feature_selection=True,fix_imbalance=True)"
      ],
      "execution_count": 47,
      "outputs": [
        {
          "output_type": "stream",
          "text": [
            "Setup Succesfully Completed!\n"
          ],
          "name": "stdout"
        },
        {
          "output_type": "display_data",
          "data": {
            "text/html": [
              "<style  type=\"text/css\" >\n",
              "#T_76551492_0e3d_11eb_880e_0242ac1c0002row4_col1,#T_76551492_0e3d_11eb_880e_0242ac1c0002row15_col1,#T_76551492_0e3d_11eb_880e_0242ac1c0002row26_col1,#T_76551492_0e3d_11eb_880e_0242ac1c0002row28_col1,#T_76551492_0e3d_11eb_880e_0242ac1c0002row32_col1,#T_76551492_0e3d_11eb_880e_0242ac1c0002row34_col1,#T_76551492_0e3d_11eb_880e_0242ac1c0002row37_col1,#T_76551492_0e3d_11eb_880e_0242ac1c0002row42_col1{\n",
              "            background-color:  lightgreen;\n",
              "        }</style><table id=\"T_76551492_0e3d_11eb_880e_0242ac1c0002\" ><thead>    <tr>        <th class=\"blank level0\" ></th>        <th class=\"col_heading level0 col0\" >Description</th>        <th class=\"col_heading level0 col1\" >Value</th>    </tr></thead><tbody>\n",
              "                <tr>\n",
              "                        <th id=\"T_76551492_0e3d_11eb_880e_0242ac1c0002level0_row0\" class=\"row_heading level0 row0\" >0</th>\n",
              "                        <td id=\"T_76551492_0e3d_11eb_880e_0242ac1c0002row0_col0\" class=\"data row0 col0\" >session_id</td>\n",
              "                        <td id=\"T_76551492_0e3d_11eb_880e_0242ac1c0002row0_col1\" class=\"data row0 col1\" >4050</td>\n",
              "            </tr>\n",
              "            <tr>\n",
              "                        <th id=\"T_76551492_0e3d_11eb_880e_0242ac1c0002level0_row1\" class=\"row_heading level0 row1\" >1</th>\n",
              "                        <td id=\"T_76551492_0e3d_11eb_880e_0242ac1c0002row1_col0\" class=\"data row1 col0\" >Target Type</td>\n",
              "                        <td id=\"T_76551492_0e3d_11eb_880e_0242ac1c0002row1_col1\" class=\"data row1 col1\" >Binary</td>\n",
              "            </tr>\n",
              "            <tr>\n",
              "                        <th id=\"T_76551492_0e3d_11eb_880e_0242ac1c0002level0_row2\" class=\"row_heading level0 row2\" >2</th>\n",
              "                        <td id=\"T_76551492_0e3d_11eb_880e_0242ac1c0002row2_col0\" class=\"data row2 col0\" >Label Encoded</td>\n",
              "                        <td id=\"T_76551492_0e3d_11eb_880e_0242ac1c0002row2_col1\" class=\"data row2 col1\" >False: 0, True: 1</td>\n",
              "            </tr>\n",
              "            <tr>\n",
              "                        <th id=\"T_76551492_0e3d_11eb_880e_0242ac1c0002level0_row3\" class=\"row_heading level0 row3\" >3</th>\n",
              "                        <td id=\"T_76551492_0e3d_11eb_880e_0242ac1c0002row3_col0\" class=\"data row3 col0\" >Original Data</td>\n",
              "                        <td id=\"T_76551492_0e3d_11eb_880e_0242ac1c0002row3_col1\" class=\"data row3 col1\" >(800, 13)</td>\n",
              "            </tr>\n",
              "            <tr>\n",
              "                        <th id=\"T_76551492_0e3d_11eb_880e_0242ac1c0002level0_row4\" class=\"row_heading level0 row4\" >4</th>\n",
              "                        <td id=\"T_76551492_0e3d_11eb_880e_0242ac1c0002row4_col0\" class=\"data row4 col0\" >Missing Values </td>\n",
              "                        <td id=\"T_76551492_0e3d_11eb_880e_0242ac1c0002row4_col1\" class=\"data row4 col1\" >True</td>\n",
              "            </tr>\n",
              "            <tr>\n",
              "                        <th id=\"T_76551492_0e3d_11eb_880e_0242ac1c0002level0_row5\" class=\"row_heading level0 row5\" >5</th>\n",
              "                        <td id=\"T_76551492_0e3d_11eb_880e_0242ac1c0002row5_col0\" class=\"data row5 col0\" >Numeric Features </td>\n",
              "                        <td id=\"T_76551492_0e3d_11eb_880e_0242ac1c0002row5_col1\" class=\"data row5 col1\" >8</td>\n",
              "            </tr>\n",
              "            <tr>\n",
              "                        <th id=\"T_76551492_0e3d_11eb_880e_0242ac1c0002level0_row6\" class=\"row_heading level0 row6\" >6</th>\n",
              "                        <td id=\"T_76551492_0e3d_11eb_880e_0242ac1c0002row6_col0\" class=\"data row6 col0\" >Categorical Features </td>\n",
              "                        <td id=\"T_76551492_0e3d_11eb_880e_0242ac1c0002row6_col1\" class=\"data row6 col1\" >4</td>\n",
              "            </tr>\n",
              "            <tr>\n",
              "                        <th id=\"T_76551492_0e3d_11eb_880e_0242ac1c0002level0_row7\" class=\"row_heading level0 row7\" >7</th>\n",
              "                        <td id=\"T_76551492_0e3d_11eb_880e_0242ac1c0002row7_col0\" class=\"data row7 col0\" >Ordinal Features </td>\n",
              "                        <td id=\"T_76551492_0e3d_11eb_880e_0242ac1c0002row7_col1\" class=\"data row7 col1\" >False</td>\n",
              "            </tr>\n",
              "            <tr>\n",
              "                        <th id=\"T_76551492_0e3d_11eb_880e_0242ac1c0002level0_row8\" class=\"row_heading level0 row8\" >8</th>\n",
              "                        <td id=\"T_76551492_0e3d_11eb_880e_0242ac1c0002row8_col0\" class=\"data row8 col0\" >High Cardinality Features </td>\n",
              "                        <td id=\"T_76551492_0e3d_11eb_880e_0242ac1c0002row8_col1\" class=\"data row8 col1\" >False</td>\n",
              "            </tr>\n",
              "            <tr>\n",
              "                        <th id=\"T_76551492_0e3d_11eb_880e_0242ac1c0002level0_row9\" class=\"row_heading level0 row9\" >9</th>\n",
              "                        <td id=\"T_76551492_0e3d_11eb_880e_0242ac1c0002row9_col0\" class=\"data row9 col0\" >High Cardinality Method </td>\n",
              "                        <td id=\"T_76551492_0e3d_11eb_880e_0242ac1c0002row9_col1\" class=\"data row9 col1\" >None</td>\n",
              "            </tr>\n",
              "            <tr>\n",
              "                        <th id=\"T_76551492_0e3d_11eb_880e_0242ac1c0002level0_row10\" class=\"row_heading level0 row10\" >10</th>\n",
              "                        <td id=\"T_76551492_0e3d_11eb_880e_0242ac1c0002row10_col0\" class=\"data row10 col0\" >Sampled Data</td>\n",
              "                        <td id=\"T_76551492_0e3d_11eb_880e_0242ac1c0002row10_col1\" class=\"data row10 col1\" >(760, 13)</td>\n",
              "            </tr>\n",
              "            <tr>\n",
              "                        <th id=\"T_76551492_0e3d_11eb_880e_0242ac1c0002level0_row11\" class=\"row_heading level0 row11\" >11</th>\n",
              "                        <td id=\"T_76551492_0e3d_11eb_880e_0242ac1c0002row11_col0\" class=\"data row11 col0\" >Transformed Train Set</td>\n",
              "                        <td id=\"T_76551492_0e3d_11eb_880e_0242ac1c0002row11_col1\" class=\"data row11 col1\" >(570, 44)</td>\n",
              "            </tr>\n",
              "            <tr>\n",
              "                        <th id=\"T_76551492_0e3d_11eb_880e_0242ac1c0002level0_row12\" class=\"row_heading level0 row12\" >12</th>\n",
              "                        <td id=\"T_76551492_0e3d_11eb_880e_0242ac1c0002row12_col0\" class=\"data row12 col0\" >Transformed Test Set</td>\n",
              "                        <td id=\"T_76551492_0e3d_11eb_880e_0242ac1c0002row12_col1\" class=\"data row12 col1\" >(190, 44)</td>\n",
              "            </tr>\n",
              "            <tr>\n",
              "                        <th id=\"T_76551492_0e3d_11eb_880e_0242ac1c0002level0_row13\" class=\"row_heading level0 row13\" >13</th>\n",
              "                        <td id=\"T_76551492_0e3d_11eb_880e_0242ac1c0002row13_col0\" class=\"data row13 col0\" >Numeric Imputer </td>\n",
              "                        <td id=\"T_76551492_0e3d_11eb_880e_0242ac1c0002row13_col1\" class=\"data row13 col1\" >mean</td>\n",
              "            </tr>\n",
              "            <tr>\n",
              "                        <th id=\"T_76551492_0e3d_11eb_880e_0242ac1c0002level0_row14\" class=\"row_heading level0 row14\" >14</th>\n",
              "                        <td id=\"T_76551492_0e3d_11eb_880e_0242ac1c0002row14_col0\" class=\"data row14 col0\" >Categorical Imputer </td>\n",
              "                        <td id=\"T_76551492_0e3d_11eb_880e_0242ac1c0002row14_col1\" class=\"data row14 col1\" >constant</td>\n",
              "            </tr>\n",
              "            <tr>\n",
              "                        <th id=\"T_76551492_0e3d_11eb_880e_0242ac1c0002level0_row15\" class=\"row_heading level0 row15\" >15</th>\n",
              "                        <td id=\"T_76551492_0e3d_11eb_880e_0242ac1c0002row15_col0\" class=\"data row15 col0\" >Normalize </td>\n",
              "                        <td id=\"T_76551492_0e3d_11eb_880e_0242ac1c0002row15_col1\" class=\"data row15 col1\" >True</td>\n",
              "            </tr>\n",
              "            <tr>\n",
              "                        <th id=\"T_76551492_0e3d_11eb_880e_0242ac1c0002level0_row16\" class=\"row_heading level0 row16\" >16</th>\n",
              "                        <td id=\"T_76551492_0e3d_11eb_880e_0242ac1c0002row16_col0\" class=\"data row16 col0\" >Normalize Method </td>\n",
              "                        <td id=\"T_76551492_0e3d_11eb_880e_0242ac1c0002row16_col1\" class=\"data row16 col1\" >zscore</td>\n",
              "            </tr>\n",
              "            <tr>\n",
              "                        <th id=\"T_76551492_0e3d_11eb_880e_0242ac1c0002level0_row17\" class=\"row_heading level0 row17\" >17</th>\n",
              "                        <td id=\"T_76551492_0e3d_11eb_880e_0242ac1c0002row17_col0\" class=\"data row17 col0\" >Transformation </td>\n",
              "                        <td id=\"T_76551492_0e3d_11eb_880e_0242ac1c0002row17_col1\" class=\"data row17 col1\" >False</td>\n",
              "            </tr>\n",
              "            <tr>\n",
              "                        <th id=\"T_76551492_0e3d_11eb_880e_0242ac1c0002level0_row18\" class=\"row_heading level0 row18\" >18</th>\n",
              "                        <td id=\"T_76551492_0e3d_11eb_880e_0242ac1c0002row18_col0\" class=\"data row18 col0\" >Transformation Method </td>\n",
              "                        <td id=\"T_76551492_0e3d_11eb_880e_0242ac1c0002row18_col1\" class=\"data row18 col1\" >None</td>\n",
              "            </tr>\n",
              "            <tr>\n",
              "                        <th id=\"T_76551492_0e3d_11eb_880e_0242ac1c0002level0_row19\" class=\"row_heading level0 row19\" >19</th>\n",
              "                        <td id=\"T_76551492_0e3d_11eb_880e_0242ac1c0002row19_col0\" class=\"data row19 col0\" >PCA </td>\n",
              "                        <td id=\"T_76551492_0e3d_11eb_880e_0242ac1c0002row19_col1\" class=\"data row19 col1\" >False</td>\n",
              "            </tr>\n",
              "            <tr>\n",
              "                        <th id=\"T_76551492_0e3d_11eb_880e_0242ac1c0002level0_row20\" class=\"row_heading level0 row20\" >20</th>\n",
              "                        <td id=\"T_76551492_0e3d_11eb_880e_0242ac1c0002row20_col0\" class=\"data row20 col0\" >PCA Method </td>\n",
              "                        <td id=\"T_76551492_0e3d_11eb_880e_0242ac1c0002row20_col1\" class=\"data row20 col1\" >None</td>\n",
              "            </tr>\n",
              "            <tr>\n",
              "                        <th id=\"T_76551492_0e3d_11eb_880e_0242ac1c0002level0_row21\" class=\"row_heading level0 row21\" >21</th>\n",
              "                        <td id=\"T_76551492_0e3d_11eb_880e_0242ac1c0002row21_col0\" class=\"data row21 col0\" >PCA Components </td>\n",
              "                        <td id=\"T_76551492_0e3d_11eb_880e_0242ac1c0002row21_col1\" class=\"data row21 col1\" >None</td>\n",
              "            </tr>\n",
              "            <tr>\n",
              "                        <th id=\"T_76551492_0e3d_11eb_880e_0242ac1c0002level0_row22\" class=\"row_heading level0 row22\" >22</th>\n",
              "                        <td id=\"T_76551492_0e3d_11eb_880e_0242ac1c0002row22_col0\" class=\"data row22 col0\" >Ignore Low Variance </td>\n",
              "                        <td id=\"T_76551492_0e3d_11eb_880e_0242ac1c0002row22_col1\" class=\"data row22 col1\" >False</td>\n",
              "            </tr>\n",
              "            <tr>\n",
              "                        <th id=\"T_76551492_0e3d_11eb_880e_0242ac1c0002level0_row23\" class=\"row_heading level0 row23\" >23</th>\n",
              "                        <td id=\"T_76551492_0e3d_11eb_880e_0242ac1c0002row23_col0\" class=\"data row23 col0\" >Combine Rare Levels </td>\n",
              "                        <td id=\"T_76551492_0e3d_11eb_880e_0242ac1c0002row23_col1\" class=\"data row23 col1\" >False</td>\n",
              "            </tr>\n",
              "            <tr>\n",
              "                        <th id=\"T_76551492_0e3d_11eb_880e_0242ac1c0002level0_row24\" class=\"row_heading level0 row24\" >24</th>\n",
              "                        <td id=\"T_76551492_0e3d_11eb_880e_0242ac1c0002row24_col0\" class=\"data row24 col0\" >Rare Level Threshold </td>\n",
              "                        <td id=\"T_76551492_0e3d_11eb_880e_0242ac1c0002row24_col1\" class=\"data row24 col1\" >None</td>\n",
              "            </tr>\n",
              "            <tr>\n",
              "                        <th id=\"T_76551492_0e3d_11eb_880e_0242ac1c0002level0_row25\" class=\"row_heading level0 row25\" >25</th>\n",
              "                        <td id=\"T_76551492_0e3d_11eb_880e_0242ac1c0002row25_col0\" class=\"data row25 col0\" >Numeric Binning </td>\n",
              "                        <td id=\"T_76551492_0e3d_11eb_880e_0242ac1c0002row25_col1\" class=\"data row25 col1\" >False</td>\n",
              "            </tr>\n",
              "            <tr>\n",
              "                        <th id=\"T_76551492_0e3d_11eb_880e_0242ac1c0002level0_row26\" class=\"row_heading level0 row26\" >26</th>\n",
              "                        <td id=\"T_76551492_0e3d_11eb_880e_0242ac1c0002row26_col0\" class=\"data row26 col0\" >Remove Outliers </td>\n",
              "                        <td id=\"T_76551492_0e3d_11eb_880e_0242ac1c0002row26_col1\" class=\"data row26 col1\" >True</td>\n",
              "            </tr>\n",
              "            <tr>\n",
              "                        <th id=\"T_76551492_0e3d_11eb_880e_0242ac1c0002level0_row27\" class=\"row_heading level0 row27\" >27</th>\n",
              "                        <td id=\"T_76551492_0e3d_11eb_880e_0242ac1c0002row27_col0\" class=\"data row27 col0\" >Outliers Threshold </td>\n",
              "                        <td id=\"T_76551492_0e3d_11eb_880e_0242ac1c0002row27_col1\" class=\"data row27 col1\" >0.050000</td>\n",
              "            </tr>\n",
              "            <tr>\n",
              "                        <th id=\"T_76551492_0e3d_11eb_880e_0242ac1c0002level0_row28\" class=\"row_heading level0 row28\" >28</th>\n",
              "                        <td id=\"T_76551492_0e3d_11eb_880e_0242ac1c0002row28_col0\" class=\"data row28 col0\" >Remove Multicollinearity </td>\n",
              "                        <td id=\"T_76551492_0e3d_11eb_880e_0242ac1c0002row28_col1\" class=\"data row28 col1\" >True</td>\n",
              "            </tr>\n",
              "            <tr>\n",
              "                        <th id=\"T_76551492_0e3d_11eb_880e_0242ac1c0002level0_row29\" class=\"row_heading level0 row29\" >29</th>\n",
              "                        <td id=\"T_76551492_0e3d_11eb_880e_0242ac1c0002row29_col0\" class=\"data row29 col0\" >Multicollinearity Threshold </td>\n",
              "                        <td id=\"T_76551492_0e3d_11eb_880e_0242ac1c0002row29_col1\" class=\"data row29 col1\" >0.900000</td>\n",
              "            </tr>\n",
              "            <tr>\n",
              "                        <th id=\"T_76551492_0e3d_11eb_880e_0242ac1c0002level0_row30\" class=\"row_heading level0 row30\" >30</th>\n",
              "                        <td id=\"T_76551492_0e3d_11eb_880e_0242ac1c0002row30_col0\" class=\"data row30 col0\" >Clustering </td>\n",
              "                        <td id=\"T_76551492_0e3d_11eb_880e_0242ac1c0002row30_col1\" class=\"data row30 col1\" >False</td>\n",
              "            </tr>\n",
              "            <tr>\n",
              "                        <th id=\"T_76551492_0e3d_11eb_880e_0242ac1c0002level0_row31\" class=\"row_heading level0 row31\" >31</th>\n",
              "                        <td id=\"T_76551492_0e3d_11eb_880e_0242ac1c0002row31_col0\" class=\"data row31 col0\" >Clustering Iteration </td>\n",
              "                        <td id=\"T_76551492_0e3d_11eb_880e_0242ac1c0002row31_col1\" class=\"data row31 col1\" >None</td>\n",
              "            </tr>\n",
              "            <tr>\n",
              "                        <th id=\"T_76551492_0e3d_11eb_880e_0242ac1c0002level0_row32\" class=\"row_heading level0 row32\" >32</th>\n",
              "                        <td id=\"T_76551492_0e3d_11eb_880e_0242ac1c0002row32_col0\" class=\"data row32 col0\" >Polynomial Features </td>\n",
              "                        <td id=\"T_76551492_0e3d_11eb_880e_0242ac1c0002row32_col1\" class=\"data row32 col1\" >True</td>\n",
              "            </tr>\n",
              "            <tr>\n",
              "                        <th id=\"T_76551492_0e3d_11eb_880e_0242ac1c0002level0_row33\" class=\"row_heading level0 row33\" >33</th>\n",
              "                        <td id=\"T_76551492_0e3d_11eb_880e_0242ac1c0002row33_col0\" class=\"data row33 col0\" >Polynomial Degree </td>\n",
              "                        <td id=\"T_76551492_0e3d_11eb_880e_0242ac1c0002row33_col1\" class=\"data row33 col1\" >2</td>\n",
              "            </tr>\n",
              "            <tr>\n",
              "                        <th id=\"T_76551492_0e3d_11eb_880e_0242ac1c0002level0_row34\" class=\"row_heading level0 row34\" >34</th>\n",
              "                        <td id=\"T_76551492_0e3d_11eb_880e_0242ac1c0002row34_col0\" class=\"data row34 col0\" >Trignometry Features </td>\n",
              "                        <td id=\"T_76551492_0e3d_11eb_880e_0242ac1c0002row34_col1\" class=\"data row34 col1\" >True</td>\n",
              "            </tr>\n",
              "            <tr>\n",
              "                        <th id=\"T_76551492_0e3d_11eb_880e_0242ac1c0002level0_row35\" class=\"row_heading level0 row35\" >35</th>\n",
              "                        <td id=\"T_76551492_0e3d_11eb_880e_0242ac1c0002row35_col0\" class=\"data row35 col0\" >Polynomial Threshold </td>\n",
              "                        <td id=\"T_76551492_0e3d_11eb_880e_0242ac1c0002row35_col1\" class=\"data row35 col1\" >0.100000</td>\n",
              "            </tr>\n",
              "            <tr>\n",
              "                        <th id=\"T_76551492_0e3d_11eb_880e_0242ac1c0002level0_row36\" class=\"row_heading level0 row36\" >36</th>\n",
              "                        <td id=\"T_76551492_0e3d_11eb_880e_0242ac1c0002row36_col0\" class=\"data row36 col0\" >Group Features </td>\n",
              "                        <td id=\"T_76551492_0e3d_11eb_880e_0242ac1c0002row36_col1\" class=\"data row36 col1\" >False</td>\n",
              "            </tr>\n",
              "            <tr>\n",
              "                        <th id=\"T_76551492_0e3d_11eb_880e_0242ac1c0002level0_row37\" class=\"row_heading level0 row37\" >37</th>\n",
              "                        <td id=\"T_76551492_0e3d_11eb_880e_0242ac1c0002row37_col0\" class=\"data row37 col0\" >Feature Selection </td>\n",
              "                        <td id=\"T_76551492_0e3d_11eb_880e_0242ac1c0002row37_col1\" class=\"data row37 col1\" >True</td>\n",
              "            </tr>\n",
              "            <tr>\n",
              "                        <th id=\"T_76551492_0e3d_11eb_880e_0242ac1c0002level0_row38\" class=\"row_heading level0 row38\" >38</th>\n",
              "                        <td id=\"T_76551492_0e3d_11eb_880e_0242ac1c0002row38_col0\" class=\"data row38 col0\" >Features Selection Threshold </td>\n",
              "                        <td id=\"T_76551492_0e3d_11eb_880e_0242ac1c0002row38_col1\" class=\"data row38 col1\" >0.800000</td>\n",
              "            </tr>\n",
              "            <tr>\n",
              "                        <th id=\"T_76551492_0e3d_11eb_880e_0242ac1c0002level0_row39\" class=\"row_heading level0 row39\" >39</th>\n",
              "                        <td id=\"T_76551492_0e3d_11eb_880e_0242ac1c0002row39_col0\" class=\"data row39 col0\" >Feature Interaction </td>\n",
              "                        <td id=\"T_76551492_0e3d_11eb_880e_0242ac1c0002row39_col1\" class=\"data row39 col1\" >False</td>\n",
              "            </tr>\n",
              "            <tr>\n",
              "                        <th id=\"T_76551492_0e3d_11eb_880e_0242ac1c0002level0_row40\" class=\"row_heading level0 row40\" >40</th>\n",
              "                        <td id=\"T_76551492_0e3d_11eb_880e_0242ac1c0002row40_col0\" class=\"data row40 col0\" >Feature Ratio </td>\n",
              "                        <td id=\"T_76551492_0e3d_11eb_880e_0242ac1c0002row40_col1\" class=\"data row40 col1\" >False</td>\n",
              "            </tr>\n",
              "            <tr>\n",
              "                        <th id=\"T_76551492_0e3d_11eb_880e_0242ac1c0002level0_row41\" class=\"row_heading level0 row41\" >41</th>\n",
              "                        <td id=\"T_76551492_0e3d_11eb_880e_0242ac1c0002row41_col0\" class=\"data row41 col0\" >Interaction Threshold </td>\n",
              "                        <td id=\"T_76551492_0e3d_11eb_880e_0242ac1c0002row41_col1\" class=\"data row41 col1\" >None</td>\n",
              "            </tr>\n",
              "            <tr>\n",
              "                        <th id=\"T_76551492_0e3d_11eb_880e_0242ac1c0002level0_row42\" class=\"row_heading level0 row42\" >42</th>\n",
              "                        <td id=\"T_76551492_0e3d_11eb_880e_0242ac1c0002row42_col0\" class=\"data row42 col0\" >Fix Imbalance</td>\n",
              "                        <td id=\"T_76551492_0e3d_11eb_880e_0242ac1c0002row42_col1\" class=\"data row42 col1\" >True</td>\n",
              "            </tr>\n",
              "            <tr>\n",
              "                        <th id=\"T_76551492_0e3d_11eb_880e_0242ac1c0002level0_row43\" class=\"row_heading level0 row43\" >43</th>\n",
              "                        <td id=\"T_76551492_0e3d_11eb_880e_0242ac1c0002row43_col0\" class=\"data row43 col0\" >Fix Imbalance Method</td>\n",
              "                        <td id=\"T_76551492_0e3d_11eb_880e_0242ac1c0002row43_col1\" class=\"data row43 col1\" >SMOTE</td>\n",
              "            </tr>\n",
              "    </tbody></table>"
            ],
            "text/plain": [
              "<pandas.io.formats.style.Styler at 0x7fb1f723dc50>"
            ]
          },
          "metadata": {
            "tags": []
          }
        }
      ]
    },
    {
      "cell_type": "code",
      "metadata": {
        "id": "Bj7-MyHaBbzo",
        "outputId": "66a3107b-a40d-427d-8361-0ef45c9cc204",
        "colab": {
          "base_uri": "https://localhost:8080/",
          "height": 372,
          "referenced_widgets": [
            "538bb0a8e41b4607b1e7b3c6a7039b3b",
            "af16e0402be544e6b0da7d8489bef9ec",
            "820c3d53ca904c9fb3c722b72b8650d5"
          ]
        }
      },
      "source": [
        "compare_models()"
      ],
      "execution_count": 48,
      "outputs": [
        {
          "output_type": "display_data",
          "data": {
            "text/html": [
              "<style  type=\"text/css\" >\n",
              "    #T_d42a7c60_0e3d_11eb_880e_0242ac1c0002 th {\n",
              "          text-align: left;\n",
              "    }#T_d42a7c60_0e3d_11eb_880e_0242ac1c0002row0_col0,#T_d42a7c60_0e3d_11eb_880e_0242ac1c0002row0_col2,#T_d42a7c60_0e3d_11eb_880e_0242ac1c0002row0_col3,#T_d42a7c60_0e3d_11eb_880e_0242ac1c0002row0_col4,#T_d42a7c60_0e3d_11eb_880e_0242ac1c0002row1_col0,#T_d42a7c60_0e3d_11eb_880e_0242ac1c0002row1_col1,#T_d42a7c60_0e3d_11eb_880e_0242ac1c0002row1_col2,#T_d42a7c60_0e3d_11eb_880e_0242ac1c0002row1_col3,#T_d42a7c60_0e3d_11eb_880e_0242ac1c0002row1_col5,#T_d42a7c60_0e3d_11eb_880e_0242ac1c0002row1_col6,#T_d42a7c60_0e3d_11eb_880e_0242ac1c0002row1_col7,#T_d42a7c60_0e3d_11eb_880e_0242ac1c0002row2_col0,#T_d42a7c60_0e3d_11eb_880e_0242ac1c0002row2_col1,#T_d42a7c60_0e3d_11eb_880e_0242ac1c0002row2_col3,#T_d42a7c60_0e3d_11eb_880e_0242ac1c0002row2_col4,#T_d42a7c60_0e3d_11eb_880e_0242ac1c0002row2_col5,#T_d42a7c60_0e3d_11eb_880e_0242ac1c0002row2_col6,#T_d42a7c60_0e3d_11eb_880e_0242ac1c0002row2_col7,#T_d42a7c60_0e3d_11eb_880e_0242ac1c0002row3_col0,#T_d42a7c60_0e3d_11eb_880e_0242ac1c0002row3_col1,#T_d42a7c60_0e3d_11eb_880e_0242ac1c0002row3_col2,#T_d42a7c60_0e3d_11eb_880e_0242ac1c0002row3_col3,#T_d42a7c60_0e3d_11eb_880e_0242ac1c0002row3_col4,#T_d42a7c60_0e3d_11eb_880e_0242ac1c0002row3_col5,#T_d42a7c60_0e3d_11eb_880e_0242ac1c0002row3_col6,#T_d42a7c60_0e3d_11eb_880e_0242ac1c0002row3_col7,#T_d42a7c60_0e3d_11eb_880e_0242ac1c0002row4_col0,#T_d42a7c60_0e3d_11eb_880e_0242ac1c0002row4_col1,#T_d42a7c60_0e3d_11eb_880e_0242ac1c0002row4_col2,#T_d42a7c60_0e3d_11eb_880e_0242ac1c0002row4_col3,#T_d42a7c60_0e3d_11eb_880e_0242ac1c0002row4_col4,#T_d42a7c60_0e3d_11eb_880e_0242ac1c0002row4_col5,#T_d42a7c60_0e3d_11eb_880e_0242ac1c0002row4_col6,#T_d42a7c60_0e3d_11eb_880e_0242ac1c0002row4_col7,#T_d42a7c60_0e3d_11eb_880e_0242ac1c0002row5_col0,#T_d42a7c60_0e3d_11eb_880e_0242ac1c0002row5_col1,#T_d42a7c60_0e3d_11eb_880e_0242ac1c0002row5_col2,#T_d42a7c60_0e3d_11eb_880e_0242ac1c0002row5_col3,#T_d42a7c60_0e3d_11eb_880e_0242ac1c0002row5_col4,#T_d42a7c60_0e3d_11eb_880e_0242ac1c0002row5_col5,#T_d42a7c60_0e3d_11eb_880e_0242ac1c0002row5_col6,#T_d42a7c60_0e3d_11eb_880e_0242ac1c0002row5_col7,#T_d42a7c60_0e3d_11eb_880e_0242ac1c0002row6_col0,#T_d42a7c60_0e3d_11eb_880e_0242ac1c0002row6_col1,#T_d42a7c60_0e3d_11eb_880e_0242ac1c0002row6_col2,#T_d42a7c60_0e3d_11eb_880e_0242ac1c0002row6_col3,#T_d42a7c60_0e3d_11eb_880e_0242ac1c0002row6_col4,#T_d42a7c60_0e3d_11eb_880e_0242ac1c0002row6_col5,#T_d42a7c60_0e3d_11eb_880e_0242ac1c0002row6_col6,#T_d42a7c60_0e3d_11eb_880e_0242ac1c0002row6_col7,#T_d42a7c60_0e3d_11eb_880e_0242ac1c0002row7_col0,#T_d42a7c60_0e3d_11eb_880e_0242ac1c0002row7_col1,#T_d42a7c60_0e3d_11eb_880e_0242ac1c0002row7_col2,#T_d42a7c60_0e3d_11eb_880e_0242ac1c0002row7_col3,#T_d42a7c60_0e3d_11eb_880e_0242ac1c0002row7_col4,#T_d42a7c60_0e3d_11eb_880e_0242ac1c0002row7_col5,#T_d42a7c60_0e3d_11eb_880e_0242ac1c0002row7_col6,#T_d42a7c60_0e3d_11eb_880e_0242ac1c0002row7_col7,#T_d42a7c60_0e3d_11eb_880e_0242ac1c0002row8_col0,#T_d42a7c60_0e3d_11eb_880e_0242ac1c0002row8_col1,#T_d42a7c60_0e3d_11eb_880e_0242ac1c0002row8_col2,#T_d42a7c60_0e3d_11eb_880e_0242ac1c0002row8_col3,#T_d42a7c60_0e3d_11eb_880e_0242ac1c0002row8_col4,#T_d42a7c60_0e3d_11eb_880e_0242ac1c0002row8_col5,#T_d42a7c60_0e3d_11eb_880e_0242ac1c0002row8_col6,#T_d42a7c60_0e3d_11eb_880e_0242ac1c0002row8_col7,#T_d42a7c60_0e3d_11eb_880e_0242ac1c0002row9_col0,#T_d42a7c60_0e3d_11eb_880e_0242ac1c0002row9_col1,#T_d42a7c60_0e3d_11eb_880e_0242ac1c0002row9_col2,#T_d42a7c60_0e3d_11eb_880e_0242ac1c0002row9_col3,#T_d42a7c60_0e3d_11eb_880e_0242ac1c0002row9_col4,#T_d42a7c60_0e3d_11eb_880e_0242ac1c0002row9_col5,#T_d42a7c60_0e3d_11eb_880e_0242ac1c0002row9_col6,#T_d42a7c60_0e3d_11eb_880e_0242ac1c0002row9_col7,#T_d42a7c60_0e3d_11eb_880e_0242ac1c0002row10_col0,#T_d42a7c60_0e3d_11eb_880e_0242ac1c0002row10_col1,#T_d42a7c60_0e3d_11eb_880e_0242ac1c0002row10_col2,#T_d42a7c60_0e3d_11eb_880e_0242ac1c0002row10_col4,#T_d42a7c60_0e3d_11eb_880e_0242ac1c0002row10_col5,#T_d42a7c60_0e3d_11eb_880e_0242ac1c0002row10_col6,#T_d42a7c60_0e3d_11eb_880e_0242ac1c0002row10_col7,#T_d42a7c60_0e3d_11eb_880e_0242ac1c0002row11_col0,#T_d42a7c60_0e3d_11eb_880e_0242ac1c0002row11_col1,#T_d42a7c60_0e3d_11eb_880e_0242ac1c0002row11_col2,#T_d42a7c60_0e3d_11eb_880e_0242ac1c0002row11_col3,#T_d42a7c60_0e3d_11eb_880e_0242ac1c0002row11_col4,#T_d42a7c60_0e3d_11eb_880e_0242ac1c0002row11_col5,#T_d42a7c60_0e3d_11eb_880e_0242ac1c0002row11_col6,#T_d42a7c60_0e3d_11eb_880e_0242ac1c0002row11_col7,#T_d42a7c60_0e3d_11eb_880e_0242ac1c0002row12_col0,#T_d42a7c60_0e3d_11eb_880e_0242ac1c0002row12_col1,#T_d42a7c60_0e3d_11eb_880e_0242ac1c0002row12_col2,#T_d42a7c60_0e3d_11eb_880e_0242ac1c0002row12_col3,#T_d42a7c60_0e3d_11eb_880e_0242ac1c0002row12_col4,#T_d42a7c60_0e3d_11eb_880e_0242ac1c0002row12_col5,#T_d42a7c60_0e3d_11eb_880e_0242ac1c0002row12_col6,#T_d42a7c60_0e3d_11eb_880e_0242ac1c0002row12_col7,#T_d42a7c60_0e3d_11eb_880e_0242ac1c0002row13_col0,#T_d42a7c60_0e3d_11eb_880e_0242ac1c0002row13_col1,#T_d42a7c60_0e3d_11eb_880e_0242ac1c0002row13_col2,#T_d42a7c60_0e3d_11eb_880e_0242ac1c0002row13_col3,#T_d42a7c60_0e3d_11eb_880e_0242ac1c0002row13_col4,#T_d42a7c60_0e3d_11eb_880e_0242ac1c0002row13_col5,#T_d42a7c60_0e3d_11eb_880e_0242ac1c0002row13_col6,#T_d42a7c60_0e3d_11eb_880e_0242ac1c0002row13_col7,#T_d42a7c60_0e3d_11eb_880e_0242ac1c0002row14_col0,#T_d42a7c60_0e3d_11eb_880e_0242ac1c0002row14_col1,#T_d42a7c60_0e3d_11eb_880e_0242ac1c0002row14_col2,#T_d42a7c60_0e3d_11eb_880e_0242ac1c0002row14_col3,#T_d42a7c60_0e3d_11eb_880e_0242ac1c0002row14_col4,#T_d42a7c60_0e3d_11eb_880e_0242ac1c0002row14_col5,#T_d42a7c60_0e3d_11eb_880e_0242ac1c0002row14_col6,#T_d42a7c60_0e3d_11eb_880e_0242ac1c0002row14_col7{\n",
              "            text-align:  left;\n",
              "        }#T_d42a7c60_0e3d_11eb_880e_0242ac1c0002row0_col1,#T_d42a7c60_0e3d_11eb_880e_0242ac1c0002row0_col5,#T_d42a7c60_0e3d_11eb_880e_0242ac1c0002row0_col6,#T_d42a7c60_0e3d_11eb_880e_0242ac1c0002row0_col7,#T_d42a7c60_0e3d_11eb_880e_0242ac1c0002row1_col4,#T_d42a7c60_0e3d_11eb_880e_0242ac1c0002row2_col2,#T_d42a7c60_0e3d_11eb_880e_0242ac1c0002row10_col3{\n",
              "            background-color:  yellow;\n",
              "            text-align:  left;\n",
              "        }#T_d42a7c60_0e3d_11eb_880e_0242ac1c0002row0_col8,#T_d42a7c60_0e3d_11eb_880e_0242ac1c0002row1_col8,#T_d42a7c60_0e3d_11eb_880e_0242ac1c0002row2_col8,#T_d42a7c60_0e3d_11eb_880e_0242ac1c0002row3_col8,#T_d42a7c60_0e3d_11eb_880e_0242ac1c0002row4_col8,#T_d42a7c60_0e3d_11eb_880e_0242ac1c0002row5_col8,#T_d42a7c60_0e3d_11eb_880e_0242ac1c0002row6_col8,#T_d42a7c60_0e3d_11eb_880e_0242ac1c0002row7_col8,#T_d42a7c60_0e3d_11eb_880e_0242ac1c0002row8_col8,#T_d42a7c60_0e3d_11eb_880e_0242ac1c0002row9_col8,#T_d42a7c60_0e3d_11eb_880e_0242ac1c0002row10_col8,#T_d42a7c60_0e3d_11eb_880e_0242ac1c0002row11_col8,#T_d42a7c60_0e3d_11eb_880e_0242ac1c0002row12_col8,#T_d42a7c60_0e3d_11eb_880e_0242ac1c0002row13_col8,#T_d42a7c60_0e3d_11eb_880e_0242ac1c0002row14_col8{\n",
              "            background-color:  lightgrey;\n",
              "            text-align:  left;\n",
              "        }</style><table id=\"T_d42a7c60_0e3d_11eb_880e_0242ac1c0002\" ><thead>    <tr>        <th class=\"blank level0\" ></th>        <th class=\"col_heading level0 col0\" >Model</th>        <th class=\"col_heading level0 col1\" >Accuracy</th>        <th class=\"col_heading level0 col2\" >AUC</th>        <th class=\"col_heading level0 col3\" >Recall</th>        <th class=\"col_heading level0 col4\" >Prec.</th>        <th class=\"col_heading level0 col5\" >F1</th>        <th class=\"col_heading level0 col6\" >Kappa</th>        <th class=\"col_heading level0 col7\" >MCC</th>        <th class=\"col_heading level0 col8\" >TT (Sec)</th>    </tr></thead><tbody>\n",
              "                <tr>\n",
              "                        <th id=\"T_d42a7c60_0e3d_11eb_880e_0242ac1c0002level0_row0\" class=\"row_heading level0 row0\" >0</th>\n",
              "                        <td id=\"T_d42a7c60_0e3d_11eb_880e_0242ac1c0002row0_col0\" class=\"data row0 col0\" >CatBoost Classifier</td>\n",
              "                        <td id=\"T_d42a7c60_0e3d_11eb_880e_0242ac1c0002row0_col1\" class=\"data row0 col1\" >0.9561</td>\n",
              "                        <td id=\"T_d42a7c60_0e3d_11eb_880e_0242ac1c0002row0_col2\" class=\"data row0 col2\" >0.9702</td>\n",
              "                        <td id=\"T_d42a7c60_0e3d_11eb_880e_0242ac1c0002row0_col3\" class=\"data row0 col3\" >0.8167</td>\n",
              "                        <td id=\"T_d42a7c60_0e3d_11eb_880e_0242ac1c0002row0_col4\" class=\"data row0 col4\" >0.5917</td>\n",
              "                        <td id=\"T_d42a7c60_0e3d_11eb_880e_0242ac1c0002row0_col5\" class=\"data row0 col5\" >0.6727</td>\n",
              "                        <td id=\"T_d42a7c60_0e3d_11eb_880e_0242ac1c0002row0_col6\" class=\"data row0 col6\" >0.6515</td>\n",
              "                        <td id=\"T_d42a7c60_0e3d_11eb_880e_0242ac1c0002row0_col7\" class=\"data row0 col7\" >0.6684</td>\n",
              "                        <td id=\"T_d42a7c60_0e3d_11eb_880e_0242ac1c0002row0_col8\" class=\"data row0 col8\" >4.8617</td>\n",
              "            </tr>\n",
              "            <tr>\n",
              "                        <th id=\"T_d42a7c60_0e3d_11eb_880e_0242ac1c0002level0_row1\" class=\"row_heading level0 row1\" >1</th>\n",
              "                        <td id=\"T_d42a7c60_0e3d_11eb_880e_0242ac1c0002row1_col0\" class=\"data row1 col0\" >Ada Boost Classifier</td>\n",
              "                        <td id=\"T_d42a7c60_0e3d_11eb_880e_0242ac1c0002row1_col1\" class=\"data row1 col1\" >0.9544</td>\n",
              "                        <td id=\"T_d42a7c60_0e3d_11eb_880e_0242ac1c0002row1_col2\" class=\"data row1 col2\" >0.9639</td>\n",
              "                        <td id=\"T_d42a7c60_0e3d_11eb_880e_0242ac1c0002row1_col3\" class=\"data row1 col3\" >0.7000</td>\n",
              "                        <td id=\"T_d42a7c60_0e3d_11eb_880e_0242ac1c0002row1_col4\" class=\"data row1 col4\" >0.6067</td>\n",
              "                        <td id=\"T_d42a7c60_0e3d_11eb_880e_0242ac1c0002row1_col5\" class=\"data row1 col5\" >0.6337</td>\n",
              "                        <td id=\"T_d42a7c60_0e3d_11eb_880e_0242ac1c0002row1_col6\" class=\"data row1 col6\" >0.6102</td>\n",
              "                        <td id=\"T_d42a7c60_0e3d_11eb_880e_0242ac1c0002row1_col7\" class=\"data row1 col7\" >0.6209</td>\n",
              "                        <td id=\"T_d42a7c60_0e3d_11eb_880e_0242ac1c0002row1_col8\" class=\"data row1 col8\" >0.1444</td>\n",
              "            </tr>\n",
              "            <tr>\n",
              "                        <th id=\"T_d42a7c60_0e3d_11eb_880e_0242ac1c0002level0_row2\" class=\"row_heading level0 row2\" >2</th>\n",
              "                        <td id=\"T_d42a7c60_0e3d_11eb_880e_0242ac1c0002row2_col0\" class=\"data row2 col0\" >Extreme Gradient Boosting</td>\n",
              "                        <td id=\"T_d42a7c60_0e3d_11eb_880e_0242ac1c0002row2_col1\" class=\"data row2 col1\" >0.9544</td>\n",
              "                        <td id=\"T_d42a7c60_0e3d_11eb_880e_0242ac1c0002row2_col2\" class=\"data row2 col2\" >0.9795</td>\n",
              "                        <td id=\"T_d42a7c60_0e3d_11eb_880e_0242ac1c0002row2_col3\" class=\"data row2 col3\" >0.7667</td>\n",
              "                        <td id=\"T_d42a7c60_0e3d_11eb_880e_0242ac1c0002row2_col4\" class=\"data row2 col4\" >0.5924</td>\n",
              "                        <td id=\"T_d42a7c60_0e3d_11eb_880e_0242ac1c0002row2_col5\" class=\"data row2 col5\" >0.6384</td>\n",
              "                        <td id=\"T_d42a7c60_0e3d_11eb_880e_0242ac1c0002row2_col6\" class=\"data row2 col6\" >0.6169</td>\n",
              "                        <td id=\"T_d42a7c60_0e3d_11eb_880e_0242ac1c0002row2_col7\" class=\"data row2 col7\" >0.6388</td>\n",
              "                        <td id=\"T_d42a7c60_0e3d_11eb_880e_0242ac1c0002row2_col8\" class=\"data row2 col8\" >0.1209</td>\n",
              "            </tr>\n",
              "            <tr>\n",
              "                        <th id=\"T_d42a7c60_0e3d_11eb_880e_0242ac1c0002level0_row3\" class=\"row_heading level0 row3\" >3</th>\n",
              "                        <td id=\"T_d42a7c60_0e3d_11eb_880e_0242ac1c0002row3_col0\" class=\"data row3 col0\" >Gradient Boosting Classifier</td>\n",
              "                        <td id=\"T_d42a7c60_0e3d_11eb_880e_0242ac1c0002row3_col1\" class=\"data row3 col1\" >0.9526</td>\n",
              "                        <td id=\"T_d42a7c60_0e3d_11eb_880e_0242ac1c0002row3_col2\" class=\"data row3 col2\" >0.9766</td>\n",
              "                        <td id=\"T_d42a7c60_0e3d_11eb_880e_0242ac1c0002row3_col3\" class=\"data row3 col3\" >0.7667</td>\n",
              "                        <td id=\"T_d42a7c60_0e3d_11eb_880e_0242ac1c0002row3_col4\" class=\"data row3 col4\" >0.5733</td>\n",
              "                        <td id=\"T_d42a7c60_0e3d_11eb_880e_0242ac1c0002row3_col5\" class=\"data row3 col5\" >0.6393</td>\n",
              "                        <td id=\"T_d42a7c60_0e3d_11eb_880e_0242ac1c0002row3_col6\" class=\"data row3 col6\" >0.6162</td>\n",
              "                        <td id=\"T_d42a7c60_0e3d_11eb_880e_0242ac1c0002row3_col7\" class=\"data row3 col7\" >0.6327</td>\n",
              "                        <td id=\"T_d42a7c60_0e3d_11eb_880e_0242ac1c0002row3_col8\" class=\"data row3 col8\" >0.3186</td>\n",
              "            </tr>\n",
              "            <tr>\n",
              "                        <th id=\"T_d42a7c60_0e3d_11eb_880e_0242ac1c0002level0_row4\" class=\"row_heading level0 row4\" >4</th>\n",
              "                        <td id=\"T_d42a7c60_0e3d_11eb_880e_0242ac1c0002row4_col0\" class=\"data row4 col0\" >Light Gradient Boosting Machine</td>\n",
              "                        <td id=\"T_d42a7c60_0e3d_11eb_880e_0242ac1c0002row4_col1\" class=\"data row4 col1\" >0.9526</td>\n",
              "                        <td id=\"T_d42a7c60_0e3d_11eb_880e_0242ac1c0002row4_col2\" class=\"data row4 col2\" >0.9748</td>\n",
              "                        <td id=\"T_d42a7c60_0e3d_11eb_880e_0242ac1c0002row4_col3\" class=\"data row4 col3\" >0.6917</td>\n",
              "                        <td id=\"T_d42a7c60_0e3d_11eb_880e_0242ac1c0002row4_col4\" class=\"data row4 col4\" >0.5800</td>\n",
              "                        <td id=\"T_d42a7c60_0e3d_11eb_880e_0242ac1c0002row4_col5\" class=\"data row4 col5\" >0.6088</td>\n",
              "                        <td id=\"T_d42a7c60_0e3d_11eb_880e_0242ac1c0002row4_col6\" class=\"data row4 col6\" >0.5856</td>\n",
              "                        <td id=\"T_d42a7c60_0e3d_11eb_880e_0242ac1c0002row4_col7\" class=\"data row4 col7\" >0.6000</td>\n",
              "                        <td id=\"T_d42a7c60_0e3d_11eb_880e_0242ac1c0002row4_col8\" class=\"data row4 col8\" >0.1383</td>\n",
              "            </tr>\n",
              "            <tr>\n",
              "                        <th id=\"T_d42a7c60_0e3d_11eb_880e_0242ac1c0002level0_row5\" class=\"row_heading level0 row5\" >5</th>\n",
              "                        <td id=\"T_d42a7c60_0e3d_11eb_880e_0242ac1c0002row5_col0\" class=\"data row5 col0\" >Random Forest Classifier</td>\n",
              "                        <td id=\"T_d42a7c60_0e3d_11eb_880e_0242ac1c0002row5_col1\" class=\"data row5 col1\" >0.9474</td>\n",
              "                        <td id=\"T_d42a7c60_0e3d_11eb_880e_0242ac1c0002row5_col2\" class=\"data row5 col2\" >0.9690</td>\n",
              "                        <td id=\"T_d42a7c60_0e3d_11eb_880e_0242ac1c0002row5_col3\" class=\"data row5 col3\" >0.4917</td>\n",
              "                        <td id=\"T_d42a7c60_0e3d_11eb_880e_0242ac1c0002row5_col4\" class=\"data row5 col4\" >0.5367</td>\n",
              "                        <td id=\"T_d42a7c60_0e3d_11eb_880e_0242ac1c0002row5_col5\" class=\"data row5 col5\" >0.4990</td>\n",
              "                        <td id=\"T_d42a7c60_0e3d_11eb_880e_0242ac1c0002row5_col6\" class=\"data row5 col6\" >0.4728</td>\n",
              "                        <td id=\"T_d42a7c60_0e3d_11eb_880e_0242ac1c0002row5_col7\" class=\"data row5 col7\" >0.4803</td>\n",
              "                        <td id=\"T_d42a7c60_0e3d_11eb_880e_0242ac1c0002row5_col8\" class=\"data row5 col8\" >0.1114</td>\n",
              "            </tr>\n",
              "            <tr>\n",
              "                        <th id=\"T_d42a7c60_0e3d_11eb_880e_0242ac1c0002level0_row6\" class=\"row_heading level0 row6\" >6</th>\n",
              "                        <td id=\"T_d42a7c60_0e3d_11eb_880e_0242ac1c0002row6_col0\" class=\"data row6 col0\" >Decision Tree Classifier</td>\n",
              "                        <td id=\"T_d42a7c60_0e3d_11eb_880e_0242ac1c0002row6_col1\" class=\"data row6 col1\" >0.9421</td>\n",
              "                        <td id=\"T_d42a7c60_0e3d_11eb_880e_0242ac1c0002row6_col2\" class=\"data row6 col2\" >0.7508</td>\n",
              "                        <td id=\"T_d42a7c60_0e3d_11eb_880e_0242ac1c0002row6_col3\" class=\"data row6 col3\" >0.5333</td>\n",
              "                        <td id=\"T_d42a7c60_0e3d_11eb_880e_0242ac1c0002row6_col4\" class=\"data row6 col4\" >0.4900</td>\n",
              "                        <td id=\"T_d42a7c60_0e3d_11eb_880e_0242ac1c0002row6_col5\" class=\"data row6 col5\" >0.5000</td>\n",
              "                        <td id=\"T_d42a7c60_0e3d_11eb_880e_0242ac1c0002row6_col6\" class=\"data row6 col6\" >0.4728</td>\n",
              "                        <td id=\"T_d42a7c60_0e3d_11eb_880e_0242ac1c0002row6_col7\" class=\"data row6 col7\" >0.4789</td>\n",
              "                        <td id=\"T_d42a7c60_0e3d_11eb_880e_0242ac1c0002row6_col8\" class=\"data row6 col8\" >0.0107</td>\n",
              "            </tr>\n",
              "            <tr>\n",
              "                        <th id=\"T_d42a7c60_0e3d_11eb_880e_0242ac1c0002level0_row7\" class=\"row_heading level0 row7\" >7</th>\n",
              "                        <td id=\"T_d42a7c60_0e3d_11eb_880e_0242ac1c0002row7_col0\" class=\"data row7 col0\" >Extra Trees Classifier</td>\n",
              "                        <td id=\"T_d42a7c60_0e3d_11eb_880e_0242ac1c0002row7_col1\" class=\"data row7 col1\" >0.9421</td>\n",
              "                        <td id=\"T_d42a7c60_0e3d_11eb_880e_0242ac1c0002row7_col2\" class=\"data row7 col2\" >0.9513</td>\n",
              "                        <td id=\"T_d42a7c60_0e3d_11eb_880e_0242ac1c0002row7_col3\" class=\"data row7 col3\" >0.4333</td>\n",
              "                        <td id=\"T_d42a7c60_0e3d_11eb_880e_0242ac1c0002row7_col4\" class=\"data row7 col4\" >0.4100</td>\n",
              "                        <td id=\"T_d42a7c60_0e3d_11eb_880e_0242ac1c0002row7_col5\" class=\"data row7 col5\" >0.4149</td>\n",
              "                        <td id=\"T_d42a7c60_0e3d_11eb_880e_0242ac1c0002row7_col6\" class=\"data row7 col6\" >0.3900</td>\n",
              "                        <td id=\"T_d42a7c60_0e3d_11eb_880e_0242ac1c0002row7_col7\" class=\"data row7 col7\" >0.3928</td>\n",
              "                        <td id=\"T_d42a7c60_0e3d_11eb_880e_0242ac1c0002row7_col8\" class=\"data row7 col8\" >0.2479</td>\n",
              "            </tr>\n",
              "            <tr>\n",
              "                        <th id=\"T_d42a7c60_0e3d_11eb_880e_0242ac1c0002level0_row8\" class=\"row_heading level0 row8\" >8</th>\n",
              "                        <td id=\"T_d42a7c60_0e3d_11eb_880e_0242ac1c0002row8_col0\" class=\"data row8 col0\" >SVM - Linear Kernel</td>\n",
              "                        <td id=\"T_d42a7c60_0e3d_11eb_880e_0242ac1c0002row8_col1\" class=\"data row8 col1\" >0.9333</td>\n",
              "                        <td id=\"T_d42a7c60_0e3d_11eb_880e_0242ac1c0002row8_col2\" class=\"data row8 col2\" >0.0000</td>\n",
              "                        <td id=\"T_d42a7c60_0e3d_11eb_880e_0242ac1c0002row8_col3\" class=\"data row8 col3\" >0.5333</td>\n",
              "                        <td id=\"T_d42a7c60_0e3d_11eb_880e_0242ac1c0002row8_col4\" class=\"data row8 col4\" >0.4600</td>\n",
              "                        <td id=\"T_d42a7c60_0e3d_11eb_880e_0242ac1c0002row8_col5\" class=\"data row8 col5\" >0.4848</td>\n",
              "                        <td id=\"T_d42a7c60_0e3d_11eb_880e_0242ac1c0002row8_col6\" class=\"data row8 col6\" >0.4506</td>\n",
              "                        <td id=\"T_d42a7c60_0e3d_11eb_880e_0242ac1c0002row8_col7\" class=\"data row8 col7\" >0.4565</td>\n",
              "                        <td id=\"T_d42a7c60_0e3d_11eb_880e_0242ac1c0002row8_col8\" class=\"data row8 col8\" >0.0085</td>\n",
              "            </tr>\n",
              "            <tr>\n",
              "                        <th id=\"T_d42a7c60_0e3d_11eb_880e_0242ac1c0002level0_row9\" class=\"row_heading level0 row9\" >9</th>\n",
              "                        <td id=\"T_d42a7c60_0e3d_11eb_880e_0242ac1c0002row9_col0\" class=\"data row9 col0\" >Logistic Regression</td>\n",
              "                        <td id=\"T_d42a7c60_0e3d_11eb_880e_0242ac1c0002row9_col1\" class=\"data row9 col1\" >0.9316</td>\n",
              "                        <td id=\"T_d42a7c60_0e3d_11eb_880e_0242ac1c0002row9_col2\" class=\"data row9 col2\" >0.9522</td>\n",
              "                        <td id=\"T_d42a7c60_0e3d_11eb_880e_0242ac1c0002row9_col3\" class=\"data row9 col3\" >0.7333</td>\n",
              "                        <td id=\"T_d42a7c60_0e3d_11eb_880e_0242ac1c0002row9_col4\" class=\"data row9 col4\" >0.4836</td>\n",
              "                        <td id=\"T_d42a7c60_0e3d_11eb_880e_0242ac1c0002row9_col5\" class=\"data row9 col5\" >0.5709</td>\n",
              "                        <td id=\"T_d42a7c60_0e3d_11eb_880e_0242ac1c0002row9_col6\" class=\"data row9 col6\" >0.5368</td>\n",
              "                        <td id=\"T_d42a7c60_0e3d_11eb_880e_0242ac1c0002row9_col7\" class=\"data row9 col7\" >0.5569</td>\n",
              "                        <td id=\"T_d42a7c60_0e3d_11eb_880e_0242ac1c0002row9_col8\" class=\"data row9 col8\" >0.0306</td>\n",
              "            </tr>\n",
              "            <tr>\n",
              "                        <th id=\"T_d42a7c60_0e3d_11eb_880e_0242ac1c0002level0_row10\" class=\"row_heading level0 row10\" >10</th>\n",
              "                        <td id=\"T_d42a7c60_0e3d_11eb_880e_0242ac1c0002row10_col0\" class=\"data row10 col0\" >K Neighbors Classifier</td>\n",
              "                        <td id=\"T_d42a7c60_0e3d_11eb_880e_0242ac1c0002row10_col1\" class=\"data row10 col1\" >0.9105</td>\n",
              "                        <td id=\"T_d42a7c60_0e3d_11eb_880e_0242ac1c0002row10_col2\" class=\"data row10 col2\" >0.9343</td>\n",
              "                        <td id=\"T_d42a7c60_0e3d_11eb_880e_0242ac1c0002row10_col3\" class=\"data row10 col3\" >0.9083</td>\n",
              "                        <td id=\"T_d42a7c60_0e3d_11eb_880e_0242ac1c0002row10_col4\" class=\"data row10 col4\" >0.4377</td>\n",
              "                        <td id=\"T_d42a7c60_0e3d_11eb_880e_0242ac1c0002row10_col5\" class=\"data row10 col5\" >0.5733</td>\n",
              "                        <td id=\"T_d42a7c60_0e3d_11eb_880e_0242ac1c0002row10_col6\" class=\"data row10 col6\" >0.5339</td>\n",
              "                        <td id=\"T_d42a7c60_0e3d_11eb_880e_0242ac1c0002row10_col7\" class=\"data row10 col7\" >0.5866</td>\n",
              "                        <td id=\"T_d42a7c60_0e3d_11eb_880e_0242ac1c0002row10_col8\" class=\"data row10 col8\" >0.0059</td>\n",
              "            </tr>\n",
              "            <tr>\n",
              "                        <th id=\"T_d42a7c60_0e3d_11eb_880e_0242ac1c0002level0_row11\" class=\"row_heading level0 row11\" >11</th>\n",
              "                        <td id=\"T_d42a7c60_0e3d_11eb_880e_0242ac1c0002row11_col0\" class=\"data row11 col0\" >Linear Discriminant Analysis</td>\n",
              "                        <td id=\"T_d42a7c60_0e3d_11eb_880e_0242ac1c0002row11_col1\" class=\"data row11 col1\" >0.8702</td>\n",
              "                        <td id=\"T_d42a7c60_0e3d_11eb_880e_0242ac1c0002row11_col2\" class=\"data row11 col2\" >0.9208</td>\n",
              "                        <td id=\"T_d42a7c60_0e3d_11eb_880e_0242ac1c0002row11_col3\" class=\"data row11 col3\" >0.7083</td>\n",
              "                        <td id=\"T_d42a7c60_0e3d_11eb_880e_0242ac1c0002row11_col4\" class=\"data row11 col4\" >0.2777</td>\n",
              "                        <td id=\"T_d42a7c60_0e3d_11eb_880e_0242ac1c0002row11_col5\" class=\"data row11 col5\" >0.3912</td>\n",
              "                        <td id=\"T_d42a7c60_0e3d_11eb_880e_0242ac1c0002row11_col6\" class=\"data row11 col6\" >0.3342</td>\n",
              "                        <td id=\"T_d42a7c60_0e3d_11eb_880e_0242ac1c0002row11_col7\" class=\"data row11 col7\" >0.3860</td>\n",
              "                        <td id=\"T_d42a7c60_0e3d_11eb_880e_0242ac1c0002row11_col8\" class=\"data row11 col8\" >0.0157</td>\n",
              "            </tr>\n",
              "            <tr>\n",
              "                        <th id=\"T_d42a7c60_0e3d_11eb_880e_0242ac1c0002level0_row12\" class=\"row_heading level0 row12\" >12</th>\n",
              "                        <td id=\"T_d42a7c60_0e3d_11eb_880e_0242ac1c0002row12_col0\" class=\"data row12 col0\" >Ridge Classifier</td>\n",
              "                        <td id=\"T_d42a7c60_0e3d_11eb_880e_0242ac1c0002row12_col1\" class=\"data row12 col1\" >0.8684</td>\n",
              "                        <td id=\"T_d42a7c60_0e3d_11eb_880e_0242ac1c0002row12_col2\" class=\"data row12 col2\" >0.0000</td>\n",
              "                        <td id=\"T_d42a7c60_0e3d_11eb_880e_0242ac1c0002row12_col3\" class=\"data row12 col3\" >0.7083</td>\n",
              "                        <td id=\"T_d42a7c60_0e3d_11eb_880e_0242ac1c0002row12_col4\" class=\"data row12 col4\" >0.2758</td>\n",
              "                        <td id=\"T_d42a7c60_0e3d_11eb_880e_0242ac1c0002row12_col5\" class=\"data row12 col5\" >0.3889</td>\n",
              "                        <td id=\"T_d42a7c60_0e3d_11eb_880e_0242ac1c0002row12_col6\" class=\"data row12 col6\" >0.3314</td>\n",
              "                        <td id=\"T_d42a7c60_0e3d_11eb_880e_0242ac1c0002row12_col7\" class=\"data row12 col7\" >0.3838</td>\n",
              "                        <td id=\"T_d42a7c60_0e3d_11eb_880e_0242ac1c0002row12_col8\" class=\"data row12 col8\" >0.0073</td>\n",
              "            </tr>\n",
              "            <tr>\n",
              "                        <th id=\"T_d42a7c60_0e3d_11eb_880e_0242ac1c0002level0_row13\" class=\"row_heading level0 row13\" >13</th>\n",
              "                        <td id=\"T_d42a7c60_0e3d_11eb_880e_0242ac1c0002row13_col0\" class=\"data row13 col0\" >Quadratic Discriminant Analysis</td>\n",
              "                        <td id=\"T_d42a7c60_0e3d_11eb_880e_0242ac1c0002row13_col1\" class=\"data row13 col1\" >0.8316</td>\n",
              "                        <td id=\"T_d42a7c60_0e3d_11eb_880e_0242ac1c0002row13_col2\" class=\"data row13 col2\" >0.5467</td>\n",
              "                        <td id=\"T_d42a7c60_0e3d_11eb_880e_0242ac1c0002row13_col3\" class=\"data row13 col3\" >0.2667</td>\n",
              "                        <td id=\"T_d42a7c60_0e3d_11eb_880e_0242ac1c0002row13_col4\" class=\"data row13 col4\" >0.1256</td>\n",
              "                        <td id=\"T_d42a7c60_0e3d_11eb_880e_0242ac1c0002row13_col5\" class=\"data row13 col5\" >0.1622</td>\n",
              "                        <td id=\"T_d42a7c60_0e3d_11eb_880e_0242ac1c0002row13_col6\" class=\"data row13 col6\" >0.0981</td>\n",
              "                        <td id=\"T_d42a7c60_0e3d_11eb_880e_0242ac1c0002row13_col7\" class=\"data row13 col7\" >0.1038</td>\n",
              "                        <td id=\"T_d42a7c60_0e3d_11eb_880e_0242ac1c0002row13_col8\" class=\"data row13 col8\" >0.0081</td>\n",
              "            </tr>\n",
              "            <tr>\n",
              "                        <th id=\"T_d42a7c60_0e3d_11eb_880e_0242ac1c0002level0_row14\" class=\"row_heading level0 row14\" >14</th>\n",
              "                        <td id=\"T_d42a7c60_0e3d_11eb_880e_0242ac1c0002row14_col0\" class=\"data row14 col0\" >Naive Bayes</td>\n",
              "                        <td id=\"T_d42a7c60_0e3d_11eb_880e_0242ac1c0002row14_col1\" class=\"data row14 col1\" >0.3544</td>\n",
              "                        <td id=\"T_d42a7c60_0e3d_11eb_880e_0242ac1c0002row14_col2\" class=\"data row14 col2\" >0.4535</td>\n",
              "                        <td id=\"T_d42a7c60_0e3d_11eb_880e_0242ac1c0002row14_col3\" class=\"data row14 col3\" >0.5583</td>\n",
              "                        <td id=\"T_d42a7c60_0e3d_11eb_880e_0242ac1c0002row14_col4\" class=\"data row14 col4\" >0.0518</td>\n",
              "                        <td id=\"T_d42a7c60_0e3d_11eb_880e_0242ac1c0002row14_col5\" class=\"data row14 col5\" >0.0944</td>\n",
              "                        <td id=\"T_d42a7c60_0e3d_11eb_880e_0242ac1c0002row14_col6\" class=\"data row14 col6\" >-0.0191</td>\n",
              "                        <td id=\"T_d42a7c60_0e3d_11eb_880e_0242ac1c0002row14_col7\" class=\"data row14 col7\" >-0.0418</td>\n",
              "                        <td id=\"T_d42a7c60_0e3d_11eb_880e_0242ac1c0002row14_col8\" class=\"data row14 col8\" >0.0035</td>\n",
              "            </tr>\n",
              "    </tbody></table>"
            ],
            "text/plain": [
              "<pandas.io.formats.style.Styler at 0x7fb202907b70>"
            ]
          },
          "metadata": {
            "tags": []
          }
        },
        {
          "output_type": "execute_result",
          "data": {
            "text/plain": [
              "<catboost.core.CatBoostClassifier at 0x7fb2028da0f0>"
            ]
          },
          "metadata": {
            "tags": []
          },
          "execution_count": 48
        }
      ]
    },
    {
      "cell_type": "code",
      "metadata": {
        "id": "u6faB1DFBj-Y",
        "outputId": "6e67346f-18da-4da2-8f82-d30a73a01cfb",
        "colab": {
          "base_uri": "https://localhost:8080/",
          "height": 204
        }
      },
      "source": [
        "employee=get_data('employee')"
      ],
      "execution_count": 49,
      "outputs": [
        {
          "output_type": "display_data",
          "data": {
            "text/html": [
              "<div>\n",
              "<style scoped>\n",
              "    .dataframe tbody tr th:only-of-type {\n",
              "        vertical-align: middle;\n",
              "    }\n",
              "\n",
              "    .dataframe tbody tr th {\n",
              "        vertical-align: top;\n",
              "    }\n",
              "\n",
              "    .dataframe thead th {\n",
              "        text-align: right;\n",
              "    }\n",
              "</style>\n",
              "<table border=\"1\" class=\"dataframe\">\n",
              "  <thead>\n",
              "    <tr style=\"text-align: right;\">\n",
              "      <th></th>\n",
              "      <th>satisfaction_level</th>\n",
              "      <th>last_evaluation</th>\n",
              "      <th>number_project</th>\n",
              "      <th>average_montly_hours</th>\n",
              "      <th>time_spend_company</th>\n",
              "      <th>Work_accident</th>\n",
              "      <th>promotion_last_5years</th>\n",
              "      <th>department</th>\n",
              "      <th>salary</th>\n",
              "      <th>left</th>\n",
              "    </tr>\n",
              "  </thead>\n",
              "  <tbody>\n",
              "    <tr>\n",
              "      <th>0</th>\n",
              "      <td>0.38</td>\n",
              "      <td>0.53</td>\n",
              "      <td>2</td>\n",
              "      <td>157</td>\n",
              "      <td>3</td>\n",
              "      <td>0</td>\n",
              "      <td>0</td>\n",
              "      <td>sales</td>\n",
              "      <td>low</td>\n",
              "      <td>1</td>\n",
              "    </tr>\n",
              "    <tr>\n",
              "      <th>1</th>\n",
              "      <td>0.80</td>\n",
              "      <td>0.86</td>\n",
              "      <td>5</td>\n",
              "      <td>262</td>\n",
              "      <td>6</td>\n",
              "      <td>0</td>\n",
              "      <td>0</td>\n",
              "      <td>sales</td>\n",
              "      <td>medium</td>\n",
              "      <td>1</td>\n",
              "    </tr>\n",
              "    <tr>\n",
              "      <th>2</th>\n",
              "      <td>0.11</td>\n",
              "      <td>0.88</td>\n",
              "      <td>7</td>\n",
              "      <td>272</td>\n",
              "      <td>4</td>\n",
              "      <td>0</td>\n",
              "      <td>0</td>\n",
              "      <td>sales</td>\n",
              "      <td>medium</td>\n",
              "      <td>1</td>\n",
              "    </tr>\n",
              "    <tr>\n",
              "      <th>3</th>\n",
              "      <td>0.72</td>\n",
              "      <td>0.87</td>\n",
              "      <td>5</td>\n",
              "      <td>223</td>\n",
              "      <td>5</td>\n",
              "      <td>0</td>\n",
              "      <td>0</td>\n",
              "      <td>sales</td>\n",
              "      <td>low</td>\n",
              "      <td>1</td>\n",
              "    </tr>\n",
              "    <tr>\n",
              "      <th>4</th>\n",
              "      <td>0.37</td>\n",
              "      <td>0.52</td>\n",
              "      <td>2</td>\n",
              "      <td>159</td>\n",
              "      <td>3</td>\n",
              "      <td>0</td>\n",
              "      <td>0</td>\n",
              "      <td>sales</td>\n",
              "      <td>low</td>\n",
              "      <td>1</td>\n",
              "    </tr>\n",
              "  </tbody>\n",
              "</table>\n",
              "</div>"
            ],
            "text/plain": [
              "   satisfaction_level  last_evaluation  number_project  ...  department  salary  left\n",
              "0                0.38             0.53               2  ...       sales     low     1\n",
              "1                0.80             0.86               5  ...       sales  medium     1\n",
              "2                0.11             0.88               7  ...       sales  medium     1\n",
              "3                0.72             0.87               5  ...       sales     low     1\n",
              "4                0.37             0.52               2  ...       sales     low     1\n",
              "\n",
              "[5 rows x 10 columns]"
            ]
          },
          "metadata": {
            "tags": []
          }
        }
      ]
    },
    {
      "cell_type": "code",
      "metadata": {
        "id": "oDMGi8l6DxQg",
        "outputId": "966b49c5-fe14-484a-bb75-999f176eb908",
        "colab": {
          "base_uri": "https://localhost:8080/",
          "height": 85
        }
      },
      "source": [
        "employee['salary'].value_counts()"
      ],
      "execution_count": 50,
      "outputs": [
        {
          "output_type": "execute_result",
          "data": {
            "text/plain": [
              "low       7316\n",
              "medium    6446\n",
              "high      1237\n",
              "Name: salary, dtype: int64"
            ]
          },
          "metadata": {
            "tags": []
          },
          "execution_count": 50
        }
      ]
    },
    {
      "cell_type": "code",
      "metadata": {
        "id": "BuyzQg8WDln1",
        "outputId": "eba7d0e3-89df-4a4e-e05f-29723f2b2733",
        "colab": {
          "base_uri": "https://localhost:8080/",
          "height": 981,
          "referenced_widgets": [
            "71e8a1c08617449b91250bc164e68ce2",
            "65a30d4c557d4f7286d69f6183b57adf",
            "e95807e87411457eac9fa73e8a293134",
            "fc602285eb5842b8931ff899685e6793",
            "490b23e3af2d4959abf84c36b2aa8342",
            "ef7cb30e487e4a058ca9a3b2f35cc9fb"
          ]
        }
      },
      "source": [
        "clf=setup(data=employee,target='left',ordinal_features={'salary':['low','medium','high']})"
      ],
      "execution_count": 51,
      "outputs": [
        {
          "output_type": "stream",
          "text": [
            "Setup Succesfully Completed!\n"
          ],
          "name": "stdout"
        },
        {
          "output_type": "display_data",
          "data": {
            "text/html": [
              "<style  type=\"text/css\" >\n",
              "#T_f6f8866e_0e3e_11eb_880e_0242ac1c0002row7_col1{\n",
              "            background-color:  lightgreen;\n",
              "        }</style><table id=\"T_f6f8866e_0e3e_11eb_880e_0242ac1c0002\" ><thead>    <tr>        <th class=\"blank level0\" ></th>        <th class=\"col_heading level0 col0\" >Description</th>        <th class=\"col_heading level0 col1\" >Value</th>    </tr></thead><tbody>\n",
              "                <tr>\n",
              "                        <th id=\"T_f6f8866e_0e3e_11eb_880e_0242ac1c0002level0_row0\" class=\"row_heading level0 row0\" >0</th>\n",
              "                        <td id=\"T_f6f8866e_0e3e_11eb_880e_0242ac1c0002row0_col0\" class=\"data row0 col0\" >session_id</td>\n",
              "                        <td id=\"T_f6f8866e_0e3e_11eb_880e_0242ac1c0002row0_col1\" class=\"data row0 col1\" >6068</td>\n",
              "            </tr>\n",
              "            <tr>\n",
              "                        <th id=\"T_f6f8866e_0e3e_11eb_880e_0242ac1c0002level0_row1\" class=\"row_heading level0 row1\" >1</th>\n",
              "                        <td id=\"T_f6f8866e_0e3e_11eb_880e_0242ac1c0002row1_col0\" class=\"data row1 col0\" >Target Type</td>\n",
              "                        <td id=\"T_f6f8866e_0e3e_11eb_880e_0242ac1c0002row1_col1\" class=\"data row1 col1\" >Binary</td>\n",
              "            </tr>\n",
              "            <tr>\n",
              "                        <th id=\"T_f6f8866e_0e3e_11eb_880e_0242ac1c0002level0_row2\" class=\"row_heading level0 row2\" >2</th>\n",
              "                        <td id=\"T_f6f8866e_0e3e_11eb_880e_0242ac1c0002row2_col0\" class=\"data row2 col0\" >Label Encoded</td>\n",
              "                        <td id=\"T_f6f8866e_0e3e_11eb_880e_0242ac1c0002row2_col1\" class=\"data row2 col1\" >0: 0, 1: 1</td>\n",
              "            </tr>\n",
              "            <tr>\n",
              "                        <th id=\"T_f6f8866e_0e3e_11eb_880e_0242ac1c0002level0_row3\" class=\"row_heading level0 row3\" >3</th>\n",
              "                        <td id=\"T_f6f8866e_0e3e_11eb_880e_0242ac1c0002row3_col0\" class=\"data row3 col0\" >Original Data</td>\n",
              "                        <td id=\"T_f6f8866e_0e3e_11eb_880e_0242ac1c0002row3_col1\" class=\"data row3 col1\" >(14999, 10)</td>\n",
              "            </tr>\n",
              "            <tr>\n",
              "                        <th id=\"T_f6f8866e_0e3e_11eb_880e_0242ac1c0002level0_row4\" class=\"row_heading level0 row4\" >4</th>\n",
              "                        <td id=\"T_f6f8866e_0e3e_11eb_880e_0242ac1c0002row4_col0\" class=\"data row4 col0\" >Missing Values </td>\n",
              "                        <td id=\"T_f6f8866e_0e3e_11eb_880e_0242ac1c0002row4_col1\" class=\"data row4 col1\" >False</td>\n",
              "            </tr>\n",
              "            <tr>\n",
              "                        <th id=\"T_f6f8866e_0e3e_11eb_880e_0242ac1c0002level0_row5\" class=\"row_heading level0 row5\" >5</th>\n",
              "                        <td id=\"T_f6f8866e_0e3e_11eb_880e_0242ac1c0002row5_col0\" class=\"data row5 col0\" >Numeric Features </td>\n",
              "                        <td id=\"T_f6f8866e_0e3e_11eb_880e_0242ac1c0002row5_col1\" class=\"data row5 col1\" >3</td>\n",
              "            </tr>\n",
              "            <tr>\n",
              "                        <th id=\"T_f6f8866e_0e3e_11eb_880e_0242ac1c0002level0_row6\" class=\"row_heading level0 row6\" >6</th>\n",
              "                        <td id=\"T_f6f8866e_0e3e_11eb_880e_0242ac1c0002row6_col0\" class=\"data row6 col0\" >Categorical Features </td>\n",
              "                        <td id=\"T_f6f8866e_0e3e_11eb_880e_0242ac1c0002row6_col1\" class=\"data row6 col1\" >6</td>\n",
              "            </tr>\n",
              "            <tr>\n",
              "                        <th id=\"T_f6f8866e_0e3e_11eb_880e_0242ac1c0002level0_row7\" class=\"row_heading level0 row7\" >7</th>\n",
              "                        <td id=\"T_f6f8866e_0e3e_11eb_880e_0242ac1c0002row7_col0\" class=\"data row7 col0\" >Ordinal Features </td>\n",
              "                        <td id=\"T_f6f8866e_0e3e_11eb_880e_0242ac1c0002row7_col1\" class=\"data row7 col1\" >True</td>\n",
              "            </tr>\n",
              "            <tr>\n",
              "                        <th id=\"T_f6f8866e_0e3e_11eb_880e_0242ac1c0002level0_row8\" class=\"row_heading level0 row8\" >8</th>\n",
              "                        <td id=\"T_f6f8866e_0e3e_11eb_880e_0242ac1c0002row8_col0\" class=\"data row8 col0\" >High Cardinality Features </td>\n",
              "                        <td id=\"T_f6f8866e_0e3e_11eb_880e_0242ac1c0002row8_col1\" class=\"data row8 col1\" >False</td>\n",
              "            </tr>\n",
              "            <tr>\n",
              "                        <th id=\"T_f6f8866e_0e3e_11eb_880e_0242ac1c0002level0_row9\" class=\"row_heading level0 row9\" >9</th>\n",
              "                        <td id=\"T_f6f8866e_0e3e_11eb_880e_0242ac1c0002row9_col0\" class=\"data row9 col0\" >High Cardinality Method </td>\n",
              "                        <td id=\"T_f6f8866e_0e3e_11eb_880e_0242ac1c0002row9_col1\" class=\"data row9 col1\" >None</td>\n",
              "            </tr>\n",
              "            <tr>\n",
              "                        <th id=\"T_f6f8866e_0e3e_11eb_880e_0242ac1c0002level0_row10\" class=\"row_heading level0 row10\" >10</th>\n",
              "                        <td id=\"T_f6f8866e_0e3e_11eb_880e_0242ac1c0002row10_col0\" class=\"data row10 col0\" >Sampled Data</td>\n",
              "                        <td id=\"T_f6f8866e_0e3e_11eb_880e_0242ac1c0002row10_col1\" class=\"data row10 col1\" >(14999, 10)</td>\n",
              "            </tr>\n",
              "            <tr>\n",
              "                        <th id=\"T_f6f8866e_0e3e_11eb_880e_0242ac1c0002level0_row11\" class=\"row_heading level0 row11\" >11</th>\n",
              "                        <td id=\"T_f6f8866e_0e3e_11eb_880e_0242ac1c0002row11_col0\" class=\"data row11 col0\" >Transformed Train Set</td>\n",
              "                        <td id=\"T_f6f8866e_0e3e_11eb_880e_0242ac1c0002row11_col1\" class=\"data row11 col1\" >(10499, 32)</td>\n",
              "            </tr>\n",
              "            <tr>\n",
              "                        <th id=\"T_f6f8866e_0e3e_11eb_880e_0242ac1c0002level0_row12\" class=\"row_heading level0 row12\" >12</th>\n",
              "                        <td id=\"T_f6f8866e_0e3e_11eb_880e_0242ac1c0002row12_col0\" class=\"data row12 col0\" >Transformed Test Set</td>\n",
              "                        <td id=\"T_f6f8866e_0e3e_11eb_880e_0242ac1c0002row12_col1\" class=\"data row12 col1\" >(4500, 32)</td>\n",
              "            </tr>\n",
              "            <tr>\n",
              "                        <th id=\"T_f6f8866e_0e3e_11eb_880e_0242ac1c0002level0_row13\" class=\"row_heading level0 row13\" >13</th>\n",
              "                        <td id=\"T_f6f8866e_0e3e_11eb_880e_0242ac1c0002row13_col0\" class=\"data row13 col0\" >Numeric Imputer </td>\n",
              "                        <td id=\"T_f6f8866e_0e3e_11eb_880e_0242ac1c0002row13_col1\" class=\"data row13 col1\" >mean</td>\n",
              "            </tr>\n",
              "            <tr>\n",
              "                        <th id=\"T_f6f8866e_0e3e_11eb_880e_0242ac1c0002level0_row14\" class=\"row_heading level0 row14\" >14</th>\n",
              "                        <td id=\"T_f6f8866e_0e3e_11eb_880e_0242ac1c0002row14_col0\" class=\"data row14 col0\" >Categorical Imputer </td>\n",
              "                        <td id=\"T_f6f8866e_0e3e_11eb_880e_0242ac1c0002row14_col1\" class=\"data row14 col1\" >constant</td>\n",
              "            </tr>\n",
              "            <tr>\n",
              "                        <th id=\"T_f6f8866e_0e3e_11eb_880e_0242ac1c0002level0_row15\" class=\"row_heading level0 row15\" >15</th>\n",
              "                        <td id=\"T_f6f8866e_0e3e_11eb_880e_0242ac1c0002row15_col0\" class=\"data row15 col0\" >Normalize </td>\n",
              "                        <td id=\"T_f6f8866e_0e3e_11eb_880e_0242ac1c0002row15_col1\" class=\"data row15 col1\" >False</td>\n",
              "            </tr>\n",
              "            <tr>\n",
              "                        <th id=\"T_f6f8866e_0e3e_11eb_880e_0242ac1c0002level0_row16\" class=\"row_heading level0 row16\" >16</th>\n",
              "                        <td id=\"T_f6f8866e_0e3e_11eb_880e_0242ac1c0002row16_col0\" class=\"data row16 col0\" >Normalize Method </td>\n",
              "                        <td id=\"T_f6f8866e_0e3e_11eb_880e_0242ac1c0002row16_col1\" class=\"data row16 col1\" >None</td>\n",
              "            </tr>\n",
              "            <tr>\n",
              "                        <th id=\"T_f6f8866e_0e3e_11eb_880e_0242ac1c0002level0_row17\" class=\"row_heading level0 row17\" >17</th>\n",
              "                        <td id=\"T_f6f8866e_0e3e_11eb_880e_0242ac1c0002row17_col0\" class=\"data row17 col0\" >Transformation </td>\n",
              "                        <td id=\"T_f6f8866e_0e3e_11eb_880e_0242ac1c0002row17_col1\" class=\"data row17 col1\" >False</td>\n",
              "            </tr>\n",
              "            <tr>\n",
              "                        <th id=\"T_f6f8866e_0e3e_11eb_880e_0242ac1c0002level0_row18\" class=\"row_heading level0 row18\" >18</th>\n",
              "                        <td id=\"T_f6f8866e_0e3e_11eb_880e_0242ac1c0002row18_col0\" class=\"data row18 col0\" >Transformation Method </td>\n",
              "                        <td id=\"T_f6f8866e_0e3e_11eb_880e_0242ac1c0002row18_col1\" class=\"data row18 col1\" >None</td>\n",
              "            </tr>\n",
              "            <tr>\n",
              "                        <th id=\"T_f6f8866e_0e3e_11eb_880e_0242ac1c0002level0_row19\" class=\"row_heading level0 row19\" >19</th>\n",
              "                        <td id=\"T_f6f8866e_0e3e_11eb_880e_0242ac1c0002row19_col0\" class=\"data row19 col0\" >PCA </td>\n",
              "                        <td id=\"T_f6f8866e_0e3e_11eb_880e_0242ac1c0002row19_col1\" class=\"data row19 col1\" >False</td>\n",
              "            </tr>\n",
              "            <tr>\n",
              "                        <th id=\"T_f6f8866e_0e3e_11eb_880e_0242ac1c0002level0_row20\" class=\"row_heading level0 row20\" >20</th>\n",
              "                        <td id=\"T_f6f8866e_0e3e_11eb_880e_0242ac1c0002row20_col0\" class=\"data row20 col0\" >PCA Method </td>\n",
              "                        <td id=\"T_f6f8866e_0e3e_11eb_880e_0242ac1c0002row20_col1\" class=\"data row20 col1\" >None</td>\n",
              "            </tr>\n",
              "            <tr>\n",
              "                        <th id=\"T_f6f8866e_0e3e_11eb_880e_0242ac1c0002level0_row21\" class=\"row_heading level0 row21\" >21</th>\n",
              "                        <td id=\"T_f6f8866e_0e3e_11eb_880e_0242ac1c0002row21_col0\" class=\"data row21 col0\" >PCA Components </td>\n",
              "                        <td id=\"T_f6f8866e_0e3e_11eb_880e_0242ac1c0002row21_col1\" class=\"data row21 col1\" >None</td>\n",
              "            </tr>\n",
              "            <tr>\n",
              "                        <th id=\"T_f6f8866e_0e3e_11eb_880e_0242ac1c0002level0_row22\" class=\"row_heading level0 row22\" >22</th>\n",
              "                        <td id=\"T_f6f8866e_0e3e_11eb_880e_0242ac1c0002row22_col0\" class=\"data row22 col0\" >Ignore Low Variance </td>\n",
              "                        <td id=\"T_f6f8866e_0e3e_11eb_880e_0242ac1c0002row22_col1\" class=\"data row22 col1\" >False</td>\n",
              "            </tr>\n",
              "            <tr>\n",
              "                        <th id=\"T_f6f8866e_0e3e_11eb_880e_0242ac1c0002level0_row23\" class=\"row_heading level0 row23\" >23</th>\n",
              "                        <td id=\"T_f6f8866e_0e3e_11eb_880e_0242ac1c0002row23_col0\" class=\"data row23 col0\" >Combine Rare Levels </td>\n",
              "                        <td id=\"T_f6f8866e_0e3e_11eb_880e_0242ac1c0002row23_col1\" class=\"data row23 col1\" >False</td>\n",
              "            </tr>\n",
              "            <tr>\n",
              "                        <th id=\"T_f6f8866e_0e3e_11eb_880e_0242ac1c0002level0_row24\" class=\"row_heading level0 row24\" >24</th>\n",
              "                        <td id=\"T_f6f8866e_0e3e_11eb_880e_0242ac1c0002row24_col0\" class=\"data row24 col0\" >Rare Level Threshold </td>\n",
              "                        <td id=\"T_f6f8866e_0e3e_11eb_880e_0242ac1c0002row24_col1\" class=\"data row24 col1\" >None</td>\n",
              "            </tr>\n",
              "            <tr>\n",
              "                        <th id=\"T_f6f8866e_0e3e_11eb_880e_0242ac1c0002level0_row25\" class=\"row_heading level0 row25\" >25</th>\n",
              "                        <td id=\"T_f6f8866e_0e3e_11eb_880e_0242ac1c0002row25_col0\" class=\"data row25 col0\" >Numeric Binning </td>\n",
              "                        <td id=\"T_f6f8866e_0e3e_11eb_880e_0242ac1c0002row25_col1\" class=\"data row25 col1\" >False</td>\n",
              "            </tr>\n",
              "            <tr>\n",
              "                        <th id=\"T_f6f8866e_0e3e_11eb_880e_0242ac1c0002level0_row26\" class=\"row_heading level0 row26\" >26</th>\n",
              "                        <td id=\"T_f6f8866e_0e3e_11eb_880e_0242ac1c0002row26_col0\" class=\"data row26 col0\" >Remove Outliers </td>\n",
              "                        <td id=\"T_f6f8866e_0e3e_11eb_880e_0242ac1c0002row26_col1\" class=\"data row26 col1\" >False</td>\n",
              "            </tr>\n",
              "            <tr>\n",
              "                        <th id=\"T_f6f8866e_0e3e_11eb_880e_0242ac1c0002level0_row27\" class=\"row_heading level0 row27\" >27</th>\n",
              "                        <td id=\"T_f6f8866e_0e3e_11eb_880e_0242ac1c0002row27_col0\" class=\"data row27 col0\" >Outliers Threshold </td>\n",
              "                        <td id=\"T_f6f8866e_0e3e_11eb_880e_0242ac1c0002row27_col1\" class=\"data row27 col1\" >None</td>\n",
              "            </tr>\n",
              "            <tr>\n",
              "                        <th id=\"T_f6f8866e_0e3e_11eb_880e_0242ac1c0002level0_row28\" class=\"row_heading level0 row28\" >28</th>\n",
              "                        <td id=\"T_f6f8866e_0e3e_11eb_880e_0242ac1c0002row28_col0\" class=\"data row28 col0\" >Remove Multicollinearity </td>\n",
              "                        <td id=\"T_f6f8866e_0e3e_11eb_880e_0242ac1c0002row28_col1\" class=\"data row28 col1\" >False</td>\n",
              "            </tr>\n",
              "            <tr>\n",
              "                        <th id=\"T_f6f8866e_0e3e_11eb_880e_0242ac1c0002level0_row29\" class=\"row_heading level0 row29\" >29</th>\n",
              "                        <td id=\"T_f6f8866e_0e3e_11eb_880e_0242ac1c0002row29_col0\" class=\"data row29 col0\" >Multicollinearity Threshold </td>\n",
              "                        <td id=\"T_f6f8866e_0e3e_11eb_880e_0242ac1c0002row29_col1\" class=\"data row29 col1\" >None</td>\n",
              "            </tr>\n",
              "            <tr>\n",
              "                        <th id=\"T_f6f8866e_0e3e_11eb_880e_0242ac1c0002level0_row30\" class=\"row_heading level0 row30\" >30</th>\n",
              "                        <td id=\"T_f6f8866e_0e3e_11eb_880e_0242ac1c0002row30_col0\" class=\"data row30 col0\" >Clustering </td>\n",
              "                        <td id=\"T_f6f8866e_0e3e_11eb_880e_0242ac1c0002row30_col1\" class=\"data row30 col1\" >False</td>\n",
              "            </tr>\n",
              "            <tr>\n",
              "                        <th id=\"T_f6f8866e_0e3e_11eb_880e_0242ac1c0002level0_row31\" class=\"row_heading level0 row31\" >31</th>\n",
              "                        <td id=\"T_f6f8866e_0e3e_11eb_880e_0242ac1c0002row31_col0\" class=\"data row31 col0\" >Clustering Iteration </td>\n",
              "                        <td id=\"T_f6f8866e_0e3e_11eb_880e_0242ac1c0002row31_col1\" class=\"data row31 col1\" >None</td>\n",
              "            </tr>\n",
              "            <tr>\n",
              "                        <th id=\"T_f6f8866e_0e3e_11eb_880e_0242ac1c0002level0_row32\" class=\"row_heading level0 row32\" >32</th>\n",
              "                        <td id=\"T_f6f8866e_0e3e_11eb_880e_0242ac1c0002row32_col0\" class=\"data row32 col0\" >Polynomial Features </td>\n",
              "                        <td id=\"T_f6f8866e_0e3e_11eb_880e_0242ac1c0002row32_col1\" class=\"data row32 col1\" >False</td>\n",
              "            </tr>\n",
              "            <tr>\n",
              "                        <th id=\"T_f6f8866e_0e3e_11eb_880e_0242ac1c0002level0_row33\" class=\"row_heading level0 row33\" >33</th>\n",
              "                        <td id=\"T_f6f8866e_0e3e_11eb_880e_0242ac1c0002row33_col0\" class=\"data row33 col0\" >Polynomial Degree </td>\n",
              "                        <td id=\"T_f6f8866e_0e3e_11eb_880e_0242ac1c0002row33_col1\" class=\"data row33 col1\" >None</td>\n",
              "            </tr>\n",
              "            <tr>\n",
              "                        <th id=\"T_f6f8866e_0e3e_11eb_880e_0242ac1c0002level0_row34\" class=\"row_heading level0 row34\" >34</th>\n",
              "                        <td id=\"T_f6f8866e_0e3e_11eb_880e_0242ac1c0002row34_col0\" class=\"data row34 col0\" >Trignometry Features </td>\n",
              "                        <td id=\"T_f6f8866e_0e3e_11eb_880e_0242ac1c0002row34_col1\" class=\"data row34 col1\" >False</td>\n",
              "            </tr>\n",
              "            <tr>\n",
              "                        <th id=\"T_f6f8866e_0e3e_11eb_880e_0242ac1c0002level0_row35\" class=\"row_heading level0 row35\" >35</th>\n",
              "                        <td id=\"T_f6f8866e_0e3e_11eb_880e_0242ac1c0002row35_col0\" class=\"data row35 col0\" >Polynomial Threshold </td>\n",
              "                        <td id=\"T_f6f8866e_0e3e_11eb_880e_0242ac1c0002row35_col1\" class=\"data row35 col1\" >None</td>\n",
              "            </tr>\n",
              "            <tr>\n",
              "                        <th id=\"T_f6f8866e_0e3e_11eb_880e_0242ac1c0002level0_row36\" class=\"row_heading level0 row36\" >36</th>\n",
              "                        <td id=\"T_f6f8866e_0e3e_11eb_880e_0242ac1c0002row36_col0\" class=\"data row36 col0\" >Group Features </td>\n",
              "                        <td id=\"T_f6f8866e_0e3e_11eb_880e_0242ac1c0002row36_col1\" class=\"data row36 col1\" >False</td>\n",
              "            </tr>\n",
              "            <tr>\n",
              "                        <th id=\"T_f6f8866e_0e3e_11eb_880e_0242ac1c0002level0_row37\" class=\"row_heading level0 row37\" >37</th>\n",
              "                        <td id=\"T_f6f8866e_0e3e_11eb_880e_0242ac1c0002row37_col0\" class=\"data row37 col0\" >Feature Selection </td>\n",
              "                        <td id=\"T_f6f8866e_0e3e_11eb_880e_0242ac1c0002row37_col1\" class=\"data row37 col1\" >False</td>\n",
              "            </tr>\n",
              "            <tr>\n",
              "                        <th id=\"T_f6f8866e_0e3e_11eb_880e_0242ac1c0002level0_row38\" class=\"row_heading level0 row38\" >38</th>\n",
              "                        <td id=\"T_f6f8866e_0e3e_11eb_880e_0242ac1c0002row38_col0\" class=\"data row38 col0\" >Features Selection Threshold </td>\n",
              "                        <td id=\"T_f6f8866e_0e3e_11eb_880e_0242ac1c0002row38_col1\" class=\"data row38 col1\" >None</td>\n",
              "            </tr>\n",
              "            <tr>\n",
              "                        <th id=\"T_f6f8866e_0e3e_11eb_880e_0242ac1c0002level0_row39\" class=\"row_heading level0 row39\" >39</th>\n",
              "                        <td id=\"T_f6f8866e_0e3e_11eb_880e_0242ac1c0002row39_col0\" class=\"data row39 col0\" >Feature Interaction </td>\n",
              "                        <td id=\"T_f6f8866e_0e3e_11eb_880e_0242ac1c0002row39_col1\" class=\"data row39 col1\" >False</td>\n",
              "            </tr>\n",
              "            <tr>\n",
              "                        <th id=\"T_f6f8866e_0e3e_11eb_880e_0242ac1c0002level0_row40\" class=\"row_heading level0 row40\" >40</th>\n",
              "                        <td id=\"T_f6f8866e_0e3e_11eb_880e_0242ac1c0002row40_col0\" class=\"data row40 col0\" >Feature Ratio </td>\n",
              "                        <td id=\"T_f6f8866e_0e3e_11eb_880e_0242ac1c0002row40_col1\" class=\"data row40 col1\" >False</td>\n",
              "            </tr>\n",
              "            <tr>\n",
              "                        <th id=\"T_f6f8866e_0e3e_11eb_880e_0242ac1c0002level0_row41\" class=\"row_heading level0 row41\" >41</th>\n",
              "                        <td id=\"T_f6f8866e_0e3e_11eb_880e_0242ac1c0002row41_col0\" class=\"data row41 col0\" >Interaction Threshold </td>\n",
              "                        <td id=\"T_f6f8866e_0e3e_11eb_880e_0242ac1c0002row41_col1\" class=\"data row41 col1\" >None</td>\n",
              "            </tr>\n",
              "            <tr>\n",
              "                        <th id=\"T_f6f8866e_0e3e_11eb_880e_0242ac1c0002level0_row42\" class=\"row_heading level0 row42\" >42</th>\n",
              "                        <td id=\"T_f6f8866e_0e3e_11eb_880e_0242ac1c0002row42_col0\" class=\"data row42 col0\" >Fix Imbalance</td>\n",
              "                        <td id=\"T_f6f8866e_0e3e_11eb_880e_0242ac1c0002row42_col1\" class=\"data row42 col1\" >False</td>\n",
              "            </tr>\n",
              "            <tr>\n",
              "                        <th id=\"T_f6f8866e_0e3e_11eb_880e_0242ac1c0002level0_row43\" class=\"row_heading level0 row43\" >43</th>\n",
              "                        <td id=\"T_f6f8866e_0e3e_11eb_880e_0242ac1c0002row43_col0\" class=\"data row43 col0\" >Fix Imbalance Method</td>\n",
              "                        <td id=\"T_f6f8866e_0e3e_11eb_880e_0242ac1c0002row43_col1\" class=\"data row43 col1\" >SMOTE</td>\n",
              "            </tr>\n",
              "    </tbody></table>"
            ],
            "text/plain": [
              "<pandas.io.formats.style.Styler at 0x7fb1ff716a58>"
            ]
          },
          "metadata": {
            "tags": []
          }
        }
      ]
    },
    {
      "cell_type": "code",
      "metadata": {
        "id": "ExtzLbTQD5oW",
        "outputId": "dd79676e-d4e3-4cb1-aa8a-19d1fc5dfd50",
        "colab": {
          "base_uri": "https://localhost:8080/",
          "height": 289
        }
      },
      "source": [
        "income=get_data('income')"
      ],
      "execution_count": 52,
      "outputs": [
        {
          "output_type": "display_data",
          "data": {
            "text/html": [
              "<div>\n",
              "<style scoped>\n",
              "    .dataframe tbody tr th:only-of-type {\n",
              "        vertical-align: middle;\n",
              "    }\n",
              "\n",
              "    .dataframe tbody tr th {\n",
              "        vertical-align: top;\n",
              "    }\n",
              "\n",
              "    .dataframe thead th {\n",
              "        text-align: right;\n",
              "    }\n",
              "</style>\n",
              "<table border=\"1\" class=\"dataframe\">\n",
              "  <thead>\n",
              "    <tr style=\"text-align: right;\">\n",
              "      <th></th>\n",
              "      <th>age</th>\n",
              "      <th>workclass</th>\n",
              "      <th>education</th>\n",
              "      <th>education-num</th>\n",
              "      <th>marital-status</th>\n",
              "      <th>occupation</th>\n",
              "      <th>relationship</th>\n",
              "      <th>race</th>\n",
              "      <th>sex</th>\n",
              "      <th>capital-gain</th>\n",
              "      <th>capital-loss</th>\n",
              "      <th>hours-per-week</th>\n",
              "      <th>native-country</th>\n",
              "      <th>income &gt;50K</th>\n",
              "    </tr>\n",
              "  </thead>\n",
              "  <tbody>\n",
              "    <tr>\n",
              "      <th>0</th>\n",
              "      <td>39</td>\n",
              "      <td>State-gov</td>\n",
              "      <td>Bachelors</td>\n",
              "      <td>13</td>\n",
              "      <td>Never-married</td>\n",
              "      <td>Adm-clerical</td>\n",
              "      <td>Not-in-family</td>\n",
              "      <td>White</td>\n",
              "      <td>Male</td>\n",
              "      <td>2174</td>\n",
              "      <td>0</td>\n",
              "      <td>40</td>\n",
              "      <td>United-States</td>\n",
              "      <td>0</td>\n",
              "    </tr>\n",
              "    <tr>\n",
              "      <th>1</th>\n",
              "      <td>50</td>\n",
              "      <td>Self-emp-not-inc</td>\n",
              "      <td>Bachelors</td>\n",
              "      <td>13</td>\n",
              "      <td>Married-civ-spouse</td>\n",
              "      <td>Exec-managerial</td>\n",
              "      <td>Husband</td>\n",
              "      <td>White</td>\n",
              "      <td>Male</td>\n",
              "      <td>0</td>\n",
              "      <td>0</td>\n",
              "      <td>13</td>\n",
              "      <td>United-States</td>\n",
              "      <td>0</td>\n",
              "    </tr>\n",
              "    <tr>\n",
              "      <th>2</th>\n",
              "      <td>38</td>\n",
              "      <td>Private</td>\n",
              "      <td>HS-grad</td>\n",
              "      <td>9</td>\n",
              "      <td>Divorced</td>\n",
              "      <td>Handlers-cleaners</td>\n",
              "      <td>Not-in-family</td>\n",
              "      <td>White</td>\n",
              "      <td>Male</td>\n",
              "      <td>0</td>\n",
              "      <td>0</td>\n",
              "      <td>40</td>\n",
              "      <td>United-States</td>\n",
              "      <td>0</td>\n",
              "    </tr>\n",
              "    <tr>\n",
              "      <th>3</th>\n",
              "      <td>53</td>\n",
              "      <td>Private</td>\n",
              "      <td>11th</td>\n",
              "      <td>7</td>\n",
              "      <td>Married-civ-spouse</td>\n",
              "      <td>Handlers-cleaners</td>\n",
              "      <td>Husband</td>\n",
              "      <td>Black</td>\n",
              "      <td>Male</td>\n",
              "      <td>0</td>\n",
              "      <td>0</td>\n",
              "      <td>40</td>\n",
              "      <td>United-States</td>\n",
              "      <td>0</td>\n",
              "    </tr>\n",
              "    <tr>\n",
              "      <th>4</th>\n",
              "      <td>28</td>\n",
              "      <td>Private</td>\n",
              "      <td>Bachelors</td>\n",
              "      <td>13</td>\n",
              "      <td>Married-civ-spouse</td>\n",
              "      <td>Prof-specialty</td>\n",
              "      <td>Wife</td>\n",
              "      <td>Black</td>\n",
              "      <td>Female</td>\n",
              "      <td>0</td>\n",
              "      <td>0</td>\n",
              "      <td>40</td>\n",
              "      <td>Cuba</td>\n",
              "      <td>0</td>\n",
              "    </tr>\n",
              "  </tbody>\n",
              "</table>\n",
              "</div>"
            ],
            "text/plain": [
              "   age         workclass  education  ...  hours-per-week native-country income >50K\n",
              "0   39         State-gov  Bachelors  ...              40  United-States           0\n",
              "1   50  Self-emp-not-inc  Bachelors  ...              13  United-States           0\n",
              "2   38           Private    HS-grad  ...              40  United-States           0\n",
              "3   53           Private       11th  ...              40  United-States           0\n",
              "4   28           Private  Bachelors  ...              40           Cuba           0\n",
              "\n",
              "[5 rows x 14 columns]"
            ]
          },
          "metadata": {
            "tags": []
          }
        }
      ]
    },
    {
      "cell_type": "code",
      "metadata": {
        "id": "Aav2Ug6kETy1",
        "outputId": "40369048-b678-45ed-c081-4d51c6052567",
        "colab": {
          "base_uri": "https://localhost:8080/",
          "height": 731
        }
      },
      "source": [
        "income['native-country'].value_counts()"
      ],
      "execution_count": 53,
      "outputs": [
        {
          "output_type": "execute_result",
          "data": {
            "text/plain": [
              "United-States                 29170\n",
              "Mexico                          643\n",
              "Philippines                     198\n",
              "Germany                         137\n",
              "Canada                          121\n",
              "Puerto-Rico                     114\n",
              "El-Salvador                     106\n",
              "India                           100\n",
              "Cuba                             95\n",
              "England                          90\n",
              "Jamaica                          81\n",
              "South                            80\n",
              "China                            75\n",
              "Italy                            73\n",
              "Dominican-Republic               70\n",
              "Vietnam                          67\n",
              "Guatemala                        64\n",
              "Japan                            62\n",
              "Poland                           60\n",
              "Columbia                         59\n",
              "Taiwan                           51\n",
              "Haiti                            44\n",
              "Iran                             43\n",
              "Portugal                         37\n",
              "Nicaragua                        34\n",
              "Peru                             31\n",
              "Greece                           29\n",
              "France                           29\n",
              "Ecuador                          28\n",
              "Ireland                          24\n",
              "Hong                             20\n",
              "Cambodia                         19\n",
              "Trinadad&Tobago                  19\n",
              "Laos                             18\n",
              "Thailand                         18\n",
              "Yugoslavia                       16\n",
              "Outlying-US(Guam-USVI-etc)       14\n",
              "Honduras                         13\n",
              "Hungary                          13\n",
              "Scotland                         12\n",
              "Holand-Netherlands                1\n",
              "Name: native-country, dtype: int64"
            ]
          },
          "metadata": {
            "tags": []
          },
          "execution_count": 53
        }
      ]
    },
    {
      "cell_type": "code",
      "metadata": {
        "id": "MHduLigiEZDP",
        "outputId": "fcc8735e-21a0-4839-f030-7b818da02963",
        "colab": {
          "base_uri": "https://localhost:8080/",
          "height": 981,
          "referenced_widgets": [
            "faca6d12e482463b8b782fa55fe620c1",
            "5700b7b9704c4989af474e4680c506a3",
            "efd0922cb46e477cbecb0ad32e672d5d",
            "3c9dc967d879412aa3c28ad375d9cead",
            "bc8e815f537d4617962540264523e9b8",
            "07b0430824fe465c9e1f23c13a5d548b"
          ]
        }
      },
      "source": [
        "clf=setup(data=income,target='income >50K',high_cardinality_features=['native-country'])"
      ],
      "execution_count": 54,
      "outputs": [
        {
          "output_type": "stream",
          "text": [
            "Setup Succesfully Completed!\n"
          ],
          "name": "stdout"
        },
        {
          "output_type": "display_data",
          "data": {
            "text/html": [
              "<style  type=\"text/css\" >\n",
              "#T_d07efc56_0e3f_11eb_880e_0242ac1c0002row4_col1,#T_d07efc56_0e3f_11eb_880e_0242ac1c0002row8_col1{\n",
              "            background-color:  lightgreen;\n",
              "        }</style><table id=\"T_d07efc56_0e3f_11eb_880e_0242ac1c0002\" ><thead>    <tr>        <th class=\"blank level0\" ></th>        <th class=\"col_heading level0 col0\" >Description</th>        <th class=\"col_heading level0 col1\" >Value</th>    </tr></thead><tbody>\n",
              "                <tr>\n",
              "                        <th id=\"T_d07efc56_0e3f_11eb_880e_0242ac1c0002level0_row0\" class=\"row_heading level0 row0\" >0</th>\n",
              "                        <td id=\"T_d07efc56_0e3f_11eb_880e_0242ac1c0002row0_col0\" class=\"data row0 col0\" >session_id</td>\n",
              "                        <td id=\"T_d07efc56_0e3f_11eb_880e_0242ac1c0002row0_col1\" class=\"data row0 col1\" >1163</td>\n",
              "            </tr>\n",
              "            <tr>\n",
              "                        <th id=\"T_d07efc56_0e3f_11eb_880e_0242ac1c0002level0_row1\" class=\"row_heading level0 row1\" >1</th>\n",
              "                        <td id=\"T_d07efc56_0e3f_11eb_880e_0242ac1c0002row1_col0\" class=\"data row1 col0\" >Target Type</td>\n",
              "                        <td id=\"T_d07efc56_0e3f_11eb_880e_0242ac1c0002row1_col1\" class=\"data row1 col1\" >Binary</td>\n",
              "            </tr>\n",
              "            <tr>\n",
              "                        <th id=\"T_d07efc56_0e3f_11eb_880e_0242ac1c0002level0_row2\" class=\"row_heading level0 row2\" >2</th>\n",
              "                        <td id=\"T_d07efc56_0e3f_11eb_880e_0242ac1c0002row2_col0\" class=\"data row2 col0\" >Label Encoded</td>\n",
              "                        <td id=\"T_d07efc56_0e3f_11eb_880e_0242ac1c0002row2_col1\" class=\"data row2 col1\" >0: 0, 1: 1</td>\n",
              "            </tr>\n",
              "            <tr>\n",
              "                        <th id=\"T_d07efc56_0e3f_11eb_880e_0242ac1c0002level0_row3\" class=\"row_heading level0 row3\" >3</th>\n",
              "                        <td id=\"T_d07efc56_0e3f_11eb_880e_0242ac1c0002row3_col0\" class=\"data row3 col0\" >Original Data</td>\n",
              "                        <td id=\"T_d07efc56_0e3f_11eb_880e_0242ac1c0002row3_col1\" class=\"data row3 col1\" >(32561, 14)</td>\n",
              "            </tr>\n",
              "            <tr>\n",
              "                        <th id=\"T_d07efc56_0e3f_11eb_880e_0242ac1c0002level0_row4\" class=\"row_heading level0 row4\" >4</th>\n",
              "                        <td id=\"T_d07efc56_0e3f_11eb_880e_0242ac1c0002row4_col0\" class=\"data row4 col0\" >Missing Values </td>\n",
              "                        <td id=\"T_d07efc56_0e3f_11eb_880e_0242ac1c0002row4_col1\" class=\"data row4 col1\" >True</td>\n",
              "            </tr>\n",
              "            <tr>\n",
              "                        <th id=\"T_d07efc56_0e3f_11eb_880e_0242ac1c0002level0_row5\" class=\"row_heading level0 row5\" >5</th>\n",
              "                        <td id=\"T_d07efc56_0e3f_11eb_880e_0242ac1c0002row5_col0\" class=\"data row5 col0\" >Numeric Features </td>\n",
              "                        <td id=\"T_d07efc56_0e3f_11eb_880e_0242ac1c0002row5_col1\" class=\"data row5 col1\" >4</td>\n",
              "            </tr>\n",
              "            <tr>\n",
              "                        <th id=\"T_d07efc56_0e3f_11eb_880e_0242ac1c0002level0_row6\" class=\"row_heading level0 row6\" >6</th>\n",
              "                        <td id=\"T_d07efc56_0e3f_11eb_880e_0242ac1c0002row6_col0\" class=\"data row6 col0\" >Categorical Features </td>\n",
              "                        <td id=\"T_d07efc56_0e3f_11eb_880e_0242ac1c0002row6_col1\" class=\"data row6 col1\" >9</td>\n",
              "            </tr>\n",
              "            <tr>\n",
              "                        <th id=\"T_d07efc56_0e3f_11eb_880e_0242ac1c0002level0_row7\" class=\"row_heading level0 row7\" >7</th>\n",
              "                        <td id=\"T_d07efc56_0e3f_11eb_880e_0242ac1c0002row7_col0\" class=\"data row7 col0\" >Ordinal Features </td>\n",
              "                        <td id=\"T_d07efc56_0e3f_11eb_880e_0242ac1c0002row7_col1\" class=\"data row7 col1\" >False</td>\n",
              "            </tr>\n",
              "            <tr>\n",
              "                        <th id=\"T_d07efc56_0e3f_11eb_880e_0242ac1c0002level0_row8\" class=\"row_heading level0 row8\" >8</th>\n",
              "                        <td id=\"T_d07efc56_0e3f_11eb_880e_0242ac1c0002row8_col0\" class=\"data row8 col0\" >High Cardinality Features </td>\n",
              "                        <td id=\"T_d07efc56_0e3f_11eb_880e_0242ac1c0002row8_col1\" class=\"data row8 col1\" >True</td>\n",
              "            </tr>\n",
              "            <tr>\n",
              "                        <th id=\"T_d07efc56_0e3f_11eb_880e_0242ac1c0002level0_row9\" class=\"row_heading level0 row9\" >9</th>\n",
              "                        <td id=\"T_d07efc56_0e3f_11eb_880e_0242ac1c0002row9_col0\" class=\"data row9 col0\" >High Cardinality Method </td>\n",
              "                        <td id=\"T_d07efc56_0e3f_11eb_880e_0242ac1c0002row9_col1\" class=\"data row9 col1\" >frequency</td>\n",
              "            </tr>\n",
              "            <tr>\n",
              "                        <th id=\"T_d07efc56_0e3f_11eb_880e_0242ac1c0002level0_row10\" class=\"row_heading level0 row10\" >10</th>\n",
              "                        <td id=\"T_d07efc56_0e3f_11eb_880e_0242ac1c0002row10_col0\" class=\"data row10 col0\" >Sampled Data</td>\n",
              "                        <td id=\"T_d07efc56_0e3f_11eb_880e_0242ac1c0002row10_col1\" class=\"data row10 col1\" >(32561, 14)</td>\n",
              "            </tr>\n",
              "            <tr>\n",
              "                        <th id=\"T_d07efc56_0e3f_11eb_880e_0242ac1c0002level0_row11\" class=\"row_heading level0 row11\" >11</th>\n",
              "                        <td id=\"T_d07efc56_0e3f_11eb_880e_0242ac1c0002row11_col0\" class=\"data row11 col0\" >Transformed Train Set</td>\n",
              "                        <td id=\"T_d07efc56_0e3f_11eb_880e_0242ac1c0002row11_col1\" class=\"data row11 col1\" >(22792, 81)</td>\n",
              "            </tr>\n",
              "            <tr>\n",
              "                        <th id=\"T_d07efc56_0e3f_11eb_880e_0242ac1c0002level0_row12\" class=\"row_heading level0 row12\" >12</th>\n",
              "                        <td id=\"T_d07efc56_0e3f_11eb_880e_0242ac1c0002row12_col0\" class=\"data row12 col0\" >Transformed Test Set</td>\n",
              "                        <td id=\"T_d07efc56_0e3f_11eb_880e_0242ac1c0002row12_col1\" class=\"data row12 col1\" >(9769, 81)</td>\n",
              "            </tr>\n",
              "            <tr>\n",
              "                        <th id=\"T_d07efc56_0e3f_11eb_880e_0242ac1c0002level0_row13\" class=\"row_heading level0 row13\" >13</th>\n",
              "                        <td id=\"T_d07efc56_0e3f_11eb_880e_0242ac1c0002row13_col0\" class=\"data row13 col0\" >Numeric Imputer </td>\n",
              "                        <td id=\"T_d07efc56_0e3f_11eb_880e_0242ac1c0002row13_col1\" class=\"data row13 col1\" >mean</td>\n",
              "            </tr>\n",
              "            <tr>\n",
              "                        <th id=\"T_d07efc56_0e3f_11eb_880e_0242ac1c0002level0_row14\" class=\"row_heading level0 row14\" >14</th>\n",
              "                        <td id=\"T_d07efc56_0e3f_11eb_880e_0242ac1c0002row14_col0\" class=\"data row14 col0\" >Categorical Imputer </td>\n",
              "                        <td id=\"T_d07efc56_0e3f_11eb_880e_0242ac1c0002row14_col1\" class=\"data row14 col1\" >constant</td>\n",
              "            </tr>\n",
              "            <tr>\n",
              "                        <th id=\"T_d07efc56_0e3f_11eb_880e_0242ac1c0002level0_row15\" class=\"row_heading level0 row15\" >15</th>\n",
              "                        <td id=\"T_d07efc56_0e3f_11eb_880e_0242ac1c0002row15_col0\" class=\"data row15 col0\" >Normalize </td>\n",
              "                        <td id=\"T_d07efc56_0e3f_11eb_880e_0242ac1c0002row15_col1\" class=\"data row15 col1\" >False</td>\n",
              "            </tr>\n",
              "            <tr>\n",
              "                        <th id=\"T_d07efc56_0e3f_11eb_880e_0242ac1c0002level0_row16\" class=\"row_heading level0 row16\" >16</th>\n",
              "                        <td id=\"T_d07efc56_0e3f_11eb_880e_0242ac1c0002row16_col0\" class=\"data row16 col0\" >Normalize Method </td>\n",
              "                        <td id=\"T_d07efc56_0e3f_11eb_880e_0242ac1c0002row16_col1\" class=\"data row16 col1\" >None</td>\n",
              "            </tr>\n",
              "            <tr>\n",
              "                        <th id=\"T_d07efc56_0e3f_11eb_880e_0242ac1c0002level0_row17\" class=\"row_heading level0 row17\" >17</th>\n",
              "                        <td id=\"T_d07efc56_0e3f_11eb_880e_0242ac1c0002row17_col0\" class=\"data row17 col0\" >Transformation </td>\n",
              "                        <td id=\"T_d07efc56_0e3f_11eb_880e_0242ac1c0002row17_col1\" class=\"data row17 col1\" >False</td>\n",
              "            </tr>\n",
              "            <tr>\n",
              "                        <th id=\"T_d07efc56_0e3f_11eb_880e_0242ac1c0002level0_row18\" class=\"row_heading level0 row18\" >18</th>\n",
              "                        <td id=\"T_d07efc56_0e3f_11eb_880e_0242ac1c0002row18_col0\" class=\"data row18 col0\" >Transformation Method </td>\n",
              "                        <td id=\"T_d07efc56_0e3f_11eb_880e_0242ac1c0002row18_col1\" class=\"data row18 col1\" >None</td>\n",
              "            </tr>\n",
              "            <tr>\n",
              "                        <th id=\"T_d07efc56_0e3f_11eb_880e_0242ac1c0002level0_row19\" class=\"row_heading level0 row19\" >19</th>\n",
              "                        <td id=\"T_d07efc56_0e3f_11eb_880e_0242ac1c0002row19_col0\" class=\"data row19 col0\" >PCA </td>\n",
              "                        <td id=\"T_d07efc56_0e3f_11eb_880e_0242ac1c0002row19_col1\" class=\"data row19 col1\" >False</td>\n",
              "            </tr>\n",
              "            <tr>\n",
              "                        <th id=\"T_d07efc56_0e3f_11eb_880e_0242ac1c0002level0_row20\" class=\"row_heading level0 row20\" >20</th>\n",
              "                        <td id=\"T_d07efc56_0e3f_11eb_880e_0242ac1c0002row20_col0\" class=\"data row20 col0\" >PCA Method </td>\n",
              "                        <td id=\"T_d07efc56_0e3f_11eb_880e_0242ac1c0002row20_col1\" class=\"data row20 col1\" >None</td>\n",
              "            </tr>\n",
              "            <tr>\n",
              "                        <th id=\"T_d07efc56_0e3f_11eb_880e_0242ac1c0002level0_row21\" class=\"row_heading level0 row21\" >21</th>\n",
              "                        <td id=\"T_d07efc56_0e3f_11eb_880e_0242ac1c0002row21_col0\" class=\"data row21 col0\" >PCA Components </td>\n",
              "                        <td id=\"T_d07efc56_0e3f_11eb_880e_0242ac1c0002row21_col1\" class=\"data row21 col1\" >None</td>\n",
              "            </tr>\n",
              "            <tr>\n",
              "                        <th id=\"T_d07efc56_0e3f_11eb_880e_0242ac1c0002level0_row22\" class=\"row_heading level0 row22\" >22</th>\n",
              "                        <td id=\"T_d07efc56_0e3f_11eb_880e_0242ac1c0002row22_col0\" class=\"data row22 col0\" >Ignore Low Variance </td>\n",
              "                        <td id=\"T_d07efc56_0e3f_11eb_880e_0242ac1c0002row22_col1\" class=\"data row22 col1\" >False</td>\n",
              "            </tr>\n",
              "            <tr>\n",
              "                        <th id=\"T_d07efc56_0e3f_11eb_880e_0242ac1c0002level0_row23\" class=\"row_heading level0 row23\" >23</th>\n",
              "                        <td id=\"T_d07efc56_0e3f_11eb_880e_0242ac1c0002row23_col0\" class=\"data row23 col0\" >Combine Rare Levels </td>\n",
              "                        <td id=\"T_d07efc56_0e3f_11eb_880e_0242ac1c0002row23_col1\" class=\"data row23 col1\" >False</td>\n",
              "            </tr>\n",
              "            <tr>\n",
              "                        <th id=\"T_d07efc56_0e3f_11eb_880e_0242ac1c0002level0_row24\" class=\"row_heading level0 row24\" >24</th>\n",
              "                        <td id=\"T_d07efc56_0e3f_11eb_880e_0242ac1c0002row24_col0\" class=\"data row24 col0\" >Rare Level Threshold </td>\n",
              "                        <td id=\"T_d07efc56_0e3f_11eb_880e_0242ac1c0002row24_col1\" class=\"data row24 col1\" >None</td>\n",
              "            </tr>\n",
              "            <tr>\n",
              "                        <th id=\"T_d07efc56_0e3f_11eb_880e_0242ac1c0002level0_row25\" class=\"row_heading level0 row25\" >25</th>\n",
              "                        <td id=\"T_d07efc56_0e3f_11eb_880e_0242ac1c0002row25_col0\" class=\"data row25 col0\" >Numeric Binning </td>\n",
              "                        <td id=\"T_d07efc56_0e3f_11eb_880e_0242ac1c0002row25_col1\" class=\"data row25 col1\" >False</td>\n",
              "            </tr>\n",
              "            <tr>\n",
              "                        <th id=\"T_d07efc56_0e3f_11eb_880e_0242ac1c0002level0_row26\" class=\"row_heading level0 row26\" >26</th>\n",
              "                        <td id=\"T_d07efc56_0e3f_11eb_880e_0242ac1c0002row26_col0\" class=\"data row26 col0\" >Remove Outliers </td>\n",
              "                        <td id=\"T_d07efc56_0e3f_11eb_880e_0242ac1c0002row26_col1\" class=\"data row26 col1\" >False</td>\n",
              "            </tr>\n",
              "            <tr>\n",
              "                        <th id=\"T_d07efc56_0e3f_11eb_880e_0242ac1c0002level0_row27\" class=\"row_heading level0 row27\" >27</th>\n",
              "                        <td id=\"T_d07efc56_0e3f_11eb_880e_0242ac1c0002row27_col0\" class=\"data row27 col0\" >Outliers Threshold </td>\n",
              "                        <td id=\"T_d07efc56_0e3f_11eb_880e_0242ac1c0002row27_col1\" class=\"data row27 col1\" >None</td>\n",
              "            </tr>\n",
              "            <tr>\n",
              "                        <th id=\"T_d07efc56_0e3f_11eb_880e_0242ac1c0002level0_row28\" class=\"row_heading level0 row28\" >28</th>\n",
              "                        <td id=\"T_d07efc56_0e3f_11eb_880e_0242ac1c0002row28_col0\" class=\"data row28 col0\" >Remove Multicollinearity </td>\n",
              "                        <td id=\"T_d07efc56_0e3f_11eb_880e_0242ac1c0002row28_col1\" class=\"data row28 col1\" >False</td>\n",
              "            </tr>\n",
              "            <tr>\n",
              "                        <th id=\"T_d07efc56_0e3f_11eb_880e_0242ac1c0002level0_row29\" class=\"row_heading level0 row29\" >29</th>\n",
              "                        <td id=\"T_d07efc56_0e3f_11eb_880e_0242ac1c0002row29_col0\" class=\"data row29 col0\" >Multicollinearity Threshold </td>\n",
              "                        <td id=\"T_d07efc56_0e3f_11eb_880e_0242ac1c0002row29_col1\" class=\"data row29 col1\" >None</td>\n",
              "            </tr>\n",
              "            <tr>\n",
              "                        <th id=\"T_d07efc56_0e3f_11eb_880e_0242ac1c0002level0_row30\" class=\"row_heading level0 row30\" >30</th>\n",
              "                        <td id=\"T_d07efc56_0e3f_11eb_880e_0242ac1c0002row30_col0\" class=\"data row30 col0\" >Clustering </td>\n",
              "                        <td id=\"T_d07efc56_0e3f_11eb_880e_0242ac1c0002row30_col1\" class=\"data row30 col1\" >False</td>\n",
              "            </tr>\n",
              "            <tr>\n",
              "                        <th id=\"T_d07efc56_0e3f_11eb_880e_0242ac1c0002level0_row31\" class=\"row_heading level0 row31\" >31</th>\n",
              "                        <td id=\"T_d07efc56_0e3f_11eb_880e_0242ac1c0002row31_col0\" class=\"data row31 col0\" >Clustering Iteration </td>\n",
              "                        <td id=\"T_d07efc56_0e3f_11eb_880e_0242ac1c0002row31_col1\" class=\"data row31 col1\" >None</td>\n",
              "            </tr>\n",
              "            <tr>\n",
              "                        <th id=\"T_d07efc56_0e3f_11eb_880e_0242ac1c0002level0_row32\" class=\"row_heading level0 row32\" >32</th>\n",
              "                        <td id=\"T_d07efc56_0e3f_11eb_880e_0242ac1c0002row32_col0\" class=\"data row32 col0\" >Polynomial Features </td>\n",
              "                        <td id=\"T_d07efc56_0e3f_11eb_880e_0242ac1c0002row32_col1\" class=\"data row32 col1\" >False</td>\n",
              "            </tr>\n",
              "            <tr>\n",
              "                        <th id=\"T_d07efc56_0e3f_11eb_880e_0242ac1c0002level0_row33\" class=\"row_heading level0 row33\" >33</th>\n",
              "                        <td id=\"T_d07efc56_0e3f_11eb_880e_0242ac1c0002row33_col0\" class=\"data row33 col0\" >Polynomial Degree </td>\n",
              "                        <td id=\"T_d07efc56_0e3f_11eb_880e_0242ac1c0002row33_col1\" class=\"data row33 col1\" >None</td>\n",
              "            </tr>\n",
              "            <tr>\n",
              "                        <th id=\"T_d07efc56_0e3f_11eb_880e_0242ac1c0002level0_row34\" class=\"row_heading level0 row34\" >34</th>\n",
              "                        <td id=\"T_d07efc56_0e3f_11eb_880e_0242ac1c0002row34_col0\" class=\"data row34 col0\" >Trignometry Features </td>\n",
              "                        <td id=\"T_d07efc56_0e3f_11eb_880e_0242ac1c0002row34_col1\" class=\"data row34 col1\" >False</td>\n",
              "            </tr>\n",
              "            <tr>\n",
              "                        <th id=\"T_d07efc56_0e3f_11eb_880e_0242ac1c0002level0_row35\" class=\"row_heading level0 row35\" >35</th>\n",
              "                        <td id=\"T_d07efc56_0e3f_11eb_880e_0242ac1c0002row35_col0\" class=\"data row35 col0\" >Polynomial Threshold </td>\n",
              "                        <td id=\"T_d07efc56_0e3f_11eb_880e_0242ac1c0002row35_col1\" class=\"data row35 col1\" >None</td>\n",
              "            </tr>\n",
              "            <tr>\n",
              "                        <th id=\"T_d07efc56_0e3f_11eb_880e_0242ac1c0002level0_row36\" class=\"row_heading level0 row36\" >36</th>\n",
              "                        <td id=\"T_d07efc56_0e3f_11eb_880e_0242ac1c0002row36_col0\" class=\"data row36 col0\" >Group Features </td>\n",
              "                        <td id=\"T_d07efc56_0e3f_11eb_880e_0242ac1c0002row36_col1\" class=\"data row36 col1\" >False</td>\n",
              "            </tr>\n",
              "            <tr>\n",
              "                        <th id=\"T_d07efc56_0e3f_11eb_880e_0242ac1c0002level0_row37\" class=\"row_heading level0 row37\" >37</th>\n",
              "                        <td id=\"T_d07efc56_0e3f_11eb_880e_0242ac1c0002row37_col0\" class=\"data row37 col0\" >Feature Selection </td>\n",
              "                        <td id=\"T_d07efc56_0e3f_11eb_880e_0242ac1c0002row37_col1\" class=\"data row37 col1\" >False</td>\n",
              "            </tr>\n",
              "            <tr>\n",
              "                        <th id=\"T_d07efc56_0e3f_11eb_880e_0242ac1c0002level0_row38\" class=\"row_heading level0 row38\" >38</th>\n",
              "                        <td id=\"T_d07efc56_0e3f_11eb_880e_0242ac1c0002row38_col0\" class=\"data row38 col0\" >Features Selection Threshold </td>\n",
              "                        <td id=\"T_d07efc56_0e3f_11eb_880e_0242ac1c0002row38_col1\" class=\"data row38 col1\" >None</td>\n",
              "            </tr>\n",
              "            <tr>\n",
              "                        <th id=\"T_d07efc56_0e3f_11eb_880e_0242ac1c0002level0_row39\" class=\"row_heading level0 row39\" >39</th>\n",
              "                        <td id=\"T_d07efc56_0e3f_11eb_880e_0242ac1c0002row39_col0\" class=\"data row39 col0\" >Feature Interaction </td>\n",
              "                        <td id=\"T_d07efc56_0e3f_11eb_880e_0242ac1c0002row39_col1\" class=\"data row39 col1\" >False</td>\n",
              "            </tr>\n",
              "            <tr>\n",
              "                        <th id=\"T_d07efc56_0e3f_11eb_880e_0242ac1c0002level0_row40\" class=\"row_heading level0 row40\" >40</th>\n",
              "                        <td id=\"T_d07efc56_0e3f_11eb_880e_0242ac1c0002row40_col0\" class=\"data row40 col0\" >Feature Ratio </td>\n",
              "                        <td id=\"T_d07efc56_0e3f_11eb_880e_0242ac1c0002row40_col1\" class=\"data row40 col1\" >False</td>\n",
              "            </tr>\n",
              "            <tr>\n",
              "                        <th id=\"T_d07efc56_0e3f_11eb_880e_0242ac1c0002level0_row41\" class=\"row_heading level0 row41\" >41</th>\n",
              "                        <td id=\"T_d07efc56_0e3f_11eb_880e_0242ac1c0002row41_col0\" class=\"data row41 col0\" >Interaction Threshold </td>\n",
              "                        <td id=\"T_d07efc56_0e3f_11eb_880e_0242ac1c0002row41_col1\" class=\"data row41 col1\" >None</td>\n",
              "            </tr>\n",
              "            <tr>\n",
              "                        <th id=\"T_d07efc56_0e3f_11eb_880e_0242ac1c0002level0_row42\" class=\"row_heading level0 row42\" >42</th>\n",
              "                        <td id=\"T_d07efc56_0e3f_11eb_880e_0242ac1c0002row42_col0\" class=\"data row42 col0\" >Fix Imbalance</td>\n",
              "                        <td id=\"T_d07efc56_0e3f_11eb_880e_0242ac1c0002row42_col1\" class=\"data row42 col1\" >False</td>\n",
              "            </tr>\n",
              "            <tr>\n",
              "                        <th id=\"T_d07efc56_0e3f_11eb_880e_0242ac1c0002level0_row43\" class=\"row_heading level0 row43\" >43</th>\n",
              "                        <td id=\"T_d07efc56_0e3f_11eb_880e_0242ac1c0002row43_col0\" class=\"data row43 col0\" >Fix Imbalance Method</td>\n",
              "                        <td id=\"T_d07efc56_0e3f_11eb_880e_0242ac1c0002row43_col1\" class=\"data row43 col1\" >SMOTE</td>\n",
              "            </tr>\n",
              "    </tbody></table>"
            ],
            "text/plain": [
              "<pandas.io.formats.style.Styler at 0x7fb1ff776438>"
            ]
          },
          "metadata": {
            "tags": []
          }
        }
      ]
    },
    {
      "cell_type": "code",
      "metadata": {
        "id": "6kJYRyF-FE1X"
      },
      "source": [
        ""
      ],
      "execution_count": null,
      "outputs": []
    }
  ]
}