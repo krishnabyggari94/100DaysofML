{
 "cells": [
  {
   "cell_type": "markdown",
   "metadata": {},
   "source": [
    "### Impact of Outliers"
   ]
  },
  {
   "cell_type": "markdown",
   "metadata": {},
   "source": [
    "All outliers are not bad and some are useful for better prediction/improving model performance. For example, if heart beat is a feature in dataset , the iregularities in it might give some info about some disease/problem and help the model to improve"
   ]
  },
  {
   "cell_type": "markdown",
   "metadata": {},
   "source": [
    "##### Which Machine Learning Models Are Sensitive To Outliers?\n",
    "1. Naivye Bayes Classifier--- Not Sensitive To Outliers\n",
    "2. SVM--------                Not Sensitive To Outliers          \n",
    "3. Linear Regression----------  Sensitive To Outliers\n",
    "4. Logistic Regression-------   Sensitive To Outliers\n",
    "5. Decision Tree Regressor or Classifier---- Not Sensitive\n",
    "6. Ensemble(RF,XGboost,GB)------- Not Sensitive\n",
    "7. KNN--------------------------- Not Sensitive \n",
    "8. Kmeans------------------------ Sensitive\n",
    "9. Hierarichal------------------- Sensitive \n",
    "10. PCA-------------------------- Sensitive \n",
    "11. Neural Networks-------------- Sensitive\n"
   ]
  },
  {
   "cell_type": "code",
   "execution_count": 1,
   "metadata": {},
   "outputs": [],
   "source": [
    "import pandas as pd\n",
    "import numpy as np"
   ]
  },
  {
   "cell_type": "code",
   "execution_count": 2,
   "metadata": {},
   "outputs": [
    {
     "data": {
      "text/html": [
       "<div>\n",
       "<style scoped>\n",
       "    .dataframe tbody tr th:only-of-type {\n",
       "        vertical-align: middle;\n",
       "    }\n",
       "\n",
       "    .dataframe tbody tr th {\n",
       "        vertical-align: top;\n",
       "    }\n",
       "\n",
       "    .dataframe thead th {\n",
       "        text-align: right;\n",
       "    }\n",
       "</style>\n",
       "<table border=\"1\" class=\"dataframe\">\n",
       "  <thead>\n",
       "    <tr style=\"text-align: right;\">\n",
       "      <th></th>\n",
       "      <th>PassengerId</th>\n",
       "      <th>Survived</th>\n",
       "      <th>Pclass</th>\n",
       "      <th>Name</th>\n",
       "      <th>Sex</th>\n",
       "      <th>Age</th>\n",
       "      <th>SibSp</th>\n",
       "      <th>Parch</th>\n",
       "      <th>Ticket</th>\n",
       "      <th>Fare</th>\n",
       "      <th>Cabin</th>\n",
       "      <th>Embarked</th>\n",
       "    </tr>\n",
       "  </thead>\n",
       "  <tbody>\n",
       "    <tr>\n",
       "      <th>0</th>\n",
       "      <td>1</td>\n",
       "      <td>0</td>\n",
       "      <td>3</td>\n",
       "      <td>Braund, Mr. Owen Harris</td>\n",
       "      <td>male</td>\n",
       "      <td>22.0</td>\n",
       "      <td>1</td>\n",
       "      <td>0</td>\n",
       "      <td>A/5 21171</td>\n",
       "      <td>7.2500</td>\n",
       "      <td>NaN</td>\n",
       "      <td>S</td>\n",
       "    </tr>\n",
       "    <tr>\n",
       "      <th>1</th>\n",
       "      <td>2</td>\n",
       "      <td>1</td>\n",
       "      <td>1</td>\n",
       "      <td>Cumings, Mrs. John Bradley (Florence Briggs Th...</td>\n",
       "      <td>female</td>\n",
       "      <td>38.0</td>\n",
       "      <td>1</td>\n",
       "      <td>0</td>\n",
       "      <td>PC 17599</td>\n",
       "      <td>71.2833</td>\n",
       "      <td>C85</td>\n",
       "      <td>C</td>\n",
       "    </tr>\n",
       "    <tr>\n",
       "      <th>2</th>\n",
       "      <td>3</td>\n",
       "      <td>1</td>\n",
       "      <td>3</td>\n",
       "      <td>Heikkinen, Miss. Laina</td>\n",
       "      <td>female</td>\n",
       "      <td>26.0</td>\n",
       "      <td>0</td>\n",
       "      <td>0</td>\n",
       "      <td>STON/O2. 3101282</td>\n",
       "      <td>7.9250</td>\n",
       "      <td>NaN</td>\n",
       "      <td>S</td>\n",
       "    </tr>\n",
       "    <tr>\n",
       "      <th>3</th>\n",
       "      <td>4</td>\n",
       "      <td>1</td>\n",
       "      <td>1</td>\n",
       "      <td>Futrelle, Mrs. Jacques Heath (Lily May Peel)</td>\n",
       "      <td>female</td>\n",
       "      <td>35.0</td>\n",
       "      <td>1</td>\n",
       "      <td>0</td>\n",
       "      <td>113803</td>\n",
       "      <td>53.1000</td>\n",
       "      <td>C123</td>\n",
       "      <td>S</td>\n",
       "    </tr>\n",
       "    <tr>\n",
       "      <th>4</th>\n",
       "      <td>5</td>\n",
       "      <td>0</td>\n",
       "      <td>3</td>\n",
       "      <td>Allen, Mr. William Henry</td>\n",
       "      <td>male</td>\n",
       "      <td>35.0</td>\n",
       "      <td>0</td>\n",
       "      <td>0</td>\n",
       "      <td>373450</td>\n",
       "      <td>8.0500</td>\n",
       "      <td>NaN</td>\n",
       "      <td>S</td>\n",
       "    </tr>\n",
       "  </tbody>\n",
       "</table>\n",
       "</div>"
      ],
      "text/plain": [
       "   PassengerId  Survived  Pclass  \\\n",
       "0            1         0       3   \n",
       "1            2         1       1   \n",
       "2            3         1       3   \n",
       "3            4         1       1   \n",
       "4            5         0       3   \n",
       "\n",
       "                                                Name     Sex   Age  SibSp  \\\n",
       "0                            Braund, Mr. Owen Harris    male  22.0      1   \n",
       "1  Cumings, Mrs. John Bradley (Florence Briggs Th...  female  38.0      1   \n",
       "2                             Heikkinen, Miss. Laina  female  26.0      0   \n",
       "3       Futrelle, Mrs. Jacques Heath (Lily May Peel)  female  35.0      1   \n",
       "4                           Allen, Mr. William Henry    male  35.0      0   \n",
       "\n",
       "   Parch            Ticket     Fare Cabin Embarked  \n",
       "0      0         A/5 21171   7.2500   NaN        S  \n",
       "1      0          PC 17599  71.2833   C85        C  \n",
       "2      0  STON/O2. 3101282   7.9250   NaN        S  \n",
       "3      0            113803  53.1000  C123        S  \n",
       "4      0            373450   8.0500   NaN        S  "
      ]
     },
     "execution_count": 2,
     "metadata": {},
     "output_type": "execute_result"
    }
   ],
   "source": [
    "df=pd.read_csv('../Day5-Feature_Scaling, Handling Missing Features/titanic.csv')\n",
    "df.head()"
   ]
  },
  {
   "cell_type": "code",
   "execution_count": 3,
   "metadata": {},
   "outputs": [
    {
     "data": {
      "text/plain": [
       "PassengerId      0\n",
       "Survived         0\n",
       "Pclass           0\n",
       "Name             0\n",
       "Sex              0\n",
       "Age            177\n",
       "SibSp            0\n",
       "Parch            0\n",
       "Ticket           0\n",
       "Fare             0\n",
       "Cabin          687\n",
       "Embarked         2\n",
       "dtype: int64"
      ]
     },
     "execution_count": 3,
     "metadata": {},
     "output_type": "execute_result"
    }
   ],
   "source": [
    "df.isnull().sum()"
   ]
  },
  {
   "cell_type": "code",
   "execution_count": 5,
   "metadata": {},
   "outputs": [],
   "source": [
    "import matplotlib.pyplot as plt\n",
    "import seaborn as sns"
   ]
  },
  {
   "cell_type": "code",
   "execution_count": 6,
   "metadata": {},
   "outputs": [
    {
     "name": "stderr",
     "output_type": "stream",
     "text": [
      "C:\\Users\\admin\\anaconda3\\lib\\site-packages\\seaborn\\distributions.py:2551: FutureWarning: `distplot` is a deprecated function and will be removed in a future version. Please adapt your code to use either `displot` (a figure-level function with similar flexibility) or `histplot` (an axes-level function for histograms).\n",
      "  warnings.warn(msg, FutureWarning)\n"
     ]
    },
    {
     "data": {
      "text/plain": [
       "<AxesSubplot:xlabel='Age', ylabel='Density'>"
      ]
     },
     "execution_count": 6,
     "metadata": {},
     "output_type": "execute_result"
    },
    {
     "data": {
      "image/png": "[encoded data removed]",
      "text/plain": [
       "<Figure size 432x288 with 1 Axes>"
      ]
     },
     "metadata": {
      "needs_background": "light"
     },
     "output_type": "display_data"
    }
   ],
   "source": [
    "sns.distplot(df['Age'].dropna())"
   ]
  },
  {
   "cell_type": "code",
   "execution_count": 7,
   "metadata": {},
   "outputs": [
    {
     "name": "stderr",
     "output_type": "stream",
     "text": [
      "C:\\Users\\admin\\anaconda3\\lib\\site-packages\\seaborn\\distributions.py:2551: FutureWarning: `distplot` is a deprecated function and will be removed in a future version. Please adapt your code to use either `displot` (a figure-level function with similar flexibility) or `histplot` (an axes-level function for histograms).\n",
      "  warnings.warn(msg, FutureWarning)\n"
     ]
    },
    {
     "data": {
      "text/plain": [
       "<AxesSubplot:xlabel='Age', ylabel='Density'>"
      ]
     },
     "execution_count": 7,
     "metadata": {},
     "output_type": "execute_result"
    },
    {
     "data": {
      "image/png": "[encoded data removed]",
      "text/plain": [
       "<Figure size 432x288 with 1 Axes>"
      ]
     },
     "metadata": {
      "needs_background": "light"
     },
     "output_type": "display_data"
    }
   ],
   "source": [
    "sns.distplot(df['Age'].fillna(101))"
   ]
  },
  {
   "cell_type": "code",
   "execution_count": 8,
   "metadata": {},
   "outputs": [
    {
     "data": {
      "text/plain": [
       "Text(0, 0.5, 'count of passengers')"
      ]
     },
     "execution_count": 8,
     "metadata": {},
     "output_type": "execute_result"
    },
    {
     "data": {
      "image/png": "[encoded data removed]",
      "text/plain": [
       "<Figure size 432x288 with 1 Axes>"
      ]
     },
     "metadata": {
      "needs_background": "light"
     },
     "output_type": "display_data"
    }
   ],
   "source": [
    "figure=df['Age'].hist(bins=50)\n",
    "figure.set_title('Age')\n",
    "figure.set_xlabel('Age')\n",
    "figure.set_ylabel('count of passengers')"
   ]
  },
  {
   "cell_type": "markdown",
   "metadata": {},
   "source": [
    "The distribution is quite similar to that of gaussian distribution"
   ]
  },
  {
   "cell_type": "code",
   "execution_count": 10,
   "metadata": {},
   "outputs": [
    {
     "data": {
      "text/plain": [
       "Text(0.5, 1.0, 'Age')"
      ]
     },
     "execution_count": 10,
     "metadata": {},
     "output_type": "execute_result"
    },
    {
     "data": {
      "image/png": "[encoded data removed]",
      "text/plain": [
       "<Figure size 432x288 with 1 Axes>"
      ]
     },
     "metadata": {
      "needs_background": "light"
     },
     "output_type": "display_data"
    }
   ],
   "source": [
    "figure=df.boxplot(column='Age')\n",
    "figure.set_title('Age')"
   ]
  },
  {
   "cell_type": "code",
   "execution_count": 11,
   "metadata": {},
   "outputs": [
    {
     "data": {
      "text/plain": [
       "count    714.000000\n",
       "mean      29.699118\n",
       "std       14.526497\n",
       "min        0.420000\n",
       "25%       20.125000\n",
       "50%       28.000000\n",
       "75%       38.000000\n",
       "max       80.000000\n",
       "Name: Age, dtype: float64"
      ]
     },
     "execution_count": 11,
     "metadata": {},
     "output_type": "execute_result"
    }
   ],
   "source": [
    "df['Age'].describe()"
   ]
  },
  {
   "cell_type": "markdown",
   "metadata": {},
   "source": [
    "if we assume age follows gaussian dist, we can make boundaries to differentiate with outliers. 95% of data will be present within 3 std from mean as per CLT."
   ]
  },
  {
   "cell_type": "code",
   "execution_count": 16,
   "metadata": {},
   "outputs": [
    {
     "name": "stdout",
     "output_type": "stream",
     "text": [
      "lower bound is -13.88037434994331 and upper bound is 73.27860964406095:\n"
     ]
    }
   ],
   "source": [
    "mean_age=df['Age'].mean()\n",
    "low_bound=df['Age'].mean()-3.0*df['Age'].std()\n",
    "up_bound=df['Age'].mean()+3.0*df['Age'].std()\n",
    "print('lower bound is {} and upper bound is {}:'.format(low_bound,up_bound))"
   ]
  },
  {
   "cell_type": "markdown",
   "metadata": {},
   "source": [
    "So, the range will be 0 to 73.27 as age cannot be -ve"
   ]
  },
  {
   "cell_type": "code",
   "execution_count": 23,
   "metadata": {},
   "outputs": [
    {
     "name": "stdout",
     "output_type": "stream",
     "text": [
      "IQR: 17.875\n",
      "lower bound is -6.6875 and upper bound is 64.8125:\n"
     ]
    }
   ],
   "source": [
    "IQR= df['Age'].quantile(0.75)-df['Age'].quantile(0.25)\n",
    "print('IQR:',IQR)\n",
    "low_bound=df['Age'].quantile(0.25)-(IQR*1.5)\n",
    "up_bound=df['Age'].quantile(0.75)+(IQR*1.5)\n",
    "print('lower bound is {} and upper bound is {}:'.format(low_bound,up_bound))"
   ]
  },
  {
   "cell_type": "code",
   "execution_count": 24,
   "metadata": {},
   "outputs": [
    {
     "name": "stdout",
     "output_type": "stream",
     "text": [
      "IQR: 17.875\n",
      "lower bound is -33.5 and upper bound is 91.625:\n"
     ]
    }
   ],
   "source": [
    "#EXTREME OUTLIERS\n",
    "IQR= df['Age'].quantile(0.75)-df['Age'].quantile(0.25)\n",
    "print('IQR:',IQR)\n",
    "low_bound=df['Age'].quantile(0.25)-(IQR*3)\n",
    "up_bound=df['Age'].quantile(0.75)+(IQR*3)\n",
    "print('lower bound is {} and upper bound is {}:'.format(low_bound,up_bound))"
   ]
  },
  {
   "cell_type": "markdown",
   "metadata": {},
   "source": [
    "#### If features are squewed"
   ]
  },
  {
   "cell_type": "code",
   "execution_count": 25,
   "metadata": {},
   "outputs": [
    {
     "data": {
      "text/plain": [
       "Text(0, 0.5, 'count of passengers')"
      ]
     },
     "execution_count": 25,
     "metadata": {},
     "output_type": "execute_result"
    },
    {
     "data": {
      "image/png": "[encoded data removed]",
      "text/plain": [
       "<Figure size 432x288 with 1 Axes>"
      ]
     },
     "metadata": {
      "needs_background": "light"
     },
     "output_type": "display_data"
    }
   ],
   "source": [
    "figure=df['Fare'].hist(bins=50)\n",
    "figure.set_title('Fare')\n",
    "figure.set_xlabel('Fare')\n",
    "figure.set_ylabel('count of passengers')"
   ]
  },
  {
   "cell_type": "code",
   "execution_count": 26,
   "metadata": {},
   "outputs": [
    {
     "data": {
      "text/plain": [
       "Text(0.5, 1.0, 'Fare')"
      ]
     },
     "execution_count": 26,
     "metadata": {},
     "output_type": "execute_result"
    },
    {
     "data": {
      "image/png": "[encoded data removed]",
      "text/plain": [
       "<Figure size 432x288 with 1 Axes>"
      ]
     },
     "metadata": {
      "needs_background": "light"
     },
     "output_type": "display_data"
    }
   ],
   "source": [
    "figure=df.boxplot(column='Fare')\n",
    "figure.set_title('Fare')"
   ]
  },
  {
   "cell_type": "code",
   "execution_count": 27,
   "metadata": {},
   "outputs": [
    {
     "name": "stdout",
     "output_type": "stream",
     "text": [
      "IQR: 23.0896\n",
      "lower bound is -26.724 and upper bound is 65.6344:\n"
     ]
    }
   ],
   "source": [
    "IQR= df['Fare'].quantile(0.75)-df['Fare'].quantile(0.25)\n",
    "print('IQR:',IQR)\n",
    "low_bound=df['Fare'].quantile(0.25)-(IQR*1.5)\n",
    "up_bound=df['Fare'].quantile(0.75)+(IQR*1.5)\n",
    "print('lower bound is {} and upper bound is {}:'.format(low_bound,up_bound))"
   ]
  },
  {
   "cell_type": "code",
   "execution_count": 28,
   "metadata": {},
   "outputs": [
    {
     "name": "stdout",
     "output_type": "stream",
     "text": [
      "IQR: 23.0896\n",
      "lower bound is -61.358399999999996 and upper bound is 100.2688:\n"
     ]
    }
   ],
   "source": [
    "IQR= df['Fare'].quantile(0.75)-df['Fare'].quantile(0.25)\n",
    "print('IQR:',IQR)\n",
    "low_bound=df['Fare'].quantile(0.25)-(IQR*3)\n",
    "up_bound=df['Fare'].quantile(0.75)+(IQR*3)\n",
    "print('lower bound is {} and upper bound is {}:'.format(low_bound,up_bound))"
   ]
  },
  {
   "cell_type": "markdown",
   "metadata": {},
   "source": [
    "#### Z Score - (x-mean)/std"
   ]
  },
  {
   "cell_type": "code",
   "execution_count": 29,
   "metadata": {},
   "outputs": [
    {
     "name": "stdout",
     "output_type": "stream",
     "text": [
      "[-0.53037664  0.57183099 -0.25482473  0.36516706  0.36516706         nan\n",
      "  1.67403863 -1.90813618 -0.18593675 -1.08148046 -1.77036023  1.94959054\n",
      " -0.6681526   0.64071897 -1.08148046  1.74292661 -1.90813618         nan\n",
      "  0.08961515         nan  0.36516706  0.29627909 -1.01259248 -0.11704878\n",
      " -1.49480832  0.57183099         nan -0.73704057         nan         nan\n",
      "  0.70960695         nan         nan  2.50069435 -0.11704878  0.8473829\n",
      "         nan -0.59926462 -0.80592855 -1.08148046  0.70960695 -0.18593675\n",
      "         nan -1.83924821 -0.73704057         nan         nan         nan\n",
      "         nan -0.80592855 -1.5636963  -0.59926462  1.32959874 -0.0481608\n",
      "  2.43180638         nan -0.59926462 -0.08260479 -1.70147225 -1.28814439\n",
      " -0.53037664  0.57183099  1.05404683 -1.77036023         nan         nan\n",
      " -0.0481608  -0.73704057 -0.87481653 -0.25482473  0.15850313 -0.9437045\n",
      " -0.59926462 -0.25482473  0.15850313 -0.32371271         nan         nan\n",
      " -1.98873512  0.02072718 -0.53037664 -0.0481608          nan -0.11704878\n",
      " -0.87481653  0.22739111 -0.9437045          nan -0.46148866 -0.39260069\n",
      " -0.0481608  -0.6681526   1.12293481 -0.25482473  2.01847851         nan\n",
      "  2.84513424 -0.46148866  0.29627909  0.29627909 -0.11704878         nan\n",
      " -0.59926462  0.22739111  0.50294302 -0.11704878 -0.59926462         nan\n",
      "  0.57183099         nan  1.19182279 -1.04703647 -0.53037664 -0.6681526\n",
      " -0.87481653 -0.59926462  2.81069025 -0.0481608  -0.39260069 -1.90813618\n",
      " -0.59926462         nan  0.19294712  0.19294712  1.67403863 -1.21925641\n",
      "         nan -0.39260069         nan  1.05404683  0.22739111 -0.6681526\n",
      "  1.19182279 -0.0481608  -0.32371271 -0.46148866 -0.73704057  0.50294302\n",
      " -0.9437045  -0.39260069         nan -0.53037664 -0.39260069 -0.73704057\n",
      " -0.80592855 -0.73704057 -0.18593675 -1.42592034  0.46849903  0.8473829\n",
      "  1.4673747  -0.53037664  1.77737059  0.74405094         nan  1.4673747\n",
      " -0.9437045   0.02072718         nan         nan  0.98515886  0.70960695\n",
      " -0.25482473 -0.87481653 -1.97702416 -1.42592034         nan  1.05404683\n",
      "         nan -0.11704878  2.15625447 -1.77036023 -1.97702416 -0.59926462\n",
      "  1.81181458 -0.80592855         nan  1.39848672  0.02072718  0.43405504\n",
      "         nan         nan -1.42592034 -1.97702416 -1.77036023         nan\n",
      "         nan  1.05404683  0.70960695  0.43405504  0.15850313 -0.73704057\n",
      " -0.73704057 -1.83924821  0.98515886  1.94959054         nan  0.8473829\n",
      "         nan -0.39260069 -0.11704878         nan  0.29627909  1.08849082\n",
      " -0.80592855 -1.90813618  0.15850313 -0.25482473 -0.9437045   0.70960695\n",
      " -0.39260069  0.36516706 -0.53037664  0.02072718         nan  0.08961515\n",
      " -0.18593675  0.8473829   0.15850313  0.02072718 -0.9437045  -0.18593675\n",
      "  1.4673747          nan  0.57183099 -0.53037664 -0.73704057 -0.63370861\n",
      " -0.80592855         nan  0.36516706 -0.0481608   2.01847851 -1.70147225\n",
      " -0.39260069         nan  0.98515886 -1.49480832 -0.73704057  0.22739111\n",
      "         nan         nan -0.0481608  -0.53037664  0.02072718  0.98515886\n",
      " -0.32371271 -0.39260069  0.50294302  1.67403863         nan -0.0481608\n",
      "  2.22514245  0.02072718  0.77849493 -0.0481608          nan  0.02072718\n",
      "  0.36516706  1.39848672         nan -1.83924821  1.53626267  0.70960695\n",
      "         nan  0.43405504 -0.9437045  -0.32371271  1.94959054  0.36516706\n",
      "         nan -0.32371271  0.77849493  0.50294302         nan  2.29403042\n",
      "  1.05404683         nan -1.5636963   0.36516706  2.43180638 -0.11704878\n",
      " -0.9437045  -0.73704057         nan  0.22739111  0.02072718 -0.53037664\n",
      "  0.8473829  -0.53037664 -0.25482473 -0.73704057  0.43405504 -0.39260069\n",
      " -0.39260069         nan -0.42704467 -1.90813618         nan  1.39848672\n",
      "         nan         nan -0.73704057         nan         nan -1.9825352\n",
      "         nan -0.87481653  0.02072718  0.02072718 -0.39260069 -0.80592855\n",
      " -0.25482473 -0.11704878  0.91627088 -0.25482473 -0.39260069  1.67403863\n",
      "  0.08961515  0.70960695 -0.53037664 -0.18593675  0.02072718 -0.53037664\n",
      "         nan  0.43405504  2.15625447  0.43405504  0.08961515 -0.9437045\n",
      "         nan  1.08849082  0.57183099 -0.9437045          nan         nan\n",
      " -0.0481608   0.77849493  1.05404683  1.05404683 -1.90813618 -0.39260069\n",
      " -0.11704878 -0.32371271  0.43405504 -0.39260069  0.70960695         nan\n",
      " -1.83924821  0.8473829  -0.46148866         nan -1.01259248 -0.32371271\n",
      "         nan -0.11704878 -0.53037664  0.57183099         nan         nan\n",
      "  0.70960695 -0.0481608   1.05404683  0.36516706         nan  0.02072718\n",
      "  2.08736649         nan         nan -0.39260069 -0.32371271 -0.80592855\n",
      " -0.73704057 -0.53037664 -1.83924821         nan -0.53037664 -0.18593675\n",
      " -0.6681526  -0.73704057  0.8473829  -1.97702416  0.15850313  0.36516706\n",
      "         nan -0.80592855 -1.97702416  0.43405504         nan -0.87481653\n",
      "  0.43405504 -0.59926462 -0.11704878 -0.46148866 -0.39260069 -0.53037664\n",
      "  0.08961515  1.12293481 -0.46148866 -0.11704878  0.64071897 -0.25482473\n",
      " -0.59926462 -0.11704878 -0.6681526   0.29627909  1.4673747  -1.83924821\n",
      " -0.59926462         nan         nan         nan  0.22739111         nan\n",
      "  0.98515886         nan  0.29627909 -0.80592855  0.02072718 -1.35703237\n",
      "         nan -0.59926462 -0.0481608  -0.11704878 -0.80592855         nan\n",
      " -0.11704878 -0.73704057         nan  0.15850313 -0.11704878         nan\n",
      "  0.8473829  -0.87481653  1.39848672 -1.08148046 -0.59926462 -0.39260069\n",
      "  2.3629184   0.08961515  1.05404683 -0.6681526  -0.32371271 -0.11704878\n",
      "         nan -1.77036023 -1.15036844  0.29627909 -1.70147225  1.53626267\n",
      "  0.43405504         nan  0.02072718  1.32959874         nan -0.0481608\n",
      "  2.43180638         nan  1.39848672         nan  1.26071077  0.29627909\n",
      "  1.19182279  1.26071077         nan  0.57183099         nan  1.81181458\n",
      "         nan -1.99424616         nan  0.57183099  0.22739111 -0.46148866\n",
      " -0.53037664         nan  0.29627909 -0.0481608  -0.53037664 -1.90813618\n",
      " -1.42592034         nan  1.39848672  2.29403042 -0.32371271         nan\n",
      "  0.36516706  1.94959054  0.02072718 -1.42592034         nan -0.59926462\n",
      "  1.74292661  2.84513424 -0.59926462         nan  1.67403863         nan\n",
      " -0.32371271 -0.39260069 -0.87481653 -0.59926462         nan  0.50294302\n",
      " -0.9437045  -0.80592855  0.22739111         nan -0.11704878 -0.25482473\n",
      " -0.0481608          nan  0.43405504  1.67403863 -0.39260069  1.19182279\n",
      "  0.29627909         nan  0.43405504  0.15850313  0.02072718 -0.53037664\n",
      "         nan  0.98515886         nan  0.74405094  1.39848672         nan\n",
      "  0.64071897 -0.46148866 -1.90813618         nan -0.87481653         nan\n",
      "  0.02072718 -1.5636963   1.05404683  0.02072718         nan -0.53037664\n",
      "  0.43405504 -1.42592034 -1.28814439  0.15850313  1.39848672  2.3629184\n",
      " -0.73704057         nan  0.22739111 -1.49480832 -0.87481653 -0.18593675\n",
      "         nan -0.53037664 -0.53037664  2.22514245  1.26071077         nan\n",
      "  0.64071897  0.43405504         nan  0.70960695 -0.11704878         nan\n",
      "         nan -0.39260069 -0.73704057 -0.0481608          nan  0.15850313\n",
      "  2.22514245  1.60515065  0.43405504         nan -0.9437045  -0.73704057\n",
      "  0.29627909  0.64071897         nan  0.15850313 -0.32371271  0.64071897\n",
      "  1.67403863  0.43405504         nan -0.80592855  1.19182279  2.08736649\n",
      " -0.53037664         nan  0.36516706  1.53626267  1.19182279         nan\n",
      "  0.50294302  0.43405504         nan  1.32959874         nan  1.32959874\n",
      " -0.39260069         nan         nan  0.98515886  0.36516706  0.43405504\n",
      "  0.02072718 -0.18593675 -0.53037664  0.70960695  0.64071897         nan\n",
      "         nan         nan  0.36516706 -0.39260069  0.29627909 -0.25482473\n",
      " -1.77036023 -0.25482473 -0.18593675  0.8473829  -0.6681526  -0.59926462\n",
      " -0.59926462  2.15625447  1.88070256 -0.59926462 -0.25482473         nan\n",
      "  3.46512604  1.4673747   0.15850313         nan -1.42592034 -0.11704878\n",
      "  0.15850313  0.08961515  0.77849493         nan -0.6681526  -0.39260069\n",
      " -1.90813618         nan -1.99424616  1.26071077 -0.73704057  1.81181458\n",
      "         nan -0.46148866         nan -0.80592855 -0.59926462         nan\n",
      " -0.80592855 -0.39260069         nan  0.15850313 -0.46148866  1.94959054\n",
      "  1.39848672  0.70960695  1.19182279  0.43405504 -0.6681526   0.15850313\n",
      " -0.32371271         nan  0.91627088         nan  0.70960695  0.08961515\n",
      "  2.77624626  0.08961515         nan -0.80592855 -0.3581567  -0.80592855\n",
      "  0.91627088  0.43405504         nan -0.18593675 -0.6681526  -1.08148046\n",
      "  2.08736649 -0.32371271 -1.08148046 -0.73704057 -0.80592855 -1.01259248\n",
      "  0.08961515 -1.77036023         nan -0.32371271  2.08736649  1.53626267\n",
      "  0.98515886         nan  1.32959874  0.8473829  -0.80592855  0.36516706\n",
      " -0.80592855 -0.32371271 -0.25482473  0.64071897  1.05404683  0.8473829\n",
      " -0.53037664         nan -0.39260069         nan  1.26071077 -0.0481608\n",
      "  1.53626267 -0.73704057  0.57183099 -0.18593675         nan  0.22739111\n",
      " -1.63258428 -0.87481653  0.29627909  1.39848672 -0.18593675 -0.6681526\n",
      "  0.02072718         nan -0.32371271 -0.32371271 -0.0481608  -1.28814439\n",
      "         nan -0.46148866 -0.46148866 -0.08260479  1.26071077  0.36516706\n",
      "         nan         nan         nan  0.43405504 -0.59926462 -0.39260069\n",
      "  0.08961515  2.77624626 -0.9437045   0.02072718 -0.73704057  0.08961515\n",
      " -1.77036023 -1.63258428  0.22739111 -0.46148866  1.26071077 -1.99975719\n",
      " -0.11704878 -0.80592855  0.29627909  0.22739111         nan  0.77849493\n",
      " -0.6681526   0.43405504 -0.9437045   1.4673747          nan  0.05517117\n",
      "         nan  0.15850313 -0.39260069  1.26071077  1.88070256         nan\n",
      "  1.67403863 -0.80592855         nan -1.70147225         nan  0.91627088\n",
      " -1.15036844 -0.87481653 -0.0481608          nan -0.32371271 -0.32371271\n",
      " -0.80592855 -1.49480832 -1.97702416  1.12293481         nan -0.9437045\n",
      "         nan         nan -0.32371271  0.64071897  1.32959874  0.08961515\n",
      "  0.02072718  0.02072718  0.29627909  0.08961515 -1.28814439 -2.01697919\n",
      " -0.18593675  0.08961515  0.64071897 -0.80592855  0.64071897  0.22739111\n",
      " -0.25482473  0.64071897  0.36516706 -1.63258428  0.05517117         nan\n",
      " -0.46148866  0.08961515  0.91627088 -1.35703237  1.53626267 -0.18593675\n",
      "  0.57183099 -0.18593675 -1.90813618         nan         nan -1.97702416\n",
      "         nan  2.22514245 -1.01259248 -1.98873512         nan -0.46148866\n",
      " -0.80592855  0.64071897 -0.59926462         nan  0.15850313         nan\n",
      " -0.6681526  -0.9437045   0.02072718  0.33072307 -0.87481653  0.8473829\n",
      "         nan  0.36516706 -0.11704878         nan -1.77036023  3.05179817\n",
      " -1.42592034 -0.9437045   0.98515886 -0.80592855  1.05404683  1.4673747\n",
      " -0.39260069         nan  0.77849493 -0.59926462  1.26071077         nan\n",
      " -0.39260069  0.8473829  -0.18593675  0.08961515         nan -1.77036023\n",
      " -0.25482473  1.19182279  0.22739111  1.19182279 -0.11704878 -1.01259248\n",
      " -0.6681526  -0.73704057         nan  1.81181458 -0.32371271  0.22739111\n",
      " -0.53037664 -0.11704878 -0.32371271  0.64071897 -0.18593675 -0.73704057\n",
      "         nan -0.25482473  0.15850313]\n"
     ]
    }
   ],
   "source": [
    "from scipy import stats\n",
    "chk=stats.zscore(df['Age'],nan_policy='omit')\n",
    "print(chk)"
   ]
  },
  {
   "cell_type": "markdown",
   "metadata": {},
   "source": [
    "For whatever the values greater than or lower than the boundaries, we can replace them with respectibe boundaries"
   ]
  },
  {
   "cell_type": "markdown",
   "metadata": {},
   "source": [
    "#### Replacing outlier values"
   ]
  },
  {
   "cell_type": "markdown",
   "metadata": {},
   "source": [
    "If we have large datasets , we can remove them, but for smaller ones its better to replace them."
   ]
  },
  {
   "cell_type": "code",
   "execution_count": 30,
   "metadata": {},
   "outputs": [
    {
     "data": {
      "text/html": [
       "<div>\n",
       "<style scoped>\n",
       "    .dataframe tbody tr th:only-of-type {\n",
       "        vertical-align: middle;\n",
       "    }\n",
       "\n",
       "    .dataframe tbody tr th {\n",
       "        vertical-align: top;\n",
       "    }\n",
       "\n",
       "    .dataframe thead th {\n",
       "        text-align: right;\n",
       "    }\n",
       "</style>\n",
       "<table border=\"1\" class=\"dataframe\">\n",
       "  <thead>\n",
       "    <tr style=\"text-align: right;\">\n",
       "      <th></th>\n",
       "      <th>PassengerId</th>\n",
       "      <th>Survived</th>\n",
       "      <th>Pclass</th>\n",
       "      <th>Name</th>\n",
       "      <th>Sex</th>\n",
       "      <th>Age</th>\n",
       "      <th>SibSp</th>\n",
       "      <th>Parch</th>\n",
       "      <th>Ticket</th>\n",
       "      <th>Fare</th>\n",
       "      <th>Cabin</th>\n",
       "      <th>Embarked</th>\n",
       "    </tr>\n",
       "  </thead>\n",
       "  <tbody>\n",
       "    <tr>\n",
       "      <th>0</th>\n",
       "      <td>1</td>\n",
       "      <td>0</td>\n",
       "      <td>3</td>\n",
       "      <td>Braund, Mr. Owen Harris</td>\n",
       "      <td>male</td>\n",
       "      <td>22.0</td>\n",
       "      <td>1</td>\n",
       "      <td>0</td>\n",
       "      <td>A/5 21171</td>\n",
       "      <td>7.2500</td>\n",
       "      <td>NaN</td>\n",
       "      <td>S</td>\n",
       "    </tr>\n",
       "    <tr>\n",
       "      <th>1</th>\n",
       "      <td>2</td>\n",
       "      <td>1</td>\n",
       "      <td>1</td>\n",
       "      <td>Cumings, Mrs. John Bradley (Florence Briggs Th...</td>\n",
       "      <td>female</td>\n",
       "      <td>38.0</td>\n",
       "      <td>1</td>\n",
       "      <td>0</td>\n",
       "      <td>PC 17599</td>\n",
       "      <td>71.2833</td>\n",
       "      <td>C85</td>\n",
       "      <td>C</td>\n",
       "    </tr>\n",
       "    <tr>\n",
       "      <th>2</th>\n",
       "      <td>3</td>\n",
       "      <td>1</td>\n",
       "      <td>3</td>\n",
       "      <td>Heikkinen, Miss. Laina</td>\n",
       "      <td>female</td>\n",
       "      <td>26.0</td>\n",
       "      <td>0</td>\n",
       "      <td>0</td>\n",
       "      <td>STON/O2. 3101282</td>\n",
       "      <td>7.9250</td>\n",
       "      <td>NaN</td>\n",
       "      <td>S</td>\n",
       "    </tr>\n",
       "    <tr>\n",
       "      <th>3</th>\n",
       "      <td>4</td>\n",
       "      <td>1</td>\n",
       "      <td>1</td>\n",
       "      <td>Futrelle, Mrs. Jacques Heath (Lily May Peel)</td>\n",
       "      <td>female</td>\n",
       "      <td>35.0</td>\n",
       "      <td>1</td>\n",
       "      <td>0</td>\n",
       "      <td>113803</td>\n",
       "      <td>53.1000</td>\n",
       "      <td>C123</td>\n",
       "      <td>S</td>\n",
       "    </tr>\n",
       "    <tr>\n",
       "      <th>4</th>\n",
       "      <td>5</td>\n",
       "      <td>0</td>\n",
       "      <td>3</td>\n",
       "      <td>Allen, Mr. William Henry</td>\n",
       "      <td>male</td>\n",
       "      <td>35.0</td>\n",
       "      <td>0</td>\n",
       "      <td>0</td>\n",
       "      <td>373450</td>\n",
       "      <td>8.0500</td>\n",
       "      <td>NaN</td>\n",
       "      <td>S</td>\n",
       "    </tr>\n",
       "  </tbody>\n",
       "</table>\n",
       "</div>"
      ],
      "text/plain": [
       "   PassengerId  Survived  Pclass  \\\n",
       "0            1         0       3   \n",
       "1            2         1       1   \n",
       "2            3         1       3   \n",
       "3            4         1       1   \n",
       "4            5         0       3   \n",
       "\n",
       "                                                Name     Sex   Age  SibSp  \\\n",
       "0                            Braund, Mr. Owen Harris    male  22.0      1   \n",
       "1  Cumings, Mrs. John Bradley (Florence Briggs Th...  female  38.0      1   \n",
       "2                             Heikkinen, Miss. Laina  female  26.0      0   \n",
       "3       Futrelle, Mrs. Jacques Heath (Lily May Peel)  female  35.0      1   \n",
       "4                           Allen, Mr. William Henry    male  35.0      0   \n",
       "\n",
       "   Parch            Ticket     Fare Cabin Embarked  \n",
       "0      0         A/5 21171   7.2500   NaN        S  \n",
       "1      0          PC 17599  71.2833   C85        C  \n",
       "2      0  STON/O2. 3101282   7.9250   NaN        S  \n",
       "3      0            113803  53.1000  C123        S  \n",
       "4      0            373450   8.0500   NaN        S  "
      ]
     },
     "execution_count": 30,
     "metadata": {},
     "output_type": "execute_result"
    }
   ],
   "source": [
    "data_copy=df.copy()\n",
    "data_copy.head()"
   ]
  },
  {
   "cell_type": "code",
   "execution_count": 31,
   "metadata": {},
   "outputs": [
    {
     "data": {
      "text/html": [
       "<div>\n",
       "<style scoped>\n",
       "    .dataframe tbody tr th:only-of-type {\n",
       "        vertical-align: middle;\n",
       "    }\n",
       "\n",
       "    .dataframe tbody tr th {\n",
       "        vertical-align: top;\n",
       "    }\n",
       "\n",
       "    .dataframe thead th {\n",
       "        text-align: right;\n",
       "    }\n",
       "</style>\n",
       "<table border=\"1\" class=\"dataframe\">\n",
       "  <thead>\n",
       "    <tr style=\"text-align: right;\">\n",
       "      <th></th>\n",
       "      <th>PassengerId</th>\n",
       "      <th>Survived</th>\n",
       "      <th>Pclass</th>\n",
       "      <th>Name</th>\n",
       "      <th>Sex</th>\n",
       "      <th>Age</th>\n",
       "      <th>SibSp</th>\n",
       "      <th>Parch</th>\n",
       "      <th>Ticket</th>\n",
       "      <th>Fare</th>\n",
       "      <th>Cabin</th>\n",
       "      <th>Embarked</th>\n",
       "    </tr>\n",
       "  </thead>\n",
       "  <tbody>\n",
       "    <tr>\n",
       "      <th>0</th>\n",
       "      <td>1</td>\n",
       "      <td>0</td>\n",
       "      <td>3</td>\n",
       "      <td>Braund, Mr. Owen Harris</td>\n",
       "      <td>male</td>\n",
       "      <td>22.0</td>\n",
       "      <td>1</td>\n",
       "      <td>0</td>\n",
       "      <td>A/5 21171</td>\n",
       "      <td>7.2500</td>\n",
       "      <td>NaN</td>\n",
       "      <td>S</td>\n",
       "    </tr>\n",
       "    <tr>\n",
       "      <th>1</th>\n",
       "      <td>2</td>\n",
       "      <td>1</td>\n",
       "      <td>1</td>\n",
       "      <td>Cumings, Mrs. John Bradley (Florence Briggs Th...</td>\n",
       "      <td>female</td>\n",
       "      <td>38.0</td>\n",
       "      <td>1</td>\n",
       "      <td>0</td>\n",
       "      <td>PC 17599</td>\n",
       "      <td>71.2833</td>\n",
       "      <td>C85</td>\n",
       "      <td>C</td>\n",
       "    </tr>\n",
       "    <tr>\n",
       "      <th>2</th>\n",
       "      <td>3</td>\n",
       "      <td>1</td>\n",
       "      <td>3</td>\n",
       "      <td>Heikkinen, Miss. Laina</td>\n",
       "      <td>female</td>\n",
       "      <td>26.0</td>\n",
       "      <td>0</td>\n",
       "      <td>0</td>\n",
       "      <td>STON/O2. 3101282</td>\n",
       "      <td>7.9250</td>\n",
       "      <td>NaN</td>\n",
       "      <td>S</td>\n",
       "    </tr>\n",
       "    <tr>\n",
       "      <th>3</th>\n",
       "      <td>4</td>\n",
       "      <td>1</td>\n",
       "      <td>1</td>\n",
       "      <td>Futrelle, Mrs. Jacques Heath (Lily May Peel)</td>\n",
       "      <td>female</td>\n",
       "      <td>35.0</td>\n",
       "      <td>1</td>\n",
       "      <td>0</td>\n",
       "      <td>113803</td>\n",
       "      <td>53.1000</td>\n",
       "      <td>C123</td>\n",
       "      <td>S</td>\n",
       "    </tr>\n",
       "    <tr>\n",
       "      <th>4</th>\n",
       "      <td>5</td>\n",
       "      <td>0</td>\n",
       "      <td>3</td>\n",
       "      <td>Allen, Mr. William Henry</td>\n",
       "      <td>male</td>\n",
       "      <td>35.0</td>\n",
       "      <td>0</td>\n",
       "      <td>0</td>\n",
       "      <td>373450</td>\n",
       "      <td>8.0500</td>\n",
       "      <td>NaN</td>\n",
       "      <td>S</td>\n",
       "    </tr>\n",
       "  </tbody>\n",
       "</table>\n",
       "</div>"
      ],
      "text/plain": [
       "   PassengerId  Survived  Pclass  \\\n",
       "0            1         0       3   \n",
       "1            2         1       1   \n",
       "2            3         1       3   \n",
       "3            4         1       1   \n",
       "4            5         0       3   \n",
       "\n",
       "                                                Name     Sex   Age  SibSp  \\\n",
       "0                            Braund, Mr. Owen Harris    male  22.0      1   \n",
       "1  Cumings, Mrs. John Bradley (Florence Briggs Th...  female  38.0      1   \n",
       "2                             Heikkinen, Miss. Laina  female  26.0      0   \n",
       "3       Futrelle, Mrs. Jacques Heath (Lily May Peel)  female  35.0      1   \n",
       "4                           Allen, Mr. William Henry    male  35.0      0   \n",
       "\n",
       "   Parch            Ticket     Fare Cabin Embarked  \n",
       "0      0         A/5 21171   7.2500   NaN        S  \n",
       "1      0          PC 17599  71.2833   C85        C  \n",
       "2      0  STON/O2. 3101282   7.9250   NaN        S  \n",
       "3      0            113803  53.1000  C123        S  \n",
       "4      0            373450   8.0500   NaN        S  "
      ]
     },
     "execution_count": 31,
     "metadata": {},
     "output_type": "execute_result"
    }
   ],
   "source": [
    "data_copy.loc[data_copy['Age']>73.27,'Age']=73\n",
    "data_copy.head()"
   ]
  },
  {
   "cell_type": "code",
   "execution_count": 32,
   "metadata": {},
   "outputs": [
    {
     "data": {
      "text/html": [
       "<div>\n",
       "<style scoped>\n",
       "    .dataframe tbody tr th:only-of-type {\n",
       "        vertical-align: middle;\n",
       "    }\n",
       "\n",
       "    .dataframe tbody tr th {\n",
       "        vertical-align: top;\n",
       "    }\n",
       "\n",
       "    .dataframe thead th {\n",
       "        text-align: right;\n",
       "    }\n",
       "</style>\n",
       "<table border=\"1\" class=\"dataframe\">\n",
       "  <thead>\n",
       "    <tr style=\"text-align: right;\">\n",
       "      <th></th>\n",
       "      <th>PassengerId</th>\n",
       "      <th>Survived</th>\n",
       "      <th>Pclass</th>\n",
       "      <th>Name</th>\n",
       "      <th>Sex</th>\n",
       "      <th>Age</th>\n",
       "      <th>SibSp</th>\n",
       "      <th>Parch</th>\n",
       "      <th>Ticket</th>\n",
       "      <th>Fare</th>\n",
       "      <th>Cabin</th>\n",
       "      <th>Embarked</th>\n",
       "    </tr>\n",
       "  </thead>\n",
       "  <tbody>\n",
       "    <tr>\n",
       "      <th>0</th>\n",
       "      <td>1</td>\n",
       "      <td>0</td>\n",
       "      <td>3</td>\n",
       "      <td>Braund, Mr. Owen Harris</td>\n",
       "      <td>male</td>\n",
       "      <td>22.0</td>\n",
       "      <td>1</td>\n",
       "      <td>0</td>\n",
       "      <td>A/5 21171</td>\n",
       "      <td>7.2500</td>\n",
       "      <td>NaN</td>\n",
       "      <td>S</td>\n",
       "    </tr>\n",
       "    <tr>\n",
       "      <th>1</th>\n",
       "      <td>2</td>\n",
       "      <td>1</td>\n",
       "      <td>1</td>\n",
       "      <td>Cumings, Mrs. John Bradley (Florence Briggs Th...</td>\n",
       "      <td>female</td>\n",
       "      <td>38.0</td>\n",
       "      <td>1</td>\n",
       "      <td>0</td>\n",
       "      <td>PC 17599</td>\n",
       "      <td>71.2833</td>\n",
       "      <td>C85</td>\n",
       "      <td>C</td>\n",
       "    </tr>\n",
       "    <tr>\n",
       "      <th>2</th>\n",
       "      <td>3</td>\n",
       "      <td>1</td>\n",
       "      <td>3</td>\n",
       "      <td>Heikkinen, Miss. Laina</td>\n",
       "      <td>female</td>\n",
       "      <td>26.0</td>\n",
       "      <td>0</td>\n",
       "      <td>0</td>\n",
       "      <td>STON/O2. 3101282</td>\n",
       "      <td>7.9250</td>\n",
       "      <td>NaN</td>\n",
       "      <td>S</td>\n",
       "    </tr>\n",
       "    <tr>\n",
       "      <th>3</th>\n",
       "      <td>4</td>\n",
       "      <td>1</td>\n",
       "      <td>1</td>\n",
       "      <td>Futrelle, Mrs. Jacques Heath (Lily May Peel)</td>\n",
       "      <td>female</td>\n",
       "      <td>35.0</td>\n",
       "      <td>1</td>\n",
       "      <td>0</td>\n",
       "      <td>113803</td>\n",
       "      <td>53.1000</td>\n",
       "      <td>C123</td>\n",
       "      <td>S</td>\n",
       "    </tr>\n",
       "    <tr>\n",
       "      <th>4</th>\n",
       "      <td>5</td>\n",
       "      <td>0</td>\n",
       "      <td>3</td>\n",
       "      <td>Allen, Mr. William Henry</td>\n",
       "      <td>male</td>\n",
       "      <td>35.0</td>\n",
       "      <td>0</td>\n",
       "      <td>0</td>\n",
       "      <td>373450</td>\n",
       "      <td>8.0500</td>\n",
       "      <td>NaN</td>\n",
       "      <td>S</td>\n",
       "    </tr>\n",
       "  </tbody>\n",
       "</table>\n",
       "</div>"
      ],
      "text/plain": [
       "   PassengerId  Survived  Pclass  \\\n",
       "0            1         0       3   \n",
       "1            2         1       1   \n",
       "2            3         1       3   \n",
       "3            4         1       1   \n",
       "4            5         0       3   \n",
       "\n",
       "                                                Name     Sex   Age  SibSp  \\\n",
       "0                            Braund, Mr. Owen Harris    male  22.0      1   \n",
       "1  Cumings, Mrs. John Bradley (Florence Briggs Th...  female  38.0      1   \n",
       "2                             Heikkinen, Miss. Laina  female  26.0      0   \n",
       "3       Futrelle, Mrs. Jacques Heath (Lily May Peel)  female  35.0      1   \n",
       "4                           Allen, Mr. William Henry    male  35.0      0   \n",
       "\n",
       "   Parch            Ticket     Fare Cabin Embarked  \n",
       "0      0         A/5 21171   7.2500   NaN        S  \n",
       "1      0          PC 17599  71.2833   C85        C  \n",
       "2      0  STON/O2. 3101282   7.9250   NaN        S  \n",
       "3      0            113803  53.1000  C123        S  \n",
       "4      0            373450   8.0500   NaN        S  "
      ]
     },
     "execution_count": 32,
     "metadata": {},
     "output_type": "execute_result"
    }
   ],
   "source": [
    "data_copy.loc[data_copy['Fare']>100,'Fare']=100\n",
    "data_copy.head()"
   ]
  },
  {
   "cell_type": "markdown",
   "metadata": {},
   "source": [
    "Now lets check the dist after removing outliers"
   ]
  },
  {
   "cell_type": "code",
   "execution_count": 33,
   "metadata": {},
   "outputs": [
    {
     "data": {
      "text/plain": [
       "Text(0, 0.5, 'count of passengers')"
      ]
     },
     "execution_count": 33,
     "metadata": {},
     "output_type": "execute_result"
    },
    {
     "data": {
      "image/png": "[encoded data removed]",
      "text/plain": [
       "<Figure size 432x288 with 1 Axes>"
      ]
     },
     "metadata": {
      "needs_background": "light"
     },
     "output_type": "display_data"
    }
   ],
   "source": [
    "figure=data_copy['Age'].hist(bins=50)\n",
    "figure.set_title('Age')\n",
    "figure.set_xlabel('Age')\n",
    "figure.set_ylabel('count of passengers')"
   ]
  },
  {
   "cell_type": "code",
   "execution_count": 34,
   "metadata": {},
   "outputs": [
    {
     "data": {
      "text/plain": [
       "Text(0.5, 1.0, 'Age')"
      ]
     },
     "execution_count": 34,
     "metadata": {},
     "output_type": "execute_result"
    },
    {
     "data": {
      "image/png": "[encoded data removed]",
      "text/plain": [
       "<Figure size 432x288 with 1 Axes>"
      ]
     },
     "metadata": {
      "needs_background": "light"
     },
     "output_type": "display_data"
    }
   ],
   "source": [
    "figure=data_copy.boxplot(column='Age')\n",
    "figure.set_title('Age')"
   ]
  },
  {
   "cell_type": "code",
   "execution_count": 35,
   "metadata": {},
   "outputs": [
    {
     "data": {
      "text/plain": [
       "Text(0, 0.5, 'count of passengers')"
      ]
     },
     "execution_count": 35,
     "metadata": {},
     "output_type": "execute_result"
    },
    {
     "data": {
      "image/png": "[encoded data removed]",
      "text/plain": [
       "<Figure size 432x288 with 1 Axes>"
      ]
     },
     "metadata": {
      "needs_background": "light"
     },
     "output_type": "display_data"
    }
   ],
   "source": [
    "figure=data_copy['Fare'].hist(bins=50)\n",
    "figure.set_title('Fare')\n",
    "figure.set_xlabel('Fare')\n",
    "figure.set_ylabel('count of passengers')"
   ]
  },
  {
   "cell_type": "code",
   "execution_count": 36,
   "metadata": {},
   "outputs": [
    {
     "data": {
      "text/plain": [
       "Text(0.5, 1.0, 'Fare')"
      ]
     },
     "execution_count": 36,
     "metadata": {},
     "output_type": "execute_result"
    },
    {
     "data": {
      "image/png": "[encoded data removed]",
      "text/plain": [
       "<Figure size 432x288 with 1 Axes>"
      ]
     },
     "metadata": {
      "needs_background": "light"
     },
     "output_type": "display_data"
    }
   ],
   "source": [
    "figure=data_copy.boxplot(column='Fare')\n",
    "figure.set_title('Fare')"
   ]
  },
  {
   "cell_type": "markdown",
   "metadata": {},
   "source": [
    "#### Testing"
   ]
  },
  {
   "cell_type": "markdown",
   "metadata": {},
   "source": [
    "Lets check whether the handling of outliers has any impact on the models"
   ]
  },
  {
   "cell_type": "markdown",
   "metadata": {},
   "source": [
    "##### LogisticRegression Before:::"
   ]
  },
  {
   "cell_type": "code",
   "execution_count": 37,
   "metadata": {},
   "outputs": [
    {
     "name": "stdout",
     "output_type": "stream",
     "text": [
      "accuracy_score is 0.6636771300448431:\n",
      "roc_auc_score is 0.7600620493040418:\n"
     ]
    }
   ],
   "source": [
    "from sklearn.model_selection import train_test_split\n",
    "from sklearn.metrics import accuracy_score,roc_auc_score\n",
    "from sklearn.linear_model import LogisticRegression\n",
    "df['Age'].fillna(df['Age'].mean(),inplace=True)\n",
    "df['Fare'].fillna(df['Fare'].mean(),inplace=True)\n",
    "x_train,x_test,y_train,y_test=train_test_split(df[['Age','Fare']],df['Survived'],test_size=0.25,random_state=42)\n",
    "log=LogisticRegression()\n",
    "log.fit(x_train,y_train)\n",
    "y_pred=log.predict(x_test)\n",
    "y_pred1=log.predict_proba(x_test)\n",
    "print('accuracy_score is {}:'.format(accuracy_score(y_test,y_pred)))\n",
    "print('roc_auc_score is {}:'.format(roc_auc_score(y_test,y_pred1[:,1])))"
   ]
  },
  {
   "cell_type": "markdown",
   "metadata": {},
   "source": [
    "##### LogisticRegression After:::"
   ]
  },
  {
   "cell_type": "code",
   "execution_count": 38,
   "metadata": {},
   "outputs": [
    {
     "name": "stdout",
     "output_type": "stream",
     "text": [
      "accuracy_score is 0.6995515695067265:\n",
      "roc_auc_score is 0.7643384202582593:\n"
     ]
    }
   ],
   "source": [
    "data_copy['Age'].fillna(data_copy['Age'].mean(),inplace=True)\n",
    "data_copy['Fare'].fillna(data_copy['Fare'].mean(),inplace=True)\n",
    "x_train,x_test,y_train,y_test=train_test_split(data_copy[['Age','Fare']],data_copy['Survived'],test_size=0.25,random_state=42)\n",
    "log=LogisticRegression()\n",
    "log.fit(x_train,y_train)\n",
    "y_pred=log.predict(x_test)\n",
    "y_pred1=log.predict_proba(x_test)\n",
    "print('accuracy_score is {}:'.format(accuracy_score(y_test,y_pred)))\n",
    "print('roc_auc_score is {}:'.format(roc_auc_score(y_test,y_pred1[:,1])))"
   ]
  },
  {
   "cell_type": "markdown",
   "metadata": {},
   "source": [
    "We can observe that the performance is increased"
   ]
  },
  {
   "cell_type": "markdown",
   "metadata": {},
   "source": [
    "##### LogisticRegression Before:::"
   ]
  },
  {
   "cell_type": "code",
   "execution_count": 39,
   "metadata": {},
   "outputs": [
    {
     "name": "stdout",
     "output_type": "stream",
     "text": [
      "accuracy_score is 0.6681614349775785:\n",
      "roc_auc_score is 0.7078651685393258:\n"
     ]
    }
   ],
   "source": [
    "from sklearn.ensemble import RandomForestClassifier\n",
    "x_train,x_test,y_train,y_test=train_test_split(df[['Age','Fare']],df['Survived'],test_size=0.25,random_state=42)\n",
    "rf=RandomForestClassifier()\n",
    "rf.fit(x_train,y_train)\n",
    "y_pred=rf.predict(x_test)\n",
    "y_pred1=rf.predict_proba(x_test)\n",
    "print('accuracy_score is {}:'.format(accuracy_score(y_test,y_pred)))\n",
    "print('roc_auc_score is {}:'.format(roc_auc_score(y_test,y_pred1[:,1])))"
   ]
  },
  {
   "cell_type": "code",
   "execution_count": 40,
   "metadata": {},
   "outputs": [
    {
     "name": "stdout",
     "output_type": "stream",
     "text": [
      "accuracy_score is 0.6681614349775785:\n",
      "roc_auc_score is 0.686525238973671:\n"
     ]
    }
   ],
   "source": [
    "x_train,x_test,y_train,y_test=train_test_split(data_copy[['Age','Fare']],data_copy['Survived'],test_size=0.25,random_state=42)\n",
    "rf=RandomForestClassifier()\n",
    "rf.fit(x_train,y_train)\n",
    "y_pred=rf.predict(x_test)\n",
    "y_pred1=rf.predict_proba(x_test)\n",
    "print('accuracy_score is {}:'.format(accuracy_score(y_test,y_pred)))\n",
    "print('roc_auc_score is {}:'.format(roc_auc_score(y_test,y_pred1[:,1])))"
   ]
  },
  {
   "cell_type": "markdown",
   "metadata": {},
   "source": [
    "The outlier changes doesnt have impact on the ensemble technique used above "
   ]
  },
  {
   "cell_type": "code",
   "execution_count": null,
   "metadata": {},
   "outputs": [],
   "source": []
  },
  {
   "cell_type": "code",
   "execution_count": null,
   "metadata": {},
   "outputs": [],
   "source": []
  }
 ],
 "metadata": {
  "kernelspec": {
   "display_name": "Python [conda env:root] *",
   "language": "python",
   "name": "conda-root-py"
  },
  "language_info": {
   "codemirror_mode": {
    "name": "ipython",
    "version": 3
   },
   "file_extension": ".py",
   "mimetype": "text/x-python",
   "name": "python",
   "nbconvert_exporter": "python",
   "pygments_lexer": "ipython3",
   "version": "3.7.6"
  }
 },
 "nbformat": 4,
 "nbformat_minor": 4
}
